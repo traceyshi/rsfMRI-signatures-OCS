{
 "cells": [
  {
   "cell_type": "code",
   "execution_count": null,
   "id": "70c79ae2",
   "metadata": {},
   "outputs": [],
   "source": [
    "#setup - one-time tasks (run from terminal, not jupyter)\n",
    "pip install cca-zoo"
   ]
  },
  {
   "cell_type": "code",
   "execution_count": 3,
   "id": "cbcbcc46",
   "metadata": {},
   "outputs": [],
   "source": [
    "#import libraries\n",
    "import pandas as pd\n",
    "import numpy as np\n",
    "import scipy\n",
    "import os\n",
    "\n",
    "userhome = os.path.expanduser('~')"
   ]
  },
  {
   "cell_type": "code",
   "execution_count": 4,
   "id": "612c7843",
   "metadata": {},
   "outputs": [
    {
     "name": "stdout",
     "output_type": "stream",
     "text": [
      "<class 'numpy.ndarray'>\n",
      "(2926, 8)\n"
     ]
    }
   ],
   "source": [
    "# load residualized and scaled clinical features (from R script)\n",
    "#replication\n",
    "clin_file = userhome + r'/Desktop/OCS_bigdata_ML_local/FINAL/replication/data/Data_prep/clin_features_scaled.csv'\n",
    "\n",
    "clin_features = pd.read_csv(clin_file)\n",
    "clin_features = clin_features.to_numpy()\n",
    "print(type(clin_features))\n",
    "print(clin_features.shape)"
   ]
  },
  {
   "cell_type": "code",
   "execution_count": 5,
   "id": "dece4f06",
   "metadata": {},
   "outputs": [
    {
     "name": "stdout",
     "output_type": "stream",
     "text": [
      "<class 'numpy.ndarray'>\n",
      "(2926, 61776)\n"
     ]
    }
   ],
   "source": [
    "# load residualized and scaled imaging features (from R script)\n",
    "#replication\n",
    "rsFC_file = userhome + r'/Desktop/OCS_bigdata_ML_local/FINAL/replication/data/Data_prep/rsFC_features_scaled.csv'\n",
    "\n",
    "rsFC_feat_chunks = pd.read_csv(rsFC_file, chunksize=1000)\n",
    "rsFC_features = pd.concat(rsFC_feat_chunks)\n",
    "#rsFC_features.sample(10)\n",
    "rsFC_features = rsFC_features.to_numpy()\n",
    "print(type(rsFC_features))\n",
    "print(rsFC_features.shape)"
   ]
  },
  {
   "cell_type": "code",
   "execution_count": 13,
   "id": "fb96da11",
   "metadata": {},
   "outputs": [
    {
     "name": "stdout",
     "output_type": "stream",
     "text": [
      "<class 'numpy.ndarray'>\n",
      "(1, 7095)\n"
     ]
    }
   ],
   "source": [
    "# load selected rsFC features\n",
    "#discovery\n",
    "stable_features_file = userhome + r'/Desktop/OCS_bigdata_ML_local/FINAL/discovery/results/discovery_stable_feats_95_Pearson05.csv'\n",
    "#replication\n",
    "#stable_features_file = userhome + r'/Desktop/OCS_bigdata_ML_local/FINAL/replication/results/replication_stable_feats_95_Pearson05.csv'\n",
    "\n",
    "stable_features = pd.read_csv(stable_features_file, header=None)\n",
    "stable_features = stable_features.to_numpy()\n",
    "stable_features = np.transpose(stable_features)\n",
    "print(type(stable_features))\n",
    "print(stable_features.shape)"
   ]
  },
  {
   "cell_type": "code",
   "execution_count": 14,
   "id": "7859314f",
   "metadata": {},
   "outputs": [
    {
     "name": "stdout",
     "output_type": "stream",
     "text": [
      "[[None None None None None None None None None None None None None None\n",
      "  None None None None None None None None None None None None None]\n",
      " [None None None None None None None None None None None None None None\n",
      "  None None None None None None None None None None None None None]\n",
      " [None None None None None None None None None None None None None None\n",
      "  None None None None None None None None None None None None None]\n",
      " [None None None None None None None None None None None None None None\n",
      "  None None None None None None None None None None None None None]\n",
      " [None None None None None None None None None None None None None None\n",
      "  None None None None None None None None None None None None None]\n",
      " [None None None None None None None None None None None None None None\n",
      "  None None None None None None None None None None None None None]\n",
      " [None None None None None None None None None None None None None None\n",
      "  None None None None None None None None None None None None None]\n",
      " [None None None None None None None None None None None None None None\n",
      "  None None None None None None None None None None None None None]\n",
      " [None None None None None None None None None None None None None None\n",
      "  None None None None None None None None None None None None None]\n",
      " [None None None None None None None None None None None None None None\n",
      "  None None None None None None None None None None None None None]]\n"
     ]
    }
   ],
   "source": [
    "# initialize arrays to store optimal hyperparams and scores from each CV loop\n",
    "eCCA_eachfold_c1 = np.empty((10,27), dtype=object) \n",
    "eCCA_eachfold_c2 = np.empty((10,27), dtype=object) \n",
    "eCCA_eachfold_l1_ratio = np.empty((10,27), dtype=object)\n",
    "eCCA_eachfold_score_TRAIN = np.empty((10,27), dtype=object) \n",
    "eCCA_eachfold_score_TEST = np.empty((10,27), dtype=object) \n",
    "\n",
    "print(eCCA_eachfold_c1)"
   ]
  },
  {
   "cell_type": "code",
   "execution_count": 15,
   "id": "4d1dc812",
   "metadata": {},
   "outputs": [
    {
     "name": "stdout",
     "output_type": "stream",
     "text": [
      "/Users/marshlab2/Desktop/OCS_bigdata_ML_local/FINAL/replication/data/PartitionsEnCCA/partitions2_rep01fold1.csv\n",
      "<class 'numpy.ndarray'>\n",
      "(2634, 1)\n",
      "(2634, 8)\n",
      "(2634, 7095)\n",
      "(292, 8)\n",
      "(292, 7095)\n"
     ]
    },
    {
     "name": "stderr",
     "output_type": "stream",
     "text": [
      "/opt/anaconda3/lib/python3.9/site-packages/cca_zoo/models/iterative.py:106: UserWarning: Inner loop 0 not converged. Increase number of iterations.\n",
      "  warnings.warn(\n"
     ]
    },
    {
     "name": "stdout",
     "output_type": "stream",
     "text": [
      "params: 0.001, 0.01, 0.25\n",
      "CCA score (train): 0.9799550538846034\n",
      "CCA score (test): 0.013357523997242104\n"
     ]
    },
    {
     "name": "stderr",
     "output_type": "stream",
     "text": [
      "/opt/anaconda3/lib/python3.9/site-packages/cca_zoo/models/iterative.py:106: UserWarning: Inner loop 0 not converged. Increase number of iterations.\n",
      "  warnings.warn(\n"
     ]
    },
    {
     "name": "stdout",
     "output_type": "stream",
     "text": [
      "params: 0.001, 0.01, 0.5\n",
      "CCA score (train): 0.9509973758034038\n",
      "CCA score (test): 0.024015047696634095\n"
     ]
    },
    {
     "name": "stderr",
     "output_type": "stream",
     "text": [
      "/opt/anaconda3/lib/python3.9/site-packages/cca_zoo/models/iterative.py:106: UserWarning: Inner loop 0 not converged. Increase number of iterations.\n",
      "  warnings.warn(\n"
     ]
    },
    {
     "name": "stdout",
     "output_type": "stream",
     "text": [
      "params: 0.001, 0.01, 0.75\n",
      "CCA score (train): 0.9194562969829381\n",
      "CCA score (test): 0.02387254337830269\n"
     ]
    },
    {
     "name": "stderr",
     "output_type": "stream",
     "text": [
      "/opt/anaconda3/lib/python3.9/site-packages/cca_zoo/models/iterative.py:106: UserWarning: Inner loop 0 not converged. Increase number of iterations.\n",
      "  warnings.warn(\n"
     ]
    },
    {
     "name": "stdout",
     "output_type": "stream",
     "text": [
      "params: 0.001, 0.1, 0.25\n",
      "CCA score (train): 0.7019420549239501\n",
      "CCA score (test): 0.06494228628703813\n"
     ]
    },
    {
     "name": "stderr",
     "output_type": "stream",
     "text": [
      "/opt/anaconda3/lib/python3.9/site-packages/cca_zoo/models/iterative.py:106: UserWarning: Inner loop 0 not converged. Increase number of iterations.\n",
      "  warnings.warn(\n"
     ]
    },
    {
     "name": "stdout",
     "output_type": "stream",
     "text": [
      "params: 0.001, 0.1, 0.5\n",
      "CCA score (train): 0.4715353595328504\n",
      "CCA score (test): 0.08034762000959406\n"
     ]
    },
    {
     "name": "stderr",
     "output_type": "stream",
     "text": [
      "/opt/anaconda3/lib/python3.9/site-packages/cca_zoo/models/iterative.py:106: UserWarning: Inner loop 0 not converged. Increase number of iterations.\n",
      "  warnings.warn(\n"
     ]
    },
    {
     "name": "stdout",
     "output_type": "stream",
     "text": [
      "params: 0.001, 0.1, 0.75\n",
      "CCA score (train): 0.3175106970626145\n",
      "CCA score (test): 0.10798699701271675\n"
     ]
    },
    {
     "name": "stderr",
     "output_type": "stream",
     "text": [
      "/opt/anaconda3/lib/python3.9/site-packages/cca_zoo/models/iterative.py:106: UserWarning: Inner loop 0 not converged. Increase number of iterations.\n",
      "  warnings.warn(\n"
     ]
    },
    {
     "name": "stdout",
     "output_type": "stream",
     "text": [
      "params: 0.001, 0.3, 0.25\n",
      "CCA score (train): 0.3247269524423122\n",
      "CCA score (test): 0.12444584244389345\n"
     ]
    },
    {
     "name": "stderr",
     "output_type": "stream",
     "text": [
      "/opt/anaconda3/lib/python3.9/site-packages/cca_zoo/models/iterative.py:106: UserWarning: Inner loop 0 not converged. Increase number of iterations.\n",
      "  warnings.warn(\n"
     ]
    },
    {
     "name": "stdout",
     "output_type": "stream",
     "text": [
      "params: 0.001, 0.3, 0.5\n",
      "CCA score (train): 0.13232180424104056\n",
      "CCA score (test): 0.08597932757408677\n"
     ]
    },
    {
     "name": "stderr",
     "output_type": "stream",
     "text": [
      "/opt/anaconda3/lib/python3.9/site-packages/cca_zoo/models/iterative.py:122: RuntimeWarning: invalid value encountered in true_divide\n",
      "  - np.outer(score, score) @ residual / np.dot(score, score).item()\n",
      "/opt/anaconda3/lib/python3.9/site-packages/cca_zoo/models/iterative.py:106: UserWarning: Inner loop 0 not converged. Increase number of iterations.\n",
      "  warnings.warn(\n"
     ]
    },
    {
     "name": "stdout",
     "output_type": "stream",
     "text": [
      "params: 0.001, 0.3, 0.75\n"
     ]
    },
    {
     "name": "stderr",
     "output_type": "stream",
     "text": [
      "/opt/anaconda3/lib/python3.9/site-packages/numpy/lib/function_base.py:2642: RuntimeWarning: invalid value encountered in true_divide\n",
      "  c /= stddev[:, None]\n",
      "/opt/anaconda3/lib/python3.9/site-packages/numpy/lib/function_base.py:2643: RuntimeWarning: invalid value encountered in true_divide\n",
      "  c /= stddev[None, :]\n",
      "/opt/anaconda3/lib/python3.9/site-packages/numpy/lib/function_base.py:2642: RuntimeWarning: invalid value encountered in true_divide\n",
      "  c /= stddev[:, None]\n",
      "/opt/anaconda3/lib/python3.9/site-packages/numpy/lib/function_base.py:2643: RuntimeWarning: invalid value encountered in true_divide\n",
      "  c /= stddev[None, :]\n"
     ]
    },
    {
     "name": "stdout",
     "output_type": "stream",
     "text": [
      "CCA score (train): nan\n",
      "CCA score (test): nan\n"
     ]
    },
    {
     "name": "stderr",
     "output_type": "stream",
     "text": [
      "/opt/anaconda3/lib/python3.9/site-packages/cca_zoo/models/iterative.py:106: UserWarning: Inner loop 0 not converged. Increase number of iterations.\n",
      "  warnings.warn(\n"
     ]
    },
    {
     "name": "stdout",
     "output_type": "stream",
     "text": [
      "params: 0.01, 0.01, 0.25\n",
      "CCA score (train): 0.9798927465018545\n",
      "CCA score (test): 0.013559102295631398\n"
     ]
    },
    {
     "name": "stderr",
     "output_type": "stream",
     "text": [
      "/opt/anaconda3/lib/python3.9/site-packages/cca_zoo/models/iterative.py:106: UserWarning: Inner loop 0 not converged. Increase number of iterations.\n",
      "  warnings.warn(\n"
     ]
    },
    {
     "name": "stdout",
     "output_type": "stream",
     "text": [
      "params: 0.01, 0.01, 0.5\n",
      "CCA score (train): 0.9504561191158023\n",
      "CCA score (test): 0.029059335097993078\n"
     ]
    },
    {
     "name": "stderr",
     "output_type": "stream",
     "text": [
      "/opt/anaconda3/lib/python3.9/site-packages/cca_zoo/models/iterative.py:106: UserWarning: Inner loop 0 not converged. Increase number of iterations.\n",
      "  warnings.warn(\n"
     ]
    },
    {
     "name": "stdout",
     "output_type": "stream",
     "text": [
      "params: 0.01, 0.01, 0.75\n",
      "CCA score (train): 0.9190002845600049\n",
      "CCA score (test): 0.02491663518597864\n"
     ]
    },
    {
     "name": "stderr",
     "output_type": "stream",
     "text": [
      "/opt/anaconda3/lib/python3.9/site-packages/cca_zoo/models/iterative.py:106: UserWarning: Inner loop 0 not converged. Increase number of iterations.\n",
      "  warnings.warn(\n"
     ]
    },
    {
     "name": "stdout",
     "output_type": "stream",
     "text": [
      "params: 0.01, 0.1, 0.25\n",
      "CCA score (train): 0.6990334963252147\n",
      "CCA score (test): 0.07845811393921442\n"
     ]
    },
    {
     "name": "stderr",
     "output_type": "stream",
     "text": [
      "/opt/anaconda3/lib/python3.9/site-packages/cca_zoo/models/iterative.py:106: UserWarning: Inner loop 0 not converged. Increase number of iterations.\n",
      "  warnings.warn(\n"
     ]
    },
    {
     "name": "stdout",
     "output_type": "stream",
     "text": [
      "params: 0.01, 0.1, 0.5\n",
      "CCA score (train): 0.4704563236482022\n",
      "CCA score (test): 0.10910731790413197\n"
     ]
    },
    {
     "name": "stderr",
     "output_type": "stream",
     "text": [
      "/opt/anaconda3/lib/python3.9/site-packages/cca_zoo/models/iterative.py:106: UserWarning: Inner loop 0 not converged. Increase number of iterations.\n",
      "  warnings.warn(\n"
     ]
    },
    {
     "name": "stdout",
     "output_type": "stream",
     "text": [
      "params: 0.01, 0.1, 0.75\n",
      "CCA score (train): 0.3173713944615486\n",
      "CCA score (test): 0.13494631597653717\n"
     ]
    },
    {
     "name": "stderr",
     "output_type": "stream",
     "text": [
      "/opt/anaconda3/lib/python3.9/site-packages/cca_zoo/models/iterative.py:106: UserWarning: Inner loop 0 not converged. Increase number of iterations.\n",
      "  warnings.warn(\n"
     ]
    },
    {
     "name": "stdout",
     "output_type": "stream",
     "text": [
      "params: 0.01, 0.3, 0.25\n",
      "CCA score (train): 0.3222301772003795\n",
      "CCA score (test): 0.12501566422496047\n"
     ]
    },
    {
     "name": "stderr",
     "output_type": "stream",
     "text": [
      "/opt/anaconda3/lib/python3.9/site-packages/cca_zoo/models/iterative.py:106: UserWarning: Inner loop 0 not converged. Increase number of iterations.\n",
      "  warnings.warn(\n"
     ]
    },
    {
     "name": "stdout",
     "output_type": "stream",
     "text": [
      "params: 0.01, 0.3, 0.5\n",
      "CCA score (train): 0.13240997474892024\n",
      "CCA score (test): 0.0870423873770807\n"
     ]
    },
    {
     "name": "stderr",
     "output_type": "stream",
     "text": [
      "/opt/anaconda3/lib/python3.9/site-packages/cca_zoo/models/iterative.py:122: RuntimeWarning: invalid value encountered in true_divide\n",
      "  - np.outer(score, score) @ residual / np.dot(score, score).item()\n",
      "/opt/anaconda3/lib/python3.9/site-packages/cca_zoo/models/iterative.py:106: UserWarning: Inner loop 0 not converged. Increase number of iterations.\n",
      "  warnings.warn(\n"
     ]
    },
    {
     "name": "stdout",
     "output_type": "stream",
     "text": [
      "params: 0.01, 0.3, 0.75\n"
     ]
    },
    {
     "name": "stderr",
     "output_type": "stream",
     "text": [
      "/opt/anaconda3/lib/python3.9/site-packages/numpy/lib/function_base.py:2642: RuntimeWarning: invalid value encountered in true_divide\n",
      "  c /= stddev[:, None]\n",
      "/opt/anaconda3/lib/python3.9/site-packages/numpy/lib/function_base.py:2643: RuntimeWarning: invalid value encountered in true_divide\n",
      "  c /= stddev[None, :]\n",
      "/opt/anaconda3/lib/python3.9/site-packages/numpy/lib/function_base.py:2642: RuntimeWarning: invalid value encountered in true_divide\n",
      "  c /= stddev[:, None]\n",
      "/opt/anaconda3/lib/python3.9/site-packages/numpy/lib/function_base.py:2643: RuntimeWarning: invalid value encountered in true_divide\n",
      "  c /= stddev[None, :]\n"
     ]
    },
    {
     "name": "stdout",
     "output_type": "stream",
     "text": [
      "CCA score (train): nan\n",
      "CCA score (test): nan\n"
     ]
    },
    {
     "name": "stderr",
     "output_type": "stream",
     "text": [
      "/opt/anaconda3/lib/python3.9/site-packages/cca_zoo/models/iterative.py:106: UserWarning: Inner loop 0 not converged. Increase number of iterations.\n",
      "  warnings.warn(\n"
     ]
    },
    {
     "name": "stdout",
     "output_type": "stream",
     "text": [
      "params: 0.1, 0.01, 0.25\n",
      "CCA score (train): 0.9785027830358444\n",
      "CCA score (test): -0.006136543134060868\n"
     ]
    },
    {
     "name": "stderr",
     "output_type": "stream",
     "text": [
      "/opt/anaconda3/lib/python3.9/site-packages/cca_zoo/models/iterative.py:106: UserWarning: Inner loop 0 not converged. Increase number of iterations.\n",
      "  warnings.warn(\n"
     ]
    },
    {
     "name": "stdout",
     "output_type": "stream",
     "text": [
      "params: 0.1, 0.01, 0.5\n",
      "CCA score (train): 0.9464832161558592\n",
      "CCA score (test): 0.023226432571726185\n"
     ]
    },
    {
     "name": "stderr",
     "output_type": "stream",
     "text": [
      "/opt/anaconda3/lib/python3.9/site-packages/cca_zoo/models/iterative.py:106: UserWarning: Inner loop 0 not converged. Increase number of iterations.\n",
      "  warnings.warn(\n"
     ]
    },
    {
     "name": "stdout",
     "output_type": "stream",
     "text": [
      "params: 0.1, 0.01, 0.75\n",
      "CCA score (train): 0.908877150169213\n",
      "CCA score (test): -0.025336165215354978\n"
     ]
    },
    {
     "name": "stderr",
     "output_type": "stream",
     "text": [
      "/opt/anaconda3/lib/python3.9/site-packages/cca_zoo/models/iterative.py:106: UserWarning: Inner loop 0 not converged. Increase number of iterations.\n",
      "  warnings.warn(\n"
     ]
    },
    {
     "name": "stdout",
     "output_type": "stream",
     "text": [
      "params: 0.1, 0.1, 0.25\n",
      "CCA score (train): 0.6893176427070307\n",
      "CCA score (test): 0.05858600877003117\n"
     ]
    },
    {
     "name": "stderr",
     "output_type": "stream",
     "text": [
      "/opt/anaconda3/lib/python3.9/site-packages/cca_zoo/models/iterative.py:106: UserWarning: Inner loop 0 not converged. Increase number of iterations.\n",
      "  warnings.warn(\n"
     ]
    },
    {
     "name": "stdout",
     "output_type": "stream",
     "text": [
      "params: 0.1, 0.1, 0.5\n",
      "CCA score (train): 0.4421444851748335\n",
      "CCA score (test): 0.09987000197796037\n"
     ]
    },
    {
     "name": "stderr",
     "output_type": "stream",
     "text": [
      "/opt/anaconda3/lib/python3.9/site-packages/cca_zoo/models/iterative.py:106: UserWarning: Inner loop 0 not converged. Increase number of iterations.\n",
      "  warnings.warn(\n"
     ]
    },
    {
     "name": "stdout",
     "output_type": "stream",
     "text": [
      "params: 0.1, 0.1, 0.75\n",
      "CCA score (train): 0.31219361796752776\n",
      "CCA score (test): 0.07943119655256825\n"
     ]
    },
    {
     "name": "stderr",
     "output_type": "stream",
     "text": [
      "/opt/anaconda3/lib/python3.9/site-packages/cca_zoo/models/iterative.py:106: UserWarning: Inner loop 0 not converged. Increase number of iterations.\n",
      "  warnings.warn(\n"
     ]
    },
    {
     "name": "stdout",
     "output_type": "stream",
     "text": [
      "params: 0.1, 0.3, 0.25\n",
      "CCA score (train): 0.31073837925739056\n",
      "CCA score (test): 0.13248368284664602\n"
     ]
    },
    {
     "name": "stderr",
     "output_type": "stream",
     "text": [
      "/opt/anaconda3/lib/python3.9/site-packages/cca_zoo/models/iterative.py:106: UserWarning: Inner loop 0 not converged. Increase number of iterations.\n",
      "  warnings.warn(\n"
     ]
    },
    {
     "name": "stdout",
     "output_type": "stream",
     "text": [
      "params: 0.1, 0.3, 0.5\n",
      "CCA score (train): 0.11356617246171274\n",
      "CCA score (test): 0.07239435000105865\n"
     ]
    },
    {
     "name": "stderr",
     "output_type": "stream",
     "text": [
      "/opt/anaconda3/lib/python3.9/site-packages/cca_zoo/models/iterative.py:122: RuntimeWarning: invalid value encountered in true_divide\n",
      "  - np.outer(score, score) @ residual / np.dot(score, score).item()\n",
      "/opt/anaconda3/lib/python3.9/site-packages/cca_zoo/models/iterative.py:106: UserWarning: Inner loop 0 not converged. Increase number of iterations.\n",
      "  warnings.warn(\n"
     ]
    },
    {
     "name": "stdout",
     "output_type": "stream",
     "text": [
      "params: 0.1, 0.3, 0.75\n"
     ]
    },
    {
     "name": "stderr",
     "output_type": "stream",
     "text": [
      "/opt/anaconda3/lib/python3.9/site-packages/numpy/lib/function_base.py:2642: RuntimeWarning: invalid value encountered in true_divide\n",
      "  c /= stddev[:, None]\n",
      "/opt/anaconda3/lib/python3.9/site-packages/numpy/lib/function_base.py:2643: RuntimeWarning: invalid value encountered in true_divide\n",
      "  c /= stddev[None, :]\n",
      "/opt/anaconda3/lib/python3.9/site-packages/numpy/lib/function_base.py:2642: RuntimeWarning: invalid value encountered in true_divide\n",
      "  c /= stddev[:, None]\n",
      "/opt/anaconda3/lib/python3.9/site-packages/numpy/lib/function_base.py:2643: RuntimeWarning: invalid value encountered in true_divide\n",
      "  c /= stddev[None, :]\n"
     ]
    },
    {
     "name": "stdout",
     "output_type": "stream",
     "text": [
      "CCA score (train): nan\n",
      "CCA score (test): nan\n",
      "/Users/marshlab2/Desktop/OCS_bigdata_ML_local/FINAL/replication/data/PartitionsEnCCA/partitions2_rep01fold2.csv\n",
      "<class 'numpy.ndarray'>\n",
      "(2633, 1)\n",
      "(2633, 8)\n",
      "(2633, 7095)\n",
      "(293, 8)\n",
      "(293, 7095)\n"
     ]
    },
    {
     "name": "stderr",
     "output_type": "stream",
     "text": [
      "/opt/anaconda3/lib/python3.9/site-packages/cca_zoo/models/iterative.py:106: UserWarning: Inner loop 0 not converged. Increase number of iterations.\n",
      "  warnings.warn(\n"
     ]
    },
    {
     "name": "stdout",
     "output_type": "stream",
     "text": [
      "params: 0.001, 0.01, 0.25\n",
      "CCA score (train): 0.9817929801327527\n",
      "CCA score (test): 0.021822279437953007\n"
     ]
    },
    {
     "name": "stderr",
     "output_type": "stream",
     "text": [
      "/opt/anaconda3/lib/python3.9/site-packages/cca_zoo/models/iterative.py:106: UserWarning: Inner loop 0 not converged. Increase number of iterations.\n",
      "  warnings.warn(\n"
     ]
    },
    {
     "name": "stdout",
     "output_type": "stream",
     "text": [
      "params: 0.001, 0.01, 0.5\n",
      "CCA score (train): 0.9529861775525306\n",
      "CCA score (test): 0.018427258205131025\n"
     ]
    },
    {
     "name": "stderr",
     "output_type": "stream",
     "text": [
      "/opt/anaconda3/lib/python3.9/site-packages/cca_zoo/models/iterative.py:106: UserWarning: Inner loop 0 not converged. Increase number of iterations.\n",
      "  warnings.warn(\n"
     ]
    },
    {
     "name": "stdout",
     "output_type": "stream",
     "text": [
      "params: 0.001, 0.01, 0.75\n",
      "CCA score (train): 0.9202651276309204\n",
      "CCA score (test): 0.03899354407002109\n"
     ]
    },
    {
     "name": "stderr",
     "output_type": "stream",
     "text": [
      "/opt/anaconda3/lib/python3.9/site-packages/cca_zoo/models/iterative.py:106: UserWarning: Inner loop 0 not converged. Increase number of iterations.\n",
      "  warnings.warn(\n"
     ]
    },
    {
     "name": "stdout",
     "output_type": "stream",
     "text": [
      "params: 0.001, 0.1, 0.25\n",
      "CCA score (train): 0.6926704617412056\n",
      "CCA score (test): -0.00036620678165255605\n"
     ]
    },
    {
     "name": "stderr",
     "output_type": "stream",
     "text": [
      "/opt/anaconda3/lib/python3.9/site-packages/cca_zoo/models/iterative.py:106: UserWarning: Inner loop 0 not converged. Increase number of iterations.\n",
      "  warnings.warn(\n"
     ]
    },
    {
     "name": "stdout",
     "output_type": "stream",
     "text": [
      "params: 0.001, 0.1, 0.5\n",
      "CCA score (train): 0.46897833913129405\n",
      "CCA score (test): 0.0718568661598038\n"
     ]
    },
    {
     "name": "stderr",
     "output_type": "stream",
     "text": [
      "/opt/anaconda3/lib/python3.9/site-packages/cca_zoo/models/iterative.py:106: UserWarning: Inner loop 0 not converged. Increase number of iterations.\n",
      "  warnings.warn(\n"
     ]
    },
    {
     "name": "stdout",
     "output_type": "stream",
     "text": [
      "params: 0.001, 0.1, 0.75\n",
      "CCA score (train): 0.33675027094093735\n",
      "CCA score (test): 0.04000342232571574\n"
     ]
    },
    {
     "name": "stderr",
     "output_type": "stream",
     "text": [
      "/opt/anaconda3/lib/python3.9/site-packages/cca_zoo/models/iterative.py:106: UserWarning: Inner loop 0 not converged. Increase number of iterations.\n",
      "  warnings.warn(\n"
     ]
    },
    {
     "name": "stdout",
     "output_type": "stream",
     "text": [
      "params: 0.001, 0.3, 0.25\n",
      "CCA score (train): 0.34665967436248124\n",
      "CCA score (test): 0.04201501406959407\n"
     ]
    },
    {
     "name": "stderr",
     "output_type": "stream",
     "text": [
      "/opt/anaconda3/lib/python3.9/site-packages/cca_zoo/models/iterative.py:106: UserWarning: Inner loop 0 not converged. Increase number of iterations.\n",
      "  warnings.warn(\n"
     ]
    },
    {
     "name": "stdout",
     "output_type": "stream",
     "text": [
      "params: 0.001, 0.3, 0.5\n",
      "CCA score (train): 0.14997222954302902\n",
      "CCA score (test): 0.007270660414080421\n"
     ]
    },
    {
     "name": "stderr",
     "output_type": "stream",
     "text": [
      "/opt/anaconda3/lib/python3.9/site-packages/cca_zoo/models/iterative.py:122: RuntimeWarning: invalid value encountered in true_divide\n",
      "  - np.outer(score, score) @ residual / np.dot(score, score).item()\n",
      "/opt/anaconda3/lib/python3.9/site-packages/cca_zoo/models/iterative.py:106: UserWarning: Inner loop 0 not converged. Increase number of iterations.\n",
      "  warnings.warn(\n"
     ]
    },
    {
     "name": "stdout",
     "output_type": "stream",
     "text": [
      "params: 0.001, 0.3, 0.75\n"
     ]
    },
    {
     "name": "stderr",
     "output_type": "stream",
     "text": [
      "/opt/anaconda3/lib/python3.9/site-packages/numpy/lib/function_base.py:2642: RuntimeWarning: invalid value encountered in true_divide\n",
      "  c /= stddev[:, None]\n",
      "/opt/anaconda3/lib/python3.9/site-packages/numpy/lib/function_base.py:2643: RuntimeWarning: invalid value encountered in true_divide\n",
      "  c /= stddev[None, :]\n",
      "/opt/anaconda3/lib/python3.9/site-packages/numpy/lib/function_base.py:2642: RuntimeWarning: invalid value encountered in true_divide\n",
      "  c /= stddev[:, None]\n",
      "/opt/anaconda3/lib/python3.9/site-packages/numpy/lib/function_base.py:2643: RuntimeWarning: invalid value encountered in true_divide\n",
      "  c /= stddev[None, :]\n"
     ]
    },
    {
     "name": "stdout",
     "output_type": "stream",
     "text": [
      "CCA score (train): nan\n",
      "CCA score (test): nan\n"
     ]
    },
    {
     "name": "stderr",
     "output_type": "stream",
     "text": [
      "/opt/anaconda3/lib/python3.9/site-packages/cca_zoo/models/iterative.py:106: UserWarning: Inner loop 0 not converged. Increase number of iterations.\n",
      "  warnings.warn(\n"
     ]
    },
    {
     "name": "stdout",
     "output_type": "stream",
     "text": [
      "params: 0.01, 0.01, 0.25\n",
      "CCA score (train): 0.9814524352983693\n",
      "CCA score (test): 0.02283531872582545\n"
     ]
    },
    {
     "name": "stderr",
     "output_type": "stream",
     "text": [
      "/opt/anaconda3/lib/python3.9/site-packages/cca_zoo/models/iterative.py:106: UserWarning: Inner loop 0 not converged. Increase number of iterations.\n",
      "  warnings.warn(\n"
     ]
    },
    {
     "name": "stdout",
     "output_type": "stream",
     "text": [
      "params: 0.01, 0.01, 0.5\n",
      "CCA score (train): 0.9526812493014167\n",
      "CCA score (test): 0.014161055912492726\n"
     ]
    },
    {
     "name": "stderr",
     "output_type": "stream",
     "text": [
      "/opt/anaconda3/lib/python3.9/site-packages/cca_zoo/models/iterative.py:106: UserWarning: Inner loop 0 not converged. Increase number of iterations.\n",
      "  warnings.warn(\n"
     ]
    },
    {
     "name": "stdout",
     "output_type": "stream",
     "text": [
      "params: 0.01, 0.01, 0.75\n",
      "CCA score (train): 0.919832892591864\n",
      "CCA score (test): 0.029429752703832524\n"
     ]
    },
    {
     "name": "stderr",
     "output_type": "stream",
     "text": [
      "/opt/anaconda3/lib/python3.9/site-packages/cca_zoo/models/iterative.py:106: UserWarning: Inner loop 0 not converged. Increase number of iterations.\n",
      "  warnings.warn(\n"
     ]
    },
    {
     "name": "stdout",
     "output_type": "stream",
     "text": [
      "params: 0.01, 0.1, 0.25\n",
      "CCA score (train): 0.6913181072770995\n",
      "CCA score (test): 0.004415235917835103\n"
     ]
    },
    {
     "name": "stderr",
     "output_type": "stream",
     "text": [
      "/opt/anaconda3/lib/python3.9/site-packages/cca_zoo/models/iterative.py:106: UserWarning: Inner loop 0 not converged. Increase number of iterations.\n",
      "  warnings.warn(\n"
     ]
    },
    {
     "name": "stdout",
     "output_type": "stream",
     "text": [
      "params: 0.01, 0.1, 0.5\n",
      "CCA score (train): 0.4659750239480056\n",
      "CCA score (test): 0.061215073398919184\n"
     ]
    },
    {
     "name": "stderr",
     "output_type": "stream",
     "text": [
      "/opt/anaconda3/lib/python3.9/site-packages/cca_zoo/models/iterative.py:106: UserWarning: Inner loop 0 not converged. Increase number of iterations.\n",
      "  warnings.warn(\n"
     ]
    },
    {
     "name": "stdout",
     "output_type": "stream",
     "text": [
      "params: 0.01, 0.1, 0.75\n",
      "CCA score (train): 0.33638211245869454\n",
      "CCA score (test): 0.036540261802811225\n"
     ]
    },
    {
     "name": "stderr",
     "output_type": "stream",
     "text": [
      "/opt/anaconda3/lib/python3.9/site-packages/cca_zoo/models/iterative.py:106: UserWarning: Inner loop 0 not converged. Increase number of iterations.\n",
      "  warnings.warn(\n"
     ]
    },
    {
     "name": "stdout",
     "output_type": "stream",
     "text": [
      "params: 0.01, 0.3, 0.25\n",
      "CCA score (train): 0.3447989319367104\n",
      "CCA score (test): 0.03859629608133286\n"
     ]
    },
    {
     "name": "stderr",
     "output_type": "stream",
     "text": [
      "/opt/anaconda3/lib/python3.9/site-packages/cca_zoo/models/iterative.py:106: UserWarning: Inner loop 0 not converged. Increase number of iterations.\n",
      "  warnings.warn(\n"
     ]
    },
    {
     "name": "stdout",
     "output_type": "stream",
     "text": [
      "params: 0.01, 0.3, 0.5\n",
      "CCA score (train): 0.13506335485566456\n",
      "CCA score (test): 0.0035493447421299784\n"
     ]
    },
    {
     "name": "stderr",
     "output_type": "stream",
     "text": [
      "/opt/anaconda3/lib/python3.9/site-packages/cca_zoo/models/iterative.py:122: RuntimeWarning: invalid value encountered in true_divide\n",
      "  - np.outer(score, score) @ residual / np.dot(score, score).item()\n",
      "/opt/anaconda3/lib/python3.9/site-packages/cca_zoo/models/iterative.py:106: UserWarning: Inner loop 0 not converged. Increase number of iterations.\n",
      "  warnings.warn(\n"
     ]
    },
    {
     "name": "stdout",
     "output_type": "stream",
     "text": [
      "params: 0.01, 0.3, 0.75\n"
     ]
    },
    {
     "name": "stderr",
     "output_type": "stream",
     "text": [
      "/opt/anaconda3/lib/python3.9/site-packages/numpy/lib/function_base.py:2642: RuntimeWarning: invalid value encountered in true_divide\n",
      "  c /= stddev[:, None]\n",
      "/opt/anaconda3/lib/python3.9/site-packages/numpy/lib/function_base.py:2643: RuntimeWarning: invalid value encountered in true_divide\n",
      "  c /= stddev[None, :]\n",
      "/opt/anaconda3/lib/python3.9/site-packages/numpy/lib/function_base.py:2642: RuntimeWarning: invalid value encountered in true_divide\n",
      "  c /= stddev[:, None]\n",
      "/opt/anaconda3/lib/python3.9/site-packages/numpy/lib/function_base.py:2643: RuntimeWarning: invalid value encountered in true_divide\n",
      "  c /= stddev[None, :]\n"
     ]
    },
    {
     "name": "stdout",
     "output_type": "stream",
     "text": [
      "CCA score (train): nan\n",
      "CCA score (test): nan\n"
     ]
    },
    {
     "name": "stderr",
     "output_type": "stream",
     "text": [
      "/opt/anaconda3/lib/python3.9/site-packages/cca_zoo/models/iterative.py:106: UserWarning: Inner loop 0 not converged. Increase number of iterations.\n",
      "  warnings.warn(\n"
     ]
    },
    {
     "name": "stdout",
     "output_type": "stream",
     "text": [
      "params: 0.1, 0.01, 0.25\n",
      "CCA score (train): 0.9798468620478435\n",
      "CCA score (test): 0.029381851045878093\n"
     ]
    },
    {
     "name": "stderr",
     "output_type": "stream",
     "text": [
      "/opt/anaconda3/lib/python3.9/site-packages/cca_zoo/models/iterative.py:106: UserWarning: Inner loop 0 not converged. Increase number of iterations.\n",
      "  warnings.warn(\n"
     ]
    },
    {
     "name": "stdout",
     "output_type": "stream",
     "text": [
      "params: 0.1, 0.01, 0.5\n",
      "CCA score (train): 0.9487255196513789\n",
      "CCA score (test): 0.06660026043901746\n"
     ]
    },
    {
     "name": "stderr",
     "output_type": "stream",
     "text": [
      "/opt/anaconda3/lib/python3.9/site-packages/cca_zoo/models/iterative.py:106: UserWarning: Inner loop 0 not converged. Increase number of iterations.\n",
      "  warnings.warn(\n"
     ]
    },
    {
     "name": "stdout",
     "output_type": "stream",
     "text": [
      "params: 0.1, 0.01, 0.75\n",
      "CCA score (train): 0.9108876976001126\n",
      "CCA score (test): 0.09774407307663457\n"
     ]
    },
    {
     "name": "stderr",
     "output_type": "stream",
     "text": [
      "/opt/anaconda3/lib/python3.9/site-packages/cca_zoo/models/iterative.py:106: UserWarning: Inner loop 0 not converged. Increase number of iterations.\n",
      "  warnings.warn(\n"
     ]
    },
    {
     "name": "stdout",
     "output_type": "stream",
     "text": [
      "params: 0.1, 0.1, 0.25\n",
      "CCA score (train): 0.6839472548648005\n",
      "CCA score (test): 0.012157561152701835\n"
     ]
    },
    {
     "name": "stderr",
     "output_type": "stream",
     "text": [
      "/opt/anaconda3/lib/python3.9/site-packages/cca_zoo/models/iterative.py:106: UserWarning: Inner loop 0 not converged. Increase number of iterations.\n",
      "  warnings.warn(\n"
     ]
    },
    {
     "name": "stdout",
     "output_type": "stream",
     "text": [
      "params: 0.1, 0.1, 0.5\n",
      "CCA score (train): 0.45017974497391\n",
      "CCA score (test): 0.055103149627817816\n"
     ]
    },
    {
     "name": "stderr",
     "output_type": "stream",
     "text": [
      "/opt/anaconda3/lib/python3.9/site-packages/cca_zoo/models/iterative.py:106: UserWarning: Inner loop 0 not converged. Increase number of iterations.\n",
      "  warnings.warn(\n"
     ]
    },
    {
     "name": "stdout",
     "output_type": "stream",
     "text": [
      "params: 0.1, 0.1, 0.75\n",
      "CCA score (train): 0.31801325455376706\n",
      "CCA score (test): 0.03247618210884218\n"
     ]
    },
    {
     "name": "stderr",
     "output_type": "stream",
     "text": [
      "/opt/anaconda3/lib/python3.9/site-packages/cca_zoo/models/iterative.py:106: UserWarning: Inner loop 0 not converged. Increase number of iterations.\n",
      "  warnings.warn(\n"
     ]
    },
    {
     "name": "stdout",
     "output_type": "stream",
     "text": [
      "params: 0.1, 0.3, 0.25\n",
      "CCA score (train): 0.33465766388054696\n",
      "CCA score (test): 0.03873963538040348\n"
     ]
    },
    {
     "name": "stderr",
     "output_type": "stream",
     "text": [
      "/opt/anaconda3/lib/python3.9/site-packages/cca_zoo/models/iterative.py:106: UserWarning: Inner loop 0 not converged. Increase number of iterations.\n",
      "  warnings.warn(\n"
     ]
    },
    {
     "name": "stdout",
     "output_type": "stream",
     "text": [
      "params: 0.1, 0.3, 0.5\n",
      "CCA score (train): 0.12781531496139031\n",
      "CCA score (test): -0.003211407537715205\n"
     ]
    },
    {
     "name": "stderr",
     "output_type": "stream",
     "text": [
      "/opt/anaconda3/lib/python3.9/site-packages/cca_zoo/models/iterative.py:122: RuntimeWarning: invalid value encountered in true_divide\n",
      "  - np.outer(score, score) @ residual / np.dot(score, score).item()\n"
     ]
    },
    {
     "name": "stdout",
     "output_type": "stream",
     "text": [
      "params: 0.1, 0.3, 0.75\n"
     ]
    },
    {
     "name": "stderr",
     "output_type": "stream",
     "text": [
      "/opt/anaconda3/lib/python3.9/site-packages/numpy/lib/function_base.py:2642: RuntimeWarning: invalid value encountered in true_divide\n",
      "  c /= stddev[:, None]\n",
      "/opt/anaconda3/lib/python3.9/site-packages/numpy/lib/function_base.py:2643: RuntimeWarning: invalid value encountered in true_divide\n",
      "  c /= stddev[None, :]\n",
      "/opt/anaconda3/lib/python3.9/site-packages/numpy/lib/function_base.py:2642: RuntimeWarning: invalid value encountered in true_divide\n",
      "  c /= stddev[:, None]\n",
      "/opt/anaconda3/lib/python3.9/site-packages/numpy/lib/function_base.py:2643: RuntimeWarning: invalid value encountered in true_divide\n",
      "  c /= stddev[None, :]\n"
     ]
    },
    {
     "name": "stdout",
     "output_type": "stream",
     "text": [
      "CCA score (train): nan\n",
      "CCA score (test): nan\n",
      "/Users/marshlab2/Desktop/OCS_bigdata_ML_local/FINAL/replication/data/PartitionsEnCCA/partitions2_rep01fold3.csv\n",
      "<class 'numpy.ndarray'>\n",
      "(2633, 1)\n",
      "(2633, 8)\n",
      "(2633, 7095)\n",
      "(293, 8)\n",
      "(293, 7095)\n"
     ]
    },
    {
     "name": "stderr",
     "output_type": "stream",
     "text": [
      "/opt/anaconda3/lib/python3.9/site-packages/cca_zoo/models/iterative.py:106: UserWarning: Inner loop 0 not converged. Increase number of iterations.\n",
      "  warnings.warn(\n"
     ]
    },
    {
     "name": "stdout",
     "output_type": "stream",
     "text": [
      "params: 0.001, 0.01, 0.25\n",
      "CCA score (train): 0.9805457645593552\n",
      "CCA score (test): -0.013135545939806814\n"
     ]
    },
    {
     "name": "stderr",
     "output_type": "stream",
     "text": [
      "/opt/anaconda3/lib/python3.9/site-packages/cca_zoo/models/iterative.py:106: UserWarning: Inner loop 0 not converged. Increase number of iterations.\n",
      "  warnings.warn(\n"
     ]
    },
    {
     "name": "stdout",
     "output_type": "stream",
     "text": [
      "params: 0.001, 0.01, 0.5\n",
      "CCA score (train): 0.95257540119233\n",
      "CCA score (test): -0.010680010246299387\n"
     ]
    },
    {
     "name": "stderr",
     "output_type": "stream",
     "text": [
      "/opt/anaconda3/lib/python3.9/site-packages/cca_zoo/models/iterative.py:106: UserWarning: Inner loop 0 not converged. Increase number of iterations.\n",
      "  warnings.warn(\n"
     ]
    },
    {
     "name": "stdout",
     "output_type": "stream",
     "text": [
      "params: 0.001, 0.01, 0.75\n",
      "CCA score (train): 0.920304362476625\n",
      "CCA score (test): -0.01591629856827459\n"
     ]
    },
    {
     "name": "stderr",
     "output_type": "stream",
     "text": [
      "/opt/anaconda3/lib/python3.9/site-packages/cca_zoo/models/iterative.py:106: UserWarning: Inner loop 0 not converged. Increase number of iterations.\n",
      "  warnings.warn(\n"
     ]
    },
    {
     "name": "stdout",
     "output_type": "stream",
     "text": [
      "params: 0.001, 0.1, 0.25\n",
      "CCA score (train): 0.6998105470206188\n",
      "CCA score (test): 0.02160931188668358\n"
     ]
    },
    {
     "name": "stderr",
     "output_type": "stream",
     "text": [
      "/opt/anaconda3/lib/python3.9/site-packages/cca_zoo/models/iterative.py:106: UserWarning: Inner loop 0 not converged. Increase number of iterations.\n",
      "  warnings.warn(\n"
     ]
    },
    {
     "name": "stdout",
     "output_type": "stream",
     "text": [
      "params: 0.001, 0.1, 0.5\n",
      "CCA score (train): 0.479021796711083\n",
      "CCA score (test): 0.008910771899363512\n"
     ]
    },
    {
     "name": "stderr",
     "output_type": "stream",
     "text": [
      "/opt/anaconda3/lib/python3.9/site-packages/cca_zoo/models/iterative.py:106: UserWarning: Inner loop 0 not converged. Increase number of iterations.\n",
      "  warnings.warn(\n"
     ]
    },
    {
     "name": "stdout",
     "output_type": "stream",
     "text": [
      "params: 0.001, 0.1, 0.75\n",
      "CCA score (train): 0.3411254890001043\n",
      "CCA score (test): 0.014223771112437333\n"
     ]
    },
    {
     "name": "stderr",
     "output_type": "stream",
     "text": [
      "/opt/anaconda3/lib/python3.9/site-packages/cca_zoo/models/iterative.py:106: UserWarning: Inner loop 0 not converged. Increase number of iterations.\n",
      "  warnings.warn(\n"
     ]
    },
    {
     "name": "stdout",
     "output_type": "stream",
     "text": [
      "params: 0.001, 0.3, 0.25\n",
      "CCA score (train): 0.35384348830918455\n",
      "CCA score (test): 0.01707468762955866\n"
     ]
    },
    {
     "name": "stderr",
     "output_type": "stream",
     "text": [
      "/opt/anaconda3/lib/python3.9/site-packages/cca_zoo/models/iterative.py:106: UserWarning: Inner loop 0 not converged. Increase number of iterations.\n",
      "  warnings.warn(\n"
     ]
    },
    {
     "name": "stdout",
     "output_type": "stream",
     "text": [
      "params: 0.001, 0.3, 0.5\n",
      "CCA score (train): 0.158015161417413\n",
      "CCA score (test): 0.026145718176643573\n"
     ]
    },
    {
     "name": "stderr",
     "output_type": "stream",
     "text": [
      "/opt/anaconda3/lib/python3.9/site-packages/cca_zoo/models/iterative.py:122: RuntimeWarning: invalid value encountered in true_divide\n",
      "  - np.outer(score, score) @ residual / np.dot(score, score).item()\n",
      "/opt/anaconda3/lib/python3.9/site-packages/cca_zoo/models/iterative.py:106: UserWarning: Inner loop 0 not converged. Increase number of iterations.\n",
      "  warnings.warn(\n"
     ]
    },
    {
     "name": "stdout",
     "output_type": "stream",
     "text": [
      "params: 0.001, 0.3, 0.75\n"
     ]
    },
    {
     "name": "stderr",
     "output_type": "stream",
     "text": [
      "/opt/anaconda3/lib/python3.9/site-packages/numpy/lib/function_base.py:2642: RuntimeWarning: invalid value encountered in true_divide\n",
      "  c /= stddev[:, None]\n",
      "/opt/anaconda3/lib/python3.9/site-packages/numpy/lib/function_base.py:2643: RuntimeWarning: invalid value encountered in true_divide\n",
      "  c /= stddev[None, :]\n",
      "/opt/anaconda3/lib/python3.9/site-packages/numpy/lib/function_base.py:2642: RuntimeWarning: invalid value encountered in true_divide\n",
      "  c /= stddev[:, None]\n",
      "/opt/anaconda3/lib/python3.9/site-packages/numpy/lib/function_base.py:2643: RuntimeWarning: invalid value encountered in true_divide\n",
      "  c /= stddev[None, :]\n"
     ]
    },
    {
     "name": "stdout",
     "output_type": "stream",
     "text": [
      "CCA score (train): nan\n",
      "CCA score (test): nan\n"
     ]
    },
    {
     "name": "stderr",
     "output_type": "stream",
     "text": [
      "/opt/anaconda3/lib/python3.9/site-packages/cca_zoo/models/iterative.py:106: UserWarning: Inner loop 0 not converged. Increase number of iterations.\n",
      "  warnings.warn(\n"
     ]
    },
    {
     "name": "stdout",
     "output_type": "stream",
     "text": [
      "params: 0.01, 0.01, 0.25\n",
      "CCA score (train): 0.9803195661092574\n",
      "CCA score (test): -0.015991550378981145\n"
     ]
    },
    {
     "name": "stderr",
     "output_type": "stream",
     "text": [
      "/opt/anaconda3/lib/python3.9/site-packages/cca_zoo/models/iterative.py:106: UserWarning: Inner loop 0 not converged. Increase number of iterations.\n",
      "  warnings.warn(\n"
     ]
    },
    {
     "name": "stdout",
     "output_type": "stream",
     "text": [
      "params: 0.01, 0.01, 0.5\n",
      "CCA score (train): 0.9522622845317708\n",
      "CCA score (test): -0.01042952391208285\n"
     ]
    },
    {
     "name": "stderr",
     "output_type": "stream",
     "text": [
      "/opt/anaconda3/lib/python3.9/site-packages/cca_zoo/models/iterative.py:106: UserWarning: Inner loop 0 not converged. Increase number of iterations.\n",
      "  warnings.warn(\n"
     ]
    },
    {
     "name": "stdout",
     "output_type": "stream",
     "text": [
      "params: 0.01, 0.01, 0.75\n",
      "CCA score (train): 0.9202238845115032\n",
      "CCA score (test): -0.015069714958606317\n"
     ]
    },
    {
     "name": "stderr",
     "output_type": "stream",
     "text": [
      "/opt/anaconda3/lib/python3.9/site-packages/cca_zoo/models/iterative.py:106: UserWarning: Inner loop 0 not converged. Increase number of iterations.\n",
      "  warnings.warn(\n"
     ]
    },
    {
     "name": "stdout",
     "output_type": "stream",
     "text": [
      "params: 0.01, 0.1, 0.25\n",
      "CCA score (train): 0.6989664274690939\n",
      "CCA score (test): 0.020798872878843078\n"
     ]
    },
    {
     "name": "stderr",
     "output_type": "stream",
     "text": [
      "/opt/anaconda3/lib/python3.9/site-packages/cca_zoo/models/iterative.py:106: UserWarning: Inner loop 0 not converged. Increase number of iterations.\n",
      "  warnings.warn(\n"
     ]
    },
    {
     "name": "stdout",
     "output_type": "stream",
     "text": [
      "params: 0.01, 0.1, 0.5\n",
      "CCA score (train): 0.4789305444374512\n",
      "CCA score (test): 0.0025860117797786852\n"
     ]
    },
    {
     "name": "stderr",
     "output_type": "stream",
     "text": [
      "/opt/anaconda3/lib/python3.9/site-packages/cca_zoo/models/iterative.py:106: UserWarning: Inner loop 0 not converged. Increase number of iterations.\n",
      "  warnings.warn(\n"
     ]
    },
    {
     "name": "stdout",
     "output_type": "stream",
     "text": [
      "params: 0.01, 0.1, 0.75\n",
      "CCA score (train): 0.3418397465022094\n",
      "CCA score (test): 0.005837461438495062\n"
     ]
    },
    {
     "name": "stderr",
     "output_type": "stream",
     "text": [
      "/opt/anaconda3/lib/python3.9/site-packages/cca_zoo/models/iterative.py:106: UserWarning: Inner loop 0 not converged. Increase number of iterations.\n",
      "  warnings.warn(\n"
     ]
    },
    {
     "name": "stdout",
     "output_type": "stream",
     "text": [
      "params: 0.01, 0.3, 0.25\n",
      "CCA score (train): 0.3533735323554972\n",
      "CCA score (test): 0.0008173838569964786\n"
     ]
    },
    {
     "name": "stderr",
     "output_type": "stream",
     "text": [
      "/opt/anaconda3/lib/python3.9/site-packages/cca_zoo/models/iterative.py:106: UserWarning: Inner loop 0 not converged. Increase number of iterations.\n",
      "  warnings.warn(\n"
     ]
    },
    {
     "name": "stdout",
     "output_type": "stream",
     "text": [
      "params: 0.01, 0.3, 0.5\n",
      "CCA score (train): 0.14949492472453874\n",
      "CCA score (test): 0.03166249052772052\n"
     ]
    },
    {
     "name": "stderr",
     "output_type": "stream",
     "text": [
      "/opt/anaconda3/lib/python3.9/site-packages/cca_zoo/models/iterative.py:122: RuntimeWarning: invalid value encountered in true_divide\n",
      "  - np.outer(score, score) @ residual / np.dot(score, score).item()\n",
      "/opt/anaconda3/lib/python3.9/site-packages/cca_zoo/models/iterative.py:106: UserWarning: Inner loop 0 not converged. Increase number of iterations.\n",
      "  warnings.warn(\n"
     ]
    },
    {
     "name": "stdout",
     "output_type": "stream",
     "text": [
      "params: 0.01, 0.3, 0.75\n"
     ]
    },
    {
     "name": "stderr",
     "output_type": "stream",
     "text": [
      "/opt/anaconda3/lib/python3.9/site-packages/numpy/lib/function_base.py:2642: RuntimeWarning: invalid value encountered in true_divide\n",
      "  c /= stddev[:, None]\n",
      "/opt/anaconda3/lib/python3.9/site-packages/numpy/lib/function_base.py:2643: RuntimeWarning: invalid value encountered in true_divide\n",
      "  c /= stddev[None, :]\n",
      "/opt/anaconda3/lib/python3.9/site-packages/numpy/lib/function_base.py:2642: RuntimeWarning: invalid value encountered in true_divide\n",
      "  c /= stddev[:, None]\n",
      "/opt/anaconda3/lib/python3.9/site-packages/numpy/lib/function_base.py:2643: RuntimeWarning: invalid value encountered in true_divide\n",
      "  c /= stddev[None, :]\n"
     ]
    },
    {
     "name": "stdout",
     "output_type": "stream",
     "text": [
      "CCA score (train): nan\n",
      "CCA score (test): nan\n"
     ]
    },
    {
     "name": "stderr",
     "output_type": "stream",
     "text": [
      "/opt/anaconda3/lib/python3.9/site-packages/cca_zoo/models/iterative.py:106: UserWarning: Inner loop 0 not converged. Increase number of iterations.\n",
      "  warnings.warn(\n"
     ]
    },
    {
     "name": "stdout",
     "output_type": "stream",
     "text": [
      "params: 0.1, 0.01, 0.25\n",
      "CCA score (train): 0.9788168669564337\n",
      "CCA score (test): -0.03386905514948779\n"
     ]
    },
    {
     "name": "stderr",
     "output_type": "stream",
     "text": [
      "/opt/anaconda3/lib/python3.9/site-packages/cca_zoo/models/iterative.py:106: UserWarning: Inner loop 0 not converged. Increase number of iterations.\n",
      "  warnings.warn(\n"
     ]
    },
    {
     "name": "stdout",
     "output_type": "stream",
     "text": [
      "params: 0.1, 0.01, 0.5\n",
      "CCA score (train): 0.9459327691250701\n",
      "CCA score (test): 0.024435197139822007\n"
     ]
    },
    {
     "name": "stderr",
     "output_type": "stream",
     "text": [
      "/opt/anaconda3/lib/python3.9/site-packages/cca_zoo/models/iterative.py:106: UserWarning: Inner loop 0 not converged. Increase number of iterations.\n",
      "  warnings.warn(\n"
     ]
    },
    {
     "name": "stdout",
     "output_type": "stream",
     "text": [
      "params: 0.1, 0.01, 0.75\n",
      "CCA score (train): 0.9166235063554078\n",
      "CCA score (test): -0.006359806430416115\n"
     ]
    },
    {
     "name": "stderr",
     "output_type": "stream",
     "text": [
      "/opt/anaconda3/lib/python3.9/site-packages/cca_zoo/models/iterative.py:106: UserWarning: Inner loop 0 not converged. Increase number of iterations.\n",
      "  warnings.warn(\n"
     ]
    },
    {
     "name": "stdout",
     "output_type": "stream",
     "text": [
      "params: 0.1, 0.1, 0.25\n",
      "CCA score (train): 0.6941871337004042\n",
      "CCA score (test): 0.01474148224060512\n"
     ]
    },
    {
     "name": "stderr",
     "output_type": "stream",
     "text": [
      "/opt/anaconda3/lib/python3.9/site-packages/cca_zoo/models/iterative.py:106: UserWarning: Inner loop 0 not converged. Increase number of iterations.\n",
      "  warnings.warn(\n"
     ]
    },
    {
     "name": "stdout",
     "output_type": "stream",
     "text": [
      "params: 0.1, 0.1, 0.5\n",
      "CCA score (train): 0.4657461968328245\n",
      "CCA score (test): 0.019506185078807192\n"
     ]
    },
    {
     "name": "stderr",
     "output_type": "stream",
     "text": [
      "/opt/anaconda3/lib/python3.9/site-packages/cca_zoo/models/iterative.py:106: UserWarning: Inner loop 0 not converged. Increase number of iterations.\n",
      "  warnings.warn(\n"
     ]
    },
    {
     "name": "stdout",
     "output_type": "stream",
     "text": [
      "params: 0.1, 0.1, 0.75\n",
      "CCA score (train): 0.3070533173506942\n",
      "CCA score (test): 0.02043425127223175\n"
     ]
    },
    {
     "name": "stderr",
     "output_type": "stream",
     "text": [
      "/opt/anaconda3/lib/python3.9/site-packages/cca_zoo/models/iterative.py:106: UserWarning: Inner loop 0 not converged. Increase number of iterations.\n",
      "  warnings.warn(\n"
     ]
    },
    {
     "name": "stdout",
     "output_type": "stream",
     "text": [
      "params: 0.1, 0.3, 0.25\n",
      "CCA score (train): 0.34076321306816904\n",
      "CCA score (test): 0.010289212082495336\n"
     ]
    },
    {
     "name": "stderr",
     "output_type": "stream",
     "text": [
      "/opt/anaconda3/lib/python3.9/site-packages/cca_zoo/models/iterative.py:106: UserWarning: Inner loop 0 not converged. Increase number of iterations.\n",
      "  warnings.warn(\n"
     ]
    },
    {
     "name": "stdout",
     "output_type": "stream",
     "text": [
      "params: 0.1, 0.3, 0.5\n",
      "CCA score (train): 0.14314828401598656\n",
      "CCA score (test): 0.03807699968879086\n"
     ]
    },
    {
     "name": "stderr",
     "output_type": "stream",
     "text": [
      "/opt/anaconda3/lib/python3.9/site-packages/cca_zoo/models/iterative.py:122: RuntimeWarning: invalid value encountered in true_divide\n",
      "  - np.outer(score, score) @ residual / np.dot(score, score).item()\n"
     ]
    },
    {
     "name": "stdout",
     "output_type": "stream",
     "text": [
      "params: 0.1, 0.3, 0.75\n"
     ]
    },
    {
     "name": "stderr",
     "output_type": "stream",
     "text": [
      "/opt/anaconda3/lib/python3.9/site-packages/numpy/lib/function_base.py:2642: RuntimeWarning: invalid value encountered in true_divide\n",
      "  c /= stddev[:, None]\n",
      "/opt/anaconda3/lib/python3.9/site-packages/numpy/lib/function_base.py:2643: RuntimeWarning: invalid value encountered in true_divide\n",
      "  c /= stddev[None, :]\n",
      "/opt/anaconda3/lib/python3.9/site-packages/numpy/lib/function_base.py:2642: RuntimeWarning: invalid value encountered in true_divide\n",
      "  c /= stddev[:, None]\n",
      "/opt/anaconda3/lib/python3.9/site-packages/numpy/lib/function_base.py:2643: RuntimeWarning: invalid value encountered in true_divide\n",
      "  c /= stddev[None, :]\n"
     ]
    },
    {
     "name": "stdout",
     "output_type": "stream",
     "text": [
      "CCA score (train): nan\n",
      "CCA score (test): nan\n",
      "/Users/marshlab2/Desktop/OCS_bigdata_ML_local/FINAL/replication/data/PartitionsEnCCA/partitions2_rep01fold4.csv\n",
      "<class 'numpy.ndarray'>\n",
      "(2633, 1)\n",
      "(2633, 8)\n",
      "(2633, 7095)\n",
      "(293, 8)\n",
      "(293, 7095)\n"
     ]
    },
    {
     "name": "stderr",
     "output_type": "stream",
     "text": [
      "/opt/anaconda3/lib/python3.9/site-packages/cca_zoo/models/iterative.py:106: UserWarning: Inner loop 0 not converged. Increase number of iterations.\n",
      "  warnings.warn(\n"
     ]
    },
    {
     "name": "stdout",
     "output_type": "stream",
     "text": [
      "params: 0.001, 0.01, 0.25\n",
      "CCA score (train): 0.980342067456939\n",
      "CCA score (test): 0.1119321687887016\n"
     ]
    },
    {
     "name": "stderr",
     "output_type": "stream",
     "text": [
      "/opt/anaconda3/lib/python3.9/site-packages/cca_zoo/models/iterative.py:106: UserWarning: Inner loop 0 not converged. Increase number of iterations.\n",
      "  warnings.warn(\n"
     ]
    },
    {
     "name": "stdout",
     "output_type": "stream",
     "text": [
      "params: 0.001, 0.01, 0.5\n",
      "CCA score (train): 0.9524766403706384\n",
      "CCA score (test): 0.13059538381044877\n"
     ]
    },
    {
     "name": "stderr",
     "output_type": "stream",
     "text": [
      "/opt/anaconda3/lib/python3.9/site-packages/cca_zoo/models/iterative.py:106: UserWarning: Inner loop 0 not converged. Increase number of iterations.\n",
      "  warnings.warn(\n"
     ]
    },
    {
     "name": "stdout",
     "output_type": "stream",
     "text": [
      "params: 0.001, 0.01, 0.75\n",
      "CCA score (train): 0.9202703682346054\n",
      "CCA score (test): 0.12625803534308955\n"
     ]
    },
    {
     "name": "stderr",
     "output_type": "stream",
     "text": [
      "/opt/anaconda3/lib/python3.9/site-packages/cca_zoo/models/iterative.py:106: UserWarning: Inner loop 0 not converged. Increase number of iterations.\n",
      "  warnings.warn(\n"
     ]
    },
    {
     "name": "stdout",
     "output_type": "stream",
     "text": [
      "params: 0.001, 0.1, 0.25\n",
      "CCA score (train): 0.6961425493625879\n",
      "CCA score (test): 0.16225807874938036\n"
     ]
    },
    {
     "name": "stderr",
     "output_type": "stream",
     "text": [
      "/opt/anaconda3/lib/python3.9/site-packages/cca_zoo/models/iterative.py:106: UserWarning: Inner loop 0 not converged. Increase number of iterations.\n",
      "  warnings.warn(\n"
     ]
    },
    {
     "name": "stdout",
     "output_type": "stream",
     "text": [
      "params: 0.001, 0.1, 0.5\n",
      "CCA score (train): 0.4823662801899764\n",
      "CCA score (test): 0.17204878983167649\n"
     ]
    },
    {
     "name": "stderr",
     "output_type": "stream",
     "text": [
      "/opt/anaconda3/lib/python3.9/site-packages/cca_zoo/models/iterative.py:106: UserWarning: Inner loop 0 not converged. Increase number of iterations.\n",
      "  warnings.warn(\n"
     ]
    },
    {
     "name": "stdout",
     "output_type": "stream",
     "text": [
      "params: 0.001, 0.1, 0.75\n",
      "CCA score (train): 0.31391503053820924\n",
      "CCA score (test): 0.17118995092634703\n"
     ]
    },
    {
     "name": "stderr",
     "output_type": "stream",
     "text": [
      "/opt/anaconda3/lib/python3.9/site-packages/cca_zoo/models/iterative.py:106: UserWarning: Inner loop 0 not converged. Increase number of iterations.\n",
      "  warnings.warn(\n"
     ]
    },
    {
     "name": "stdout",
     "output_type": "stream",
     "text": [
      "params: 0.001, 0.3, 0.25\n",
      "CCA score (train): 0.3286314997690003\n",
      "CCA score (test): 0.18703356698244322\n"
     ]
    },
    {
     "name": "stderr",
     "output_type": "stream",
     "text": [
      "/opt/anaconda3/lib/python3.9/site-packages/cca_zoo/models/iterative.py:106: UserWarning: Inner loop 0 not converged. Increase number of iterations.\n",
      "  warnings.warn(\n"
     ]
    },
    {
     "name": "stdout",
     "output_type": "stream",
     "text": [
      "params: 0.001, 0.3, 0.5\n",
      "CCA score (train): 0.13438115886976743\n",
      "CCA score (test): 0.12114970554400561\n"
     ]
    },
    {
     "name": "stderr",
     "output_type": "stream",
     "text": [
      "/opt/anaconda3/lib/python3.9/site-packages/cca_zoo/models/iterative.py:122: RuntimeWarning: invalid value encountered in true_divide\n",
      "  - np.outer(score, score) @ residual / np.dot(score, score).item()\n",
      "/opt/anaconda3/lib/python3.9/site-packages/cca_zoo/models/iterative.py:106: UserWarning: Inner loop 0 not converged. Increase number of iterations.\n",
      "  warnings.warn(\n"
     ]
    },
    {
     "name": "stdout",
     "output_type": "stream",
     "text": [
      "params: 0.001, 0.3, 0.75\n"
     ]
    },
    {
     "name": "stderr",
     "output_type": "stream",
     "text": [
      "/opt/anaconda3/lib/python3.9/site-packages/numpy/lib/function_base.py:2642: RuntimeWarning: invalid value encountered in true_divide\n",
      "  c /= stddev[:, None]\n",
      "/opt/anaconda3/lib/python3.9/site-packages/numpy/lib/function_base.py:2643: RuntimeWarning: invalid value encountered in true_divide\n",
      "  c /= stddev[None, :]\n",
      "/opt/anaconda3/lib/python3.9/site-packages/numpy/lib/function_base.py:2642: RuntimeWarning: invalid value encountered in true_divide\n",
      "  c /= stddev[:, None]\n",
      "/opt/anaconda3/lib/python3.9/site-packages/numpy/lib/function_base.py:2643: RuntimeWarning: invalid value encountered in true_divide\n",
      "  c /= stddev[None, :]\n"
     ]
    },
    {
     "name": "stdout",
     "output_type": "stream",
     "text": [
      "CCA score (train): nan\n",
      "CCA score (test): nan\n"
     ]
    },
    {
     "name": "stderr",
     "output_type": "stream",
     "text": [
      "/opt/anaconda3/lib/python3.9/site-packages/cca_zoo/models/iterative.py:106: UserWarning: Inner loop 0 not converged. Increase number of iterations.\n",
      "  warnings.warn(\n"
     ]
    },
    {
     "name": "stdout",
     "output_type": "stream",
     "text": [
      "params: 0.01, 0.01, 0.25\n",
      "CCA score (train): 0.9801623390290102\n",
      "CCA score (test): 0.11085660630255689\n"
     ]
    },
    {
     "name": "stderr",
     "output_type": "stream",
     "text": [
      "/opt/anaconda3/lib/python3.9/site-packages/cca_zoo/models/iterative.py:106: UserWarning: Inner loop 0 not converged. Increase number of iterations.\n",
      "  warnings.warn(\n"
     ]
    },
    {
     "name": "stdout",
     "output_type": "stream",
     "text": [
      "params: 0.01, 0.01, 0.5\n",
      "CCA score (train): 0.9522289323045006\n",
      "CCA score (test): 0.13254459190388257\n"
     ]
    },
    {
     "name": "stderr",
     "output_type": "stream",
     "text": [
      "/opt/anaconda3/lib/python3.9/site-packages/cca_zoo/models/iterative.py:106: UserWarning: Inner loop 0 not converged. Increase number of iterations.\n",
      "  warnings.warn(\n"
     ]
    },
    {
     "name": "stdout",
     "output_type": "stream",
     "text": [
      "params: 0.01, 0.01, 0.75\n",
      "CCA score (train): 0.9189567868778006\n",
      "CCA score (test): 0.13321696246017334\n"
     ]
    },
    {
     "name": "stderr",
     "output_type": "stream",
     "text": [
      "/opt/anaconda3/lib/python3.9/site-packages/cca_zoo/models/iterative.py:106: UserWarning: Inner loop 0 not converged. Increase number of iterations.\n",
      "  warnings.warn(\n"
     ]
    },
    {
     "name": "stdout",
     "output_type": "stream",
     "text": [
      "params: 0.01, 0.1, 0.25\n",
      "CCA score (train): 0.696825825336755\n",
      "CCA score (test): 0.1673236742145754\n"
     ]
    },
    {
     "name": "stderr",
     "output_type": "stream",
     "text": [
      "/opt/anaconda3/lib/python3.9/site-packages/cca_zoo/models/iterative.py:106: UserWarning: Inner loop 0 not converged. Increase number of iterations.\n",
      "  warnings.warn(\n"
     ]
    },
    {
     "name": "stdout",
     "output_type": "stream",
     "text": [
      "params: 0.01, 0.1, 0.5\n",
      "CCA score (train): 0.48093504241871177\n",
      "CCA score (test): 0.1791658937339058\n"
     ]
    },
    {
     "name": "stderr",
     "output_type": "stream",
     "text": [
      "/opt/anaconda3/lib/python3.9/site-packages/cca_zoo/models/iterative.py:106: UserWarning: Inner loop 0 not converged. Increase number of iterations.\n",
      "  warnings.warn(\n"
     ]
    },
    {
     "name": "stdout",
     "output_type": "stream",
     "text": [
      "params: 0.01, 0.1, 0.75\n",
      "CCA score (train): 0.3256802006268189\n",
      "CCA score (test): 0.17788242343363048\n"
     ]
    },
    {
     "name": "stderr",
     "output_type": "stream",
     "text": [
      "/opt/anaconda3/lib/python3.9/site-packages/cca_zoo/models/iterative.py:106: UserWarning: Inner loop 0 not converged. Increase number of iterations.\n",
      "  warnings.warn(\n"
     ]
    },
    {
     "name": "stdout",
     "output_type": "stream",
     "text": [
      "params: 0.01, 0.3, 0.25\n",
      "CCA score (train): 0.3302376774652336\n",
      "CCA score (test): 0.19160643307502823\n"
     ]
    },
    {
     "name": "stderr",
     "output_type": "stream",
     "text": [
      "/opt/anaconda3/lib/python3.9/site-packages/cca_zoo/models/iterative.py:106: UserWarning: Inner loop 0 not converged. Increase number of iterations.\n",
      "  warnings.warn(\n"
     ]
    },
    {
     "name": "stdout",
     "output_type": "stream",
     "text": [
      "params: 0.01, 0.3, 0.5\n",
      "CCA score (train): 0.13010569429869934\n",
      "CCA score (test): 0.12171660996000244\n"
     ]
    },
    {
     "name": "stderr",
     "output_type": "stream",
     "text": [
      "/opt/anaconda3/lib/python3.9/site-packages/cca_zoo/models/iterative.py:122: RuntimeWarning: invalid value encountered in true_divide\n",
      "  - np.outer(score, score) @ residual / np.dot(score, score).item()\n",
      "/opt/anaconda3/lib/python3.9/site-packages/cca_zoo/models/iterative.py:106: UserWarning: Inner loop 0 not converged. Increase number of iterations.\n",
      "  warnings.warn(\n"
     ]
    },
    {
     "name": "stdout",
     "output_type": "stream",
     "text": [
      "params: 0.01, 0.3, 0.75\n"
     ]
    },
    {
     "name": "stderr",
     "output_type": "stream",
     "text": [
      "/opt/anaconda3/lib/python3.9/site-packages/numpy/lib/function_base.py:2642: RuntimeWarning: invalid value encountered in true_divide\n",
      "  c /= stddev[:, None]\n",
      "/opt/anaconda3/lib/python3.9/site-packages/numpy/lib/function_base.py:2643: RuntimeWarning: invalid value encountered in true_divide\n",
      "  c /= stddev[None, :]\n",
      "/opt/anaconda3/lib/python3.9/site-packages/numpy/lib/function_base.py:2642: RuntimeWarning: invalid value encountered in true_divide\n",
      "  c /= stddev[:, None]\n",
      "/opt/anaconda3/lib/python3.9/site-packages/numpy/lib/function_base.py:2643: RuntimeWarning: invalid value encountered in true_divide\n",
      "  c /= stddev[None, :]\n"
     ]
    },
    {
     "name": "stdout",
     "output_type": "stream",
     "text": [
      "CCA score (train): nan\n",
      "CCA score (test): nan\n"
     ]
    },
    {
     "name": "stderr",
     "output_type": "stream",
     "text": [
      "/opt/anaconda3/lib/python3.9/site-packages/cca_zoo/models/iterative.py:106: UserWarning: Inner loop 0 not converged. Increase number of iterations.\n",
      "  warnings.warn(\n"
     ]
    },
    {
     "name": "stdout",
     "output_type": "stream",
     "text": [
      "params: 0.1, 0.01, 0.25\n",
      "CCA score (train): 0.9788284336494759\n",
      "CCA score (test): 0.07460377931719653\n"
     ]
    },
    {
     "name": "stderr",
     "output_type": "stream",
     "text": [
      "/opt/anaconda3/lib/python3.9/site-packages/cca_zoo/models/iterative.py:106: UserWarning: Inner loop 0 not converged. Increase number of iterations.\n",
      "  warnings.warn(\n"
     ]
    },
    {
     "name": "stdout",
     "output_type": "stream",
     "text": [
      "params: 0.1, 0.01, 0.5\n",
      "CCA score (train): 0.9489363335170715\n",
      "CCA score (test): 0.05515244460751845\n"
     ]
    },
    {
     "name": "stderr",
     "output_type": "stream",
     "text": [
      "/opt/anaconda3/lib/python3.9/site-packages/cca_zoo/models/iterative.py:106: UserWarning: Inner loop 0 not converged. Increase number of iterations.\n",
      "  warnings.warn(\n"
     ]
    },
    {
     "name": "stdout",
     "output_type": "stream",
     "text": [
      "params: 0.1, 0.01, 0.75\n",
      "CCA score (train): 0.9135226994414019\n",
      "CCA score (test): 0.05395075997325516\n"
     ]
    },
    {
     "name": "stderr",
     "output_type": "stream",
     "text": [
      "/opt/anaconda3/lib/python3.9/site-packages/cca_zoo/models/iterative.py:106: UserWarning: Inner loop 0 not converged. Increase number of iterations.\n",
      "  warnings.warn(\n"
     ]
    },
    {
     "name": "stdout",
     "output_type": "stream",
     "text": [
      "params: 0.1, 0.1, 0.25\n",
      "CCA score (train): 0.6901080228580245\n",
      "CCA score (test): 0.177226067829916\n"
     ]
    },
    {
     "name": "stderr",
     "output_type": "stream",
     "text": [
      "/opt/anaconda3/lib/python3.9/site-packages/cca_zoo/models/iterative.py:106: UserWarning: Inner loop 0 not converged. Increase number of iterations.\n",
      "  warnings.warn(\n"
     ]
    },
    {
     "name": "stdout",
     "output_type": "stream",
     "text": [
      "params: 0.1, 0.1, 0.5\n",
      "CCA score (train): 0.46941094028692154\n",
      "CCA score (test): 0.15815369238547605\n"
     ]
    },
    {
     "name": "stderr",
     "output_type": "stream",
     "text": [
      "/opt/anaconda3/lib/python3.9/site-packages/cca_zoo/models/iterative.py:106: UserWarning: Inner loop 0 not converged. Increase number of iterations.\n",
      "  warnings.warn(\n"
     ]
    },
    {
     "name": "stdout",
     "output_type": "stream",
     "text": [
      "params: 0.1, 0.1, 0.75\n",
      "CCA score (train): 0.2968682694455729\n",
      "CCA score (test): 0.13047059043252673\n"
     ]
    },
    {
     "name": "stderr",
     "output_type": "stream",
     "text": [
      "/opt/anaconda3/lib/python3.9/site-packages/cca_zoo/models/iterative.py:106: UserWarning: Inner loop 0 not converged. Increase number of iterations.\n",
      "  warnings.warn(\n"
     ]
    },
    {
     "name": "stdout",
     "output_type": "stream",
     "text": [
      "params: 0.1, 0.3, 0.25\n",
      "CCA score (train): 0.3186557853224201\n",
      "CCA score (test): 0.18362127730160926\n"
     ]
    },
    {
     "name": "stderr",
     "output_type": "stream",
     "text": [
      "/opt/anaconda3/lib/python3.9/site-packages/cca_zoo/models/iterative.py:106: UserWarning: Inner loop 0 not converged. Increase number of iterations.\n",
      "  warnings.warn(\n"
     ]
    },
    {
     "name": "stdout",
     "output_type": "stream",
     "text": [
      "params: 0.1, 0.3, 0.5\n",
      "CCA score (train): 0.1067358208702407\n",
      "CCA score (test): 0.04208050671691099\n"
     ]
    },
    {
     "name": "stderr",
     "output_type": "stream",
     "text": [
      "/opt/anaconda3/lib/python3.9/site-packages/cca_zoo/models/iterative.py:122: RuntimeWarning: invalid value encountered in true_divide\n",
      "  - np.outer(score, score) @ residual / np.dot(score, score).item()\n"
     ]
    },
    {
     "name": "stdout",
     "output_type": "stream",
     "text": [
      "params: 0.1, 0.3, 0.75\n"
     ]
    },
    {
     "name": "stderr",
     "output_type": "stream",
     "text": [
      "/opt/anaconda3/lib/python3.9/site-packages/numpy/lib/function_base.py:2642: RuntimeWarning: invalid value encountered in true_divide\n",
      "  c /= stddev[:, None]\n",
      "/opt/anaconda3/lib/python3.9/site-packages/numpy/lib/function_base.py:2643: RuntimeWarning: invalid value encountered in true_divide\n",
      "  c /= stddev[None, :]\n",
      "/opt/anaconda3/lib/python3.9/site-packages/numpy/lib/function_base.py:2642: RuntimeWarning: invalid value encountered in true_divide\n",
      "  c /= stddev[:, None]\n",
      "/opt/anaconda3/lib/python3.9/site-packages/numpy/lib/function_base.py:2643: RuntimeWarning: invalid value encountered in true_divide\n",
      "  c /= stddev[None, :]\n"
     ]
    },
    {
     "name": "stdout",
     "output_type": "stream",
     "text": [
      "CCA score (train): nan\n",
      "CCA score (test): nan\n",
      "/Users/marshlab2/Desktop/OCS_bigdata_ML_local/FINAL/replication/data/PartitionsEnCCA/partitions2_rep01fold5.csv\n",
      "<class 'numpy.ndarray'>\n",
      "(2632, 1)\n",
      "(2632, 8)\n",
      "(2632, 7095)\n",
      "(294, 8)\n",
      "(294, 7095)\n"
     ]
    },
    {
     "name": "stderr",
     "output_type": "stream",
     "text": [
      "/opt/anaconda3/lib/python3.9/site-packages/cca_zoo/models/iterative.py:106: UserWarning: Inner loop 0 not converged. Increase number of iterations.\n",
      "  warnings.warn(\n"
     ]
    },
    {
     "name": "stdout",
     "output_type": "stream",
     "text": [
      "params: 0.001, 0.01, 0.25\n",
      "CCA score (train): 0.97856940399684\n",
      "CCA score (test): -0.08295447475955364\n"
     ]
    },
    {
     "name": "stderr",
     "output_type": "stream",
     "text": [
      "/opt/anaconda3/lib/python3.9/site-packages/cca_zoo/models/iterative.py:106: UserWarning: Inner loop 0 not converged. Increase number of iterations.\n",
      "  warnings.warn(\n"
     ]
    },
    {
     "name": "stdout",
     "output_type": "stream",
     "text": [
      "params: 0.001, 0.01, 0.5\n",
      "CCA score (train): 0.94952769827646\n",
      "CCA score (test): -0.04650107080134935\n"
     ]
    },
    {
     "name": "stderr",
     "output_type": "stream",
     "text": [
      "/opt/anaconda3/lib/python3.9/site-packages/cca_zoo/models/iterative.py:106: UserWarning: Inner loop 0 not converged. Increase number of iterations.\n",
      "  warnings.warn(\n"
     ]
    },
    {
     "name": "stdout",
     "output_type": "stream",
     "text": [
      "params: 0.001, 0.01, 0.75\n",
      "CCA score (train): 0.9161132209455736\n",
      "CCA score (test): -0.044444145475542096\n"
     ]
    },
    {
     "name": "stderr",
     "output_type": "stream",
     "text": [
      "/opt/anaconda3/lib/python3.9/site-packages/cca_zoo/models/iterative.py:106: UserWarning: Inner loop 0 not converged. Increase number of iterations.\n",
      "  warnings.warn(\n"
     ]
    },
    {
     "name": "stdout",
     "output_type": "stream",
     "text": [
      "params: 0.001, 0.1, 0.25\n",
      "CCA score (train): 0.6976560387333652\n",
      "CCA score (test): -0.038268688345697854\n"
     ]
    },
    {
     "name": "stderr",
     "output_type": "stream",
     "text": [
      "/opt/anaconda3/lib/python3.9/site-packages/cca_zoo/models/iterative.py:106: UserWarning: Inner loop 0 not converged. Increase number of iterations.\n",
      "  warnings.warn(\n"
     ]
    },
    {
     "name": "stdout",
     "output_type": "stream",
     "text": [
      "params: 0.001, 0.1, 0.5\n",
      "CCA score (train): 0.48132423557656256\n",
      "CCA score (test): -0.01601070412475325\n"
     ]
    },
    {
     "name": "stderr",
     "output_type": "stream",
     "text": [
      "/opt/anaconda3/lib/python3.9/site-packages/cca_zoo/models/iterative.py:106: UserWarning: Inner loop 0 not converged. Increase number of iterations.\n",
      "  warnings.warn(\n"
     ]
    },
    {
     "name": "stdout",
     "output_type": "stream",
     "text": [
      "params: 0.001, 0.1, 0.75\n",
      "CCA score (train): 0.34728837354873754\n",
      "CCA score (test): -0.011834264616307877\n"
     ]
    },
    {
     "name": "stderr",
     "output_type": "stream",
     "text": [
      "/opt/anaconda3/lib/python3.9/site-packages/cca_zoo/models/iterative.py:106: UserWarning: Inner loop 0 not converged. Increase number of iterations.\n",
      "  warnings.warn(\n"
     ]
    },
    {
     "name": "stdout",
     "output_type": "stream",
     "text": [
      "params: 0.001, 0.3, 0.25\n",
      "CCA score (train): 0.3549899234521019\n",
      "CCA score (test): -0.025841025464140688\n"
     ]
    },
    {
     "name": "stderr",
     "output_type": "stream",
     "text": [
      "/opt/anaconda3/lib/python3.9/site-packages/cca_zoo/models/iterative.py:106: UserWarning: Inner loop 0 not converged. Increase number of iterations.\n",
      "  warnings.warn(\n"
     ]
    },
    {
     "name": "stdout",
     "output_type": "stream",
     "text": [
      "params: 0.001, 0.3, 0.5\n",
      "CCA score (train): 0.14673030253518693\n",
      "CCA score (test): -0.05522051100615022\n"
     ]
    },
    {
     "name": "stderr",
     "output_type": "stream",
     "text": [
      "/opt/anaconda3/lib/python3.9/site-packages/cca_zoo/models/iterative.py:122: RuntimeWarning: invalid value encountered in true_divide\n",
      "  - np.outer(score, score) @ residual / np.dot(score, score).item()\n",
      "/opt/anaconda3/lib/python3.9/site-packages/cca_zoo/models/iterative.py:106: UserWarning: Inner loop 0 not converged. Increase number of iterations.\n",
      "  warnings.warn(\n"
     ]
    },
    {
     "name": "stdout",
     "output_type": "stream",
     "text": [
      "params: 0.001, 0.3, 0.75\n"
     ]
    },
    {
     "name": "stderr",
     "output_type": "stream",
     "text": [
      "/opt/anaconda3/lib/python3.9/site-packages/numpy/lib/function_base.py:2642: RuntimeWarning: invalid value encountered in true_divide\n",
      "  c /= stddev[:, None]\n",
      "/opt/anaconda3/lib/python3.9/site-packages/numpy/lib/function_base.py:2643: RuntimeWarning: invalid value encountered in true_divide\n",
      "  c /= stddev[None, :]\n",
      "/opt/anaconda3/lib/python3.9/site-packages/numpy/lib/function_base.py:2642: RuntimeWarning: invalid value encountered in true_divide\n",
      "  c /= stddev[:, None]\n",
      "/opt/anaconda3/lib/python3.9/site-packages/numpy/lib/function_base.py:2643: RuntimeWarning: invalid value encountered in true_divide\n",
      "  c /= stddev[None, :]\n"
     ]
    },
    {
     "name": "stdout",
     "output_type": "stream",
     "text": [
      "CCA score (train): nan\n",
      "CCA score (test): nan\n"
     ]
    },
    {
     "name": "stderr",
     "output_type": "stream",
     "text": [
      "/opt/anaconda3/lib/python3.9/site-packages/cca_zoo/models/iterative.py:106: UserWarning: Inner loop 0 not converged. Increase number of iterations.\n",
      "  warnings.warn(\n"
     ]
    },
    {
     "name": "stdout",
     "output_type": "stream",
     "text": [
      "params: 0.01, 0.01, 0.25\n",
      "CCA score (train): 0.9784963322689844\n",
      "CCA score (test): -0.07688212209632983\n"
     ]
    },
    {
     "name": "stderr",
     "output_type": "stream",
     "text": [
      "/opt/anaconda3/lib/python3.9/site-packages/cca_zoo/models/iterative.py:106: UserWarning: Inner loop 0 not converged. Increase number of iterations.\n",
      "  warnings.warn(\n"
     ]
    },
    {
     "name": "stdout",
     "output_type": "stream",
     "text": [
      "params: 0.01, 0.01, 0.5\n",
      "CCA score (train): 0.948520059613116\n",
      "CCA score (test): -0.053268967388458766\n"
     ]
    },
    {
     "name": "stderr",
     "output_type": "stream",
     "text": [
      "/opt/anaconda3/lib/python3.9/site-packages/cca_zoo/models/iterative.py:106: UserWarning: Inner loop 0 not converged. Increase number of iterations.\n",
      "  warnings.warn(\n"
     ]
    },
    {
     "name": "stdout",
     "output_type": "stream",
     "text": [
      "params: 0.01, 0.01, 0.75\n",
      "CCA score (train): 0.9144679899377302\n",
      "CCA score (test): -0.043755098519970836\n"
     ]
    },
    {
     "name": "stderr",
     "output_type": "stream",
     "text": [
      "/opt/anaconda3/lib/python3.9/site-packages/cca_zoo/models/iterative.py:106: UserWarning: Inner loop 0 not converged. Increase number of iterations.\n",
      "  warnings.warn(\n"
     ]
    },
    {
     "name": "stdout",
     "output_type": "stream",
     "text": [
      "params: 0.01, 0.1, 0.25\n",
      "CCA score (train): 0.6947464412078634\n",
      "CCA score (test): -0.04433964313294925\n"
     ]
    },
    {
     "name": "stderr",
     "output_type": "stream",
     "text": [
      "/opt/anaconda3/lib/python3.9/site-packages/cca_zoo/models/iterative.py:106: UserWarning: Inner loop 0 not converged. Increase number of iterations.\n",
      "  warnings.warn(\n"
     ]
    },
    {
     "name": "stdout",
     "output_type": "stream",
     "text": [
      "params: 0.01, 0.1, 0.5\n",
      "CCA score (train): 0.48158823821327146\n",
      "CCA score (test): -0.016181957370725142\n"
     ]
    },
    {
     "name": "stderr",
     "output_type": "stream",
     "text": [
      "/opt/anaconda3/lib/python3.9/site-packages/cca_zoo/models/iterative.py:106: UserWarning: Inner loop 0 not converged. Increase number of iterations.\n",
      "  warnings.warn(\n"
     ]
    },
    {
     "name": "stdout",
     "output_type": "stream",
     "text": [
      "params: 0.01, 0.1, 0.75\n",
      "CCA score (train): 0.34387079501185225\n",
      "CCA score (test): 0.0035721002999031803\n"
     ]
    },
    {
     "name": "stderr",
     "output_type": "stream",
     "text": [
      "/opt/anaconda3/lib/python3.9/site-packages/cca_zoo/models/iterative.py:106: UserWarning: Inner loop 0 not converged. Increase number of iterations.\n",
      "  warnings.warn(\n"
     ]
    },
    {
     "name": "stdout",
     "output_type": "stream",
     "text": [
      "params: 0.01, 0.3, 0.25\n",
      "CCA score (train): 0.3544870631987185\n",
      "CCA score (test): -0.021927783836182657\n"
     ]
    },
    {
     "name": "stderr",
     "output_type": "stream",
     "text": [
      "/opt/anaconda3/lib/python3.9/site-packages/cca_zoo/models/iterative.py:106: UserWarning: Inner loop 0 not converged. Increase number of iterations.\n",
      "  warnings.warn(\n"
     ]
    },
    {
     "name": "stdout",
     "output_type": "stream",
     "text": [
      "params: 0.01, 0.3, 0.5\n",
      "CCA score (train): 0.1453700690125035\n",
      "CCA score (test): -0.047638267824613334\n"
     ]
    },
    {
     "name": "stderr",
     "output_type": "stream",
     "text": [
      "/opt/anaconda3/lib/python3.9/site-packages/cca_zoo/models/iterative.py:122: RuntimeWarning: invalid value encountered in true_divide\n",
      "  - np.outer(score, score) @ residual / np.dot(score, score).item()\n",
      "/opt/anaconda3/lib/python3.9/site-packages/cca_zoo/models/iterative.py:106: UserWarning: Inner loop 0 not converged. Increase number of iterations.\n",
      "  warnings.warn(\n"
     ]
    },
    {
     "name": "stdout",
     "output_type": "stream",
     "text": [
      "params: 0.01, 0.3, 0.75\n"
     ]
    },
    {
     "name": "stderr",
     "output_type": "stream",
     "text": [
      "/opt/anaconda3/lib/python3.9/site-packages/numpy/lib/function_base.py:2642: RuntimeWarning: invalid value encountered in true_divide\n",
      "  c /= stddev[:, None]\n",
      "/opt/anaconda3/lib/python3.9/site-packages/numpy/lib/function_base.py:2643: RuntimeWarning: invalid value encountered in true_divide\n",
      "  c /= stddev[None, :]\n",
      "/opt/anaconda3/lib/python3.9/site-packages/numpy/lib/function_base.py:2642: RuntimeWarning: invalid value encountered in true_divide\n",
      "  c /= stddev[:, None]\n",
      "/opt/anaconda3/lib/python3.9/site-packages/numpy/lib/function_base.py:2643: RuntimeWarning: invalid value encountered in true_divide\n",
      "  c /= stddev[None, :]\n"
     ]
    },
    {
     "name": "stdout",
     "output_type": "stream",
     "text": [
      "CCA score (train): nan\n",
      "CCA score (test): nan\n"
     ]
    },
    {
     "name": "stderr",
     "output_type": "stream",
     "text": [
      "/opt/anaconda3/lib/python3.9/site-packages/cca_zoo/models/iterative.py:106: UserWarning: Inner loop 0 not converged. Increase number of iterations.\n",
      "  warnings.warn(\n"
     ]
    },
    {
     "name": "stdout",
     "output_type": "stream",
     "text": [
      "params: 0.1, 0.01, 0.25\n",
      "CCA score (train): 0.9776931276314109\n",
      "CCA score (test): -0.047209645398683886\n"
     ]
    },
    {
     "name": "stderr",
     "output_type": "stream",
     "text": [
      "/opt/anaconda3/lib/python3.9/site-packages/cca_zoo/models/iterative.py:106: UserWarning: Inner loop 0 not converged. Increase number of iterations.\n",
      "  warnings.warn(\n"
     ]
    },
    {
     "name": "stdout",
     "output_type": "stream",
     "text": [
      "params: 0.1, 0.01, 0.5\n",
      "CCA score (train): 0.9478703776669675\n",
      "CCA score (test): -0.02274765094711051\n"
     ]
    },
    {
     "name": "stderr",
     "output_type": "stream",
     "text": [
      "/opt/anaconda3/lib/python3.9/site-packages/cca_zoo/models/iterative.py:106: UserWarning: Inner loop 0 not converged. Increase number of iterations.\n",
      "  warnings.warn(\n"
     ]
    },
    {
     "name": "stdout",
     "output_type": "stream",
     "text": [
      "params: 0.1, 0.01, 0.75\n",
      "CCA score (train): 0.913031506990134\n",
      "CCA score (test): -0.019585748471934616\n"
     ]
    },
    {
     "name": "stderr",
     "output_type": "stream",
     "text": [
      "/opt/anaconda3/lib/python3.9/site-packages/cca_zoo/models/iterative.py:106: UserWarning: Inner loop 0 not converged. Increase number of iterations.\n",
      "  warnings.warn(\n"
     ]
    },
    {
     "name": "stdout",
     "output_type": "stream",
     "text": [
      "params: 0.1, 0.1, 0.25\n",
      "CCA score (train): 0.6897467048161245\n",
      "CCA score (test): -0.017153749042968403\n"
     ]
    },
    {
     "name": "stderr",
     "output_type": "stream",
     "text": [
      "/opt/anaconda3/lib/python3.9/site-packages/cca_zoo/models/iterative.py:106: UserWarning: Inner loop 0 not converged. Increase number of iterations.\n",
      "  warnings.warn(\n"
     ]
    },
    {
     "name": "stdout",
     "output_type": "stream",
     "text": [
      "params: 0.1, 0.1, 0.5\n",
      "CCA score (train): 0.4657772648392089\n",
      "CCA score (test): 0.051615062135435874\n"
     ]
    },
    {
     "name": "stderr",
     "output_type": "stream",
     "text": [
      "/opt/anaconda3/lib/python3.9/site-packages/cca_zoo/models/iterative.py:106: UserWarning: Inner loop 0 not converged. Increase number of iterations.\n",
      "  warnings.warn(\n"
     ]
    },
    {
     "name": "stdout",
     "output_type": "stream",
     "text": [
      "params: 0.1, 0.1, 0.75\n",
      "CCA score (train): 0.30292678039642373\n",
      "CCA score (test): 0.017954605857058548\n"
     ]
    },
    {
     "name": "stderr",
     "output_type": "stream",
     "text": [
      "/opt/anaconda3/lib/python3.9/site-packages/cca_zoo/models/iterative.py:106: UserWarning: Inner loop 0 not converged. Increase number of iterations.\n",
      "  warnings.warn(\n"
     ]
    },
    {
     "name": "stdout",
     "output_type": "stream",
     "text": [
      "params: 0.1, 0.3, 0.25\n",
      "CCA score (train): 0.3440128520447563\n",
      "CCA score (test): 0.008354720936031512\n"
     ]
    },
    {
     "name": "stderr",
     "output_type": "stream",
     "text": [
      "/opt/anaconda3/lib/python3.9/site-packages/cca_zoo/models/iterative.py:106: UserWarning: Inner loop 0 not converged. Increase number of iterations.\n",
      "  warnings.warn(\n"
     ]
    },
    {
     "name": "stdout",
     "output_type": "stream",
     "text": [
      "params: 0.1, 0.3, 0.5\n",
      "CCA score (train): 0.14287623958337003\n",
      "CCA score (test): -0.02945444223210658\n"
     ]
    },
    {
     "name": "stderr",
     "output_type": "stream",
     "text": [
      "/opt/anaconda3/lib/python3.9/site-packages/cca_zoo/models/iterative.py:122: RuntimeWarning: invalid value encountered in true_divide\n",
      "  - np.outer(score, score) @ residual / np.dot(score, score).item()\n"
     ]
    },
    {
     "name": "stdout",
     "output_type": "stream",
     "text": [
      "params: 0.1, 0.3, 0.75\n"
     ]
    },
    {
     "name": "stderr",
     "output_type": "stream",
     "text": [
      "/opt/anaconda3/lib/python3.9/site-packages/numpy/lib/function_base.py:2642: RuntimeWarning: invalid value encountered in true_divide\n",
      "  c /= stddev[:, None]\n",
      "/opt/anaconda3/lib/python3.9/site-packages/numpy/lib/function_base.py:2643: RuntimeWarning: invalid value encountered in true_divide\n",
      "  c /= stddev[None, :]\n",
      "/opt/anaconda3/lib/python3.9/site-packages/numpy/lib/function_base.py:2642: RuntimeWarning: invalid value encountered in true_divide\n",
      "  c /= stddev[:, None]\n",
      "/opt/anaconda3/lib/python3.9/site-packages/numpy/lib/function_base.py:2643: RuntimeWarning: invalid value encountered in true_divide\n",
      "  c /= stddev[None, :]\n"
     ]
    },
    {
     "name": "stdout",
     "output_type": "stream",
     "text": [
      "CCA score (train): nan\n",
      "CCA score (test): nan\n",
      "/Users/marshlab2/Desktop/OCS_bigdata_ML_local/FINAL/replication/data/PartitionsEnCCA/partitions2_rep01fold6.csv\n",
      "<class 'numpy.ndarray'>\n",
      "(2634, 1)\n",
      "(2634, 8)\n",
      "(2634, 7095)\n",
      "(292, 8)\n",
      "(292, 7095)\n"
     ]
    },
    {
     "name": "stderr",
     "output_type": "stream",
     "text": [
      "/opt/anaconda3/lib/python3.9/site-packages/cca_zoo/models/iterative.py:106: UserWarning: Inner loop 0 not converged. Increase number of iterations.\n",
      "  warnings.warn(\n"
     ]
    },
    {
     "name": "stdout",
     "output_type": "stream",
     "text": [
      "params: 0.001, 0.01, 0.25\n",
      "CCA score (train): 0.9814665660232444\n",
      "CCA score (test): -0.05539614164831119\n"
     ]
    },
    {
     "name": "stderr",
     "output_type": "stream",
     "text": [
      "/opt/anaconda3/lib/python3.9/site-packages/cca_zoo/models/iterative.py:106: UserWarning: Inner loop 0 not converged. Increase number of iterations.\n",
      "  warnings.warn(\n"
     ]
    },
    {
     "name": "stdout",
     "output_type": "stream",
     "text": [
      "params: 0.001, 0.01, 0.5\n",
      "CCA score (train): 0.9536111522888839\n",
      "CCA score (test): -0.07239521516257497\n"
     ]
    },
    {
     "name": "stderr",
     "output_type": "stream",
     "text": [
      "/opt/anaconda3/lib/python3.9/site-packages/cca_zoo/models/iterative.py:106: UserWarning: Inner loop 0 not converged. Increase number of iterations.\n",
      "  warnings.warn(\n"
     ]
    },
    {
     "name": "stdout",
     "output_type": "stream",
     "text": [
      "params: 0.001, 0.01, 0.75\n",
      "CCA score (train): 0.9240316978975884\n",
      "CCA score (test): -0.08271533565088984\n"
     ]
    },
    {
     "name": "stderr",
     "output_type": "stream",
     "text": [
      "/opt/anaconda3/lib/python3.9/site-packages/cca_zoo/models/iterative.py:106: UserWarning: Inner loop 0 not converged. Increase number of iterations.\n",
      "  warnings.warn(\n"
     ]
    },
    {
     "name": "stdout",
     "output_type": "stream",
     "text": [
      "params: 0.001, 0.1, 0.25\n",
      "CCA score (train): 0.7095496833109345\n",
      "CCA score (test): -0.062383884203463746\n"
     ]
    },
    {
     "name": "stderr",
     "output_type": "stream",
     "text": [
      "/opt/anaconda3/lib/python3.9/site-packages/cca_zoo/models/iterative.py:106: UserWarning: Inner loop 0 not converged. Increase number of iterations.\n",
      "  warnings.warn(\n"
     ]
    },
    {
     "name": "stdout",
     "output_type": "stream",
     "text": [
      "params: 0.001, 0.1, 0.5\n",
      "CCA score (train): 0.4774815211372514\n",
      "CCA score (test): -0.016522028305543834\n"
     ]
    },
    {
     "name": "stderr",
     "output_type": "stream",
     "text": [
      "/opt/anaconda3/lib/python3.9/site-packages/cca_zoo/models/iterative.py:106: UserWarning: Inner loop 0 not converged. Increase number of iterations.\n",
      "  warnings.warn(\n"
     ]
    },
    {
     "name": "stdout",
     "output_type": "stream",
     "text": [
      "params: 0.001, 0.1, 0.75\n",
      "CCA score (train): 0.32384506385794065\n",
      "CCA score (test): 0.043710058163272336\n"
     ]
    },
    {
     "name": "stderr",
     "output_type": "stream",
     "text": [
      "/opt/anaconda3/lib/python3.9/site-packages/cca_zoo/models/iterative.py:106: UserWarning: Inner loop 0 not converged. Increase number of iterations.\n",
      "  warnings.warn(\n"
     ]
    },
    {
     "name": "stdout",
     "output_type": "stream",
     "text": [
      "params: 0.001, 0.3, 0.25\n",
      "CCA score (train): 0.33337344578640216\n",
      "CCA score (test): 0.043807698676091134\n"
     ]
    },
    {
     "name": "stderr",
     "output_type": "stream",
     "text": [
      "/opt/anaconda3/lib/python3.9/site-packages/cca_zoo/models/iterative.py:106: UserWarning: Inner loop 0 not converged. Increase number of iterations.\n",
      "  warnings.warn(\n"
     ]
    },
    {
     "name": "stdout",
     "output_type": "stream",
     "text": [
      "params: 0.001, 0.3, 0.5\n",
      "CCA score (train): 0.1428332076623513\n",
      "CCA score (test): 0.02429490655255151\n"
     ]
    },
    {
     "name": "stderr",
     "output_type": "stream",
     "text": [
      "/opt/anaconda3/lib/python3.9/site-packages/cca_zoo/models/iterative.py:122: RuntimeWarning: invalid value encountered in true_divide\n",
      "  - np.outer(score, score) @ residual / np.dot(score, score).item()\n",
      "/opt/anaconda3/lib/python3.9/site-packages/cca_zoo/models/iterative.py:106: UserWarning: Inner loop 0 not converged. Increase number of iterations.\n",
      "  warnings.warn(\n"
     ]
    },
    {
     "name": "stdout",
     "output_type": "stream",
     "text": [
      "params: 0.001, 0.3, 0.75\n"
     ]
    },
    {
     "name": "stderr",
     "output_type": "stream",
     "text": [
      "/opt/anaconda3/lib/python3.9/site-packages/numpy/lib/function_base.py:2642: RuntimeWarning: invalid value encountered in true_divide\n",
      "  c /= stddev[:, None]\n",
      "/opt/anaconda3/lib/python3.9/site-packages/numpy/lib/function_base.py:2643: RuntimeWarning: invalid value encountered in true_divide\n",
      "  c /= stddev[None, :]\n",
      "/opt/anaconda3/lib/python3.9/site-packages/numpy/lib/function_base.py:2642: RuntimeWarning: invalid value encountered in true_divide\n",
      "  c /= stddev[:, None]\n",
      "/opt/anaconda3/lib/python3.9/site-packages/numpy/lib/function_base.py:2643: RuntimeWarning: invalid value encountered in true_divide\n",
      "  c /= stddev[None, :]\n"
     ]
    },
    {
     "name": "stdout",
     "output_type": "stream",
     "text": [
      "CCA score (train): nan\n",
      "CCA score (test): nan\n"
     ]
    },
    {
     "name": "stderr",
     "output_type": "stream",
     "text": [
      "/opt/anaconda3/lib/python3.9/site-packages/cca_zoo/models/iterative.py:106: UserWarning: Inner loop 0 not converged. Increase number of iterations.\n",
      "  warnings.warn(\n"
     ]
    },
    {
     "name": "stdout",
     "output_type": "stream",
     "text": [
      "params: 0.01, 0.01, 0.25\n",
      "CCA score (train): 0.9813425762147816\n",
      "CCA score (test): -0.05595131228002925\n"
     ]
    },
    {
     "name": "stderr",
     "output_type": "stream",
     "text": [
      "/opt/anaconda3/lib/python3.9/site-packages/cca_zoo/models/iterative.py:106: UserWarning: Inner loop 0 not converged. Increase number of iterations.\n",
      "  warnings.warn(\n"
     ]
    },
    {
     "name": "stdout",
     "output_type": "stream",
     "text": [
      "params: 0.01, 0.01, 0.5\n",
      "CCA score (train): 0.9535799965241158\n",
      "CCA score (test): -0.0676051248861097\n"
     ]
    },
    {
     "name": "stderr",
     "output_type": "stream",
     "text": [
      "/opt/anaconda3/lib/python3.9/site-packages/cca_zoo/models/iterative.py:106: UserWarning: Inner loop 0 not converged. Increase number of iterations.\n",
      "  warnings.warn(\n"
     ]
    },
    {
     "name": "stdout",
     "output_type": "stream",
     "text": [
      "params: 0.01, 0.01, 0.75\n",
      "CCA score (train): 0.9231236447265139\n",
      "CCA score (test): -0.06893173661697527\n"
     ]
    },
    {
     "name": "stderr",
     "output_type": "stream",
     "text": [
      "/opt/anaconda3/lib/python3.9/site-packages/cca_zoo/models/iterative.py:106: UserWarning: Inner loop 0 not converged. Increase number of iterations.\n",
      "  warnings.warn(\n"
     ]
    },
    {
     "name": "stdout",
     "output_type": "stream",
     "text": [
      "params: 0.01, 0.1, 0.25\n",
      "CCA score (train): 0.7060968786024646\n",
      "CCA score (test): -0.0478993722447949\n"
     ]
    },
    {
     "name": "stderr",
     "output_type": "stream",
     "text": [
      "/opt/anaconda3/lib/python3.9/site-packages/cca_zoo/models/iterative.py:106: UserWarning: Inner loop 0 not converged. Increase number of iterations.\n",
      "  warnings.warn(\n"
     ]
    },
    {
     "name": "stdout",
     "output_type": "stream",
     "text": [
      "params: 0.01, 0.1, 0.5\n",
      "CCA score (train): 0.4749881280666013\n",
      "CCA score (test): -0.010703355020857175\n"
     ]
    },
    {
     "name": "stderr",
     "output_type": "stream",
     "text": [
      "/opt/anaconda3/lib/python3.9/site-packages/cca_zoo/models/iterative.py:106: UserWarning: Inner loop 0 not converged. Increase number of iterations.\n",
      "  warnings.warn(\n"
     ]
    },
    {
     "name": "stdout",
     "output_type": "stream",
     "text": [
      "params: 0.01, 0.1, 0.75\n",
      "CCA score (train): 0.3262692638299116\n",
      "CCA score (test): 0.03590107659726405\n"
     ]
    },
    {
     "name": "stderr",
     "output_type": "stream",
     "text": [
      "/opt/anaconda3/lib/python3.9/site-packages/cca_zoo/models/iterative.py:106: UserWarning: Inner loop 0 not converged. Increase number of iterations.\n",
      "  warnings.warn(\n"
     ]
    },
    {
     "name": "stdout",
     "output_type": "stream",
     "text": [
      "params: 0.01, 0.3, 0.25\n",
      "CCA score (train): 0.3323333658560106\n",
      "CCA score (test): 0.044465111246786204\n"
     ]
    },
    {
     "name": "stderr",
     "output_type": "stream",
     "text": [
      "/opt/anaconda3/lib/python3.9/site-packages/cca_zoo/models/iterative.py:106: UserWarning: Inner loop 0 not converged. Increase number of iterations.\n",
      "  warnings.warn(\n"
     ]
    },
    {
     "name": "stdout",
     "output_type": "stream",
     "text": [
      "params: 0.01, 0.3, 0.5\n",
      "CCA score (train): 0.14254587409401354\n",
      "CCA score (test): 0.026098237945965108\n"
     ]
    },
    {
     "name": "stderr",
     "output_type": "stream",
     "text": [
      "/opt/anaconda3/lib/python3.9/site-packages/cca_zoo/models/iterative.py:122: RuntimeWarning: invalid value encountered in true_divide\n",
      "  - np.outer(score, score) @ residual / np.dot(score, score).item()\n",
      "/opt/anaconda3/lib/python3.9/site-packages/cca_zoo/models/iterative.py:106: UserWarning: Inner loop 0 not converged. Increase number of iterations.\n",
      "  warnings.warn(\n"
     ]
    },
    {
     "name": "stdout",
     "output_type": "stream",
     "text": [
      "params: 0.01, 0.3, 0.75\n"
     ]
    },
    {
     "name": "stderr",
     "output_type": "stream",
     "text": [
      "/opt/anaconda3/lib/python3.9/site-packages/numpy/lib/function_base.py:2642: RuntimeWarning: invalid value encountered in true_divide\n",
      "  c /= stddev[:, None]\n",
      "/opt/anaconda3/lib/python3.9/site-packages/numpy/lib/function_base.py:2643: RuntimeWarning: invalid value encountered in true_divide\n",
      "  c /= stddev[None, :]\n",
      "/opt/anaconda3/lib/python3.9/site-packages/numpy/lib/function_base.py:2642: RuntimeWarning: invalid value encountered in true_divide\n",
      "  c /= stddev[:, None]\n",
      "/opt/anaconda3/lib/python3.9/site-packages/numpy/lib/function_base.py:2643: RuntimeWarning: invalid value encountered in true_divide\n",
      "  c /= stddev[None, :]\n"
     ]
    },
    {
     "name": "stdout",
     "output_type": "stream",
     "text": [
      "CCA score (train): nan\n",
      "CCA score (test): nan\n"
     ]
    },
    {
     "name": "stderr",
     "output_type": "stream",
     "text": [
      "/opt/anaconda3/lib/python3.9/site-packages/cca_zoo/models/iterative.py:106: UserWarning: Inner loop 0 not converged. Increase number of iterations.\n",
      "  warnings.warn(\n"
     ]
    },
    {
     "name": "stdout",
     "output_type": "stream",
     "text": [
      "params: 0.1, 0.01, 0.25\n",
      "CCA score (train): 0.9805351025759279\n",
      "CCA score (test): -0.06259598099487451\n"
     ]
    },
    {
     "name": "stderr",
     "output_type": "stream",
     "text": [
      "/opt/anaconda3/lib/python3.9/site-packages/cca_zoo/models/iterative.py:106: UserWarning: Inner loop 0 not converged. Increase number of iterations.\n",
      "  warnings.warn(\n"
     ]
    },
    {
     "name": "stdout",
     "output_type": "stream",
     "text": [
      "params: 0.1, 0.01, 0.5\n",
      "CCA score (train): 0.9517870111815794\n",
      "CCA score (test): -0.05820809067350852\n"
     ]
    },
    {
     "name": "stderr",
     "output_type": "stream",
     "text": [
      "/opt/anaconda3/lib/python3.9/site-packages/cca_zoo/models/iterative.py:106: UserWarning: Inner loop 0 not converged. Increase number of iterations.\n",
      "  warnings.warn(\n"
     ]
    },
    {
     "name": "stdout",
     "output_type": "stream",
     "text": [
      "params: 0.1, 0.01, 0.75\n",
      "CCA score (train): 0.9197465839718006\n",
      "CCA score (test): -0.03831503422811777\n"
     ]
    },
    {
     "name": "stderr",
     "output_type": "stream",
     "text": [
      "/opt/anaconda3/lib/python3.9/site-packages/cca_zoo/models/iterative.py:106: UserWarning: Inner loop 0 not converged. Increase number of iterations.\n",
      "  warnings.warn(\n"
     ]
    },
    {
     "name": "stdout",
     "output_type": "stream",
     "text": [
      "params: 0.1, 0.1, 0.25\n",
      "CCA score (train): 0.6964213094648095\n",
      "CCA score (test): -0.03668599990549248\n"
     ]
    },
    {
     "name": "stderr",
     "output_type": "stream",
     "text": [
      "/opt/anaconda3/lib/python3.9/site-packages/cca_zoo/models/iterative.py:106: UserWarning: Inner loop 0 not converged. Increase number of iterations.\n",
      "  warnings.warn(\n"
     ]
    },
    {
     "name": "stdout",
     "output_type": "stream",
     "text": [
      "params: 0.1, 0.1, 0.5\n",
      "CCA score (train): 0.4475927518706688\n",
      "CCA score (test): 0.050043387969679776\n"
     ]
    },
    {
     "name": "stderr",
     "output_type": "stream",
     "text": [
      "/opt/anaconda3/lib/python3.9/site-packages/cca_zoo/models/iterative.py:106: UserWarning: Inner loop 0 not converged. Increase number of iterations.\n",
      "  warnings.warn(\n"
     ]
    },
    {
     "name": "stdout",
     "output_type": "stream",
     "text": [
      "params: 0.1, 0.1, 0.75\n",
      "CCA score (train): 0.3129268940818952\n",
      "CCA score (test): 0.005782483175088338\n"
     ]
    },
    {
     "name": "stderr",
     "output_type": "stream",
     "text": [
      "/opt/anaconda3/lib/python3.9/site-packages/cca_zoo/models/iterative.py:106: UserWarning: Inner loop 0 not converged. Increase number of iterations.\n",
      "  warnings.warn(\n"
     ]
    },
    {
     "name": "stdout",
     "output_type": "stream",
     "text": [
      "params: 0.1, 0.3, 0.25\n",
      "CCA score (train): 0.32198205323111395\n",
      "CCA score (test): 0.04816228029067271\n"
     ]
    },
    {
     "name": "stderr",
     "output_type": "stream",
     "text": [
      "/opt/anaconda3/lib/python3.9/site-packages/cca_zoo/models/iterative.py:106: UserWarning: Inner loop 0 not converged. Increase number of iterations.\n",
      "  warnings.warn(\n"
     ]
    },
    {
     "name": "stdout",
     "output_type": "stream",
     "text": [
      "params: 0.1, 0.3, 0.5\n",
      "CCA score (train): 0.13499650421321974\n",
      "CCA score (test): 0.030736545779567193\n"
     ]
    },
    {
     "name": "stderr",
     "output_type": "stream",
     "text": [
      "/opt/anaconda3/lib/python3.9/site-packages/cca_zoo/models/iterative.py:122: RuntimeWarning: invalid value encountered in true_divide\n",
      "  - np.outer(score, score) @ residual / np.dot(score, score).item()\n"
     ]
    },
    {
     "name": "stdout",
     "output_type": "stream",
     "text": [
      "params: 0.1, 0.3, 0.75\n"
     ]
    },
    {
     "name": "stderr",
     "output_type": "stream",
     "text": [
      "/opt/anaconda3/lib/python3.9/site-packages/numpy/lib/function_base.py:2642: RuntimeWarning: invalid value encountered in true_divide\n",
      "  c /= stddev[:, None]\n",
      "/opt/anaconda3/lib/python3.9/site-packages/numpy/lib/function_base.py:2643: RuntimeWarning: invalid value encountered in true_divide\n",
      "  c /= stddev[None, :]\n",
      "/opt/anaconda3/lib/python3.9/site-packages/numpy/lib/function_base.py:2642: RuntimeWarning: invalid value encountered in true_divide\n",
      "  c /= stddev[:, None]\n",
      "/opt/anaconda3/lib/python3.9/site-packages/numpy/lib/function_base.py:2643: RuntimeWarning: invalid value encountered in true_divide\n",
      "  c /= stddev[None, :]\n"
     ]
    },
    {
     "name": "stdout",
     "output_type": "stream",
     "text": [
      "CCA score (train): nan\n",
      "CCA score (test): nan\n",
      "/Users/marshlab2/Desktop/OCS_bigdata_ML_local/FINAL/replication/data/PartitionsEnCCA/partitions2_rep01fold7.csv\n",
      "<class 'numpy.ndarray'>\n",
      "(2634, 1)\n",
      "(2634, 8)\n",
      "(2634, 7095)\n",
      "(292, 8)\n",
      "(292, 7095)\n"
     ]
    },
    {
     "name": "stderr",
     "output_type": "stream",
     "text": [
      "/opt/anaconda3/lib/python3.9/site-packages/cca_zoo/models/iterative.py:106: UserWarning: Inner loop 0 not converged. Increase number of iterations.\n",
      "  warnings.warn(\n"
     ]
    },
    {
     "name": "stdout",
     "output_type": "stream",
     "text": [
      "params: 0.001, 0.01, 0.25\n",
      "CCA score (train): 0.9814632985255374\n",
      "CCA score (test): -0.09276133656977759\n"
     ]
    },
    {
     "name": "stderr",
     "output_type": "stream",
     "text": [
      "/opt/anaconda3/lib/python3.9/site-packages/cca_zoo/models/iterative.py:106: UserWarning: Inner loop 0 not converged. Increase number of iterations.\n",
      "  warnings.warn(\n"
     ]
    },
    {
     "name": "stdout",
     "output_type": "stream",
     "text": [
      "params: 0.001, 0.01, 0.5\n",
      "CCA score (train): 0.9535246625516278\n",
      "CCA score (test): -0.1178886606458428\n"
     ]
    },
    {
     "name": "stderr",
     "output_type": "stream",
     "text": [
      "/opt/anaconda3/lib/python3.9/site-packages/cca_zoo/models/iterative.py:106: UserWarning: Inner loop 0 not converged. Increase number of iterations.\n",
      "  warnings.warn(\n"
     ]
    },
    {
     "name": "stdout",
     "output_type": "stream",
     "text": [
      "params: 0.001, 0.01, 0.75\n",
      "CCA score (train): 0.9216590925528825\n",
      "CCA score (test): -0.14049073305415627\n"
     ]
    },
    {
     "name": "stderr",
     "output_type": "stream",
     "text": [
      "/opt/anaconda3/lib/python3.9/site-packages/cca_zoo/models/iterative.py:106: UserWarning: Inner loop 0 not converged. Increase number of iterations.\n",
      "  warnings.warn(\n"
     ]
    },
    {
     "name": "stdout",
     "output_type": "stream",
     "text": [
      "params: 0.001, 0.1, 0.25\n",
      "CCA score (train): 0.7068391478873246\n",
      "CCA score (test): -0.1012030674008042\n"
     ]
    },
    {
     "name": "stderr",
     "output_type": "stream",
     "text": [
      "/opt/anaconda3/lib/python3.9/site-packages/cca_zoo/models/iterative.py:106: UserWarning: Inner loop 0 not converged. Increase number of iterations.\n",
      "  warnings.warn(\n"
     ]
    },
    {
     "name": "stdout",
     "output_type": "stream",
     "text": [
      "params: 0.001, 0.1, 0.5\n",
      "CCA score (train): 0.47066705425277533\n",
      "CCA score (test): 0.0001704860481179793\n"
     ]
    },
    {
     "name": "stderr",
     "output_type": "stream",
     "text": [
      "/opt/anaconda3/lib/python3.9/site-packages/cca_zoo/models/iterative.py:106: UserWarning: Inner loop 0 not converged. Increase number of iterations.\n",
      "  warnings.warn(\n"
     ]
    },
    {
     "name": "stdout",
     "output_type": "stream",
     "text": [
      "params: 0.001, 0.1, 0.75\n",
      "CCA score (train): 0.3404773821408593\n",
      "CCA score (test): -0.04291262147165564\n"
     ]
    },
    {
     "name": "stderr",
     "output_type": "stream",
     "text": [
      "/opt/anaconda3/lib/python3.9/site-packages/cca_zoo/models/iterative.py:106: UserWarning: Inner loop 0 not converged. Increase number of iterations.\n",
      "  warnings.warn(\n"
     ]
    },
    {
     "name": "stdout",
     "output_type": "stream",
     "text": [
      "params: 0.001, 0.3, 0.25\n",
      "CCA score (train): 0.3479383183483784\n",
      "CCA score (test): -0.033249420107354544\n"
     ]
    },
    {
     "name": "stderr",
     "output_type": "stream",
     "text": [
      "/opt/anaconda3/lib/python3.9/site-packages/cca_zoo/models/iterative.py:106: UserWarning: Inner loop 0 not converged. Increase number of iterations.\n",
      "  warnings.warn(\n"
     ]
    },
    {
     "name": "stdout",
     "output_type": "stream",
     "text": [
      "params: 0.001, 0.3, 0.5\n",
      "CCA score (train): 0.14710923539671383\n",
      "CCA score (test): 0.012498571514693246\n"
     ]
    },
    {
     "name": "stderr",
     "output_type": "stream",
     "text": [
      "/opt/anaconda3/lib/python3.9/site-packages/cca_zoo/models/iterative.py:122: RuntimeWarning: invalid value encountered in true_divide\n",
      "  - np.outer(score, score) @ residual / np.dot(score, score).item()\n",
      "/opt/anaconda3/lib/python3.9/site-packages/cca_zoo/models/iterative.py:106: UserWarning: Inner loop 0 not converged. Increase number of iterations.\n",
      "  warnings.warn(\n"
     ]
    },
    {
     "name": "stdout",
     "output_type": "stream",
     "text": [
      "params: 0.001, 0.3, 0.75\n"
     ]
    },
    {
     "name": "stderr",
     "output_type": "stream",
     "text": [
      "/opt/anaconda3/lib/python3.9/site-packages/numpy/lib/function_base.py:2642: RuntimeWarning: invalid value encountered in true_divide\n",
      "  c /= stddev[:, None]\n",
      "/opt/anaconda3/lib/python3.9/site-packages/numpy/lib/function_base.py:2643: RuntimeWarning: invalid value encountered in true_divide\n",
      "  c /= stddev[None, :]\n",
      "/opt/anaconda3/lib/python3.9/site-packages/numpy/lib/function_base.py:2642: RuntimeWarning: invalid value encountered in true_divide\n",
      "  c /= stddev[:, None]\n",
      "/opt/anaconda3/lib/python3.9/site-packages/numpy/lib/function_base.py:2643: RuntimeWarning: invalid value encountered in true_divide\n",
      "  c /= stddev[None, :]\n"
     ]
    },
    {
     "name": "stdout",
     "output_type": "stream",
     "text": [
      "CCA score (train): nan\n",
      "CCA score (test): nan\n"
     ]
    },
    {
     "name": "stderr",
     "output_type": "stream",
     "text": [
      "/opt/anaconda3/lib/python3.9/site-packages/cca_zoo/models/iterative.py:106: UserWarning: Inner loop 0 not converged. Increase number of iterations.\n",
      "  warnings.warn(\n"
     ]
    },
    {
     "name": "stdout",
     "output_type": "stream",
     "text": [
      "params: 0.01, 0.01, 0.25\n",
      "CCA score (train): 0.9814214070245342\n",
      "CCA score (test): -0.09518748492312112\n"
     ]
    },
    {
     "name": "stderr",
     "output_type": "stream",
     "text": [
      "/opt/anaconda3/lib/python3.9/site-packages/cca_zoo/models/iterative.py:106: UserWarning: Inner loop 0 not converged. Increase number of iterations.\n",
      "  warnings.warn(\n"
     ]
    },
    {
     "name": "stdout",
     "output_type": "stream",
     "text": [
      "params: 0.01, 0.01, 0.5\n",
      "CCA score (train): 0.9532541345457226\n",
      "CCA score (test): -0.12498664493604839\n"
     ]
    },
    {
     "name": "stderr",
     "output_type": "stream",
     "text": [
      "/opt/anaconda3/lib/python3.9/site-packages/cca_zoo/models/iterative.py:106: UserWarning: Inner loop 0 not converged. Increase number of iterations.\n",
      "  warnings.warn(\n"
     ]
    },
    {
     "name": "stdout",
     "output_type": "stream",
     "text": [
      "params: 0.01, 0.01, 0.75\n",
      "CCA score (train): 0.9207873313127757\n",
      "CCA score (test): -0.15137164932989478\n"
     ]
    },
    {
     "name": "stderr",
     "output_type": "stream",
     "text": [
      "/opt/anaconda3/lib/python3.9/site-packages/cca_zoo/models/iterative.py:106: UserWarning: Inner loop 0 not converged. Increase number of iterations.\n",
      "  warnings.warn(\n"
     ]
    },
    {
     "name": "stdout",
     "output_type": "stream",
     "text": [
      "params: 0.01, 0.1, 0.25\n",
      "CCA score (train): 0.7066536994705703\n",
      "CCA score (test): -0.10645325131849714\n"
     ]
    },
    {
     "name": "stderr",
     "output_type": "stream",
     "text": [
      "/opt/anaconda3/lib/python3.9/site-packages/cca_zoo/models/iterative.py:106: UserWarning: Inner loop 0 not converged. Increase number of iterations.\n",
      "  warnings.warn(\n"
     ]
    },
    {
     "name": "stdout",
     "output_type": "stream",
     "text": [
      "params: 0.01, 0.1, 0.5\n",
      "CCA score (train): 0.4689877964120408\n",
      "CCA score (test): -0.01373298838186976\n"
     ]
    },
    {
     "name": "stderr",
     "output_type": "stream",
     "text": [
      "/opt/anaconda3/lib/python3.9/site-packages/cca_zoo/models/iterative.py:106: UserWarning: Inner loop 0 not converged. Increase number of iterations.\n",
      "  warnings.warn(\n"
     ]
    },
    {
     "name": "stdout",
     "output_type": "stream",
     "text": [
      "params: 0.01, 0.1, 0.75\n",
      "CCA score (train): 0.33977234164870485\n",
      "CCA score (test): -0.047505613937792956\n"
     ]
    },
    {
     "name": "stderr",
     "output_type": "stream",
     "text": [
      "/opt/anaconda3/lib/python3.9/site-packages/cca_zoo/models/iterative.py:106: UserWarning: Inner loop 0 not converged. Increase number of iterations.\n",
      "  warnings.warn(\n"
     ]
    },
    {
     "name": "stdout",
     "output_type": "stream",
     "text": [
      "params: 0.01, 0.3, 0.25\n",
      "CCA score (train): 0.3478189875395472\n",
      "CCA score (test): -0.03542453199922735\n"
     ]
    },
    {
     "name": "stderr",
     "output_type": "stream",
     "text": [
      "/opt/anaconda3/lib/python3.9/site-packages/cca_zoo/models/iterative.py:106: UserWarning: Inner loop 0 not converged. Increase number of iterations.\n",
      "  warnings.warn(\n"
     ]
    },
    {
     "name": "stdout",
     "output_type": "stream",
     "text": [
      "params: 0.01, 0.3, 0.5\n",
      "CCA score (train): 0.14288700117443787\n",
      "CCA score (test): 0.017619701454306913\n"
     ]
    },
    {
     "name": "stderr",
     "output_type": "stream",
     "text": [
      "/opt/anaconda3/lib/python3.9/site-packages/cca_zoo/models/iterative.py:122: RuntimeWarning: invalid value encountered in true_divide\n",
      "  - np.outer(score, score) @ residual / np.dot(score, score).item()\n",
      "/opt/anaconda3/lib/python3.9/site-packages/cca_zoo/models/iterative.py:106: UserWarning: Inner loop 0 not converged. Increase number of iterations.\n",
      "  warnings.warn(\n"
     ]
    },
    {
     "name": "stdout",
     "output_type": "stream",
     "text": [
      "params: 0.01, 0.3, 0.75\n"
     ]
    },
    {
     "name": "stderr",
     "output_type": "stream",
     "text": [
      "/opt/anaconda3/lib/python3.9/site-packages/numpy/lib/function_base.py:2642: RuntimeWarning: invalid value encountered in true_divide\n",
      "  c /= stddev[:, None]\n",
      "/opt/anaconda3/lib/python3.9/site-packages/numpy/lib/function_base.py:2643: RuntimeWarning: invalid value encountered in true_divide\n",
      "  c /= stddev[None, :]\n",
      "/opt/anaconda3/lib/python3.9/site-packages/numpy/lib/function_base.py:2642: RuntimeWarning: invalid value encountered in true_divide\n",
      "  c /= stddev[:, None]\n",
      "/opt/anaconda3/lib/python3.9/site-packages/numpy/lib/function_base.py:2643: RuntimeWarning: invalid value encountered in true_divide\n",
      "  c /= stddev[None, :]\n"
     ]
    },
    {
     "name": "stdout",
     "output_type": "stream",
     "text": [
      "CCA score (train): nan\n",
      "CCA score (test): nan\n"
     ]
    },
    {
     "name": "stderr",
     "output_type": "stream",
     "text": [
      "/opt/anaconda3/lib/python3.9/site-packages/cca_zoo/models/iterative.py:106: UserWarning: Inner loop 0 not converged. Increase number of iterations.\n",
      "  warnings.warn(\n"
     ]
    },
    {
     "name": "stdout",
     "output_type": "stream",
     "text": [
      "params: 0.1, 0.01, 0.25\n",
      "CCA score (train): 0.9809097350945157\n",
      "CCA score (test): -0.09399976565014145\n"
     ]
    },
    {
     "name": "stderr",
     "output_type": "stream",
     "text": [
      "/opt/anaconda3/lib/python3.9/site-packages/cca_zoo/models/iterative.py:106: UserWarning: Inner loop 0 not converged. Increase number of iterations.\n",
      "  warnings.warn(\n"
     ]
    },
    {
     "name": "stdout",
     "output_type": "stream",
     "text": [
      "params: 0.1, 0.01, 0.5\n",
      "CCA score (train): 0.9500295656461495\n",
      "CCA score (test): -0.12386518286581882\n"
     ]
    },
    {
     "name": "stderr",
     "output_type": "stream",
     "text": [
      "/opt/anaconda3/lib/python3.9/site-packages/cca_zoo/models/iterative.py:106: UserWarning: Inner loop 0 not converged. Increase number of iterations.\n",
      "  warnings.warn(\n"
     ]
    },
    {
     "name": "stdout",
     "output_type": "stream",
     "text": [
      "params: 0.1, 0.01, 0.75\n",
      "CCA score (train): 0.9140486224798976\n",
      "CCA score (test): -0.11430617388691044\n"
     ]
    },
    {
     "name": "stderr",
     "output_type": "stream",
     "text": [
      "/opt/anaconda3/lib/python3.9/site-packages/cca_zoo/models/iterative.py:106: UserWarning: Inner loop 0 not converged. Increase number of iterations.\n",
      "  warnings.warn(\n"
     ]
    },
    {
     "name": "stdout",
     "output_type": "stream",
     "text": [
      "params: 0.1, 0.1, 0.25\n",
      "CCA score (train): 0.6984531340175306\n",
      "CCA score (test): -0.10561878155733939\n"
     ]
    },
    {
     "name": "stderr",
     "output_type": "stream",
     "text": [
      "/opt/anaconda3/lib/python3.9/site-packages/cca_zoo/models/iterative.py:106: UserWarning: Inner loop 0 not converged. Increase number of iterations.\n",
      "  warnings.warn(\n"
     ]
    },
    {
     "name": "stdout",
     "output_type": "stream",
     "text": [
      "params: 0.1, 0.1, 0.5\n",
      "CCA score (train): 0.46196505401503374\n",
      "CCA score (test): -0.020312896459925844\n"
     ]
    },
    {
     "name": "stderr",
     "output_type": "stream",
     "text": [
      "/opt/anaconda3/lib/python3.9/site-packages/cca_zoo/models/iterative.py:106: UserWarning: Inner loop 0 not converged. Increase number of iterations.\n",
      "  warnings.warn(\n"
     ]
    },
    {
     "name": "stdout",
     "output_type": "stream",
     "text": [
      "params: 0.1, 0.1, 0.75\n",
      "CCA score (train): 0.3142555855869107\n",
      "CCA score (test): -0.03842956855252544\n"
     ]
    },
    {
     "name": "stderr",
     "output_type": "stream",
     "text": [
      "/opt/anaconda3/lib/python3.9/site-packages/cca_zoo/models/iterative.py:106: UserWarning: Inner loop 0 not converged. Increase number of iterations.\n",
      "  warnings.warn(\n"
     ]
    },
    {
     "name": "stdout",
     "output_type": "stream",
     "text": [
      "params: 0.1, 0.3, 0.25\n",
      "CCA score (train): 0.33597999536991097\n",
      "CCA score (test): -0.026579411623560256\n"
     ]
    },
    {
     "name": "stderr",
     "output_type": "stream",
     "text": [
      "/opt/anaconda3/lib/python3.9/site-packages/cca_zoo/models/iterative.py:106: UserWarning: Inner loop 0 not converged. Increase number of iterations.\n",
      "  warnings.warn(\n"
     ]
    },
    {
     "name": "stdout",
     "output_type": "stream",
     "text": [
      "params: 0.1, 0.3, 0.5\n",
      "CCA score (train): 0.14113592508244777\n",
      "CCA score (test): 0.009117439161935081\n"
     ]
    },
    {
     "name": "stderr",
     "output_type": "stream",
     "text": [
      "/opt/anaconda3/lib/python3.9/site-packages/cca_zoo/models/iterative.py:122: RuntimeWarning: invalid value encountered in true_divide\n",
      "  - np.outer(score, score) @ residual / np.dot(score, score).item()\n"
     ]
    },
    {
     "name": "stdout",
     "output_type": "stream",
     "text": [
      "params: 0.1, 0.3, 0.75\n"
     ]
    },
    {
     "name": "stderr",
     "output_type": "stream",
     "text": [
      "/opt/anaconda3/lib/python3.9/site-packages/numpy/lib/function_base.py:2642: RuntimeWarning: invalid value encountered in true_divide\n",
      "  c /= stddev[:, None]\n",
      "/opt/anaconda3/lib/python3.9/site-packages/numpy/lib/function_base.py:2643: RuntimeWarning: invalid value encountered in true_divide\n",
      "  c /= stddev[None, :]\n",
      "/opt/anaconda3/lib/python3.9/site-packages/numpy/lib/function_base.py:2642: RuntimeWarning: invalid value encountered in true_divide\n",
      "  c /= stddev[:, None]\n",
      "/opt/anaconda3/lib/python3.9/site-packages/numpy/lib/function_base.py:2643: RuntimeWarning: invalid value encountered in true_divide\n",
      "  c /= stddev[None, :]\n"
     ]
    },
    {
     "name": "stdout",
     "output_type": "stream",
     "text": [
      "CCA score (train): nan\n",
      "CCA score (test): nan\n",
      "/Users/marshlab2/Desktop/OCS_bigdata_ML_local/FINAL/replication/data/PartitionsEnCCA/partitions2_rep01fold8.csv\n",
      "<class 'numpy.ndarray'>\n",
      "(2634, 1)\n",
      "(2634, 8)\n",
      "(2634, 7095)\n",
      "(292, 8)\n",
      "(292, 7095)\n"
     ]
    },
    {
     "name": "stderr",
     "output_type": "stream",
     "text": [
      "/opt/anaconda3/lib/python3.9/site-packages/cca_zoo/models/iterative.py:106: UserWarning: Inner loop 0 not converged. Increase number of iterations.\n",
      "  warnings.warn(\n"
     ]
    },
    {
     "name": "stdout",
     "output_type": "stream",
     "text": [
      "params: 0.001, 0.01, 0.25\n",
      "CCA score (train): 0.9813110795952438\n",
      "CCA score (test): -0.0451007576625041\n"
     ]
    },
    {
     "name": "stderr",
     "output_type": "stream",
     "text": [
      "/opt/anaconda3/lib/python3.9/site-packages/cca_zoo/models/iterative.py:106: UserWarning: Inner loop 0 not converged. Increase number of iterations.\n",
      "  warnings.warn(\n"
     ]
    },
    {
     "name": "stdout",
     "output_type": "stream",
     "text": [
      "params: 0.001, 0.01, 0.5\n",
      "CCA score (train): 0.9542408266396631\n",
      "CCA score (test): -0.005686318062536055\n"
     ]
    },
    {
     "name": "stderr",
     "output_type": "stream",
     "text": [
      "/opt/anaconda3/lib/python3.9/site-packages/cca_zoo/models/iterative.py:106: UserWarning: Inner loop 0 not converged. Increase number of iterations.\n",
      "  warnings.warn(\n"
     ]
    },
    {
     "name": "stdout",
     "output_type": "stream",
     "text": [
      "params: 0.001, 0.01, 0.75\n",
      "CCA score (train): 0.9221865984845969\n",
      "CCA score (test): 0.022123023698671807\n"
     ]
    },
    {
     "name": "stderr",
     "output_type": "stream",
     "text": [
      "/opt/anaconda3/lib/python3.9/site-packages/cca_zoo/models/iterative.py:106: UserWarning: Inner loop 0 not converged. Increase number of iterations.\n",
      "  warnings.warn(\n"
     ]
    },
    {
     "name": "stdout",
     "output_type": "stream",
     "text": [
      "params: 0.001, 0.1, 0.25\n",
      "CCA score (train): 0.6820374245626848\n",
      "CCA score (test): 0.11712843561986053\n"
     ]
    },
    {
     "name": "stderr",
     "output_type": "stream",
     "text": [
      "/opt/anaconda3/lib/python3.9/site-packages/cca_zoo/models/iterative.py:106: UserWarning: Inner loop 0 not converged. Increase number of iterations.\n",
      "  warnings.warn(\n"
     ]
    },
    {
     "name": "stdout",
     "output_type": "stream",
     "text": [
      "params: 0.001, 0.1, 0.5\n",
      "CCA score (train): 0.472431669071264\n",
      "CCA score (test): 0.06905340609536914\n"
     ]
    },
    {
     "name": "stderr",
     "output_type": "stream",
     "text": [
      "/opt/anaconda3/lib/python3.9/site-packages/cca_zoo/models/iterative.py:106: UserWarning: Inner loop 0 not converged. Increase number of iterations.\n",
      "  warnings.warn(\n"
     ]
    },
    {
     "name": "stdout",
     "output_type": "stream",
     "text": [
      "params: 0.001, 0.1, 0.75\n",
      "CCA score (train): 0.3437521815971114\n",
      "CCA score (test): 0.03715801601007174\n"
     ]
    },
    {
     "name": "stderr",
     "output_type": "stream",
     "text": [
      "/opt/anaconda3/lib/python3.9/site-packages/cca_zoo/models/iterative.py:106: UserWarning: Inner loop 0 not converged. Increase number of iterations.\n",
      "  warnings.warn(\n"
     ]
    },
    {
     "name": "stdout",
     "output_type": "stream",
     "text": [
      "params: 0.001, 0.3, 0.25\n",
      "CCA score (train): 0.34544961993745704\n",
      "CCA score (test): 0.02519816241552908\n"
     ]
    },
    {
     "name": "stderr",
     "output_type": "stream",
     "text": [
      "/opt/anaconda3/lib/python3.9/site-packages/cca_zoo/models/iterative.py:106: UserWarning: Inner loop 0 not converged. Increase number of iterations.\n",
      "  warnings.warn(\n"
     ]
    },
    {
     "name": "stdout",
     "output_type": "stream",
     "text": [
      "params: 0.001, 0.3, 0.5\n",
      "CCA score (train): 0.12092609292475065\n",
      "CCA score (test): 0.06574858325655919\n"
     ]
    },
    {
     "name": "stderr",
     "output_type": "stream",
     "text": [
      "/opt/anaconda3/lib/python3.9/site-packages/cca_zoo/models/iterative.py:122: RuntimeWarning: invalid value encountered in true_divide\n",
      "  - np.outer(score, score) @ residual / np.dot(score, score).item()\n",
      "/opt/anaconda3/lib/python3.9/site-packages/cca_zoo/models/iterative.py:106: UserWarning: Inner loop 0 not converged. Increase number of iterations.\n",
      "  warnings.warn(\n"
     ]
    },
    {
     "name": "stdout",
     "output_type": "stream",
     "text": [
      "params: 0.001, 0.3, 0.75\n"
     ]
    },
    {
     "name": "stderr",
     "output_type": "stream",
     "text": [
      "/opt/anaconda3/lib/python3.9/site-packages/numpy/lib/function_base.py:2642: RuntimeWarning: invalid value encountered in true_divide\n",
      "  c /= stddev[:, None]\n",
      "/opt/anaconda3/lib/python3.9/site-packages/numpy/lib/function_base.py:2643: RuntimeWarning: invalid value encountered in true_divide\n",
      "  c /= stddev[None, :]\n",
      "/opt/anaconda3/lib/python3.9/site-packages/numpy/lib/function_base.py:2642: RuntimeWarning: invalid value encountered in true_divide\n",
      "  c /= stddev[:, None]\n",
      "/opt/anaconda3/lib/python3.9/site-packages/numpy/lib/function_base.py:2643: RuntimeWarning: invalid value encountered in true_divide\n",
      "  c /= stddev[None, :]\n"
     ]
    },
    {
     "name": "stdout",
     "output_type": "stream",
     "text": [
      "CCA score (train): nan\n",
      "CCA score (test): nan\n"
     ]
    },
    {
     "name": "stderr",
     "output_type": "stream",
     "text": [
      "/opt/anaconda3/lib/python3.9/site-packages/cca_zoo/models/iterative.py:106: UserWarning: Inner loop 0 not converged. Increase number of iterations.\n",
      "  warnings.warn(\n"
     ]
    },
    {
     "name": "stdout",
     "output_type": "stream",
     "text": [
      "params: 0.01, 0.01, 0.25\n",
      "CCA score (train): 0.9812089374197694\n",
      "CCA score (test): -0.04884887804436144\n"
     ]
    },
    {
     "name": "stderr",
     "output_type": "stream",
     "text": [
      "/opt/anaconda3/lib/python3.9/site-packages/cca_zoo/models/iterative.py:106: UserWarning: Inner loop 0 not converged. Increase number of iterations.\n",
      "  warnings.warn(\n"
     ]
    },
    {
     "name": "stdout",
     "output_type": "stream",
     "text": [
      "params: 0.01, 0.01, 0.5\n",
      "CCA score (train): 0.9538342088197986\n",
      "CCA score (test): -0.007615467368865758\n"
     ]
    },
    {
     "name": "stderr",
     "output_type": "stream",
     "text": [
      "/opt/anaconda3/lib/python3.9/site-packages/cca_zoo/models/iterative.py:106: UserWarning: Inner loop 0 not converged. Increase number of iterations.\n",
      "  warnings.warn(\n"
     ]
    },
    {
     "name": "stdout",
     "output_type": "stream",
     "text": [
      "params: 0.01, 0.01, 0.75\n",
      "CCA score (train): 0.9221978461744027\n",
      "CCA score (test): 0.02839098053062994\n"
     ]
    },
    {
     "name": "stderr",
     "output_type": "stream",
     "text": [
      "/opt/anaconda3/lib/python3.9/site-packages/cca_zoo/models/iterative.py:106: UserWarning: Inner loop 0 not converged. Increase number of iterations.\n",
      "  warnings.warn(\n"
     ]
    },
    {
     "name": "stdout",
     "output_type": "stream",
     "text": [
      "params: 0.01, 0.1, 0.25\n",
      "CCA score (train): 0.6870426113936621\n",
      "CCA score (test): 0.10795828927561324\n"
     ]
    },
    {
     "name": "stderr",
     "output_type": "stream",
     "text": [
      "/opt/anaconda3/lib/python3.9/site-packages/cca_zoo/models/iterative.py:106: UserWarning: Inner loop 0 not converged. Increase number of iterations.\n",
      "  warnings.warn(\n"
     ]
    },
    {
     "name": "stdout",
     "output_type": "stream",
     "text": [
      "params: 0.01, 0.1, 0.5\n",
      "CCA score (train): 0.47460598481700744\n",
      "CCA score (test): 0.08576910545709104\n"
     ]
    },
    {
     "name": "stderr",
     "output_type": "stream",
     "text": [
      "/opt/anaconda3/lib/python3.9/site-packages/cca_zoo/models/iterative.py:106: UserWarning: Inner loop 0 not converged. Increase number of iterations.\n",
      "  warnings.warn(\n"
     ]
    },
    {
     "name": "stdout",
     "output_type": "stream",
     "text": [
      "params: 0.01, 0.1, 0.75\n",
      "CCA score (train): 0.3397910557462567\n",
      "CCA score (test): 0.10544945177459142\n"
     ]
    },
    {
     "name": "stderr",
     "output_type": "stream",
     "text": [
      "/opt/anaconda3/lib/python3.9/site-packages/cca_zoo/models/iterative.py:106: UserWarning: Inner loop 0 not converged. Increase number of iterations.\n",
      "  warnings.warn(\n"
     ]
    },
    {
     "name": "stdout",
     "output_type": "stream",
     "text": [
      "params: 0.01, 0.3, 0.25\n",
      "CCA score (train): 0.34462071624336743\n",
      "CCA score (test): 0.05287632123097952\n"
     ]
    },
    {
     "name": "stderr",
     "output_type": "stream",
     "text": [
      "/opt/anaconda3/lib/python3.9/site-packages/cca_zoo/models/iterative.py:106: UserWarning: Inner loop 0 not converged. Increase number of iterations.\n",
      "  warnings.warn(\n"
     ]
    },
    {
     "name": "stdout",
     "output_type": "stream",
     "text": [
      "params: 0.01, 0.3, 0.5\n",
      "CCA score (train): 0.12443281507247295\n",
      "CCA score (test): 0.0768310042207665\n"
     ]
    },
    {
     "name": "stderr",
     "output_type": "stream",
     "text": [
      "/opt/anaconda3/lib/python3.9/site-packages/cca_zoo/models/iterative.py:122: RuntimeWarning: invalid value encountered in true_divide\n",
      "  - np.outer(score, score) @ residual / np.dot(score, score).item()\n",
      "/opt/anaconda3/lib/python3.9/site-packages/cca_zoo/models/iterative.py:106: UserWarning: Inner loop 0 not converged. Increase number of iterations.\n",
      "  warnings.warn(\n"
     ]
    },
    {
     "name": "stdout",
     "output_type": "stream",
     "text": [
      "params: 0.01, 0.3, 0.75\n"
     ]
    },
    {
     "name": "stderr",
     "output_type": "stream",
     "text": [
      "/opt/anaconda3/lib/python3.9/site-packages/numpy/lib/function_base.py:2642: RuntimeWarning: invalid value encountered in true_divide\n",
      "  c /= stddev[:, None]\n",
      "/opt/anaconda3/lib/python3.9/site-packages/numpy/lib/function_base.py:2643: RuntimeWarning: invalid value encountered in true_divide\n",
      "  c /= stddev[None, :]\n",
      "/opt/anaconda3/lib/python3.9/site-packages/numpy/lib/function_base.py:2642: RuntimeWarning: invalid value encountered in true_divide\n",
      "  c /= stddev[:, None]\n",
      "/opt/anaconda3/lib/python3.9/site-packages/numpy/lib/function_base.py:2643: RuntimeWarning: invalid value encountered in true_divide\n",
      "  c /= stddev[None, :]\n"
     ]
    },
    {
     "name": "stdout",
     "output_type": "stream",
     "text": [
      "CCA score (train): nan\n",
      "CCA score (test): nan\n"
     ]
    },
    {
     "name": "stderr",
     "output_type": "stream",
     "text": [
      "/opt/anaconda3/lib/python3.9/site-packages/cca_zoo/models/iterative.py:106: UserWarning: Inner loop 0 not converged. Increase number of iterations.\n",
      "  warnings.warn(\n"
     ]
    },
    {
     "name": "stdout",
     "output_type": "stream",
     "text": [
      "params: 0.1, 0.01, 0.25\n",
      "CCA score (train): 0.9801321283335582\n",
      "CCA score (test): -0.06646452592165975\n"
     ]
    },
    {
     "name": "stderr",
     "output_type": "stream",
     "text": [
      "/opt/anaconda3/lib/python3.9/site-packages/cca_zoo/models/iterative.py:106: UserWarning: Inner loop 0 not converged. Increase number of iterations.\n",
      "  warnings.warn(\n"
     ]
    },
    {
     "name": "stdout",
     "output_type": "stream",
     "text": [
      "params: 0.1, 0.01, 0.5\n",
      "CCA score (train): 0.951522964002774\n",
      "CCA score (test): 0.06880335393786652\n"
     ]
    },
    {
     "name": "stderr",
     "output_type": "stream",
     "text": [
      "/opt/anaconda3/lib/python3.9/site-packages/cca_zoo/models/iterative.py:106: UserWarning: Inner loop 0 not converged. Increase number of iterations.\n",
      "  warnings.warn(\n"
     ]
    },
    {
     "name": "stdout",
     "output_type": "stream",
     "text": [
      "params: 0.1, 0.01, 0.75\n",
      "CCA score (train): 0.9183127335017129\n",
      "CCA score (test): 0.10074162694219857\n"
     ]
    },
    {
     "name": "stderr",
     "output_type": "stream",
     "text": [
      "/opt/anaconda3/lib/python3.9/site-packages/cca_zoo/models/iterative.py:106: UserWarning: Inner loop 0 not converged. Increase number of iterations.\n",
      "  warnings.warn(\n"
     ]
    },
    {
     "name": "stdout",
     "output_type": "stream",
     "text": [
      "params: 0.1, 0.1, 0.25\n",
      "CCA score (train): 0.684742667889501\n",
      "CCA score (test): 0.09639298034673582\n"
     ]
    },
    {
     "name": "stderr",
     "output_type": "stream",
     "text": [
      "/opt/anaconda3/lib/python3.9/site-packages/cca_zoo/models/iterative.py:106: UserWarning: Inner loop 0 not converged. Increase number of iterations.\n",
      "  warnings.warn(\n"
     ]
    },
    {
     "name": "stdout",
     "output_type": "stream",
     "text": [
      "params: 0.1, 0.1, 0.5\n",
      "CCA score (train): 0.4647665359196387\n",
      "CCA score (test): 0.11869237487214157\n"
     ]
    },
    {
     "name": "stderr",
     "output_type": "stream",
     "text": [
      "/opt/anaconda3/lib/python3.9/site-packages/cca_zoo/models/iterative.py:106: UserWarning: Inner loop 0 not converged. Increase number of iterations.\n",
      "  warnings.warn(\n"
     ]
    },
    {
     "name": "stdout",
     "output_type": "stream",
     "text": [
      "params: 0.1, 0.1, 0.75\n",
      "CCA score (train): 0.31648780749214467\n",
      "CCA score (test): 0.11971725537603883\n"
     ]
    },
    {
     "name": "stderr",
     "output_type": "stream",
     "text": [
      "/opt/anaconda3/lib/python3.9/site-packages/cca_zoo/models/iterative.py:106: UserWarning: Inner loop 0 not converged. Increase number of iterations.\n",
      "  warnings.warn(\n"
     ]
    },
    {
     "name": "stdout",
     "output_type": "stream",
     "text": [
      "params: 0.1, 0.3, 0.25\n",
      "CCA score (train): 0.33202019390187454\n",
      "CCA score (test): 0.15005953807387584\n"
     ]
    },
    {
     "name": "stderr",
     "output_type": "stream",
     "text": [
      "/opt/anaconda3/lib/python3.9/site-packages/cca_zoo/models/iterative.py:106: UserWarning: Inner loop 0 not converged. Increase number of iterations.\n",
      "  warnings.warn(\n"
     ]
    },
    {
     "name": "stdout",
     "output_type": "stream",
     "text": [
      "params: 0.1, 0.3, 0.5\n",
      "CCA score (train): 0.12494346844564808\n",
      "CCA score (test): 0.10115364415612493\n"
     ]
    },
    {
     "name": "stderr",
     "output_type": "stream",
     "text": [
      "/opt/anaconda3/lib/python3.9/site-packages/cca_zoo/models/iterative.py:122: RuntimeWarning: invalid value encountered in true_divide\n",
      "  - np.outer(score, score) @ residual / np.dot(score, score).item()\n"
     ]
    },
    {
     "name": "stdout",
     "output_type": "stream",
     "text": [
      "params: 0.1, 0.3, 0.75\n"
     ]
    },
    {
     "name": "stderr",
     "output_type": "stream",
     "text": [
      "/opt/anaconda3/lib/python3.9/site-packages/numpy/lib/function_base.py:2642: RuntimeWarning: invalid value encountered in true_divide\n",
      "  c /= stddev[:, None]\n",
      "/opt/anaconda3/lib/python3.9/site-packages/numpy/lib/function_base.py:2643: RuntimeWarning: invalid value encountered in true_divide\n",
      "  c /= stddev[None, :]\n",
      "/opt/anaconda3/lib/python3.9/site-packages/numpy/lib/function_base.py:2642: RuntimeWarning: invalid value encountered in true_divide\n",
      "  c /= stddev[:, None]\n",
      "/opt/anaconda3/lib/python3.9/site-packages/numpy/lib/function_base.py:2643: RuntimeWarning: invalid value encountered in true_divide\n",
      "  c /= stddev[None, :]\n"
     ]
    },
    {
     "name": "stdout",
     "output_type": "stream",
     "text": [
      "CCA score (train): nan\n",
      "CCA score (test): nan\n",
      "/Users/marshlab2/Desktop/OCS_bigdata_ML_local/FINAL/replication/data/PartitionsEnCCA/partitions2_rep01fold9.csv\n",
      "<class 'numpy.ndarray'>\n",
      "(2633, 1)\n",
      "(2633, 8)\n",
      "(2633, 7095)\n",
      "(293, 8)\n",
      "(293, 7095)\n"
     ]
    },
    {
     "name": "stderr",
     "output_type": "stream",
     "text": [
      "/opt/anaconda3/lib/python3.9/site-packages/cca_zoo/models/iterative.py:106: UserWarning: Inner loop 0 not converged. Increase number of iterations.\n",
      "  warnings.warn(\n"
     ]
    },
    {
     "name": "stdout",
     "output_type": "stream",
     "text": [
      "params: 0.001, 0.01, 0.25\n",
      "CCA score (train): 0.9801482051272572\n",
      "CCA score (test): -0.1175074710395817\n"
     ]
    },
    {
     "name": "stderr",
     "output_type": "stream",
     "text": [
      "/opt/anaconda3/lib/python3.9/site-packages/cca_zoo/models/iterative.py:106: UserWarning: Inner loop 0 not converged. Increase number of iterations.\n",
      "  warnings.warn(\n"
     ]
    },
    {
     "name": "stdout",
     "output_type": "stream",
     "text": [
      "params: 0.001, 0.01, 0.5\n",
      "CCA score (train): 0.9517139287399012\n",
      "CCA score (test): -0.09011194415945722\n"
     ]
    },
    {
     "name": "stderr",
     "output_type": "stream",
     "text": [
      "/opt/anaconda3/lib/python3.9/site-packages/cca_zoo/models/iterative.py:106: UserWarning: Inner loop 0 not converged. Increase number of iterations.\n",
      "  warnings.warn(\n"
     ]
    },
    {
     "name": "stdout",
     "output_type": "stream",
     "text": [
      "params: 0.001, 0.01, 0.75\n",
      "CCA score (train): 0.9208328160532855\n",
      "CCA score (test): -0.057104803118216196\n"
     ]
    },
    {
     "name": "stderr",
     "output_type": "stream",
     "text": [
      "/opt/anaconda3/lib/python3.9/site-packages/cca_zoo/models/iterative.py:106: UserWarning: Inner loop 0 not converged. Increase number of iterations.\n",
      "  warnings.warn(\n"
     ]
    },
    {
     "name": "stdout",
     "output_type": "stream",
     "text": [
      "params: 0.001, 0.1, 0.25\n",
      "CCA score (train): 0.6985396060326599\n",
      "CCA score (test): -0.027960518048945615\n"
     ]
    },
    {
     "name": "stderr",
     "output_type": "stream",
     "text": [
      "/opt/anaconda3/lib/python3.9/site-packages/cca_zoo/models/iterative.py:106: UserWarning: Inner loop 0 not converged. Increase number of iterations.\n",
      "  warnings.warn(\n"
     ]
    },
    {
     "name": "stdout",
     "output_type": "stream",
     "text": [
      "params: 0.001, 0.1, 0.5\n",
      "CCA score (train): 0.48210896863413955\n",
      "CCA score (test): 0.03370877748667578\n"
     ]
    },
    {
     "name": "stderr",
     "output_type": "stream",
     "text": [
      "/opt/anaconda3/lib/python3.9/site-packages/cca_zoo/models/iterative.py:106: UserWarning: Inner loop 0 not converged. Increase number of iterations.\n",
      "  warnings.warn(\n"
     ]
    },
    {
     "name": "stdout",
     "output_type": "stream",
     "text": [
      "params: 0.001, 0.1, 0.75\n",
      "CCA score (train): 0.35203578942489\n",
      "CCA score (test): 0.043354175567209996\n"
     ]
    },
    {
     "name": "stderr",
     "output_type": "stream",
     "text": [
      "/opt/anaconda3/lib/python3.9/site-packages/cca_zoo/models/iterative.py:106: UserWarning: Inner loop 0 not converged. Increase number of iterations.\n",
      "  warnings.warn(\n"
     ]
    },
    {
     "name": "stdout",
     "output_type": "stream",
     "text": [
      "params: 0.001, 0.3, 0.25\n",
      "CCA score (train): 0.362305888084286\n",
      "CCA score (test): 0.05515895534197757\n"
     ]
    },
    {
     "name": "stderr",
     "output_type": "stream",
     "text": [
      "/opt/anaconda3/lib/python3.9/site-packages/cca_zoo/models/iterative.py:106: UserWarning: Inner loop 0 not converged. Increase number of iterations.\n",
      "  warnings.warn(\n"
     ]
    },
    {
     "name": "stdout",
     "output_type": "stream",
     "text": [
      "params: 0.001, 0.3, 0.5\n",
      "CCA score (train): 0.13588910906829654\n",
      "CCA score (test): 0.011861085130615567\n"
     ]
    },
    {
     "name": "stderr",
     "output_type": "stream",
     "text": [
      "/opt/anaconda3/lib/python3.9/site-packages/cca_zoo/models/iterative.py:122: RuntimeWarning: invalid value encountered in true_divide\n",
      "  - np.outer(score, score) @ residual / np.dot(score, score).item()\n",
      "/opt/anaconda3/lib/python3.9/site-packages/cca_zoo/models/iterative.py:106: UserWarning: Inner loop 0 not converged. Increase number of iterations.\n",
      "  warnings.warn(\n"
     ]
    },
    {
     "name": "stdout",
     "output_type": "stream",
     "text": [
      "params: 0.001, 0.3, 0.75\n"
     ]
    },
    {
     "name": "stderr",
     "output_type": "stream",
     "text": [
      "/opt/anaconda3/lib/python3.9/site-packages/numpy/lib/function_base.py:2642: RuntimeWarning: invalid value encountered in true_divide\n",
      "  c /= stddev[:, None]\n",
      "/opt/anaconda3/lib/python3.9/site-packages/numpy/lib/function_base.py:2643: RuntimeWarning: invalid value encountered in true_divide\n",
      "  c /= stddev[None, :]\n",
      "/opt/anaconda3/lib/python3.9/site-packages/numpy/lib/function_base.py:2642: RuntimeWarning: invalid value encountered in true_divide\n",
      "  c /= stddev[:, None]\n",
      "/opt/anaconda3/lib/python3.9/site-packages/numpy/lib/function_base.py:2643: RuntimeWarning: invalid value encountered in true_divide\n",
      "  c /= stddev[None, :]\n"
     ]
    },
    {
     "name": "stdout",
     "output_type": "stream",
     "text": [
      "CCA score (train): nan\n",
      "CCA score (test): nan\n"
     ]
    },
    {
     "name": "stderr",
     "output_type": "stream",
     "text": [
      "/opt/anaconda3/lib/python3.9/site-packages/cca_zoo/models/iterative.py:106: UserWarning: Inner loop 0 not converged. Increase number of iterations.\n",
      "  warnings.warn(\n"
     ]
    },
    {
     "name": "stdout",
     "output_type": "stream",
     "text": [
      "params: 0.01, 0.01, 0.25\n",
      "CCA score (train): 0.9799938653683673\n",
      "CCA score (test): -0.11770544169255648\n"
     ]
    },
    {
     "name": "stderr",
     "output_type": "stream",
     "text": [
      "/opt/anaconda3/lib/python3.9/site-packages/cca_zoo/models/iterative.py:106: UserWarning: Inner loop 0 not converged. Increase number of iterations.\n",
      "  warnings.warn(\n"
     ]
    },
    {
     "name": "stdout",
     "output_type": "stream",
     "text": [
      "params: 0.01, 0.01, 0.5\n",
      "CCA score (train): 0.9511484073993652\n",
      "CCA score (test): -0.09193569874000751\n"
     ]
    },
    {
     "name": "stderr",
     "output_type": "stream",
     "text": [
      "/opt/anaconda3/lib/python3.9/site-packages/cca_zoo/models/iterative.py:106: UserWarning: Inner loop 0 not converged. Increase number of iterations.\n",
      "  warnings.warn(\n"
     ]
    },
    {
     "name": "stdout",
     "output_type": "stream",
     "text": [
      "params: 0.01, 0.01, 0.75\n",
      "CCA score (train): 0.9191623000855063\n",
      "CCA score (test): -0.06988187944052493\n"
     ]
    },
    {
     "name": "stderr",
     "output_type": "stream",
     "text": [
      "/opt/anaconda3/lib/python3.9/site-packages/cca_zoo/models/iterative.py:106: UserWarning: Inner loop 0 not converged. Increase number of iterations.\n",
      "  warnings.warn(\n"
     ]
    },
    {
     "name": "stdout",
     "output_type": "stream",
     "text": [
      "params: 0.01, 0.1, 0.25\n",
      "CCA score (train): 0.6973654963285547\n",
      "CCA score (test): -0.032487257361625055\n"
     ]
    },
    {
     "name": "stderr",
     "output_type": "stream",
     "text": [
      "/opt/anaconda3/lib/python3.9/site-packages/cca_zoo/models/iterative.py:106: UserWarning: Inner loop 0 not converged. Increase number of iterations.\n",
      "  warnings.warn(\n"
     ]
    },
    {
     "name": "stdout",
     "output_type": "stream",
     "text": [
      "params: 0.01, 0.1, 0.5\n",
      "CCA score (train): 0.47658202428671625\n",
      "CCA score (test): 0.022034981681472443\n"
     ]
    },
    {
     "name": "stderr",
     "output_type": "stream",
     "text": [
      "/opt/anaconda3/lib/python3.9/site-packages/cca_zoo/models/iterative.py:106: UserWarning: Inner loop 0 not converged. Increase number of iterations.\n",
      "  warnings.warn(\n"
     ]
    },
    {
     "name": "stdout",
     "output_type": "stream",
     "text": [
      "params: 0.01, 0.1, 0.75\n",
      "CCA score (train): 0.3471334596020288\n",
      "CCA score (test): 0.023169149275648504\n"
     ]
    },
    {
     "name": "stderr",
     "output_type": "stream",
     "text": [
      "/opt/anaconda3/lib/python3.9/site-packages/cca_zoo/models/iterative.py:106: UserWarning: Inner loop 0 not converged. Increase number of iterations.\n",
      "  warnings.warn(\n"
     ]
    },
    {
     "name": "stdout",
     "output_type": "stream",
     "text": [
      "params: 0.01, 0.3, 0.25\n",
      "CCA score (train): 0.358715755395981\n",
      "CCA score (test): 0.04733425857634588\n"
     ]
    },
    {
     "name": "stderr",
     "output_type": "stream",
     "text": [
      "/opt/anaconda3/lib/python3.9/site-packages/cca_zoo/models/iterative.py:106: UserWarning: Inner loop 0 not converged. Increase number of iterations.\n",
      "  warnings.warn(\n"
     ]
    },
    {
     "name": "stdout",
     "output_type": "stream",
     "text": [
      "params: 0.01, 0.3, 0.5\n",
      "CCA score (train): 0.13264247989593958\n",
      "CCA score (test): 0.032166634526068494\n"
     ]
    },
    {
     "name": "stderr",
     "output_type": "stream",
     "text": [
      "/opt/anaconda3/lib/python3.9/site-packages/cca_zoo/models/iterative.py:122: RuntimeWarning: invalid value encountered in true_divide\n",
      "  - np.outer(score, score) @ residual / np.dot(score, score).item()\n",
      "/opt/anaconda3/lib/python3.9/site-packages/cca_zoo/models/iterative.py:106: UserWarning: Inner loop 0 not converged. Increase number of iterations.\n",
      "  warnings.warn(\n"
     ]
    },
    {
     "name": "stdout",
     "output_type": "stream",
     "text": [
      "params: 0.01, 0.3, 0.75\n"
     ]
    },
    {
     "name": "stderr",
     "output_type": "stream",
     "text": [
      "/opt/anaconda3/lib/python3.9/site-packages/numpy/lib/function_base.py:2642: RuntimeWarning: invalid value encountered in true_divide\n",
      "  c /= stddev[:, None]\n",
      "/opt/anaconda3/lib/python3.9/site-packages/numpy/lib/function_base.py:2643: RuntimeWarning: invalid value encountered in true_divide\n",
      "  c /= stddev[None, :]\n",
      "/opt/anaconda3/lib/python3.9/site-packages/numpy/lib/function_base.py:2642: RuntimeWarning: invalid value encountered in true_divide\n",
      "  c /= stddev[:, None]\n",
      "/opt/anaconda3/lib/python3.9/site-packages/numpy/lib/function_base.py:2643: RuntimeWarning: invalid value encountered in true_divide\n",
      "  c /= stddev[None, :]\n"
     ]
    },
    {
     "name": "stdout",
     "output_type": "stream",
     "text": [
      "CCA score (train): nan\n",
      "CCA score (test): nan\n"
     ]
    },
    {
     "name": "stderr",
     "output_type": "stream",
     "text": [
      "/opt/anaconda3/lib/python3.9/site-packages/cca_zoo/models/iterative.py:106: UserWarning: Inner loop 0 not converged. Increase number of iterations.\n",
      "  warnings.warn(\n"
     ]
    },
    {
     "name": "stdout",
     "output_type": "stream",
     "text": [
      "params: 0.1, 0.01, 0.25\n",
      "CCA score (train): 0.9788120649578311\n",
      "CCA score (test): -0.12216520170726475\n"
     ]
    },
    {
     "name": "stderr",
     "output_type": "stream",
     "text": [
      "/opt/anaconda3/lib/python3.9/site-packages/cca_zoo/models/iterative.py:106: UserWarning: Inner loop 0 not converged. Increase number of iterations.\n",
      "  warnings.warn(\n"
     ]
    },
    {
     "name": "stdout",
     "output_type": "stream",
     "text": [
      "params: 0.1, 0.01, 0.5\n",
      "CCA score (train): 0.9473690003470305\n",
      "CCA score (test): -0.06057161989137705\n"
     ]
    },
    {
     "name": "stderr",
     "output_type": "stream",
     "text": [
      "/opt/anaconda3/lib/python3.9/site-packages/cca_zoo/models/iterative.py:106: UserWarning: Inner loop 0 not converged. Increase number of iterations.\n",
      "  warnings.warn(\n"
     ]
    },
    {
     "name": "stdout",
     "output_type": "stream",
     "text": [
      "params: 0.1, 0.01, 0.75\n",
      "CCA score (train): 0.9110059396036714\n",
      "CCA score (test): -0.04017356507972947\n"
     ]
    },
    {
     "name": "stderr",
     "output_type": "stream",
     "text": [
      "/opt/anaconda3/lib/python3.9/site-packages/cca_zoo/models/iterative.py:106: UserWarning: Inner loop 0 not converged. Increase number of iterations.\n",
      "  warnings.warn(\n"
     ]
    },
    {
     "name": "stdout",
     "output_type": "stream",
     "text": [
      "params: 0.1, 0.1, 0.25\n",
      "CCA score (train): 0.6900611354181514\n",
      "CCA score (test): -0.039659921078442295\n"
     ]
    },
    {
     "name": "stderr",
     "output_type": "stream",
     "text": [
      "/opt/anaconda3/lib/python3.9/site-packages/cca_zoo/models/iterative.py:106: UserWarning: Inner loop 0 not converged. Increase number of iterations.\n",
      "  warnings.warn(\n"
     ]
    },
    {
     "name": "stdout",
     "output_type": "stream",
     "text": [
      "params: 0.1, 0.1, 0.5\n",
      "CCA score (train): 0.4625252725279094\n",
      "CCA score (test): -0.013077217712187394\n"
     ]
    },
    {
     "name": "stderr",
     "output_type": "stream",
     "text": [
      "/opt/anaconda3/lib/python3.9/site-packages/cca_zoo/models/iterative.py:106: UserWarning: Inner loop 0 not converged. Increase number of iterations.\n",
      "  warnings.warn(\n"
     ]
    },
    {
     "name": "stdout",
     "output_type": "stream",
     "text": [
      "params: 0.1, 0.1, 0.75\n",
      "CCA score (train): 0.3223135944650719\n",
      "CCA score (test): -0.053620191273066053\n"
     ]
    },
    {
     "name": "stderr",
     "output_type": "stream",
     "text": [
      "/opt/anaconda3/lib/python3.9/site-packages/cca_zoo/models/iterative.py:106: UserWarning: Inner loop 0 not converged. Increase number of iterations.\n",
      "  warnings.warn(\n"
     ]
    },
    {
     "name": "stdout",
     "output_type": "stream",
     "text": [
      "params: 0.1, 0.3, 0.25\n",
      "CCA score (train): 0.3371637129400664\n",
      "CCA score (test): 0.037688871153382264\n"
     ]
    },
    {
     "name": "stderr",
     "output_type": "stream",
     "text": [
      "/opt/anaconda3/lib/python3.9/site-packages/cca_zoo/models/iterative.py:106: UserWarning: Inner loop 0 not converged. Increase number of iterations.\n",
      "  warnings.warn(\n"
     ]
    },
    {
     "name": "stdout",
     "output_type": "stream",
     "text": [
      "params: 0.1, 0.3, 0.5\n",
      "CCA score (train): 0.13584866659314598\n",
      "CCA score (test): 0.015750359389104407\n"
     ]
    },
    {
     "name": "stderr",
     "output_type": "stream",
     "text": [
      "/opt/anaconda3/lib/python3.9/site-packages/cca_zoo/models/iterative.py:122: RuntimeWarning: invalid value encountered in true_divide\n",
      "  - np.outer(score, score) @ residual / np.dot(score, score).item()\n"
     ]
    },
    {
     "name": "stdout",
     "output_type": "stream",
     "text": [
      "params: 0.1, 0.3, 0.75\n"
     ]
    },
    {
     "name": "stderr",
     "output_type": "stream",
     "text": [
      "/opt/anaconda3/lib/python3.9/site-packages/numpy/lib/function_base.py:2642: RuntimeWarning: invalid value encountered in true_divide\n",
      "  c /= stddev[:, None]\n",
      "/opt/anaconda3/lib/python3.9/site-packages/numpy/lib/function_base.py:2643: RuntimeWarning: invalid value encountered in true_divide\n",
      "  c /= stddev[None, :]\n",
      "/opt/anaconda3/lib/python3.9/site-packages/numpy/lib/function_base.py:2642: RuntimeWarning: invalid value encountered in true_divide\n",
      "  c /= stddev[:, None]\n",
      "/opt/anaconda3/lib/python3.9/site-packages/numpy/lib/function_base.py:2643: RuntimeWarning: invalid value encountered in true_divide\n",
      "  c /= stddev[None, :]\n"
     ]
    },
    {
     "name": "stdout",
     "output_type": "stream",
     "text": [
      "CCA score (train): nan\n",
      "CCA score (test): nan\n",
      "/Users/marshlab2/Desktop/OCS_bigdata_ML_local/FINAL/replication/data/PartitionsEnCCA/partitions2_rep01fold10.csv\n",
      "<class 'numpy.ndarray'>\n",
      "(2634, 1)\n",
      "(2634, 8)\n",
      "(2634, 7095)\n",
      "(292, 8)\n",
      "(292, 7095)\n"
     ]
    },
    {
     "name": "stderr",
     "output_type": "stream",
     "text": [
      "/opt/anaconda3/lib/python3.9/site-packages/cca_zoo/models/iterative.py:106: UserWarning: Inner loop 0 not converged. Increase number of iterations.\n",
      "  warnings.warn(\n"
     ]
    },
    {
     "name": "stdout",
     "output_type": "stream",
     "text": [
      "params: 0.001, 0.01, 0.25\n",
      "CCA score (train): 0.9817916347420024\n",
      "CCA score (test): 0.07041949043439599\n"
     ]
    },
    {
     "name": "stderr",
     "output_type": "stream",
     "text": [
      "/opt/anaconda3/lib/python3.9/site-packages/cca_zoo/models/iterative.py:106: UserWarning: Inner loop 0 not converged. Increase number of iterations.\n",
      "  warnings.warn(\n"
     ]
    },
    {
     "name": "stdout",
     "output_type": "stream",
     "text": [
      "params: 0.001, 0.01, 0.5\n",
      "CCA score (train): 0.9535977694324234\n",
      "CCA score (test): 0.08464660360076826\n"
     ]
    },
    {
     "name": "stderr",
     "output_type": "stream",
     "text": [
      "/opt/anaconda3/lib/python3.9/site-packages/cca_zoo/models/iterative.py:106: UserWarning: Inner loop 0 not converged. Increase number of iterations.\n",
      "  warnings.warn(\n"
     ]
    },
    {
     "name": "stdout",
     "output_type": "stream",
     "text": [
      "params: 0.001, 0.01, 0.75\n",
      "CCA score (train): 0.9198245520246475\n",
      "CCA score (test): 0.08308430130050515\n"
     ]
    },
    {
     "name": "stderr",
     "output_type": "stream",
     "text": [
      "/opt/anaconda3/lib/python3.9/site-packages/cca_zoo/models/iterative.py:106: UserWarning: Inner loop 0 not converged. Increase number of iterations.\n",
      "  warnings.warn(\n"
     ]
    },
    {
     "name": "stdout",
     "output_type": "stream",
     "text": [
      "params: 0.001, 0.1, 0.25\n",
      "CCA score (train): 0.6947887565154018\n",
      "CCA score (test): 0.05756822465281908\n"
     ]
    },
    {
     "name": "stderr",
     "output_type": "stream",
     "text": [
      "/opt/anaconda3/lib/python3.9/site-packages/cca_zoo/models/iterative.py:106: UserWarning: Inner loop 0 not converged. Increase number of iterations.\n",
      "  warnings.warn(\n"
     ]
    },
    {
     "name": "stdout",
     "output_type": "stream",
     "text": [
      "params: 0.001, 0.1, 0.5\n",
      "CCA score (train): 0.4774585142048924\n",
      "CCA score (test): 0.08664937832855357\n"
     ]
    },
    {
     "name": "stderr",
     "output_type": "stream",
     "text": [
      "/opt/anaconda3/lib/python3.9/site-packages/cca_zoo/models/iterative.py:106: UserWarning: Inner loop 0 not converged. Increase number of iterations.\n",
      "  warnings.warn(\n"
     ]
    },
    {
     "name": "stdout",
     "output_type": "stream",
     "text": [
      "params: 0.001, 0.1, 0.75\n",
      "CCA score (train): 0.3276637719352187\n",
      "CCA score (test): 0.04005824421552129\n"
     ]
    },
    {
     "name": "stderr",
     "output_type": "stream",
     "text": [
      "/opt/anaconda3/lib/python3.9/site-packages/cca_zoo/models/iterative.py:106: UserWarning: Inner loop 0 not converged. Increase number of iterations.\n",
      "  warnings.warn(\n"
     ]
    },
    {
     "name": "stdout",
     "output_type": "stream",
     "text": [
      "params: 0.001, 0.3, 0.25\n",
      "CCA score (train): 0.33542386598613416\n",
      "CCA score (test): 0.07945956800696652\n"
     ]
    },
    {
     "name": "stderr",
     "output_type": "stream",
     "text": [
      "/opt/anaconda3/lib/python3.9/site-packages/cca_zoo/models/iterative.py:106: UserWarning: Inner loop 0 not converged. Increase number of iterations.\n",
      "  warnings.warn(\n"
     ]
    },
    {
     "name": "stdout",
     "output_type": "stream",
     "text": [
      "params: 0.001, 0.3, 0.5\n",
      "CCA score (train): 0.14642768981548393\n",
      "CCA score (test): 0.013660086485335343\n"
     ]
    },
    {
     "name": "stderr",
     "output_type": "stream",
     "text": [
      "/opt/anaconda3/lib/python3.9/site-packages/cca_zoo/models/iterative.py:122: RuntimeWarning: invalid value encountered in true_divide\n",
      "  - np.outer(score, score) @ residual / np.dot(score, score).item()\n",
      "/opt/anaconda3/lib/python3.9/site-packages/cca_zoo/models/iterative.py:106: UserWarning: Inner loop 0 not converged. Increase number of iterations.\n",
      "  warnings.warn(\n"
     ]
    },
    {
     "name": "stdout",
     "output_type": "stream",
     "text": [
      "params: 0.001, 0.3, 0.75\n"
     ]
    },
    {
     "name": "stderr",
     "output_type": "stream",
     "text": [
      "/opt/anaconda3/lib/python3.9/site-packages/numpy/lib/function_base.py:2642: RuntimeWarning: invalid value encountered in true_divide\n",
      "  c /= stddev[:, None]\n",
      "/opt/anaconda3/lib/python3.9/site-packages/numpy/lib/function_base.py:2643: RuntimeWarning: invalid value encountered in true_divide\n",
      "  c /= stddev[None, :]\n",
      "/opt/anaconda3/lib/python3.9/site-packages/numpy/lib/function_base.py:2642: RuntimeWarning: invalid value encountered in true_divide\n",
      "  c /= stddev[:, None]\n",
      "/opt/anaconda3/lib/python3.9/site-packages/numpy/lib/function_base.py:2643: RuntimeWarning: invalid value encountered in true_divide\n",
      "  c /= stddev[None, :]\n"
     ]
    },
    {
     "name": "stdout",
     "output_type": "stream",
     "text": [
      "CCA score (train): nan\n",
      "CCA score (test): nan\n"
     ]
    },
    {
     "name": "stderr",
     "output_type": "stream",
     "text": [
      "/opt/anaconda3/lib/python3.9/site-packages/cca_zoo/models/iterative.py:106: UserWarning: Inner loop 0 not converged. Increase number of iterations.\n",
      "  warnings.warn(\n"
     ]
    },
    {
     "name": "stdout",
     "output_type": "stream",
     "text": [
      "params: 0.01, 0.01, 0.25\n",
      "CCA score (train): 0.9816748838476244\n",
      "CCA score (test): 0.07137191664014075\n"
     ]
    },
    {
     "name": "stderr",
     "output_type": "stream",
     "text": [
      "/opt/anaconda3/lib/python3.9/site-packages/cca_zoo/models/iterative.py:106: UserWarning: Inner loop 0 not converged. Increase number of iterations.\n",
      "  warnings.warn(\n"
     ]
    },
    {
     "name": "stdout",
     "output_type": "stream",
     "text": [
      "params: 0.01, 0.01, 0.5\n",
      "CCA score (train): 0.9533334428203619\n",
      "CCA score (test): 0.08889506109668233\n"
     ]
    },
    {
     "name": "stderr",
     "output_type": "stream",
     "text": [
      "/opt/anaconda3/lib/python3.9/site-packages/cca_zoo/models/iterative.py:106: UserWarning: Inner loop 0 not converged. Increase number of iterations.\n",
      "  warnings.warn(\n"
     ]
    },
    {
     "name": "stdout",
     "output_type": "stream",
     "text": [
      "params: 0.01, 0.01, 0.75\n",
      "CCA score (train): 0.9197242231369032\n",
      "CCA score (test): 0.08329226773933329\n"
     ]
    },
    {
     "name": "stderr",
     "output_type": "stream",
     "text": [
      "/opt/anaconda3/lib/python3.9/site-packages/cca_zoo/models/iterative.py:106: UserWarning: Inner loop 0 not converged. Increase number of iterations.\n",
      "  warnings.warn(\n"
     ]
    },
    {
     "name": "stdout",
     "output_type": "stream",
     "text": [
      "params: 0.01, 0.1, 0.25\n",
      "CCA score (train): 0.69372576380198\n",
      "CCA score (test): 0.05523579764964981\n"
     ]
    },
    {
     "name": "stderr",
     "output_type": "stream",
     "text": [
      "/opt/anaconda3/lib/python3.9/site-packages/cca_zoo/models/iterative.py:106: UserWarning: Inner loop 0 not converged. Increase number of iterations.\n",
      "  warnings.warn(\n"
     ]
    },
    {
     "name": "stdout",
     "output_type": "stream",
     "text": [
      "params: 0.01, 0.1, 0.5\n",
      "CCA score (train): 0.47818635628641437\n",
      "CCA score (test): 0.09402424866681458\n"
     ]
    },
    {
     "name": "stderr",
     "output_type": "stream",
     "text": [
      "/opt/anaconda3/lib/python3.9/site-packages/cca_zoo/models/iterative.py:106: UserWarning: Inner loop 0 not converged. Increase number of iterations.\n",
      "  warnings.warn(\n"
     ]
    },
    {
     "name": "stdout",
     "output_type": "stream",
     "text": [
      "params: 0.01, 0.1, 0.75\n",
      "CCA score (train): 0.321554714565232\n",
      "CCA score (test): 0.049957429812833354\n"
     ]
    },
    {
     "name": "stderr",
     "output_type": "stream",
     "text": [
      "/opt/anaconda3/lib/python3.9/site-packages/cca_zoo/models/iterative.py:106: UserWarning: Inner loop 0 not converged. Increase number of iterations.\n",
      "  warnings.warn(\n"
     ]
    },
    {
     "name": "stdout",
     "output_type": "stream",
     "text": [
      "params: 0.01, 0.3, 0.25\n",
      "CCA score (train): 0.3328356412162763\n",
      "CCA score (test): 0.08083213562960379\n"
     ]
    },
    {
     "name": "stderr",
     "output_type": "stream",
     "text": [
      "/opt/anaconda3/lib/python3.9/site-packages/cca_zoo/models/iterative.py:106: UserWarning: Inner loop 0 not converged. Increase number of iterations.\n",
      "  warnings.warn(\n"
     ]
    },
    {
     "name": "stdout",
     "output_type": "stream",
     "text": [
      "params: 0.01, 0.3, 0.5\n",
      "CCA score (train): 0.14506099405644624\n",
      "CCA score (test): 0.015297211798138033\n"
     ]
    },
    {
     "name": "stderr",
     "output_type": "stream",
     "text": [
      "/opt/anaconda3/lib/python3.9/site-packages/cca_zoo/models/iterative.py:122: RuntimeWarning: invalid value encountered in true_divide\n",
      "  - np.outer(score, score) @ residual / np.dot(score, score).item()\n",
      "/opt/anaconda3/lib/python3.9/site-packages/cca_zoo/models/iterative.py:106: UserWarning: Inner loop 0 not converged. Increase number of iterations.\n",
      "  warnings.warn(\n"
     ]
    },
    {
     "name": "stdout",
     "output_type": "stream",
     "text": [
      "params: 0.01, 0.3, 0.75\n"
     ]
    },
    {
     "name": "stderr",
     "output_type": "stream",
     "text": [
      "/opt/anaconda3/lib/python3.9/site-packages/numpy/lib/function_base.py:2642: RuntimeWarning: invalid value encountered in true_divide\n",
      "  c /= stddev[:, None]\n",
      "/opt/anaconda3/lib/python3.9/site-packages/numpy/lib/function_base.py:2643: RuntimeWarning: invalid value encountered in true_divide\n",
      "  c /= stddev[None, :]\n",
      "/opt/anaconda3/lib/python3.9/site-packages/numpy/lib/function_base.py:2642: RuntimeWarning: invalid value encountered in true_divide\n",
      "  c /= stddev[:, None]\n",
      "/opt/anaconda3/lib/python3.9/site-packages/numpy/lib/function_base.py:2643: RuntimeWarning: invalid value encountered in true_divide\n",
      "  c /= stddev[None, :]\n"
     ]
    },
    {
     "name": "stdout",
     "output_type": "stream",
     "text": [
      "CCA score (train): nan\n",
      "CCA score (test): nan\n"
     ]
    },
    {
     "name": "stderr",
     "output_type": "stream",
     "text": [
      "/opt/anaconda3/lib/python3.9/site-packages/cca_zoo/models/iterative.py:106: UserWarning: Inner loop 0 not converged. Increase number of iterations.\n",
      "  warnings.warn(\n"
     ]
    },
    {
     "name": "stdout",
     "output_type": "stream",
     "text": [
      "params: 0.1, 0.01, 0.25\n",
      "CCA score (train): 0.9806461001011462\n",
      "CCA score (test): 0.07016648503970435\n"
     ]
    },
    {
     "name": "stderr",
     "output_type": "stream",
     "text": [
      "/opt/anaconda3/lib/python3.9/site-packages/cca_zoo/models/iterative.py:106: UserWarning: Inner loop 0 not converged. Increase number of iterations.\n",
      "  warnings.warn(\n"
     ]
    },
    {
     "name": "stdout",
     "output_type": "stream",
     "text": [
      "params: 0.1, 0.01, 0.5\n",
      "CCA score (train): 0.95085375029125\n",
      "CCA score (test): 0.09197478073418597\n"
     ]
    },
    {
     "name": "stderr",
     "output_type": "stream",
     "text": [
      "/opt/anaconda3/lib/python3.9/site-packages/cca_zoo/models/iterative.py:106: UserWarning: Inner loop 0 not converged. Increase number of iterations.\n",
      "  warnings.warn(\n"
     ]
    },
    {
     "name": "stdout",
     "output_type": "stream",
     "text": [
      "params: 0.1, 0.01, 0.75\n",
      "CCA score (train): 0.9139971894144339\n",
      "CCA score (test): 0.13497750253742113\n"
     ]
    },
    {
     "name": "stderr",
     "output_type": "stream",
     "text": [
      "/opt/anaconda3/lib/python3.9/site-packages/cca_zoo/models/iterative.py:106: UserWarning: Inner loop 0 not converged. Increase number of iterations.\n",
      "  warnings.warn(\n"
     ]
    },
    {
     "name": "stdout",
     "output_type": "stream",
     "text": [
      "params: 0.1, 0.1, 0.25\n",
      "CCA score (train): 0.6845989734063129\n",
      "CCA score (test): 0.05949816033481903\n"
     ]
    },
    {
     "name": "stderr",
     "output_type": "stream",
     "text": [
      "/opt/anaconda3/lib/python3.9/site-packages/cca_zoo/models/iterative.py:106: UserWarning: Inner loop 0 not converged. Increase number of iterations.\n",
      "  warnings.warn(\n"
     ]
    },
    {
     "name": "stdout",
     "output_type": "stream",
     "text": [
      "params: 0.1, 0.1, 0.5\n",
      "CCA score (train): 0.47222235735411644\n",
      "CCA score (test): 0.11710950552665977\n"
     ]
    },
    {
     "name": "stderr",
     "output_type": "stream",
     "text": [
      "/opt/anaconda3/lib/python3.9/site-packages/cca_zoo/models/iterative.py:106: UserWarning: Inner loop 0 not converged. Increase number of iterations.\n",
      "  warnings.warn(\n"
     ]
    },
    {
     "name": "stdout",
     "output_type": "stream",
     "text": [
      "params: 0.1, 0.1, 0.75\n",
      "CCA score (train): 0.27158240915685905\n",
      "CCA score (test): 0.0820297674003021\n"
     ]
    },
    {
     "name": "stderr",
     "output_type": "stream",
     "text": [
      "/opt/anaconda3/lib/python3.9/site-packages/cca_zoo/models/iterative.py:106: UserWarning: Inner loop 0 not converged. Increase number of iterations.\n",
      "  warnings.warn(\n"
     ]
    },
    {
     "name": "stdout",
     "output_type": "stream",
     "text": [
      "params: 0.1, 0.3, 0.25\n",
      "CCA score (train): 0.2954252701584239\n",
      "CCA score (test): 0.08959664252957777\n"
     ]
    },
    {
     "name": "stderr",
     "output_type": "stream",
     "text": [
      "/opt/anaconda3/lib/python3.9/site-packages/cca_zoo/models/iterative.py:106: UserWarning: Inner loop 0 not converged. Increase number of iterations.\n",
      "  warnings.warn(\n"
     ]
    },
    {
     "name": "stdout",
     "output_type": "stream",
     "text": [
      "params: 0.1, 0.3, 0.5\n",
      "CCA score (train): 0.12172856078029914\n",
      "CCA score (test): 0.02632777698867983\n"
     ]
    },
    {
     "name": "stderr",
     "output_type": "stream",
     "text": [
      "/opt/anaconda3/lib/python3.9/site-packages/cca_zoo/models/iterative.py:122: RuntimeWarning: invalid value encountered in true_divide\n",
      "  - np.outer(score, score) @ residual / np.dot(score, score).item()\n"
     ]
    },
    {
     "name": "stdout",
     "output_type": "stream",
     "text": [
      "params: 0.1, 0.3, 0.75\n",
      "CCA score (train): nan\n",
      "CCA score (test): nan\n"
     ]
    },
    {
     "name": "stderr",
     "output_type": "stream",
     "text": [
      "/opt/anaconda3/lib/python3.9/site-packages/numpy/lib/function_base.py:2642: RuntimeWarning: invalid value encountered in true_divide\n",
      "  c /= stddev[:, None]\n",
      "/opt/anaconda3/lib/python3.9/site-packages/numpy/lib/function_base.py:2643: RuntimeWarning: invalid value encountered in true_divide\n",
      "  c /= stddev[None, :]\n",
      "/opt/anaconda3/lib/python3.9/site-packages/numpy/lib/function_base.py:2642: RuntimeWarning: invalid value encountered in true_divide\n",
      "  c /= stddev[:, None]\n",
      "/opt/anaconda3/lib/python3.9/site-packages/numpy/lib/function_base.py:2643: RuntimeWarning: invalid value encountered in true_divide\n",
      "  c /= stddev[None, :]\n"
     ]
    }
   ],
   "source": [
    "#hyperparam optimization\n",
    "from cca_zoo.models import ElasticCCA\n",
    "\n",
    "eCCA_model = ElasticCCA(max_iter=100000)\n",
    "eCCA_param_grid = {\"c\" : [[1e-3,1e-2,1e-1], [1e-2,1e-1,3e-1]], \"l1_ratio\" : [0.25,0.5,0.75]}\n",
    "# c is lasso alpha for each view\n",
    "# l1_ratio is l1 ratio in lasso subproblems\n",
    "\n",
    "for foldind in range(0,10):\n",
    "    #foldind = 0 #remember python starts indexing at 0, while R and Matlab start at 1\n",
    "\n",
    "    # load 10-fold cross validation (CV) splits\n",
    "    #replication\n",
    "    thisfold_file = userhome + r'/Desktop/OCS_bigdata_ML_local/FINAL/replication/data/PartitionsEnCCA/partitions2_rep01fold' + str(foldind + 1) + r'.csv'\n",
    "    print(thisfold_file)\n",
    "    thisfold_file = pd.read_csv(thisfold_file)\n",
    "    thisfold_file = thisfold_file.to_numpy()\n",
    "    print(type(thisfold_file))\n",
    "    print(thisfold_file.shape)\n",
    "\n",
    "    # for each CV fold, extract only the selected participants and features\n",
    "    # NB: put this in loop later once troubleshooting complete\n",
    "    # NB: row and col indices were generated in R/Matlab, which index from 1. python indexes from 0\n",
    "    thisfold_clin_features = clin_features[(thisfold_file - 1), :]\n",
    "    #print(thisfold_clin_features.shape)\n",
    "    thisfold_clin_features = np.squeeze(thisfold_clin_features)\n",
    "    print(thisfold_clin_features.shape)\n",
    "    #print(thisfold_clin_features)\n",
    "\n",
    "    thisfold_rsFC_features = rsFC_features[(thisfold_file - 1), stable_features.astype(int)-1]\n",
    "    print(thisfold_rsFC_features.shape)\n",
    "\n",
    "    #thisfoldfeats = CVfold_features[foldind, :][~np.isnan(CVfold_features[foldind, :])]\n",
    "    #thisfold_rsFC_features = rsFC_features[(thisfold_file - 1), thisfoldfeats.astype(int)-1]\n",
    "    #print(thisfold_rsFC_features.shape)\n",
    "    #print(thisfold_rsFC_features)\n",
    "\n",
    "\n",
    "    #test set for this CV fold\n",
    "    thisfold_clin_features_TEST = np.delete(clin_features,thisfold_file-1, axis=0)\n",
    "    print(thisfold_clin_features_TEST.shape)\n",
    "    thisfold_rsFC_features_TEST = np.delete(rsFC_features,thisfold_file-1, axis=0)\n",
    "    thisfold_rsFC_features_TEST = thisfold_rsFC_features_TEST[:, stable_features.astype(int) - 1]\n",
    "    thisfold_rsFC_features_TEST = np.squeeze(thisfold_rsFC_features_TEST)\n",
    "    #thisfold_rsFC_features_TEST = thisfold_rsFC_features_TEST[:, thisfoldfeats.astype(int) - 1]\n",
    "    print(thisfold_rsFC_features_TEST.shape)\n",
    "    \n",
    "    paramind = 0\n",
    "    for thisc1 in eCCA_param_grid[\"c\"][0]:\n",
    "        for thisc2 in eCCA_param_grid[\"c\"][1]:\n",
    "            for thisl1_ratio in eCCA_param_grid[\"l1_ratio\"]:\n",
    "                eCCA_fit = ElasticCCA(c = (thisc1, thisc2), l1_ratio = thisl1_ratio, latent_dims=1).fit([thisfold_clin_features, thisfold_rsFC_features])\n",
    "                eCCA_eachfold_c1[foldind,paramind] = thisc1\n",
    "                eCCA_eachfold_c2[foldind,paramind] = thisc2\n",
    "                eCCA_eachfold_l1_ratio[foldind,paramind] = thisl1_ratio\n",
    "                print('params: ' + str(thisc1) + ', ' + str(thisc2) + ', ' + str(thisl1_ratio))\n",
    "                eCCA_eachfold_score_TRAIN[foldind,paramind] = eCCA_fit.score((thisfold_clin_features, thisfold_rsFC_features))[0]\n",
    "                print('CCA score (train): ' + str(eCCA_eachfold_score_TRAIN[foldind,paramind]))\n",
    "                eCCA_eachfold_score_TEST[foldind,paramind] = eCCA_fit.score((thisfold_clin_features_TEST, thisfold_rsFC_features_TEST))[0]\n",
    "                print('CCA score (test): ' + str(eCCA_eachfold_score_TEST[foldind,paramind]))\n",
    "\n",
    "                paramind = paramind + 1"
   ]
  },
  {
   "cell_type": "code",
   "execution_count": 16,
   "id": "df39678c",
   "metadata": {},
   "outputs": [
    {
     "data": {
      "text/plain": [
       "array([[0.013357523997242104, 0.024015047696634095, 0.02387254337830269,\n",
       "        0.06494228628703813, 0.08034762000959406, 0.10798699701271675,\n",
       "        0.12444584244389345, 0.08597932757408677, nan,\n",
       "        0.013559102295631398, 0.029059335097993078, 0.02491663518597864,\n",
       "        0.07845811393921442, 0.10910731790413197, 0.13494631597653717,\n",
       "        0.12501566422496047, 0.0870423873770807, nan,\n",
       "        -0.006136543134060868, 0.023226432571726185,\n",
       "        -0.025336165215354978, 0.05858600877003117, 0.09987000197796037,\n",
       "        0.07943119655256825, 0.13248368284664602, 0.07239435000105865,\n",
       "        nan],\n",
       "       [0.021822279437953007, 0.018427258205131025, 0.03899354407002109,\n",
       "        -0.00036620678165255605, 0.0718568661598038, 0.04000342232571574,\n",
       "        0.04201501406959407, 0.007270660414080421, nan,\n",
       "        0.02283531872582545, 0.014161055912492726, 0.029429752703832524,\n",
       "        0.004415235917835103, 0.061215073398919184, 0.036540261802811225,\n",
       "        0.03859629608133286, 0.0035493447421299784, nan,\n",
       "        0.029381851045878093, 0.06660026043901746, 0.09774407307663457,\n",
       "        0.012157561152701835, 0.055103149627817816, 0.03247618210884218,\n",
       "        0.03873963538040348, -0.003211407537715205, nan],\n",
       "       [-0.013135545939806814, -0.010680010246299387,\n",
       "        -0.01591629856827459, 0.02160931188668358, 0.008910771899363512,\n",
       "        0.014223771112437333, 0.01707468762955866, 0.026145718176643573,\n",
       "        nan, -0.015991550378981145, -0.01042952391208285,\n",
       "        -0.015069714958606317, 0.020798872878843078,\n",
       "        0.0025860117797786852, 0.005837461438495062,\n",
       "        0.0008173838569964786, 0.03166249052772052, nan,\n",
       "        -0.03386905514948779, 0.024435197139822007,\n",
       "        -0.006359806430416115, 0.01474148224060512, 0.019506185078807192,\n",
       "        0.02043425127223175, 0.010289212082495336, 0.03807699968879086,\n",
       "        nan],\n",
       "       [0.1119321687887016, 0.13059538381044877, 0.12625803534308955,\n",
       "        0.16225807874938036, 0.17204878983167649, 0.17118995092634703,\n",
       "        0.18703356698244322, 0.12114970554400561, nan,\n",
       "        0.11085660630255689, 0.13254459190388257, 0.13321696246017334,\n",
       "        0.1673236742145754, 0.1791658937339058, 0.17788242343363048,\n",
       "        0.19160643307502823, 0.12171660996000244, nan,\n",
       "        0.07460377931719653, 0.05515244460751845, 0.05395075997325516,\n",
       "        0.177226067829916, 0.15815369238547605, 0.13047059043252673,\n",
       "        0.18362127730160926, 0.04208050671691099, nan],\n",
       "       [-0.08295447475955364, -0.04650107080134935,\n",
       "        -0.044444145475542096, -0.038268688345697854,\n",
       "        -0.01601070412475325, -0.011834264616307877,\n",
       "        -0.025841025464140688, -0.05522051100615022, nan,\n",
       "        -0.07688212209632983, -0.053268967388458766,\n",
       "        -0.043755098519970836, -0.04433964313294925,\n",
       "        -0.016181957370725142, 0.0035721002999031803,\n",
       "        -0.021927783836182657, -0.047638267824613334, nan,\n",
       "        -0.047209645398683886, -0.02274765094711051,\n",
       "        -0.019585748471934616, -0.017153749042968403,\n",
       "        0.051615062135435874, 0.017954605857058548, 0.008354720936031512,\n",
       "        -0.02945444223210658, nan],\n",
       "       [-0.05539614164831119, -0.07239521516257497, -0.08271533565088984,\n",
       "        -0.062383884203463746, -0.016522028305543834,\n",
       "        0.043710058163272336, 0.043807698676091134, 0.02429490655255151,\n",
       "        nan, -0.05595131228002925, -0.0676051248861097,\n",
       "        -0.06893173661697527, -0.0478993722447949, -0.010703355020857175,\n",
       "        0.03590107659726405, 0.044465111246786204, 0.026098237945965108,\n",
       "        nan, -0.06259598099487451, -0.05820809067350852,\n",
       "        -0.03831503422811777, -0.03668599990549248, 0.050043387969679776,\n",
       "        0.005782483175088338, 0.04816228029067271, 0.030736545779567193,\n",
       "        nan],\n",
       "       [-0.09276133656977759, -0.1178886606458428, -0.14049073305415627,\n",
       "        -0.1012030674008042, 0.0001704860481179793, -0.04291262147165564,\n",
       "        -0.033249420107354544, 0.012498571514693246, nan,\n",
       "        -0.09518748492312112, -0.12498664493604839, -0.15137164932989478,\n",
       "        -0.10645325131849714, -0.01373298838186976,\n",
       "        -0.047505613937792956, -0.03542453199922735,\n",
       "        0.017619701454306913, nan, -0.09399976565014145,\n",
       "        -0.12386518286581882, -0.11430617388691044, -0.10561878155733939,\n",
       "        -0.020312896459925844, -0.03842956855252544,\n",
       "        -0.026579411623560256, 0.009117439161935081, nan],\n",
       "       [-0.0451007576625041, -0.005686318062536055, 0.022123023698671807,\n",
       "        0.11712843561986053, 0.06905340609536914, 0.03715801601007174,\n",
       "        0.02519816241552908, 0.06574858325655919, nan,\n",
       "        -0.04884887804436144, -0.007615467368865758, 0.02839098053062994,\n",
       "        0.10795828927561324, 0.08576910545709104, 0.10544945177459142,\n",
       "        0.05287632123097952, 0.0768310042207665, nan,\n",
       "        -0.06646452592165975, 0.06880335393786652, 0.10074162694219857,\n",
       "        0.09639298034673582, 0.11869237487214157, 0.11971725537603883,\n",
       "        0.15005953807387584, 0.10115364415612493, nan],\n",
       "       [-0.1175074710395817, -0.09011194415945722, -0.057104803118216196,\n",
       "        -0.027960518048945615, 0.03370877748667578, 0.043354175567209996,\n",
       "        0.05515895534197757, 0.011861085130615567, nan,\n",
       "        -0.11770544169255648, -0.09193569874000751, -0.06988187944052493,\n",
       "        -0.032487257361625055, 0.022034981681472443,\n",
       "        0.023169149275648504, 0.04733425857634588, 0.032166634526068494,\n",
       "        nan, -0.12216520170726475, -0.06057161989137705,\n",
       "        -0.04017356507972947, -0.039659921078442295,\n",
       "        -0.013077217712187394, -0.053620191273066053,\n",
       "        0.037688871153382264, 0.015750359389104407, nan],\n",
       "       [0.07041949043439599, 0.08464660360076826, 0.08308430130050515,\n",
       "        0.05756822465281908, 0.08664937832855357, 0.04005824421552129,\n",
       "        0.07945956800696652, 0.013660086485335343, nan,\n",
       "        0.07137191664014075, 0.08889506109668233, 0.08329226773933329,\n",
       "        0.05523579764964981, 0.09402424866681458, 0.049957429812833354,\n",
       "        0.08083213562960379, 0.015297211798138033, nan,\n",
       "        0.07016648503970435, 0.09197478073418597, 0.13497750253742113,\n",
       "        0.05949816033481903, 0.11710950552665977, 0.0820297674003021,\n",
       "        0.08959664252957777, 0.02632777698867983, nan]], dtype=object)"
      ]
     },
     "execution_count": 16,
     "metadata": {},
     "output_type": "execute_result"
    }
   ],
   "source": [
    "#scratch - check that output is working\n",
    "eCCA_eachfold_score_TEST"
   ]
  },
  {
   "cell_type": "code",
   "execution_count": 17,
   "id": "0af208ec",
   "metadata": {},
   "outputs": [
    {
     "ename": "ZeroDivisionError",
     "evalue": "division by zero",
     "output_type": "error",
     "traceback": [
      "\u001b[0;31m---------------------------------------------------------------------------\u001b[0m",
      "\u001b[0;31mZeroDivisionError\u001b[0m                         Traceback (most recent call last)",
      "\u001b[0;32m/var/folders/ky/n6xry0f10zx60fhjgm3yybxh0000gn/T/ipykernel_42749/3913514579.py\u001b[0m in \u001b[0;36m<module>\u001b[0;34m\u001b[0m\n\u001b[1;32m      2\u001b[0m \u001b[0;34m\u001b[0m\u001b[0m\n\u001b[1;32m      3\u001b[0m \u001b[0;31m#print(eCCA_eachfold_score_TRAIN[0:4,:])\u001b[0m\u001b[0;34m\u001b[0m\u001b[0;34m\u001b[0m\u001b[0m\n\u001b[0;32m----> 4\u001b[0;31m \u001b[0meCCA_average_score_TRAIN\u001b[0m \u001b[0;34m=\u001b[0m \u001b[0mnp\u001b[0m\u001b[0;34m.\u001b[0m\u001b[0mnanmean\u001b[0m\u001b[0;34m(\u001b[0m\u001b[0meCCA_eachfold_score_TRAIN\u001b[0m\u001b[0;34m[\u001b[0m\u001b[0;34m:\u001b[0m\u001b[0;34m,\u001b[0m\u001b[0;34m:\u001b[0m\u001b[0;34m]\u001b[0m\u001b[0;34m,\u001b[0m \u001b[0maxis\u001b[0m\u001b[0;34m=\u001b[0m\u001b[0;36m0\u001b[0m\u001b[0;34m)\u001b[0m\u001b[0;34m\u001b[0m\u001b[0;34m\u001b[0m\u001b[0m\n\u001b[0m\u001b[1;32m      5\u001b[0m \u001b[0mprint\u001b[0m\u001b[0;34m(\u001b[0m\u001b[0meCCA_average_score_TRAIN\u001b[0m\u001b[0;34m)\u001b[0m\u001b[0;34m\u001b[0m\u001b[0;34m\u001b[0m\u001b[0m\n\u001b[1;32m      6\u001b[0m \u001b[0;34m\u001b[0m\u001b[0m\n",
      "\u001b[0;32m<__array_function__ internals>\u001b[0m in \u001b[0;36mnanmean\u001b[0;34m(*args, **kwargs)\u001b[0m\n",
      "\u001b[0;32m/opt/anaconda3/lib/python3.9/site-packages/numpy/lib/nanfunctions.py\u001b[0m in \u001b[0;36mnanmean\u001b[0;34m(a, axis, dtype, out, keepdims)\u001b[0m\n\u001b[1;32m    948\u001b[0m     \u001b[0mcnt\u001b[0m \u001b[0;34m=\u001b[0m \u001b[0mnp\u001b[0m\u001b[0;34m.\u001b[0m\u001b[0msum\u001b[0m\u001b[0;34m(\u001b[0m\u001b[0;34m~\u001b[0m\u001b[0mmask\u001b[0m\u001b[0;34m,\u001b[0m \u001b[0maxis\u001b[0m\u001b[0;34m=\u001b[0m\u001b[0maxis\u001b[0m\u001b[0;34m,\u001b[0m \u001b[0mdtype\u001b[0m\u001b[0;34m=\u001b[0m\u001b[0mnp\u001b[0m\u001b[0;34m.\u001b[0m\u001b[0mintp\u001b[0m\u001b[0;34m,\u001b[0m \u001b[0mkeepdims\u001b[0m\u001b[0;34m=\u001b[0m\u001b[0mkeepdims\u001b[0m\u001b[0;34m)\u001b[0m\u001b[0;34m\u001b[0m\u001b[0;34m\u001b[0m\u001b[0m\n\u001b[1;32m    949\u001b[0m     \u001b[0mtot\u001b[0m \u001b[0;34m=\u001b[0m \u001b[0mnp\u001b[0m\u001b[0;34m.\u001b[0m\u001b[0msum\u001b[0m\u001b[0;34m(\u001b[0m\u001b[0marr\u001b[0m\u001b[0;34m,\u001b[0m \u001b[0maxis\u001b[0m\u001b[0;34m=\u001b[0m\u001b[0maxis\u001b[0m\u001b[0;34m,\u001b[0m \u001b[0mdtype\u001b[0m\u001b[0;34m=\u001b[0m\u001b[0mdtype\u001b[0m\u001b[0;34m,\u001b[0m \u001b[0mout\u001b[0m\u001b[0;34m=\u001b[0m\u001b[0mout\u001b[0m\u001b[0;34m,\u001b[0m \u001b[0mkeepdims\u001b[0m\u001b[0;34m=\u001b[0m\u001b[0mkeepdims\u001b[0m\u001b[0;34m)\u001b[0m\u001b[0;34m\u001b[0m\u001b[0;34m\u001b[0m\u001b[0m\n\u001b[0;32m--> 950\u001b[0;31m     \u001b[0mavg\u001b[0m \u001b[0;34m=\u001b[0m \u001b[0m_divide_by_count\u001b[0m\u001b[0;34m(\u001b[0m\u001b[0mtot\u001b[0m\u001b[0;34m,\u001b[0m \u001b[0mcnt\u001b[0m\u001b[0;34m,\u001b[0m \u001b[0mout\u001b[0m\u001b[0;34m=\u001b[0m\u001b[0mout\u001b[0m\u001b[0;34m)\u001b[0m\u001b[0;34m\u001b[0m\u001b[0;34m\u001b[0m\u001b[0m\n\u001b[0m\u001b[1;32m    951\u001b[0m \u001b[0;34m\u001b[0m\u001b[0m\n\u001b[1;32m    952\u001b[0m     \u001b[0misbad\u001b[0m \u001b[0;34m=\u001b[0m \u001b[0;34m(\u001b[0m\u001b[0mcnt\u001b[0m \u001b[0;34m==\u001b[0m \u001b[0;36m0\u001b[0m\u001b[0;34m)\u001b[0m\u001b[0;34m\u001b[0m\u001b[0;34m\u001b[0m\u001b[0m\n",
      "\u001b[0;32m/opt/anaconda3/lib/python3.9/site-packages/numpy/lib/nanfunctions.py\u001b[0m in \u001b[0;36m_divide_by_count\u001b[0;34m(a, b, out)\u001b[0m\n\u001b[1;32m    210\u001b[0m         \u001b[0;32mif\u001b[0m \u001b[0misinstance\u001b[0m\u001b[0;34m(\u001b[0m\u001b[0ma\u001b[0m\u001b[0;34m,\u001b[0m \u001b[0mnp\u001b[0m\u001b[0;34m.\u001b[0m\u001b[0mndarray\u001b[0m\u001b[0;34m)\u001b[0m\u001b[0;34m:\u001b[0m\u001b[0;34m\u001b[0m\u001b[0;34m\u001b[0m\u001b[0m\n\u001b[1;32m    211\u001b[0m             \u001b[0;32mif\u001b[0m \u001b[0mout\u001b[0m \u001b[0;32mis\u001b[0m \u001b[0;32mNone\u001b[0m\u001b[0;34m:\u001b[0m\u001b[0;34m\u001b[0m\u001b[0;34m\u001b[0m\u001b[0m\n\u001b[0;32m--> 212\u001b[0;31m                 \u001b[0;32mreturn\u001b[0m \u001b[0mnp\u001b[0m\u001b[0;34m.\u001b[0m\u001b[0mdivide\u001b[0m\u001b[0;34m(\u001b[0m\u001b[0ma\u001b[0m\u001b[0;34m,\u001b[0m \u001b[0mb\u001b[0m\u001b[0;34m,\u001b[0m \u001b[0mout\u001b[0m\u001b[0;34m=\u001b[0m\u001b[0ma\u001b[0m\u001b[0;34m,\u001b[0m \u001b[0mcasting\u001b[0m\u001b[0;34m=\u001b[0m\u001b[0;34m'unsafe'\u001b[0m\u001b[0;34m)\u001b[0m\u001b[0;34m\u001b[0m\u001b[0;34m\u001b[0m\u001b[0m\n\u001b[0m\u001b[1;32m    213\u001b[0m             \u001b[0;32melse\u001b[0m\u001b[0;34m:\u001b[0m\u001b[0;34m\u001b[0m\u001b[0;34m\u001b[0m\u001b[0m\n\u001b[1;32m    214\u001b[0m                 \u001b[0;32mreturn\u001b[0m \u001b[0mnp\u001b[0m\u001b[0;34m.\u001b[0m\u001b[0mdivide\u001b[0m\u001b[0;34m(\u001b[0m\u001b[0ma\u001b[0m\u001b[0;34m,\u001b[0m \u001b[0mb\u001b[0m\u001b[0;34m,\u001b[0m \u001b[0mout\u001b[0m\u001b[0;34m=\u001b[0m\u001b[0mout\u001b[0m\u001b[0;34m,\u001b[0m \u001b[0mcasting\u001b[0m\u001b[0;34m=\u001b[0m\u001b[0;34m'unsafe'\u001b[0m\u001b[0;34m)\u001b[0m\u001b[0;34m\u001b[0m\u001b[0;34m\u001b[0m\u001b[0m\n",
      "\u001b[0;31mZeroDivisionError\u001b[0m: division by zero"
     ]
    }
   ],
   "source": [
    "#average TRAIN and TEST correlations over CV folds\n",
    "\n",
    "#print(eCCA_eachfold_score_TRAIN[0:4,:])\n",
    "eCCA_average_score_TRAIN = np.nanmean(eCCA_eachfold_score_TRAIN[:,:], axis=0)\n",
    "print(eCCA_average_score_TRAIN)\n",
    "\n",
    "print('\\n')\n",
    "\n",
    "eCCA_average_score_TEST = np.nanmean(eCCA_eachfold_score_TEST[:,:], axis=0)\n",
    "print(eCCA_average_score_TEST)\n",
    "print(max(eCCA_average_score_TEST))\n",
    "\n",
    "print('\\n')\n",
    "print(eCCA_eachfold_c1)\n",
    "print('\\n')\n",
    "print(eCCA_eachfold_c2)\n",
    "print('\\n')\n",
    "print(eCCA_eachfold_l1_ratio)\n",
    "\n",
    "#generate visualization/heatmap of correlation by params"
   ]
  },
  {
   "cell_type": "code",
   "execution_count": 19,
   "id": "01af0081",
   "metadata": {},
   "outputs": [],
   "source": [
    "# save files\n",
    "np.savetxt(userhome + r'/Desktop/OCS_bigdata_ML_local/FINAL/replication/results/elasticnetCCA_scaled/discovery-selected-features/hyperparam_tuning/eCCA_eachfold_c1.csv', eCCA_eachfold_c1, delimiter=',')\n",
    "np.savetxt(userhome + r'/Desktop/OCS_bigdata_ML_local/FINAL/replication/results/elasticnetCCA_scaled/discovery-selected-features/hyperparam_tuning/eCCA_eachfold_c2.csv', eCCA_eachfold_c2, delimiter=',')\n",
    "np.savetxt(userhome + r'/Desktop/OCS_bigdata_ML_local/FINAL/replication/results/elasticnetCCA_scaled/discovery-selected-features/hyperparam_tuning/eCCA_eachfold_l1_ratio.csv', eCCA_eachfold_l1_ratio, delimiter=',')\n",
    "np.savetxt(userhome + r'/Desktop/OCS_bigdata_ML_local/FINAL/replication/results/elasticnetCCA_scaled/discovery-selected-features/hyperparam_tuning/eCCA_eachfold_score_TRAIN.csv', eCCA_eachfold_score_TRAIN, delimiter=',')\n",
    "np.savetxt(userhome + r'/Desktop/OCS_bigdata_ML_local/FINAL/replication/results/elasticnetCCA_scaled/discovery-selected-features/hyperparam_tuning/eCCA_eachfold_score_TEST.csv', eCCA_eachfold_score_TEST, delimiter=',')\n",
    "\n",
    "# END OF HYPERPARAMETER OPTIMIZATION CODE\n"
   ]
  },
  {
   "cell_type": "code",
   "execution_count": 20,
   "id": "cc2c9c6b",
   "metadata": {},
   "outputs": [
    {
     "name": "stdout",
     "output_type": "stream",
     "text": [
      "(7095, 1)\n",
      "(2926, 7095)\n",
      "dims: 8\n"
     ]
    },
    {
     "name": "stderr",
     "output_type": "stream",
     "text": [
      "/opt/anaconda3/lib/python3.9/site-packages/cca_zoo/models/iterative.py:106: UserWarning: Inner loop 0 not converged. Increase number of iterations.\n",
      "  warnings.warn(\n",
      "/opt/anaconda3/lib/python3.9/site-packages/cca_zoo/models/iterative.py:106: UserWarning: Inner loop 1 not converged. Increase number of iterations.\n",
      "  warnings.warn(\n",
      "/opt/anaconda3/lib/python3.9/site-packages/cca_zoo/models/iterative.py:106: UserWarning: Inner loop 2 not converged. Increase number of iterations.\n",
      "  warnings.warn(\n",
      "/opt/anaconda3/lib/python3.9/site-packages/cca_zoo/models/iterative.py:106: UserWarning: Inner loop 3 not converged. Increase number of iterations.\n",
      "  warnings.warn(\n",
      "/opt/anaconda3/lib/python3.9/site-packages/cca_zoo/models/iterative.py:106: UserWarning: Inner loop 4 not converged. Increase number of iterations.\n",
      "  warnings.warn(\n",
      "/opt/anaconda3/lib/python3.9/site-packages/cca_zoo/models/iterative.py:106: UserWarning: Inner loop 5 not converged. Increase number of iterations.\n",
      "  warnings.warn(\n",
      "/opt/anaconda3/lib/python3.9/site-packages/cca_zoo/models/iterative.py:106: UserWarning: Inner loop 6 not converged. Increase number of iterations.\n",
      "  warnings.warn(\n",
      "/opt/anaconda3/lib/python3.9/site-packages/cca_zoo/models/iterative.py:106: UserWarning: Inner loop 7 not converged. Increase number of iterations.\n",
      "  warnings.warn(\n"
     ]
    },
    {
     "name": "stdout",
     "output_type": "stream",
     "text": [
      "params: 0.1, 0.3, 0.25\n",
      "All subsample CCA scores: [0.30785829 0.2588202  0.26790421 0.26115445 0.29509618 0.20255988\n",
      " 0.25854365 0.26562124]\n"
     ]
    }
   ],
   "source": [
    "#Rerun elastic net CCA using full discovery sample and optimized hyperparameters\n",
    "from cca_zoo.models import ElasticCCA\n",
    "eCCA_model = ElasticCCA(max_iter=1000000000)\n",
    "\n",
    "#discovery-selected features\n",
    "optim_c1 = 0.1\n",
    "optim_c2 = 0.3\n",
    "optim_l1_ratio = 0.25\n",
    "#replication-selected features\n",
    "#optim_c1 = 0.001\n",
    "#optim_c2 = 0.01\n",
    "#optim_l1_ratio = 0.75\n",
    "\n",
    "#load selected feature indices file\n",
    "allsubsample_selected_features = np.transpose(stable_features[:,:])\n",
    "print(allsubsample_selected_features.shape)\n",
    "\n",
    "allsubsample_rsFC_features = rsFC_features[:, allsubsample_selected_features[:,0] - 1]\n",
    "#print(alldiscovery_rsFC_features)\n",
    "print(allsubsample_rsFC_features.shape)\n",
    "\n",
    "dims = min(np.linalg.matrix_rank(allsubsample_rsFC_features),np.linalg.matrix_rank(clin_features))\n",
    "print('dims: ' + str(dims))\n",
    "\n",
    "eCCA_fit = ElasticCCA(c = (optim_c1, optim_c2), l1_ratio = optim_l1_ratio, latent_dims=dims).fit([clin_features, allsubsample_rsFC_features])\n",
    "print('params: ' + str(optim_c1) + ', ' + str(optim_c2) + ', ' + str(optim_l1_ratio))\n",
    "allsubsample_scores = eCCA_fit.score((clin_features, allsubsample_rsFC_features))\n",
    "print('All subsample CCA scores: ' + str(allsubsample_scores))\n",
    "\n",
    "#calculate transformed canonical variate values\n",
    "U,V = eCCA_fit.transform([clin_features, allsubsample_rsFC_features])\n",
    "#U1,V1 = eCCA_fit.fit_transform([clin_features, alldiscovery_rsFC_features])\n",
    "\n"
   ]
  },
  {
   "cell_type": "code",
   "execution_count": 21,
   "id": "5d9f649d",
   "metadata": {},
   "outputs": [
    {
     "name": "stdout",
     "output_type": "stream",
     "text": [
      "(8, 8)\n",
      "(7095, 8)\n",
      "All subsample - clinical loadings CV1: \n",
      "[-36.23461112 -23.26651035 -17.64034161 -18.27827868 -30.87635264\n",
      " -15.65411745 -15.93798782 -34.31117888]\n",
      "All subsample - clinical loadings CV2: \n",
      "[  9.3414226   26.70461106  38.43223616  34.6054645    2.96560336\n",
      "  -2.70985046 -14.55728883  17.91307486]\n",
      "All subsample - clinical loadings CV3: \n",
      "[12.60788172  7.00976173  4.05623745  4.14789932 16.04268573 50.92832773\n",
      " 19.75479543  7.94648911]\n",
      "All subsample - clinical loadings CV4: \n",
      "[ -3.19814589  -5.82987734  18.01401483 -34.08248801  -3.37321765\n",
      "  -1.03016694  -3.00194069  -2.88774666]\n",
      "All subsample - clinical loadings CV5: \n",
      "[ -3.90879916   2.11663587   5.90217808   2.90245317 -40.08579763\n",
      "  -9.53889899  -6.76321853  22.40986241]\n",
      "All subsample - clinical loadings CV6: \n",
      "[19.14087767 54.74574608 20.0493424  22.71831906 13.43562577 14.94354819\n",
      " 28.44842045 19.2110289 ]\n",
      "All subsample - clinical loadings CV7: \n",
      "[18.12800489 10.34120401 25.31715538 20.45330288 15.92632801 20.59203329\n",
      " 51.81856035 17.08691235]\n",
      "All subsample - clinical loadings CV8: \n",
      "[42.7052369   5.59287477  2.41049424  3.31728509  3.50979206  6.51479133\n",
      "  7.54843844 -6.36237561]\n",
      "[  97.57445156  -49.73834375   14.11718464 ... -420.96188112   44.23214555\n",
      "   -2.27558108]\n"
     ]
    }
   ],
   "source": [
    "# View clinical loadings\n",
    "#alldiscovery_loadings = eCCA_fit.get_loadings((clin_features, alldiscovery_rsFC_features))\n",
    "allsubsample_loadings = eCCA_fit.get_loadings((clin_features, allsubsample_rsFC_features), normalize=True)\n",
    "allsubsample_loadings_u = allsubsample_loadings[0]\n",
    "allsubsample_loadings_v = allsubsample_loadings[1]\n",
    "\n",
    "print(allsubsample_loadings_u.shape)\n",
    "print(allsubsample_loadings_v.shape)\n",
    "\n",
    "print('All subsample - clinical loadings CV1: \\n' + str(allsubsample_loadings_u[:,0]))\n",
    "print('All subsample - clinical loadings CV2: \\n' + str(allsubsample_loadings_u[:,1]))\n",
    "print('All subsample - clinical loadings CV3: \\n' + str(allsubsample_loadings_u[:,2]))\n",
    "print('All subsample - clinical loadings CV4: \\n' + str(allsubsample_loadings_u[:,3]))\n",
    "print('All subsample - clinical loadings CV5: \\n' + str(allsubsample_loadings_u[:,4]))\n",
    "print('All subsample - clinical loadings CV6: \\n' + str(allsubsample_loadings_u[:,5]))\n",
    "print('All subsample - clinical loadings CV7: \\n' + str(allsubsample_loadings_u[:,6]))\n",
    "print('All subsample - clinical loadings CV8: \\n' + str(allsubsample_loadings_u[:,7]))\n",
    "\n",
    "print(clin_features@allsubsample_loadings_u[:,0])\n"
   ]
  },
  {
   "cell_type": "code",
   "execution_count": 22,
   "id": "9e3c7d46",
   "metadata": {},
   "outputs": [],
   "source": [
    "# Save clin loadings\n",
    "np.savetxt(userhome + r'/Desktop/OCS_bigdata_ML_local/FINAL/replication/results/elasticnetCCA_scaled/allreplication_clinloadings_u_CV1norm.csv', allsubsample_loadings_u[:,0], delimiter=',')\n",
    "np.savetxt(userhome + r'/Desktop/OCS_bigdata_ML_local/FINAL/replication/results/elasticnetCCA_scaled/allreplication_clinloadings_u_CV2norm.csv', allsubsample_loadings_u[:,1], delimiter=',')\n",
    "np.savetxt(userhome + r'/Desktop/OCS_bigdata_ML_local/FINAL/replication/results/elasticnetCCA_scaled/allreplication_clinloadings_u_CV3norm.csv', allsubsample_loadings_u[:,2], delimiter=',')\n",
    "np.savetxt(userhome + r'/Desktop/OCS_bigdata_ML_local/FINAL/replication/results/elasticnetCCA_scaled/allreplication_clinloadings_u_CV4norm.csv', allsubsample_loadings_u[:,3], delimiter=',')\n",
    "np.savetxt(userhome + r'/Desktop/OCS_bigdata_ML_local/FINAL/replication/results/elasticnetCCA_scaled/allreplication_clinloadings_u_CV5norm.csv', allsubsample_loadings_u[:,4], delimiter=',')\n",
    "np.savetxt(userhome + r'/Desktop/OCS_bigdata_ML_local/FINAL/replication/results/elasticnetCCA_scaled/allreplication_clinloadings_u_CV6norm.csv', allsubsample_loadings_u[:,5], delimiter=',')\n",
    "np.savetxt(userhome + r'/Desktop/OCS_bigdata_ML_local/FINAL/replication/results/elasticnetCCA_scaled/allreplication_clinloadings_u_CV7norm.csv', allsubsample_loadings_u[:,6], delimiter=',')\n",
    "np.savetxt(userhome + r'/Desktop/OCS_bigdata_ML_local/FINAL/replication/results/elasticnetCCA_scaled/allreplication_clinloadings_u_CV8norm.csv', allsubsample_loadings_u[:,7], delimiter=',')\n",
    "np.savetxt(userhome + r'/Desktop/OCS_bigdata_ML_local/FINAL/replication/results/elasticnetCCA_scaled/allreplication_clinloadings_allnorm.csv', allsubsample_loadings_u, delimiter=',')\n",
    "\n"
   ]
  },
  {
   "cell_type": "code",
   "execution_count": 23,
   "id": "1778d7c5",
   "metadata": {},
   "outputs": [
    {
     "name": "stdout",
     "output_type": "stream",
     "text": [
      "CV1\n",
      "[ 857  796  847 3465  347  350 2524  998  300 2051 3472 3249 3147 4210\n",
      "  545  303   22 2135  537 1922]\n",
      "[ -8.56942051  -8.63677465   8.67595258  -8.72420353  -8.76401239\n",
      "  -9.29641937  -9.43080467  -9.44001602  -9.56158988  -9.60563173\n",
      "  -9.68021515  -9.84486576 -10.04585609 -10.47377977 -10.60572908\n",
      " -10.82796689 -11.03556594 -11.04612459 -11.86851614 -13.27780614]\n",
      "CV2\n",
      "[5303 5269 1734 3456 4227 1870 5268 3467 4208 1717  415  396 6617 1869\n",
      "  349 5371 1174  811 1876 5279]\n",
      "[ 8.40205833  8.41959919  8.57862391  8.58194903  8.6342477   8.65066862\n",
      "  8.72558863  8.73074393  8.87976333  8.89484759  8.90162788  8.90520553\n",
      "  8.93514099  8.96268139  9.09284772  9.68094063 10.69536119 10.80273622\n",
      " 11.03233733 11.30948912]\n",
      "CV3\n",
      "[5308 2149 2144 4931 2896 1842 1719 5396 4839 1723 4893 1066 4892 4934\n",
      " 5487 1202 4917 1737 4886 4905]\n",
      "[ -6.66086047   6.71116324   6.81531304   6.89992707   6.92103118\n",
      "  -6.92511015  -7.01070296  -7.10965053   7.21819504   7.25606092\n",
      "  -7.3051886    7.38681285  -7.66066394  -8.12820229  -8.14720703\n",
      "  -8.27103109   8.57381674   8.81308374  10.71183163 -12.10362201]\n",
      "CV4\n",
      "[ 533 5553  396 5440 5296 3469 5569 3496 5554 5442 3760 3488 3497 5439\n",
      " 5870 5410 5560 5443 3467 5542]\n",
      "[  7.80030706  -7.84289708   7.86324951   8.02912813   8.03715319\n",
      "   8.08406631  -8.14080742   8.14536877  -8.14797132   8.18826903\n",
      "   8.25426944   8.50440177   8.64875256   8.77375669  -8.77392926\n",
      "   8.80610931  -8.87788282   9.38054564   9.52087681 -10.26136794]\n"
     ]
    }
   ],
   "source": [
    "# View rs-FC loadings\n",
    "allsubsample_loadings_v_CV1 = np.argsort(abs(allsubsample_loadings_v[:,0]))\n",
    "#print(alldiscovery_loadings_v_CV1.shape)\n",
    "print('CV1')\n",
    "print(allsubsample_loadings_v_CV1[-20:] + 1)\n",
    "print(allsubsample_loadings_v[allsubsample_loadings_v_CV1[-20:],0])\n",
    "\n",
    "allsubsample_loadings_v_CV2 = np.argsort(abs(allsubsample_loadings_v[:,1]))\n",
    "print('CV2')\n",
    "print(allsubsample_loadings_v_CV2[-20:] + 1)\n",
    "print(allsubsample_loadings_v[allsubsample_loadings_v_CV2[-20:],1])\n",
    "\n",
    "allsubsample_loadings_v_CV3 = np.argsort(abs(allsubsample_loadings_v[:,2]))\n",
    "print('CV3')\n",
    "print(allsubsample_loadings_v_CV3[-20:] + 1)\n",
    "print(allsubsample_loadings_v[allsubsample_loadings_v_CV3[-20:],2])\n",
    "\n",
    "allsubsample_loadings_v_CV4 = np.argsort(abs(allsubsample_loadings_v[:,3]))\n",
    "print('CV4')\n",
    "print(allsubsample_loadings_v_CV4[-20:] + 1)\n",
    "print(allsubsample_loadings_v[allsubsample_loadings_v_CV4[-20:],3])\n",
    "\n",
    "allsubsample_loadings_v_CV5 = np.argsort(abs(allsubsample_loadings_v[:,4]))\n",
    "allsubsample_loadings_v_CV6 = np.argsort(abs(allsubsample_loadings_v[:,5]))\n",
    "allsubsample_loadings_v_CV7 = np.argsort(abs(allsubsample_loadings_v[:,6]))\n",
    "allsubsample_loadings_v_CV8 = np.argsort(abs(allsubsample_loadings_v[:,7]))"
   ]
  },
  {
   "cell_type": "code",
   "execution_count": 24,
   "id": "69355616",
   "metadata": {},
   "outputs": [],
   "source": [
    "# Save rsFC loadings\n",
    "np.savetxt(userhome + r'/Desktop/OCS_bigdata_ML_local/FINAL/replication/results/elasticnetCCA_scaled/allreplication_rsFCinds_v_CV1.csv', allsubsample_loadings_v_CV1 + 1, delimiter=',')\n",
    "np.savetxt(userhome + r'/Desktop/OCS_bigdata_ML_local/FINAL/replication/results/elasticnetCCA_scaled/allreplication_rsFCloadings_v_CV1.csv', allsubsample_loadings_v[allsubsample_loadings_v_CV1,0], delimiter=',')\n",
    "\n",
    "np.savetxt(userhome + r'/Desktop/OCS_bigdata_ML_local/FINAL/replication/results/elasticnetCCA_scaled/allreplication_rsFCinds_v_CV2.csv', allsubsample_loadings_v_CV2 + 1, delimiter=',')\n",
    "np.savetxt(userhome + r'/Desktop/OCS_bigdata_ML_local/FINAL/replication/results/elasticnetCCA_scaled/allreplication_rsFCloadings_v_CV2.csv', allsubsample_loadings_v[allsubsample_loadings_v_CV2,1], delimiter=',')\n",
    "\n",
    "np.savetxt(userhome + r'/Desktop/OCS_bigdata_ML_local/FINAL/replication/results/elasticnetCCA_scaled/allreplication_rsFCinds_v_CV3.csv', allsubsample_loadings_v_CV3 + 1, delimiter=',')\n",
    "np.savetxt(userhome + r'/Desktop/OCS_bigdata_ML_local/FINAL/replication/results/elasticnetCCA_scaled/allreplication_rsFCloadings_v_CV3.csv', allsubsample_loadings_v[allsubsample_loadings_v_CV3,2], delimiter=',')\n",
    "\n",
    "np.savetxt(userhome + r'/Desktop/OCS_bigdata_ML_local/FINAL/replication/results/elasticnetCCA_scaled/allreplication_rsFCinds_v_CV4.csv', allsubsample_loadings_v_CV4 + 1, delimiter=',')\n",
    "np.savetxt(userhome + r'/Desktop/OCS_bigdata_ML_local/FINAL/replication/results/elasticnetCCA_scaled/allreplication_rsFCloadings_v_CV4.csv', allsubsample_loadings_v[allsubsample_loadings_v_CV4,3], delimiter=',')\n",
    "\n",
    "np.savetxt(userhome + r'/Desktop/OCS_bigdata_ML_local/FINAL/replication/results/elasticnetCCA_scaled/allreplication_rsFCinds_v_CV5.csv', allsubsample_loadings_v_CV5 + 1, delimiter=',')\n",
    "np.savetxt(userhome + r'/Desktop/OCS_bigdata_ML_local/FINAL/replication/results/elasticnetCCA_scaled/allreplication_rsFCloadings_v_CV5.csv', allsubsample_loadings_v[allsubsample_loadings_v_CV5,4], delimiter=',')\n",
    "\n",
    "np.savetxt(userhome + r'/Desktop/OCS_bigdata_ML_local/FINAL/replication/results/elasticnetCCA_scaled/allreplication_rsFCinds_v_CV6.csv', allsubsample_loadings_v_CV6 + 1, delimiter=',')\n",
    "np.savetxt(userhome + r'/Desktop/OCS_bigdata_ML_local/FINAL/replication/results/elasticnetCCA_scaled/allreplication_rsFCloadings_v_CV6.csv', allsubsample_loadings_v[allsubsample_loadings_v_CV6,5], delimiter=',')\n",
    "\n",
    "np.savetxt(userhome + r'/Desktop/OCS_bigdata_ML_local/FINAL/replication/results/elasticnetCCA_scaled/allreplication_rsFCinds_v_CV7.csv', allsubsample_loadings_v_CV7 + 1, delimiter=',')\n",
    "np.savetxt(userhome + r'/Desktop/OCS_bigdata_ML_local/FINAL/replication/results/elasticnetCCA_scaled/allreplication_rsFCloadings_v_CV7.csv', allsubsample_loadings_v[allsubsample_loadings_v_CV7,6], delimiter=',')\n",
    "\n",
    "np.savetxt(userhome + r'/Desktop/OCS_bigdata_ML_local/FINAL/replication/results/elasticnetCCA_scaled/allreplication_rsFCinds_v_CV8.csv', allsubsample_loadings_v_CV8 + 1, delimiter=',')\n",
    "np.savetxt(userhome + r'/Desktop/OCS_bigdata_ML_local/FINAL/replication/results/elasticnetCCA_scaled/allreplication_rsFCloadings_v_CV8.csv', allsubsample_loadings_v[allsubsample_loadings_v_CV8,7], delimiter=',')\n",
    "\n"
   ]
  },
  {
   "cell_type": "code",
   "execution_count": 25,
   "id": "0f9e7d86",
   "metadata": {},
   "outputs": [],
   "source": [
    "# Save files\n",
    "#discovery\n",
    "np.savetxt(userhome + r'/Desktop/OCS_bigdata_ML_local/FINAL/replication/results/elasticnetCCA_scaled/transformed_clin_U.csv', U, delimiter=',')\n",
    "np.savetxt(userhome + r'/Desktop/OCS_bigdata_ML_local/FINAL/replication/results/elasticnetCCA_scaled/transformed_rsFC_V.csv', V, delimiter=',')\n"
   ]
  },
  {
   "cell_type": "code",
   "execution_count": 32,
   "id": "e1e84aaf",
   "metadata": {},
   "outputs": [
    {
     "ename": "NameError",
     "evalue": "name 'alldiscovery_rsFC_features' is not defined",
     "output_type": "error",
     "traceback": [
      "\u001b[0;31m---------------------------------------------------------------------------\u001b[0m",
      "\u001b[0;31mNameError\u001b[0m                                 Traceback (most recent call last)",
      "\u001b[0;32m/var/folders/ky/n6xry0f10zx60fhjgm3yybxh0000gn/T/ipykernel_87665/4268789143.py\u001b[0m in \u001b[0;36m<module>\u001b[0;34m\u001b[0m\n\u001b[0;32m----> 1\u001b[0;31m \u001b[0malldiscovery_scores\u001b[0m \u001b[0;34m=\u001b[0m \u001b[0meCCA_fit\u001b[0m\u001b[0;34m.\u001b[0m\u001b[0mscore\u001b[0m\u001b[0;34m(\u001b[0m\u001b[0;34m(\u001b[0m\u001b[0mclin_features\u001b[0m\u001b[0;34m,\u001b[0m \u001b[0malldiscovery_rsFC_features\u001b[0m\u001b[0;34m)\u001b[0m\u001b[0;34m)\u001b[0m\u001b[0;34m\u001b[0m\u001b[0;34m\u001b[0m\u001b[0m\n\u001b[0m\u001b[1;32m      2\u001b[0m \u001b[0mprint\u001b[0m\u001b[0;34m(\u001b[0m\u001b[0;34m'All discovery CCA scores: '\u001b[0m \u001b[0;34m+\u001b[0m \u001b[0mstr\u001b[0m\u001b[0;34m(\u001b[0m\u001b[0malldiscovery_scores\u001b[0m\u001b[0;34m)\u001b[0m\u001b[0;34m)\u001b[0m\u001b[0;34m\u001b[0m\u001b[0;34m\u001b[0m\u001b[0m\n\u001b[1;32m      3\u001b[0m \u001b[0;34m\u001b[0m\u001b[0m\n",
      "\u001b[0;31mNameError\u001b[0m: name 'alldiscovery_rsFC_features' is not defined"
     ]
    }
   ],
   "source": [
    "alldiscovery_scores = eCCA_fit.score((clin_features, alldiscovery_rsFC_features))\n",
    "print('All discovery CCA scores: ' + str(alldiscovery_scores))\n",
    "\n"
   ]
  },
  {
   "cell_type": "code",
   "execution_count": 41,
   "id": "88e512c7",
   "metadata": {},
   "outputs": [
    {
     "data": {
      "text/plain": [
       "array([[1.      , 0.792935],\n",
       "       [0.792935, 1.      ]])"
      ]
     },
     "execution_count": 41,
     "metadata": {},
     "output_type": "execute_result"
    }
   ],
   "source": [
    "np.corrcoef(U[:,1], V[:,1])"
   ]
  },
  {
   "cell_type": "code",
   "execution_count": null,
   "id": "a34e03e2",
   "metadata": {},
   "outputs": [],
   "source": []
  }
 ],
 "metadata": {
  "kernelspec": {
   "display_name": "Python 3 (ipykernel)",
   "language": "python",
   "name": "python3"
  },
  "language_info": {
   "codemirror_mode": {
    "name": "ipython",
    "version": 3
   },
   "file_extension": ".py",
   "mimetype": "text/x-python",
   "name": "python",
   "nbconvert_exporter": "python",
   "pygments_lexer": "ipython3",
   "version": "3.9.7"
  }
 },
 "nbformat": 4,
 "nbformat_minor": 5
}
