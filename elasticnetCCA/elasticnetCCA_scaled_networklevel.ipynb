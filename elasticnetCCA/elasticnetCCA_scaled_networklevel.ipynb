{
 "cells": [
  {
   "cell_type": "code",
   "execution_count": null,
   "id": "70c79ae2",
   "metadata": {},
   "outputs": [],
   "source": [
    "#setup - one-time tasks (run from terminal, not jupyter)\n",
    "pip install cca-zoo"
   ]
  },
  {
   "cell_type": "code",
   "execution_count": 1,
   "id": "cbcbcc46",
   "metadata": {},
   "outputs": [],
   "source": [
    "#import libraries\n",
    "import pandas as pd\n",
    "import numpy as np\n",
    "import scipy\n",
    "import os\n",
    "\n",
    "userhome = os.path.expanduser('~')"
   ]
  },
  {
   "cell_type": "code",
   "execution_count": 33,
   "id": "612c7843",
   "metadata": {},
   "outputs": [
    {
     "name": "stdout",
     "output_type": "stream",
     "text": [
      "<class 'numpy.ndarray'>\n",
      "(4701, 8)\n"
     ]
    }
   ],
   "source": [
    "# load residualized and scaled clinical features (from R script)\n",
    "#stricter exclusion criteria\n",
    "#clin_file = userhome + r'/Desktop/OCS_bigdata_ML_local/data/networklevel-stricterexclusion/clin_features_scaled_discovery.csv'\n",
    "#larger sample\n",
    "clin_file = userhome + r'/Desktop/OCS_bigdata_ML_local/data/networklevel/clin_features_scaled_discovery.csv'\n",
    "\n",
    "clin_features = pd.read_csv(clin_file)\n",
    "clin_features = clin_features.to_numpy()\n",
    "print(type(clin_features))\n",
    "print(clin_features.shape)"
   ]
  },
  {
   "cell_type": "code",
   "execution_count": 35,
   "id": "dece4f06",
   "metadata": {},
   "outputs": [
    {
     "name": "stdout",
     "output_type": "stream",
     "text": [
      "<class 'numpy.ndarray'>\n",
      "(4701, 91)\n"
     ]
    }
   ],
   "source": [
    "# load residualized and scaled imaging features (from R script)\n",
    "#stricter exclusion criteria\n",
    "#rsFC_file = userhome + r'/Desktop/OCS_bigdata_ML_local/data/networklevel-stricterexclusion/rsFC_features_scaled_discovery.csv'\n",
    "#larger sample\n",
    "rsFC_file = userhome + r'/Desktop/OCS_bigdata_ML_local/data/networklevel/rsFC_features_scaled_discovery.csv'\n",
    "\n",
    "rsFC_feat_chunks = pd.read_csv(rsFC_file, chunksize=1000)\n",
    "rsFC_features = pd.concat(rsFC_feat_chunks)\n",
    "#rsFC_features.sample(10)\n",
    "rsFC_features = rsFC_features.to_numpy()\n",
    "print(type(rsFC_features))\n",
    "print(rsFC_features.shape)"
   ]
  },
  {
   "cell_type": "code",
   "execution_count": 36,
   "id": "454e5b2d",
   "metadata": {},
   "outputs": [
    {
     "name": "stdout",
     "output_type": "stream",
     "text": [
      "[[None None None None None None None None None None None None None None\n",
      "  None None None None None None None None None None None None None]\n",
      " [None None None None None None None None None None None None None None\n",
      "  None None None None None None None None None None None None None]\n",
      " [None None None None None None None None None None None None None None\n",
      "  None None None None None None None None None None None None None]\n",
      " [None None None None None None None None None None None None None None\n",
      "  None None None None None None None None None None None None None]\n",
      " [None None None None None None None None None None None None None None\n",
      "  None None None None None None None None None None None None None]\n",
      " [None None None None None None None None None None None None None None\n",
      "  None None None None None None None None None None None None None]\n",
      " [None None None None None None None None None None None None None None\n",
      "  None None None None None None None None None None None None None]\n",
      " [None None None None None None None None None None None None None None\n",
      "  None None None None None None None None None None None None None]\n",
      " [None None None None None None None None None None None None None None\n",
      "  None None None None None None None None None None None None None]\n",
      " [None None None None None None None None None None None None None None\n",
      "  None None None None None None None None None None None None None]]\n"
     ]
    }
   ],
   "source": [
    "# Setup hyperparameter optimization: initialize arrays to store from each CV loop\n",
    "eCCA_eachfold_c1 = np.empty((10,27), dtype=object) \n",
    "eCCA_eachfold_c2 = np.empty((10,27), dtype=object) \n",
    "eCCA_eachfold_l1_ratio = np.empty((10,27), dtype=object)\n",
    "eCCA_eachfold_score_TRAIN = np.empty((10,27), dtype=object) \n",
    "eCCA_eachfold_score_TEST = np.empty((10,27), dtype=object) \n",
    "\n",
    "print(eCCA_eachfold_c1)"
   ]
  },
  {
   "cell_type": "code",
   "execution_count": 38,
   "id": "c57abfa9",
   "metadata": {},
   "outputs": [
    {
     "name": "stdout",
     "output_type": "stream",
     "text": [
      "/Users/marshlab2/Desktop/OCS_bigdata_ML_local/data/networklevel/partitions2_rep01fold01.csv\n",
      "<class 'numpy.ndarray'>\n",
      "(4232, 1)\n",
      "(4232, 8)\n",
      "(4232, 91)\n",
      "(469, 8)\n",
      "(469, 91)\n"
     ]
    },
    {
     "name": "stderr",
     "output_type": "stream",
     "text": [
      "/opt/anaconda3/lib/python3.9/site-packages/cca_zoo/models/iterative.py:106: UserWarning: Inner loop 0 not converged. Increase number of iterations.\n",
      "  warnings.warn(\n"
     ]
    },
    {
     "name": "stdout",
     "output_type": "stream",
     "text": [
      "params: 0.01, 0.01, 0.5\n",
      "CCA score (train): 0.19212314340498193\n",
      "CCA score (test): 0.04031665293289777\n"
     ]
    },
    {
     "name": "stderr",
     "output_type": "stream",
     "text": [
      "/opt/anaconda3/lib/python3.9/site-packages/cca_zoo/models/iterative.py:106: UserWarning: Inner loop 0 not converged. Increase number of iterations.\n",
      "  warnings.warn(\n"
     ]
    },
    {
     "name": "stdout",
     "output_type": "stream",
     "text": [
      "params: 0.01, 0.01, 0.67\n",
      "CCA score (train): 0.18759639258544314\n",
      "CCA score (test): 0.03337778367632804\n"
     ]
    },
    {
     "name": "stderr",
     "output_type": "stream",
     "text": [
      "/opt/anaconda3/lib/python3.9/site-packages/cca_zoo/models/iterative.py:106: UserWarning: Inner loop 0 not converged. Increase number of iterations.\n",
      "  warnings.warn(\n"
     ]
    },
    {
     "name": "stdout",
     "output_type": "stream",
     "text": [
      "params: 0.01, 0.01, 0.75\n",
      "CCA score (train): 0.18559664080371618\n",
      "CCA score (test): 0.03255655306757155\n"
     ]
    },
    {
     "name": "stderr",
     "output_type": "stream",
     "text": [
      "/opt/anaconda3/lib/python3.9/site-packages/cca_zoo/models/iterative.py:106: UserWarning: Inner loop 0 not converged. Increase number of iterations.\n",
      "  warnings.warn(\n"
     ]
    },
    {
     "name": "stdout",
     "output_type": "stream",
     "text": [
      "params: 0.01, 0.1, 0.5\n",
      "CCA score (train): 0.12072997747625824\n",
      "CCA score (test): 0.02685857278058501\n"
     ]
    },
    {
     "name": "stderr",
     "output_type": "stream",
     "text": [
      "/opt/anaconda3/lib/python3.9/site-packages/cca_zoo/models/iterative.py:106: UserWarning: Inner loop 0 not converged. Increase number of iterations.\n",
      "  warnings.warn(\n"
     ]
    },
    {
     "name": "stdout",
     "output_type": "stream",
     "text": [
      "params: 0.01, 0.1, 0.67\n",
      "CCA score (train): 0.10771199533559361\n",
      "CCA score (test): 0.046380104426539503\n"
     ]
    },
    {
     "name": "stderr",
     "output_type": "stream",
     "text": [
      "/opt/anaconda3/lib/python3.9/site-packages/cca_zoo/models/iterative.py:106: UserWarning: Inner loop 0 not converged. Increase number of iterations.\n",
      "  warnings.warn(\n"
     ]
    },
    {
     "name": "stdout",
     "output_type": "stream",
     "text": [
      "params: 0.01, 0.1, 0.75\n",
      "CCA score (train): 0.09687910646673026\n",
      "CCA score (test): 0.05848097898053228\n"
     ]
    },
    {
     "name": "stderr",
     "output_type": "stream",
     "text": [
      "/opt/anaconda3/lib/python3.9/site-packages/cca_zoo/models/iterative.py:106: UserWarning: Inner loop 0 not converged. Increase number of iterations.\n",
      "  warnings.warn(\n"
     ]
    },
    {
     "name": "stdout",
     "output_type": "stream",
     "text": [
      "params: 0.01, 0.2, 0.5\n",
      "CCA score (train): 0.08432601382596538\n",
      "CCA score (test): 0.04846009822269903\n"
     ]
    },
    {
     "name": "stderr",
     "output_type": "stream",
     "text": [
      "/opt/anaconda3/lib/python3.9/site-packages/cca_zoo/models/iterative.py:122: RuntimeWarning: invalid value encountered in true_divide\n",
      "  - np.outer(score, score) @ residual / np.dot(score, score).item()\n",
      "/opt/anaconda3/lib/python3.9/site-packages/cca_zoo/models/iterative.py:106: UserWarning: Inner loop 0 not converged. Increase number of iterations.\n",
      "  warnings.warn(\n",
      "/opt/anaconda3/lib/python3.9/site-packages/numpy/lib/function_base.py:2642: RuntimeWarning: invalid value encountered in true_divide\n",
      "  c /= stddev[:, None]\n",
      "/opt/anaconda3/lib/python3.9/site-packages/numpy/lib/function_base.py:2643: RuntimeWarning: invalid value encountered in true_divide\n",
      "  c /= stddev[None, :]\n",
      "/opt/anaconda3/lib/python3.9/site-packages/numpy/lib/function_base.py:2642: RuntimeWarning: invalid value encountered in true_divide\n",
      "  c /= stddev[:, None]\n",
      "/opt/anaconda3/lib/python3.9/site-packages/numpy/lib/function_base.py:2643: RuntimeWarning: invalid value encountered in true_divide\n",
      "  c /= stddev[None, :]\n"
     ]
    },
    {
     "name": "stdout",
     "output_type": "stream",
     "text": [
      "params: 0.01, 0.2, 0.67\n",
      "CCA score (train): nan\n",
      "CCA score (test): nan\n"
     ]
    },
    {
     "name": "stderr",
     "output_type": "stream",
     "text": [
      "/opt/anaconda3/lib/python3.9/site-packages/cca_zoo/models/iterative.py:122: RuntimeWarning: invalid value encountered in true_divide\n",
      "  - np.outer(score, score) @ residual / np.dot(score, score).item()\n",
      "/opt/anaconda3/lib/python3.9/site-packages/cca_zoo/models/iterative.py:106: UserWarning: Inner loop 0 not converged. Increase number of iterations.\n",
      "  warnings.warn(\n",
      "/opt/anaconda3/lib/python3.9/site-packages/numpy/lib/function_base.py:2642: RuntimeWarning: invalid value encountered in true_divide\n",
      "  c /= stddev[:, None]\n",
      "/opt/anaconda3/lib/python3.9/site-packages/numpy/lib/function_base.py:2643: RuntimeWarning: invalid value encountered in true_divide\n",
      "  c /= stddev[None, :]\n",
      "/opt/anaconda3/lib/python3.9/site-packages/numpy/lib/function_base.py:2642: RuntimeWarning: invalid value encountered in true_divide\n",
      "  c /= stddev[:, None]\n",
      "/opt/anaconda3/lib/python3.9/site-packages/numpy/lib/function_base.py:2643: RuntimeWarning: invalid value encountered in true_divide\n",
      "  c /= stddev[None, :]\n"
     ]
    },
    {
     "name": "stdout",
     "output_type": "stream",
     "text": [
      "params: 0.01, 0.2, 0.75\n",
      "CCA score (train): nan\n",
      "CCA score (test): nan\n"
     ]
    },
    {
     "name": "stderr",
     "output_type": "stream",
     "text": [
      "/opt/anaconda3/lib/python3.9/site-packages/cca_zoo/models/iterative.py:106: UserWarning: Inner loop 0 not converged. Increase number of iterations.\n",
      "  warnings.warn(\n"
     ]
    },
    {
     "name": "stdout",
     "output_type": "stream",
     "text": [
      "params: 0.1, 0.01, 0.5\n",
      "CCA score (train): 0.18021126668789322\n",
      "CCA score (test): -0.007069843536256282\n"
     ]
    },
    {
     "name": "stderr",
     "output_type": "stream",
     "text": [
      "/opt/anaconda3/lib/python3.9/site-packages/cca_zoo/models/iterative.py:106: UserWarning: Inner loop 0 not converged. Increase number of iterations.\n",
      "  warnings.warn(\n"
     ]
    },
    {
     "name": "stdout",
     "output_type": "stream",
     "text": [
      "params: 0.1, 0.01, 0.67\n",
      "CCA score (train): 0.17462113237319965\n",
      "CCA score (test): -0.0032120895096974245\n"
     ]
    },
    {
     "name": "stderr",
     "output_type": "stream",
     "text": [
      "/opt/anaconda3/lib/python3.9/site-packages/cca_zoo/models/iterative.py:106: UserWarning: Inner loop 0 not converged. Increase number of iterations.\n",
      "  warnings.warn(\n"
     ]
    },
    {
     "name": "stdout",
     "output_type": "stream",
     "text": [
      "params: 0.1, 0.01, 0.75\n",
      "CCA score (train): 0.17084610705322079\n",
      "CCA score (test): 0.0013142087790307677\n"
     ]
    },
    {
     "name": "stderr",
     "output_type": "stream",
     "text": [
      "/opt/anaconda3/lib/python3.9/site-packages/cca_zoo/models/iterative.py:106: UserWarning: Inner loop 0 not converged. Increase number of iterations.\n",
      "  warnings.warn(\n"
     ]
    },
    {
     "name": "stdout",
     "output_type": "stream",
     "text": [
      "params: 0.1, 0.1, 0.5\n",
      "CCA score (train): 0.10296380644509462\n",
      "CCA score (test): 0.03472107948797021\n"
     ]
    },
    {
     "name": "stderr",
     "output_type": "stream",
     "text": [
      "/opt/anaconda3/lib/python3.9/site-packages/cca_zoo/models/iterative.py:106: UserWarning: Inner loop 0 not converged. Increase number of iterations.\n",
      "  warnings.warn(\n"
     ]
    },
    {
     "name": "stdout",
     "output_type": "stream",
     "text": [
      "params: 0.1, 0.1, 0.67\n",
      "CCA score (train): 0.07562445996384204\n",
      "CCA score (test): 0.025694522977780743\n"
     ]
    },
    {
     "name": "stderr",
     "output_type": "stream",
     "text": [
      "/opt/anaconda3/lib/python3.9/site-packages/cca_zoo/models/iterative.py:106: UserWarning: Inner loop 0 not converged. Increase number of iterations.\n",
      "  warnings.warn(\n"
     ]
    },
    {
     "name": "stdout",
     "output_type": "stream",
     "text": [
      "params: 0.1, 0.1, 0.75\n",
      "CCA score (train): 0.0710795813519034\n",
      "CCA score (test): 0.023485913791474466\n"
     ]
    },
    {
     "name": "stderr",
     "output_type": "stream",
     "text": [
      "/opt/anaconda3/lib/python3.9/site-packages/cca_zoo/models/iterative.py:106: UserWarning: Inner loop 0 not converged. Increase number of iterations.\n",
      "  warnings.warn(\n"
     ]
    },
    {
     "name": "stdout",
     "output_type": "stream",
     "text": [
      "params: 0.1, 0.2, 0.5\n",
      "CCA score (train): 0.07628268978482478\n",
      "CCA score (test): 0.03599696138454256\n"
     ]
    },
    {
     "name": "stderr",
     "output_type": "stream",
     "text": [
      "/opt/anaconda3/lib/python3.9/site-packages/cca_zoo/models/iterative.py:122: RuntimeWarning: invalid value encountered in true_divide\n",
      "  - np.outer(score, score) @ residual / np.dot(score, score).item()\n",
      "/opt/anaconda3/lib/python3.9/site-packages/numpy/lib/function_base.py:2642: RuntimeWarning: invalid value encountered in true_divide\n",
      "  c /= stddev[:, None]\n",
      "/opt/anaconda3/lib/python3.9/site-packages/numpy/lib/function_base.py:2643: RuntimeWarning: invalid value encountered in true_divide\n",
      "  c /= stddev[None, :]\n",
      "/opt/anaconda3/lib/python3.9/site-packages/numpy/lib/function_base.py:2642: RuntimeWarning: invalid value encountered in true_divide\n",
      "  c /= stddev[:, None]\n",
      "/opt/anaconda3/lib/python3.9/site-packages/numpy/lib/function_base.py:2643: RuntimeWarning: invalid value encountered in true_divide\n",
      "  c /= stddev[None, :]\n"
     ]
    },
    {
     "name": "stdout",
     "output_type": "stream",
     "text": [
      "params: 0.1, 0.2, 0.67\n",
      "CCA score (train): nan\n",
      "CCA score (test): nan\n"
     ]
    },
    {
     "name": "stderr",
     "output_type": "stream",
     "text": [
      "/opt/anaconda3/lib/python3.9/site-packages/cca_zoo/models/iterative.py:122: RuntimeWarning: invalid value encountered in true_divide\n",
      "  - np.outer(score, score) @ residual / np.dot(score, score).item()\n",
      "/opt/anaconda3/lib/python3.9/site-packages/numpy/lib/function_base.py:2642: RuntimeWarning: invalid value encountered in true_divide\n",
      "  c /= stddev[:, None]\n",
      "/opt/anaconda3/lib/python3.9/site-packages/numpy/lib/function_base.py:2643: RuntimeWarning: invalid value encountered in true_divide\n",
      "  c /= stddev[None, :]\n",
      "/opt/anaconda3/lib/python3.9/site-packages/numpy/lib/function_base.py:2642: RuntimeWarning: invalid value encountered in true_divide\n",
      "  c /= stddev[:, None]\n",
      "/opt/anaconda3/lib/python3.9/site-packages/numpy/lib/function_base.py:2643: RuntimeWarning: invalid value encountered in true_divide\n",
      "  c /= stddev[None, :]\n"
     ]
    },
    {
     "name": "stdout",
     "output_type": "stream",
     "text": [
      "params: 0.1, 0.2, 0.75\n",
      "CCA score (train): nan\n",
      "CCA score (test): nan\n"
     ]
    },
    {
     "name": "stderr",
     "output_type": "stream",
     "text": [
      "/opt/anaconda3/lib/python3.9/site-packages/cca_zoo/models/iterative.py:106: UserWarning: Inner loop 0 not converged. Increase number of iterations.\n",
      "  warnings.warn(\n"
     ]
    },
    {
     "name": "stdout",
     "output_type": "stream",
     "text": [
      "params: 0.2, 0.01, 0.5\n",
      "CCA score (train): 0.17490222476848682\n",
      "CCA score (test): -0.004079716095538033\n"
     ]
    },
    {
     "name": "stderr",
     "output_type": "stream",
     "text": [
      "/opt/anaconda3/lib/python3.9/site-packages/cca_zoo/models/iterative.py:106: UserWarning: Inner loop 0 not converged. Increase number of iterations.\n",
      "  warnings.warn(\n"
     ]
    },
    {
     "name": "stdout",
     "output_type": "stream",
     "text": [
      "params: 0.2, 0.01, 0.67\n",
      "CCA score (train): 0.15506943890017721\n",
      "CCA score (test): 0.0014199947489328402\n"
     ]
    },
    {
     "name": "stderr",
     "output_type": "stream",
     "text": [
      "/opt/anaconda3/lib/python3.9/site-packages/cca_zoo/models/iterative.py:106: UserWarning: Inner loop 0 not converged. Increase number of iterations.\n",
      "  warnings.warn(\n"
     ]
    },
    {
     "name": "stdout",
     "output_type": "stream",
     "text": [
      "params: 0.2, 0.01, 0.75\n",
      "CCA score (train): 0.15033878452007698\n",
      "CCA score (test): 0.0068794621595291705\n"
     ]
    },
    {
     "name": "stderr",
     "output_type": "stream",
     "text": [
      "/opt/anaconda3/lib/python3.9/site-packages/cca_zoo/models/iterative.py:106: UserWarning: Inner loop 0 not converged. Increase number of iterations.\n",
      "  warnings.warn(\n"
     ]
    },
    {
     "name": "stdout",
     "output_type": "stream",
     "text": [
      "params: 0.2, 0.1, 0.5\n",
      "CCA score (train): 0.06190666217740226\n",
      "CCA score (test): 0.03607227187309325\n"
     ]
    },
    {
     "name": "stderr",
     "output_type": "stream",
     "text": [
      "/opt/anaconda3/lib/python3.9/site-packages/cca_zoo/models/iterative.py:122: RuntimeWarning: invalid value encountered in true_divide\n",
      "  - np.outer(score, score) @ residual / np.dot(score, score).item()\n",
      "/opt/anaconda3/lib/python3.9/site-packages/numpy/lib/function_base.py:2642: RuntimeWarning: invalid value encountered in true_divide\n",
      "  c /= stddev[:, None]\n",
      "/opt/anaconda3/lib/python3.9/site-packages/numpy/lib/function_base.py:2643: RuntimeWarning: invalid value encountered in true_divide\n",
      "  c /= stddev[None, :]\n",
      "/opt/anaconda3/lib/python3.9/site-packages/numpy/lib/function_base.py:2642: RuntimeWarning: invalid value encountered in true_divide\n",
      "  c /= stddev[:, None]\n",
      "/opt/anaconda3/lib/python3.9/site-packages/numpy/lib/function_base.py:2643: RuntimeWarning: invalid value encountered in true_divide\n",
      "  c /= stddev[None, :]\n"
     ]
    },
    {
     "name": "stdout",
     "output_type": "stream",
     "text": [
      "params: 0.2, 0.1, 0.67\n",
      "CCA score (train): nan\n",
      "CCA score (test): nan\n"
     ]
    },
    {
     "name": "stderr",
     "output_type": "stream",
     "text": [
      "/opt/anaconda3/lib/python3.9/site-packages/cca_zoo/models/iterative.py:122: RuntimeWarning: invalid value encountered in true_divide\n",
      "  - np.outer(score, score) @ residual / np.dot(score, score).item()\n",
      "/opt/anaconda3/lib/python3.9/site-packages/numpy/lib/function_base.py:2642: RuntimeWarning: invalid value encountered in true_divide\n",
      "  c /= stddev[:, None]\n",
      "/opt/anaconda3/lib/python3.9/site-packages/numpy/lib/function_base.py:2643: RuntimeWarning: invalid value encountered in true_divide\n",
      "  c /= stddev[None, :]\n",
      "/opt/anaconda3/lib/python3.9/site-packages/numpy/lib/function_base.py:2642: RuntimeWarning: invalid value encountered in true_divide\n",
      "  c /= stddev[:, None]\n",
      "/opt/anaconda3/lib/python3.9/site-packages/numpy/lib/function_base.py:2643: RuntimeWarning: invalid value encountered in true_divide\n",
      "  c /= stddev[None, :]\n"
     ]
    },
    {
     "name": "stdout",
     "output_type": "stream",
     "text": [
      "params: 0.2, 0.1, 0.75\n",
      "CCA score (train): nan\n",
      "CCA score (test): nan\n"
     ]
    },
    {
     "name": "stderr",
     "output_type": "stream",
     "text": [
      "/opt/anaconda3/lib/python3.9/site-packages/cca_zoo/models/iterative.py:106: UserWarning: Inner loop 0 not converged. Increase number of iterations.\n",
      "  warnings.warn(\n"
     ]
    },
    {
     "name": "stdout",
     "output_type": "stream",
     "text": [
      "params: 0.2, 0.2, 0.5\n",
      "CCA score (train): 0.07238720691384692\n",
      "CCA score (test): 0.046499154538582665\n"
     ]
    },
    {
     "name": "stderr",
     "output_type": "stream",
     "text": [
      "/opt/anaconda3/lib/python3.9/site-packages/cca_zoo/models/iterative.py:106: UserWarning: Inner loop 0 not converged. Increase number of iterations.\n",
      "  warnings.warn(\n"
     ]
    },
    {
     "name": "stdout",
     "output_type": "stream",
     "text": [
      "params: 0.2, 0.2, 0.67\n",
      "CCA score (train): 0.0497777082299975\n",
      "CCA score (test): 0.017151197770217452\n"
     ]
    },
    {
     "name": "stderr",
     "output_type": "stream",
     "text": [
      "/opt/anaconda3/lib/python3.9/site-packages/cca_zoo/models/iterative.py:122: RuntimeWarning: invalid value encountered in true_divide\n",
      "  - np.outer(score, score) @ residual / np.dot(score, score).item()\n",
      "/opt/anaconda3/lib/python3.9/site-packages/numpy/lib/function_base.py:2642: RuntimeWarning: invalid value encountered in true_divide\n",
      "  c /= stddev[:, None]\n",
      "/opt/anaconda3/lib/python3.9/site-packages/numpy/lib/function_base.py:2643: RuntimeWarning: invalid value encountered in true_divide\n",
      "  c /= stddev[None, :]\n",
      "/opt/anaconda3/lib/python3.9/site-packages/numpy/lib/function_base.py:2642: RuntimeWarning: invalid value encountered in true_divide\n",
      "  c /= stddev[:, None]\n",
      "/opt/anaconda3/lib/python3.9/site-packages/numpy/lib/function_base.py:2643: RuntimeWarning: invalid value encountered in true_divide\n",
      "  c /= stddev[None, :]\n"
     ]
    },
    {
     "name": "stdout",
     "output_type": "stream",
     "text": [
      "params: 0.2, 0.2, 0.75\n",
      "CCA score (train): nan\n",
      "CCA score (test): nan\n",
      "/Users/marshlab2/Desktop/OCS_bigdata_ML_local/data/networklevel/partitions2_rep01fold02.csv\n",
      "<class 'numpy.ndarray'>\n",
      "(4231, 1)\n",
      "(4231, 8)\n",
      "(4231, 91)\n",
      "(470, 8)\n",
      "(470, 91)\n"
     ]
    },
    {
     "name": "stderr",
     "output_type": "stream",
     "text": [
      "/opt/anaconda3/lib/python3.9/site-packages/cca_zoo/models/iterative.py:106: UserWarning: Inner loop 0 not converged. Increase number of iterations.\n",
      "  warnings.warn(\n"
     ]
    },
    {
     "name": "stdout",
     "output_type": "stream",
     "text": [
      "params: 0.01, 0.01, 0.5\n",
      "CCA score (train): 0.19098669428167225\n",
      "CCA score (test): 0.033311058967369966\n"
     ]
    },
    {
     "name": "stderr",
     "output_type": "stream",
     "text": [
      "/opt/anaconda3/lib/python3.9/site-packages/cca_zoo/models/iterative.py:106: UserWarning: Inner loop 0 not converged. Increase number of iterations.\n",
      "  warnings.warn(\n"
     ]
    },
    {
     "name": "stdout",
     "output_type": "stream",
     "text": [
      "params: 0.01, 0.01, 0.67\n",
      "CCA score (train): 0.18640740660051658\n",
      "CCA score (test): 0.028380467683016164\n"
     ]
    },
    {
     "name": "stderr",
     "output_type": "stream",
     "text": [
      "/opt/anaconda3/lib/python3.9/site-packages/cca_zoo/models/iterative.py:106: UserWarning: Inner loop 0 not converged. Increase number of iterations.\n",
      "  warnings.warn(\n"
     ]
    },
    {
     "name": "stdout",
     "output_type": "stream",
     "text": [
      "params: 0.01, 0.01, 0.75\n",
      "CCA score (train): 0.1839020372338085\n",
      "CCA score (test): 0.026090101248513964\n",
      "params: 0.01, 0.1, 0.5\n",
      "CCA score (train): 0.1087310305421878\n",
      "CCA score (test): 0.0036396476498787855\n"
     ]
    },
    {
     "name": "stderr",
     "output_type": "stream",
     "text": [
      "/opt/anaconda3/lib/python3.9/site-packages/cca_zoo/models/iterative.py:106: UserWarning: Inner loop 0 not converged. Increase number of iterations.\n",
      "  warnings.warn(\n"
     ]
    },
    {
     "name": "stdout",
     "output_type": "stream",
     "text": [
      "params: 0.01, 0.1, 0.67\n",
      "CCA score (train): 0.09650152921766786\n",
      "CCA score (test): 0.007601642048672419\n"
     ]
    },
    {
     "name": "stderr",
     "output_type": "stream",
     "text": [
      "/opt/anaconda3/lib/python3.9/site-packages/cca_zoo/models/iterative.py:106: UserWarning: Inner loop 0 not converged. Increase number of iterations.\n",
      "  warnings.warn(\n"
     ]
    },
    {
     "name": "stdout",
     "output_type": "stream",
     "text": [
      "params: 0.01, 0.1, 0.75\n",
      "CCA score (train): 0.09305958554645755\n",
      "CCA score (test): 0.009273860228689701\n"
     ]
    },
    {
     "name": "stderr",
     "output_type": "stream",
     "text": [
      "/opt/anaconda3/lib/python3.9/site-packages/cca_zoo/models/iterative.py:106: UserWarning: Inner loop 0 not converged. Increase number of iterations.\n",
      "  warnings.warn(\n"
     ]
    },
    {
     "name": "stdout",
     "output_type": "stream",
     "text": [
      "params: 0.01, 0.2, 0.5\n",
      "CCA score (train): 0.08768777608238443\n",
      "CCA score (test): -0.0033762162092578762\n"
     ]
    },
    {
     "name": "stderr",
     "output_type": "stream",
     "text": [
      "/opt/anaconda3/lib/python3.9/site-packages/cca_zoo/models/iterative.py:106: UserWarning: Inner loop 0 not converged. Increase number of iterations.\n",
      "  warnings.warn(\n"
     ]
    },
    {
     "name": "stdout",
     "output_type": "stream",
     "text": [
      "params: 0.01, 0.2, 0.67\n",
      "CCA score (train): 0.0787504408687465\n",
      "CCA score (test): -0.007846976009861395\n"
     ]
    },
    {
     "name": "stderr",
     "output_type": "stream",
     "text": [
      "/opt/anaconda3/lib/python3.9/site-packages/cca_zoo/models/iterative.py:106: UserWarning: Inner loop 0 not converged. Increase number of iterations.\n",
      "  warnings.warn(\n"
     ]
    },
    {
     "name": "stdout",
     "output_type": "stream",
     "text": [
      "params: 0.01, 0.2, 0.75\n",
      "CCA score (train): 0.0751405639324183\n",
      "CCA score (test): -0.01653325225778346\n"
     ]
    },
    {
     "name": "stderr",
     "output_type": "stream",
     "text": [
      "/opt/anaconda3/lib/python3.9/site-packages/cca_zoo/models/iterative.py:106: UserWarning: Inner loop 0 not converged. Increase number of iterations.\n",
      "  warnings.warn(\n"
     ]
    },
    {
     "name": "stdout",
     "output_type": "stream",
     "text": [
      "params: 0.1, 0.01, 0.5\n",
      "CCA score (train): 0.1764596531622873\n",
      "CCA score (test): -0.0335469136945723\n"
     ]
    },
    {
     "name": "stderr",
     "output_type": "stream",
     "text": [
      "/opt/anaconda3/lib/python3.9/site-packages/cca_zoo/models/iterative.py:106: UserWarning: Inner loop 0 not converged. Increase number of iterations.\n",
      "  warnings.warn(\n"
     ]
    },
    {
     "name": "stdout",
     "output_type": "stream",
     "text": [
      "params: 0.1, 0.01, 0.67\n",
      "CCA score (train): 0.16931515884810233\n",
      "CCA score (test): -0.030817950718030174\n"
     ]
    },
    {
     "name": "stderr",
     "output_type": "stream",
     "text": [
      "/opt/anaconda3/lib/python3.9/site-packages/cca_zoo/models/iterative.py:106: UserWarning: Inner loop 0 not converged. Increase number of iterations.\n",
      "  warnings.warn(\n"
     ]
    },
    {
     "name": "stdout",
     "output_type": "stream",
     "text": [
      "params: 0.1, 0.01, 0.75\n",
      "CCA score (train): 0.16152617215550436\n",
      "CCA score (test): -0.02698455968591884\n"
     ]
    },
    {
     "name": "stderr",
     "output_type": "stream",
     "text": [
      "/opt/anaconda3/lib/python3.9/site-packages/cca_zoo/models/iterative.py:106: UserWarning: Inner loop 0 not converged. Increase number of iterations.\n",
      "  warnings.warn(\n"
     ]
    },
    {
     "name": "stdout",
     "output_type": "stream",
     "text": [
      "params: 0.1, 0.1, 0.5\n",
      "CCA score (train): 0.08964486442095354\n",
      "CCA score (test): -0.04912486652490211\n"
     ]
    },
    {
     "name": "stderr",
     "output_type": "stream",
     "text": [
      "/opt/anaconda3/lib/python3.9/site-packages/cca_zoo/models/iterative.py:106: UserWarning: Inner loop 0 not converged. Increase number of iterations.\n",
      "  warnings.warn(\n"
     ]
    },
    {
     "name": "stdout",
     "output_type": "stream",
     "text": [
      "params: 0.1, 0.1, 0.67\n",
      "CCA score (train): 0.07702106998524205\n",
      "CCA score (test): -0.044891416713045196\n"
     ]
    },
    {
     "name": "stderr",
     "output_type": "stream",
     "text": [
      "/opt/anaconda3/lib/python3.9/site-packages/cca_zoo/models/iterative.py:106: UserWarning: Inner loop 0 not converged. Increase number of iterations.\n",
      "  warnings.warn(\n"
     ]
    },
    {
     "name": "stdout",
     "output_type": "stream",
     "text": [
      "params: 0.1, 0.1, 0.75\n",
      "CCA score (train): 0.07700487366287079\n",
      "CCA score (test): -0.044244071532277385\n"
     ]
    },
    {
     "name": "stderr",
     "output_type": "stream",
     "text": [
      "/opt/anaconda3/lib/python3.9/site-packages/cca_zoo/models/iterative.py:106: UserWarning: Inner loop 0 not converged. Increase number of iterations.\n",
      "  warnings.warn(\n"
     ]
    },
    {
     "name": "stdout",
     "output_type": "stream",
     "text": [
      "params: 0.1, 0.2, 0.5\n",
      "CCA score (train): 0.07959695389323196\n",
      "CCA score (test): -0.04762053924065701\n"
     ]
    },
    {
     "name": "stderr",
     "output_type": "stream",
     "text": [
      "/opt/anaconda3/lib/python3.9/site-packages/cca_zoo/models/iterative.py:106: UserWarning: Inner loop 0 not converged. Increase number of iterations.\n",
      "  warnings.warn(\n"
     ]
    },
    {
     "name": "stdout",
     "output_type": "stream",
     "text": [
      "params: 0.1, 0.2, 0.67\n",
      "CCA score (train): 0.07699868737768334\n",
      "CCA score (test): -0.04407076318437264\n"
     ]
    },
    {
     "name": "stderr",
     "output_type": "stream",
     "text": [
      "/opt/anaconda3/lib/python3.9/site-packages/cca_zoo/models/iterative.py:106: UserWarning: Inner loop 0 not converged. Increase number of iterations.\n",
      "  warnings.warn(\n"
     ]
    },
    {
     "name": "stdout",
     "output_type": "stream",
     "text": [
      "params: 0.1, 0.2, 0.75\n",
      "CCA score (train): 0.06985442387698804\n",
      "CCA score (test): -0.019665857336066184\n"
     ]
    },
    {
     "name": "stderr",
     "output_type": "stream",
     "text": [
      "/opt/anaconda3/lib/python3.9/site-packages/cca_zoo/models/iterative.py:106: UserWarning: Inner loop 0 not converged. Increase number of iterations.\n",
      "  warnings.warn(\n"
     ]
    },
    {
     "name": "stdout",
     "output_type": "stream",
     "text": [
      "params: 0.2, 0.01, 0.5\n",
      "CCA score (train): 0.17099162608619878\n",
      "CCA score (test): -0.034804045277510576\n"
     ]
    },
    {
     "name": "stderr",
     "output_type": "stream",
     "text": [
      "/opt/anaconda3/lib/python3.9/site-packages/cca_zoo/models/iterative.py:106: UserWarning: Inner loop 0 not converged. Increase number of iterations.\n",
      "  warnings.warn(\n"
     ]
    },
    {
     "name": "stdout",
     "output_type": "stream",
     "text": [
      "params: 0.2, 0.01, 0.67\n",
      "CCA score (train): 0.14666142214977262\n",
      "CCA score (test): -0.03407884719082521\n"
     ]
    },
    {
     "name": "stderr",
     "output_type": "stream",
     "text": [
      "/opt/anaconda3/lib/python3.9/site-packages/cca_zoo/models/iterative.py:106: UserWarning: Inner loop 0 not converged. Increase number of iterations.\n",
      "  warnings.warn(\n"
     ]
    },
    {
     "name": "stdout",
     "output_type": "stream",
     "text": [
      "params: 0.2, 0.01, 0.75\n",
      "CCA score (train): 0.14325676727096992\n",
      "CCA score (test): -0.033061251811137726\n"
     ]
    },
    {
     "name": "stderr",
     "output_type": "stream",
     "text": [
      "/opt/anaconda3/lib/python3.9/site-packages/cca_zoo/models/iterative.py:106: UserWarning: Inner loop 0 not converged. Increase number of iterations.\n",
      "  warnings.warn(\n"
     ]
    },
    {
     "name": "stdout",
     "output_type": "stream",
     "text": [
      "params: 0.2, 0.1, 0.5\n",
      "CCA score (train): 0.07751244153731651\n",
      "CCA score (test): -0.05006140847335194\n"
     ]
    },
    {
     "name": "stderr",
     "output_type": "stream",
     "text": [
      "/opt/anaconda3/lib/python3.9/site-packages/cca_zoo/models/iterative.py:106: UserWarning: Inner loop 0 not converged. Increase number of iterations.\n",
      "  warnings.warn(\n"
     ]
    },
    {
     "name": "stdout",
     "output_type": "stream",
     "text": [
      "params: 0.2, 0.1, 0.67\n",
      "CCA score (train): 0.0771165991511209\n",
      "CCA score (test): -0.043387192576556766\n"
     ]
    },
    {
     "name": "stderr",
     "output_type": "stream",
     "text": [
      "/opt/anaconda3/lib/python3.9/site-packages/cca_zoo/models/iterative.py:122: RuntimeWarning: invalid value encountered in true_divide\n",
      "  - np.outer(score, score) @ residual / np.dot(score, score).item()\n",
      "/opt/anaconda3/lib/python3.9/site-packages/cca_zoo/models/iterative.py:106: UserWarning: Inner loop 0 not converged. Increase number of iterations.\n",
      "  warnings.warn(\n",
      "/opt/anaconda3/lib/python3.9/site-packages/numpy/lib/function_base.py:2642: RuntimeWarning: invalid value encountered in true_divide\n",
      "  c /= stddev[:, None]\n",
      "/opt/anaconda3/lib/python3.9/site-packages/numpy/lib/function_base.py:2643: RuntimeWarning: invalid value encountered in true_divide\n",
      "  c /= stddev[None, :]\n",
      "/opt/anaconda3/lib/python3.9/site-packages/numpy/lib/function_base.py:2642: RuntimeWarning: invalid value encountered in true_divide\n",
      "  c /= stddev[:, None]\n",
      "/opt/anaconda3/lib/python3.9/site-packages/numpy/lib/function_base.py:2643: RuntimeWarning: invalid value encountered in true_divide\n",
      "  c /= stddev[None, :]\n"
     ]
    },
    {
     "name": "stdout",
     "output_type": "stream",
     "text": [
      "params: 0.2, 0.1, 0.75\n",
      "CCA score (train): nan\n",
      "CCA score (test): nan\n"
     ]
    },
    {
     "name": "stderr",
     "output_type": "stream",
     "text": [
      "/opt/anaconda3/lib/python3.9/site-packages/cca_zoo/models/iterative.py:106: UserWarning: Inner loop 0 not converged. Increase number of iterations.\n",
      "  warnings.warn(\n"
     ]
    },
    {
     "name": "stdout",
     "output_type": "stream",
     "text": [
      "params: 0.2, 0.2, 0.5\n",
      "CCA score (train): 0.0774199337423862\n",
      "CCA score (test): -0.047871662931267545\n"
     ]
    },
    {
     "name": "stderr",
     "output_type": "stream",
     "text": [
      "/opt/anaconda3/lib/python3.9/site-packages/cca_zoo/models/iterative.py:106: UserWarning: Inner loop 0 not converged. Increase number of iterations.\n",
      "  warnings.warn(\n"
     ]
    },
    {
     "name": "stdout",
     "output_type": "stream",
     "text": [
      "params: 0.2, 0.2, 0.67\n",
      "CCA score (train): 0.0769942800583514\n",
      "CCA score (test): -0.04395880267354291\n"
     ]
    },
    {
     "name": "stderr",
     "output_type": "stream",
     "text": [
      "/opt/anaconda3/lib/python3.9/site-packages/cca_zoo/models/iterative.py:106: UserWarning: Inner loop 0 not converged. Increase number of iterations.\n",
      "  warnings.warn(\n"
     ]
    },
    {
     "name": "stdout",
     "output_type": "stream",
     "text": [
      "params: 0.2, 0.2, 0.75\n",
      "CCA score (train): 0.07400545477652143\n",
      "CCA score (test): -0.02931055946830219\n",
      "/Users/marshlab2/Desktop/OCS_bigdata_ML_local/data/networklevel/partitions2_rep01fold03.csv\n",
      "<class 'numpy.ndarray'>\n",
      "(4231, 1)\n",
      "(4231, 8)\n",
      "(4231, 91)\n",
      "(470, 8)\n",
      "(470, 91)\n"
     ]
    },
    {
     "name": "stderr",
     "output_type": "stream",
     "text": [
      "/opt/anaconda3/lib/python3.9/site-packages/cca_zoo/models/iterative.py:106: UserWarning: Inner loop 0 not converged. Increase number of iterations.\n",
      "  warnings.warn(\n"
     ]
    },
    {
     "name": "stdout",
     "output_type": "stream",
     "text": [
      "params: 0.01, 0.01, 0.5\n",
      "CCA score (train): 0.19083557211169588\n",
      "CCA score (test): 0.047430366518585565\n"
     ]
    },
    {
     "name": "stderr",
     "output_type": "stream",
     "text": [
      "/opt/anaconda3/lib/python3.9/site-packages/cca_zoo/models/iterative.py:106: UserWarning: Inner loop 0 not converged. Increase number of iterations.\n",
      "  warnings.warn(\n"
     ]
    },
    {
     "name": "stdout",
     "output_type": "stream",
     "text": [
      "params: 0.01, 0.01, 0.67\n",
      "CCA score (train): 0.1860349583946408\n",
      "CCA score (test): 0.04079639865435136\n"
     ]
    },
    {
     "name": "stderr",
     "output_type": "stream",
     "text": [
      "/opt/anaconda3/lib/python3.9/site-packages/cca_zoo/models/iterative.py:106: UserWarning: Inner loop 0 not converged. Increase number of iterations.\n",
      "  warnings.warn(\n"
     ]
    },
    {
     "name": "stdout",
     "output_type": "stream",
     "text": [
      "params: 0.01, 0.01, 0.75\n",
      "CCA score (train): 0.18369785881630363\n",
      "CCA score (test): 0.038513240498265766\n"
     ]
    },
    {
     "name": "stderr",
     "output_type": "stream",
     "text": [
      "/opt/anaconda3/lib/python3.9/site-packages/cca_zoo/models/iterative.py:106: UserWarning: Inner loop 0 not converged. Increase number of iterations.\n",
      "  warnings.warn(\n"
     ]
    },
    {
     "name": "stdout",
     "output_type": "stream",
     "text": [
      "params: 0.01, 0.1, 0.5\n",
      "CCA score (train): 0.12070619923879855\n",
      "CCA score (test): 0.016316193874903462\n"
     ]
    },
    {
     "name": "stderr",
     "output_type": "stream",
     "text": [
      "/opt/anaconda3/lib/python3.9/site-packages/cca_zoo/models/iterative.py:106: UserWarning: Inner loop 0 not converged. Increase number of iterations.\n",
      "  warnings.warn(\n"
     ]
    },
    {
     "name": "stdout",
     "output_type": "stream",
     "text": [
      "params: 0.01, 0.1, 0.67\n",
      "CCA score (train): 0.10244197650118614\n",
      "CCA score (test): 0.022342767437354638\n"
     ]
    },
    {
     "name": "stderr",
     "output_type": "stream",
     "text": [
      "/opt/anaconda3/lib/python3.9/site-packages/cca_zoo/models/iterative.py:106: UserWarning: Inner loop 0 not converged. Increase number of iterations.\n",
      "  warnings.warn(\n"
     ]
    },
    {
     "name": "stdout",
     "output_type": "stream",
     "text": [
      "params: 0.01, 0.1, 0.75\n",
      "CCA score (train): 0.0987773248906123\n",
      "CCA score (test): 0.02926815953297801\n"
     ]
    },
    {
     "name": "stderr",
     "output_type": "stream",
     "text": [
      "/opt/anaconda3/lib/python3.9/site-packages/cca_zoo/models/iterative.py:106: UserWarning: Inner loop 0 not converged. Increase number of iterations.\n",
      "  warnings.warn(\n"
     ]
    },
    {
     "name": "stdout",
     "output_type": "stream",
     "text": [
      "params: 0.01, 0.2, 0.5\n",
      "CCA score (train): 0.09683803543115843\n",
      "CCA score (test): 0.03640106428334722\n"
     ]
    },
    {
     "name": "stderr",
     "output_type": "stream",
     "text": [
      "/opt/anaconda3/lib/python3.9/site-packages/cca_zoo/models/iterative.py:122: RuntimeWarning: invalid value encountered in true_divide\n",
      "  - np.outer(score, score) @ residual / np.dot(score, score).item()\n",
      "/opt/anaconda3/lib/python3.9/site-packages/cca_zoo/models/iterative.py:106: UserWarning: Inner loop 0 not converged. Increase number of iterations.\n",
      "  warnings.warn(\n",
      "/opt/anaconda3/lib/python3.9/site-packages/numpy/lib/function_base.py:2642: RuntimeWarning: invalid value encountered in true_divide\n",
      "  c /= stddev[:, None]\n",
      "/opt/anaconda3/lib/python3.9/site-packages/numpy/lib/function_base.py:2643: RuntimeWarning: invalid value encountered in true_divide\n",
      "  c /= stddev[None, :]\n",
      "/opt/anaconda3/lib/python3.9/site-packages/numpy/lib/function_base.py:2642: RuntimeWarning: invalid value encountered in true_divide\n",
      "  c /= stddev[:, None]\n",
      "/opt/anaconda3/lib/python3.9/site-packages/numpy/lib/function_base.py:2643: RuntimeWarning: invalid value encountered in true_divide\n",
      "  c /= stddev[None, :]\n"
     ]
    },
    {
     "name": "stdout",
     "output_type": "stream",
     "text": [
      "params: 0.01, 0.2, 0.67\n",
      "CCA score (train): nan\n",
      "CCA score (test): nan\n"
     ]
    },
    {
     "name": "stderr",
     "output_type": "stream",
     "text": [
      "/opt/anaconda3/lib/python3.9/site-packages/cca_zoo/models/iterative.py:122: RuntimeWarning: invalid value encountered in true_divide\n",
      "  - np.outer(score, score) @ residual / np.dot(score, score).item()\n",
      "/opt/anaconda3/lib/python3.9/site-packages/cca_zoo/models/iterative.py:106: UserWarning: Inner loop 0 not converged. Increase number of iterations.\n",
      "  warnings.warn(\n",
      "/opt/anaconda3/lib/python3.9/site-packages/numpy/lib/function_base.py:2642: RuntimeWarning: invalid value encountered in true_divide\n",
      "  c /= stddev[:, None]\n",
      "/opt/anaconda3/lib/python3.9/site-packages/numpy/lib/function_base.py:2643: RuntimeWarning: invalid value encountered in true_divide\n",
      "  c /= stddev[None, :]\n",
      "/opt/anaconda3/lib/python3.9/site-packages/numpy/lib/function_base.py:2642: RuntimeWarning: invalid value encountered in true_divide\n",
      "  c /= stddev[:, None]\n",
      "/opt/anaconda3/lib/python3.9/site-packages/numpy/lib/function_base.py:2643: RuntimeWarning: invalid value encountered in true_divide\n",
      "  c /= stddev[None, :]\n"
     ]
    },
    {
     "name": "stdout",
     "output_type": "stream",
     "text": [
      "params: 0.01, 0.2, 0.75\n",
      "CCA score (train): nan\n",
      "CCA score (test): nan\n"
     ]
    },
    {
     "name": "stderr",
     "output_type": "stream",
     "text": [
      "/opt/anaconda3/lib/python3.9/site-packages/cca_zoo/models/iterative.py:106: UserWarning: Inner loop 0 not converged. Increase number of iterations.\n",
      "  warnings.warn(\n"
     ]
    },
    {
     "name": "stdout",
     "output_type": "stream",
     "text": [
      "params: 0.1, 0.01, 0.5\n",
      "CCA score (train): 0.16977642308201757\n",
      "CCA score (test): 0.010169977385136919\n"
     ]
    },
    {
     "name": "stderr",
     "output_type": "stream",
     "text": [
      "/opt/anaconda3/lib/python3.9/site-packages/cca_zoo/models/iterative.py:106: UserWarning: Inner loop 0 not converged. Increase number of iterations.\n",
      "  warnings.warn(\n"
     ]
    },
    {
     "name": "stdout",
     "output_type": "stream",
     "text": [
      "params: 0.1, 0.01, 0.67\n",
      "CCA score (train): 0.1623786269083718\n",
      "CCA score (test): -0.004751827706158118\n"
     ]
    },
    {
     "name": "stderr",
     "output_type": "stream",
     "text": [
      "/opt/anaconda3/lib/python3.9/site-packages/cca_zoo/models/iterative.py:106: UserWarning: Inner loop 0 not converged. Increase number of iterations.\n",
      "  warnings.warn(\n"
     ]
    },
    {
     "name": "stdout",
     "output_type": "stream",
     "text": [
      "params: 0.1, 0.01, 0.75\n",
      "CCA score (train): 0.1581242142604833\n",
      "CCA score (test): -0.015139590375621625\n"
     ]
    },
    {
     "name": "stderr",
     "output_type": "stream",
     "text": [
      "/opt/anaconda3/lib/python3.9/site-packages/cca_zoo/models/iterative.py:106: UserWarning: Inner loop 0 not converged. Increase number of iterations.\n",
      "  warnings.warn(\n"
     ]
    },
    {
     "name": "stdout",
     "output_type": "stream",
     "text": [
      "params: 0.1, 0.1, 0.5\n",
      "CCA score (train): 0.10588049132725574\n",
      "CCA score (test): -0.01979507444519779\n"
     ]
    },
    {
     "name": "stderr",
     "output_type": "stream",
     "text": [
      "/opt/anaconda3/lib/python3.9/site-packages/cca_zoo/models/iterative.py:106: UserWarning: Inner loop 0 not converged. Increase number of iterations.\n",
      "  warnings.warn(\n"
     ]
    },
    {
     "name": "stdout",
     "output_type": "stream",
     "text": [
      "params: 0.1, 0.1, 0.67\n",
      "CCA score (train): 0.09122547547846915\n",
      "CCA score (test): -0.029441506884769764\n"
     ]
    },
    {
     "name": "stderr",
     "output_type": "stream",
     "text": [
      "/opt/anaconda3/lib/python3.9/site-packages/cca_zoo/models/iterative.py:106: UserWarning: Inner loop 0 not converged. Increase number of iterations.\n",
      "  warnings.warn(\n"
     ]
    },
    {
     "name": "stdout",
     "output_type": "stream",
     "text": [
      "params: 0.1, 0.1, 0.75\n",
      "CCA score (train): 0.07367352417205852\n",
      "CCA score (test): -0.0446463659058961\n"
     ]
    },
    {
     "name": "stderr",
     "output_type": "stream",
     "text": [
      "/opt/anaconda3/lib/python3.9/site-packages/cca_zoo/models/iterative.py:106: UserWarning: Inner loop 0 not converged. Increase number of iterations.\n",
      "  warnings.warn(\n"
     ]
    },
    {
     "name": "stdout",
     "output_type": "stream",
     "text": [
      "params: 0.1, 0.2, 0.5\n",
      "CCA score (train): 0.077616787023987\n",
      "CCA score (test): -0.024638784054742624\n"
     ]
    },
    {
     "name": "stderr",
     "output_type": "stream",
     "text": [
      "/opt/anaconda3/lib/python3.9/site-packages/cca_zoo/models/iterative.py:122: RuntimeWarning: invalid value encountered in true_divide\n",
      "  - np.outer(score, score) @ residual / np.dot(score, score).item()\n",
      "/opt/anaconda3/lib/python3.9/site-packages/cca_zoo/models/iterative.py:106: UserWarning: Inner loop 0 not converged. Increase number of iterations.\n",
      "  warnings.warn(\n",
      "/opt/anaconda3/lib/python3.9/site-packages/numpy/lib/function_base.py:2642: RuntimeWarning: invalid value encountered in true_divide\n",
      "  c /= stddev[:, None]\n",
      "/opt/anaconda3/lib/python3.9/site-packages/numpy/lib/function_base.py:2643: RuntimeWarning: invalid value encountered in true_divide\n",
      "  c /= stddev[None, :]\n",
      "/opt/anaconda3/lib/python3.9/site-packages/numpy/lib/function_base.py:2642: RuntimeWarning: invalid value encountered in true_divide\n",
      "  c /= stddev[:, None]\n",
      "/opt/anaconda3/lib/python3.9/site-packages/numpy/lib/function_base.py:2643: RuntimeWarning: invalid value encountered in true_divide\n",
      "  c /= stddev[None, :]\n"
     ]
    },
    {
     "name": "stdout",
     "output_type": "stream",
     "text": [
      "params: 0.1, 0.2, 0.67\n",
      "CCA score (train): nan\n",
      "CCA score (test): nan\n"
     ]
    },
    {
     "name": "stderr",
     "output_type": "stream",
     "text": [
      "/opt/anaconda3/lib/python3.9/site-packages/cca_zoo/models/iterative.py:122: RuntimeWarning: invalid value encountered in true_divide\n",
      "  - np.outer(score, score) @ residual / np.dot(score, score).item()\n",
      "/opt/anaconda3/lib/python3.9/site-packages/numpy/lib/function_base.py:2642: RuntimeWarning: invalid value encountered in true_divide\n",
      "  c /= stddev[:, None]\n",
      "/opt/anaconda3/lib/python3.9/site-packages/numpy/lib/function_base.py:2643: RuntimeWarning: invalid value encountered in true_divide\n",
      "  c /= stddev[None, :]\n",
      "/opt/anaconda3/lib/python3.9/site-packages/numpy/lib/function_base.py:2642: RuntimeWarning: invalid value encountered in true_divide\n",
      "  c /= stddev[:, None]\n",
      "/opt/anaconda3/lib/python3.9/site-packages/numpy/lib/function_base.py:2643: RuntimeWarning: invalid value encountered in true_divide\n",
      "  c /= stddev[None, :]\n"
     ]
    },
    {
     "name": "stdout",
     "output_type": "stream",
     "text": [
      "params: 0.1, 0.2, 0.75\n",
      "CCA score (train): nan\n",
      "CCA score (test): nan\n"
     ]
    },
    {
     "name": "stderr",
     "output_type": "stream",
     "text": [
      "/opt/anaconda3/lib/python3.9/site-packages/cca_zoo/models/iterative.py:106: UserWarning: Inner loop 0 not converged. Increase number of iterations.\n",
      "  warnings.warn(\n"
     ]
    },
    {
     "name": "stdout",
     "output_type": "stream",
     "text": [
      "params: 0.2, 0.01, 0.5\n",
      "CCA score (train): 0.1626270931909084\n",
      "CCA score (test): -0.020228721478150802\n"
     ]
    },
    {
     "name": "stderr",
     "output_type": "stream",
     "text": [
      "/opt/anaconda3/lib/python3.9/site-packages/cca_zoo/models/iterative.py:106: UserWarning: Inner loop 0 not converged. Increase number of iterations.\n",
      "  warnings.warn(\n"
     ]
    },
    {
     "name": "stdout",
     "output_type": "stream",
     "text": [
      "params: 0.2, 0.01, 0.67\n",
      "CCA score (train): 0.15053247978223316\n",
      "CCA score (test): -0.041016606339129624\n"
     ]
    },
    {
     "name": "stderr",
     "output_type": "stream",
     "text": [
      "/opt/anaconda3/lib/python3.9/site-packages/cca_zoo/models/iterative.py:106: UserWarning: Inner loop 0 not converged. Increase number of iterations.\n",
      "  warnings.warn(\n"
     ]
    },
    {
     "name": "stdout",
     "output_type": "stream",
     "text": [
      "params: 0.2, 0.01, 0.75\n",
      "CCA score (train): 0.1473873199511755\n",
      "CCA score (test): -0.04498473912176326\n"
     ]
    },
    {
     "name": "stderr",
     "output_type": "stream",
     "text": [
      "/opt/anaconda3/lib/python3.9/site-packages/cca_zoo/models/iterative.py:106: UserWarning: Inner loop 0 not converged. Increase number of iterations.\n",
      "  warnings.warn(\n"
     ]
    },
    {
     "name": "stdout",
     "output_type": "stream",
     "text": [
      "params: 0.2, 0.1, 0.5\n",
      "CCA score (train): 0.09589728992965885\n",
      "CCA score (test): -0.047157188081690116\n"
     ]
    },
    {
     "name": "stderr",
     "output_type": "stream",
     "text": [
      "/opt/anaconda3/lib/python3.9/site-packages/cca_zoo/models/iterative.py:122: RuntimeWarning: invalid value encountered in true_divide\n",
      "  - np.outer(score, score) @ residual / np.dot(score, score).item()\n",
      "/opt/anaconda3/lib/python3.9/site-packages/numpy/lib/function_base.py:2642: RuntimeWarning: invalid value encountered in true_divide\n",
      "  c /= stddev[:, None]\n",
      "/opt/anaconda3/lib/python3.9/site-packages/numpy/lib/function_base.py:2643: RuntimeWarning: invalid value encountered in true_divide\n",
      "  c /= stddev[None, :]\n",
      "/opt/anaconda3/lib/python3.9/site-packages/numpy/lib/function_base.py:2642: RuntimeWarning: invalid value encountered in true_divide\n",
      "  c /= stddev[:, None]\n",
      "/opt/anaconda3/lib/python3.9/site-packages/numpy/lib/function_base.py:2643: RuntimeWarning: invalid value encountered in true_divide\n",
      "  c /= stddev[None, :]\n"
     ]
    },
    {
     "name": "stdout",
     "output_type": "stream",
     "text": [
      "params: 0.2, 0.1, 0.67\n",
      "CCA score (train): nan\n",
      "CCA score (test): nan\n"
     ]
    },
    {
     "name": "stderr",
     "output_type": "stream",
     "text": [
      "/opt/anaconda3/lib/python3.9/site-packages/cca_zoo/models/iterative.py:122: RuntimeWarning: invalid value encountered in true_divide\n",
      "  - np.outer(score, score) @ residual / np.dot(score, score).item()\n",
      "/opt/anaconda3/lib/python3.9/site-packages/numpy/lib/function_base.py:2642: RuntimeWarning: invalid value encountered in true_divide\n",
      "  c /= stddev[:, None]\n",
      "/opt/anaconda3/lib/python3.9/site-packages/numpy/lib/function_base.py:2643: RuntimeWarning: invalid value encountered in true_divide\n",
      "  c /= stddev[None, :]\n",
      "/opt/anaconda3/lib/python3.9/site-packages/numpy/lib/function_base.py:2642: RuntimeWarning: invalid value encountered in true_divide\n",
      "  c /= stddev[:, None]\n",
      "/opt/anaconda3/lib/python3.9/site-packages/numpy/lib/function_base.py:2643: RuntimeWarning: invalid value encountered in true_divide\n",
      "  c /= stddev[None, :]\n"
     ]
    },
    {
     "name": "stdout",
     "output_type": "stream",
     "text": [
      "params: 0.2, 0.1, 0.75\n",
      "CCA score (train): nan\n",
      "CCA score (test): nan\n"
     ]
    },
    {
     "name": "stderr",
     "output_type": "stream",
     "text": [
      "/opt/anaconda3/lib/python3.9/site-packages/cca_zoo/models/iterative.py:106: UserWarning: Inner loop 0 not converged. Increase number of iterations.\n",
      "  warnings.warn(\n"
     ]
    },
    {
     "name": "stdout",
     "output_type": "stream",
     "text": [
      "params: 0.2, 0.2, 0.5\n",
      "CCA score (train): 0.07407477162184795\n",
      "CCA score (test): -0.04461674871340904\n"
     ]
    },
    {
     "name": "stderr",
     "output_type": "stream",
     "text": [
      "/opt/anaconda3/lib/python3.9/site-packages/cca_zoo/models/iterative.py:122: RuntimeWarning: invalid value encountered in true_divide\n",
      "  - np.outer(score, score) @ residual / np.dot(score, score).item()\n",
      "/opt/anaconda3/lib/python3.9/site-packages/numpy/lib/function_base.py:2642: RuntimeWarning: invalid value encountered in true_divide\n",
      "  c /= stddev[:, None]\n",
      "/opt/anaconda3/lib/python3.9/site-packages/numpy/lib/function_base.py:2643: RuntimeWarning: invalid value encountered in true_divide\n",
      "  c /= stddev[None, :]\n",
      "/opt/anaconda3/lib/python3.9/site-packages/numpy/lib/function_base.py:2642: RuntimeWarning: invalid value encountered in true_divide\n",
      "  c /= stddev[:, None]\n",
      "/opt/anaconda3/lib/python3.9/site-packages/numpy/lib/function_base.py:2643: RuntimeWarning: invalid value encountered in true_divide\n",
      "  c /= stddev[None, :]\n"
     ]
    },
    {
     "name": "stdout",
     "output_type": "stream",
     "text": [
      "params: 0.2, 0.2, 0.67\n",
      "CCA score (train): nan\n",
      "CCA score (test): nan\n"
     ]
    },
    {
     "name": "stderr",
     "output_type": "stream",
     "text": [
      "/opt/anaconda3/lib/python3.9/site-packages/cca_zoo/models/iterative.py:122: RuntimeWarning: invalid value encountered in true_divide\n",
      "  - np.outer(score, score) @ residual / np.dot(score, score).item()\n",
      "/opt/anaconda3/lib/python3.9/site-packages/numpy/lib/function_base.py:2642: RuntimeWarning: invalid value encountered in true_divide\n",
      "  c /= stddev[:, None]\n",
      "/opt/anaconda3/lib/python3.9/site-packages/numpy/lib/function_base.py:2643: RuntimeWarning: invalid value encountered in true_divide\n",
      "  c /= stddev[None, :]\n",
      "/opt/anaconda3/lib/python3.9/site-packages/numpy/lib/function_base.py:2642: RuntimeWarning: invalid value encountered in true_divide\n",
      "  c /= stddev[:, None]\n",
      "/opt/anaconda3/lib/python3.9/site-packages/numpy/lib/function_base.py:2643: RuntimeWarning: invalid value encountered in true_divide\n",
      "  c /= stddev[None, :]\n"
     ]
    },
    {
     "name": "stdout",
     "output_type": "stream",
     "text": [
      "params: 0.2, 0.2, 0.75\n",
      "CCA score (train): nan\n",
      "CCA score (test): nan\n",
      "/Users/marshlab2/Desktop/OCS_bigdata_ML_local/data/networklevel/partitions2_rep01fold04.csv\n",
      "<class 'numpy.ndarray'>\n",
      "(4231, 1)\n",
      "(4231, 8)\n",
      "(4231, 91)\n",
      "(470, 8)\n",
      "(470, 91)\n"
     ]
    },
    {
     "name": "stderr",
     "output_type": "stream",
     "text": [
      "/opt/anaconda3/lib/python3.9/site-packages/cca_zoo/models/iterative.py:106: UserWarning: Inner loop 0 not converged. Increase number of iterations.\n",
      "  warnings.warn(\n"
     ]
    },
    {
     "name": "stdout",
     "output_type": "stream",
     "text": [
      "params: 0.01, 0.01, 0.5\n",
      "CCA score (train): 0.19075044005143305\n",
      "CCA score (test): 0.06186705492050559\n"
     ]
    },
    {
     "name": "stderr",
     "output_type": "stream",
     "text": [
      "/opt/anaconda3/lib/python3.9/site-packages/cca_zoo/models/iterative.py:106: UserWarning: Inner loop 0 not converged. Increase number of iterations.\n",
      "  warnings.warn(\n"
     ]
    },
    {
     "name": "stdout",
     "output_type": "stream",
     "text": [
      "params: 0.01, 0.01, 0.67\n",
      "CCA score (train): 0.18418707597592077\n",
      "CCA score (test): 0.055465206263456635\n"
     ]
    },
    {
     "name": "stderr",
     "output_type": "stream",
     "text": [
      "/opt/anaconda3/lib/python3.9/site-packages/cca_zoo/models/iterative.py:106: UserWarning: Inner loop 0 not converged. Increase number of iterations.\n",
      "  warnings.warn(\n"
     ]
    },
    {
     "name": "stdout",
     "output_type": "stream",
     "text": [
      "params: 0.01, 0.01, 0.75\n",
      "CCA score (train): 0.18040589786420647\n",
      "CCA score (test): 0.05498386453207926\n"
     ]
    },
    {
     "name": "stderr",
     "output_type": "stream",
     "text": [
      "/opt/anaconda3/lib/python3.9/site-packages/cca_zoo/models/iterative.py:106: UserWarning: Inner loop 0 not converged. Increase number of iterations.\n",
      "  warnings.warn(\n"
     ]
    },
    {
     "name": "stdout",
     "output_type": "stream",
     "text": [
      "params: 0.01, 0.1, 0.5\n",
      "CCA score (train): 0.11528720919642876\n",
      "CCA score (test): 0.052422239149700234\n"
     ]
    },
    {
     "name": "stderr",
     "output_type": "stream",
     "text": [
      "/opt/anaconda3/lib/python3.9/site-packages/cca_zoo/models/iterative.py:106: UserWarning: Inner loop 0 not converged. Increase number of iterations.\n",
      "  warnings.warn(\n"
     ]
    },
    {
     "name": "stdout",
     "output_type": "stream",
     "text": [
      "params: 0.01, 0.1, 0.67\n",
      "CCA score (train): 0.10389353744685925\n",
      "CCA score (test): 0.03274253595631471\n"
     ]
    },
    {
     "name": "stderr",
     "output_type": "stream",
     "text": [
      "/opt/anaconda3/lib/python3.9/site-packages/cca_zoo/models/iterative.py:106: UserWarning: Inner loop 0 not converged. Increase number of iterations.\n",
      "  warnings.warn(\n"
     ]
    },
    {
     "name": "stdout",
     "output_type": "stream",
     "text": [
      "params: 0.01, 0.1, 0.75\n",
      "CCA score (train): 0.10179898258847597\n",
      "CCA score (test): 0.03844201192816188\n"
     ]
    },
    {
     "name": "stderr",
     "output_type": "stream",
     "text": [
      "/opt/anaconda3/lib/python3.9/site-packages/cca_zoo/models/iterative.py:106: UserWarning: Inner loop 0 not converged. Increase number of iterations.\n",
      "  warnings.warn(\n"
     ]
    },
    {
     "name": "stdout",
     "output_type": "stream",
     "text": [
      "params: 0.01, 0.2, 0.5\n",
      "CCA score (train): 0.09123901699792158\n",
      "CCA score (test): 0.043815451461860055\n"
     ]
    },
    {
     "name": "stderr",
     "output_type": "stream",
     "text": [
      "/opt/anaconda3/lib/python3.9/site-packages/cca_zoo/models/iterative.py:122: RuntimeWarning: invalid value encountered in true_divide\n",
      "  - np.outer(score, score) @ residual / np.dot(score, score).item()\n",
      "/opt/anaconda3/lib/python3.9/site-packages/cca_zoo/models/iterative.py:106: UserWarning: Inner loop 0 not converged. Increase number of iterations.\n",
      "  warnings.warn(\n",
      "/opt/anaconda3/lib/python3.9/site-packages/numpy/lib/function_base.py:2642: RuntimeWarning: invalid value encountered in true_divide\n",
      "  c /= stddev[:, None]\n",
      "/opt/anaconda3/lib/python3.9/site-packages/numpy/lib/function_base.py:2643: RuntimeWarning: invalid value encountered in true_divide\n",
      "  c /= stddev[None, :]\n",
      "/opt/anaconda3/lib/python3.9/site-packages/numpy/lib/function_base.py:2642: RuntimeWarning: invalid value encountered in true_divide\n",
      "  c /= stddev[:, None]\n",
      "/opt/anaconda3/lib/python3.9/site-packages/numpy/lib/function_base.py:2643: RuntimeWarning: invalid value encountered in true_divide\n",
      "  c /= stddev[None, :]\n"
     ]
    },
    {
     "name": "stdout",
     "output_type": "stream",
     "text": [
      "params: 0.01, 0.2, 0.67\n",
      "CCA score (train): nan\n",
      "CCA score (test): nan\n"
     ]
    },
    {
     "name": "stderr",
     "output_type": "stream",
     "text": [
      "/opt/anaconda3/lib/python3.9/site-packages/cca_zoo/models/iterative.py:122: RuntimeWarning: invalid value encountered in true_divide\n",
      "  - np.outer(score, score) @ residual / np.dot(score, score).item()\n",
      "/opt/anaconda3/lib/python3.9/site-packages/cca_zoo/models/iterative.py:106: UserWarning: Inner loop 0 not converged. Increase number of iterations.\n",
      "  warnings.warn(\n",
      "/opt/anaconda3/lib/python3.9/site-packages/numpy/lib/function_base.py:2642: RuntimeWarning: invalid value encountered in true_divide\n",
      "  c /= stddev[:, None]\n",
      "/opt/anaconda3/lib/python3.9/site-packages/numpy/lib/function_base.py:2643: RuntimeWarning: invalid value encountered in true_divide\n",
      "  c /= stddev[None, :]\n",
      "/opt/anaconda3/lib/python3.9/site-packages/numpy/lib/function_base.py:2642: RuntimeWarning: invalid value encountered in true_divide\n",
      "  c /= stddev[:, None]\n",
      "/opt/anaconda3/lib/python3.9/site-packages/numpy/lib/function_base.py:2643: RuntimeWarning: invalid value encountered in true_divide\n",
      "  c /= stddev[None, :]\n"
     ]
    },
    {
     "name": "stdout",
     "output_type": "stream",
     "text": [
      "params: 0.01, 0.2, 0.75\n",
      "CCA score (train): nan\n",
      "CCA score (test): nan\n"
     ]
    },
    {
     "name": "stderr",
     "output_type": "stream",
     "text": [
      "/opt/anaconda3/lib/python3.9/site-packages/cca_zoo/models/iterative.py:106: UserWarning: Inner loop 0 not converged. Increase number of iterations.\n",
      "  warnings.warn(\n"
     ]
    },
    {
     "name": "stdout",
     "output_type": "stream",
     "text": [
      "params: 0.1, 0.01, 0.5\n",
      "CCA score (train): 0.1709105845434511\n",
      "CCA score (test): 0.022920269014106376\n"
     ]
    },
    {
     "name": "stderr",
     "output_type": "stream",
     "text": [
      "/opt/anaconda3/lib/python3.9/site-packages/cca_zoo/models/iterative.py:106: UserWarning: Inner loop 0 not converged. Increase number of iterations.\n",
      "  warnings.warn(\n"
     ]
    },
    {
     "name": "stdout",
     "output_type": "stream",
     "text": [
      "params: 0.1, 0.01, 0.67\n",
      "CCA score (train): 0.1654077335860158\n",
      "CCA score (test): 0.024182120829260523\n"
     ]
    },
    {
     "name": "stderr",
     "output_type": "stream",
     "text": [
      "/opt/anaconda3/lib/python3.9/site-packages/cca_zoo/models/iterative.py:106: UserWarning: Inner loop 0 not converged. Increase number of iterations.\n",
      "  warnings.warn(\n"
     ]
    },
    {
     "name": "stdout",
     "output_type": "stream",
     "text": [
      "params: 0.1, 0.01, 0.75\n",
      "CCA score (train): 0.16178168169284635\n",
      "CCA score (test): 0.021534365577429604\n"
     ]
    },
    {
     "name": "stderr",
     "output_type": "stream",
     "text": [
      "/opt/anaconda3/lib/python3.9/site-packages/cca_zoo/models/iterative.py:106: UserWarning: Inner loop 0 not converged. Increase number of iterations.\n",
      "  warnings.warn(\n"
     ]
    },
    {
     "name": "stdout",
     "output_type": "stream",
     "text": [
      "params: 0.1, 0.1, 0.5\n",
      "CCA score (train): 0.09783265111004003\n",
      "CCA score (test): 0.01419505921088171\n"
     ]
    },
    {
     "name": "stderr",
     "output_type": "stream",
     "text": [
      "/opt/anaconda3/lib/python3.9/site-packages/cca_zoo/models/iterative.py:106: UserWarning: Inner loop 0 not converged. Increase number of iterations.\n",
      "  warnings.warn(\n"
     ]
    },
    {
     "name": "stdout",
     "output_type": "stream",
     "text": [
      "params: 0.1, 0.1, 0.67\n",
      "CCA score (train): 0.0774482823872189\n",
      "CCA score (test): -0.013569989470864519\n"
     ]
    },
    {
     "name": "stderr",
     "output_type": "stream",
     "text": [
      "/opt/anaconda3/lib/python3.9/site-packages/cca_zoo/models/iterative.py:106: UserWarning: Inner loop 0 not converged. Increase number of iterations.\n",
      "  warnings.warn(\n"
     ]
    },
    {
     "name": "stdout",
     "output_type": "stream",
     "text": [
      "params: 0.1, 0.1, 0.75\n",
      "CCA score (train): 0.07574326595915704\n",
      "CCA score (test): -0.019611632736739715\n"
     ]
    },
    {
     "name": "stderr",
     "output_type": "stream",
     "text": [
      "/opt/anaconda3/lib/python3.9/site-packages/cca_zoo/models/iterative.py:106: UserWarning: Inner loop 0 not converged. Increase number of iterations.\n",
      "  warnings.warn(\n"
     ]
    },
    {
     "name": "stdout",
     "output_type": "stream",
     "text": [
      "params: 0.1, 0.2, 0.5\n",
      "CCA score (train): 0.0747217449709392\n",
      "CCA score (test): -0.022668240529355788\n"
     ]
    },
    {
     "name": "stderr",
     "output_type": "stream",
     "text": [
      "/opt/anaconda3/lib/python3.9/site-packages/cca_zoo/models/iterative.py:122: RuntimeWarning: invalid value encountered in true_divide\n",
      "  - np.outer(score, score) @ residual / np.dot(score, score).item()\n",
      "/opt/anaconda3/lib/python3.9/site-packages/numpy/lib/function_base.py:2642: RuntimeWarning: invalid value encountered in true_divide\n",
      "  c /= stddev[:, None]\n",
      "/opt/anaconda3/lib/python3.9/site-packages/numpy/lib/function_base.py:2643: RuntimeWarning: invalid value encountered in true_divide\n",
      "  c /= stddev[None, :]\n",
      "/opt/anaconda3/lib/python3.9/site-packages/numpy/lib/function_base.py:2642: RuntimeWarning: invalid value encountered in true_divide\n",
      "  c /= stddev[:, None]\n",
      "/opt/anaconda3/lib/python3.9/site-packages/numpy/lib/function_base.py:2643: RuntimeWarning: invalid value encountered in true_divide\n",
      "  c /= stddev[None, :]\n"
     ]
    },
    {
     "name": "stdout",
     "output_type": "stream",
     "text": [
      "params: 0.1, 0.2, 0.67\n",
      "CCA score (train): nan\n",
      "CCA score (test): nan\n"
     ]
    },
    {
     "name": "stderr",
     "output_type": "stream",
     "text": [
      "/opt/anaconda3/lib/python3.9/site-packages/cca_zoo/models/iterative.py:122: RuntimeWarning: invalid value encountered in true_divide\n",
      "  - np.outer(score, score) @ residual / np.dot(score, score).item()\n",
      "/opt/anaconda3/lib/python3.9/site-packages/numpy/lib/function_base.py:2642: RuntimeWarning: invalid value encountered in true_divide\n",
      "  c /= stddev[:, None]\n",
      "/opt/anaconda3/lib/python3.9/site-packages/numpy/lib/function_base.py:2643: RuntimeWarning: invalid value encountered in true_divide\n",
      "  c /= stddev[None, :]\n",
      "/opt/anaconda3/lib/python3.9/site-packages/numpy/lib/function_base.py:2642: RuntimeWarning: invalid value encountered in true_divide\n",
      "  c /= stddev[:, None]\n",
      "/opt/anaconda3/lib/python3.9/site-packages/numpy/lib/function_base.py:2643: RuntimeWarning: invalid value encountered in true_divide\n",
      "  c /= stddev[None, :]\n"
     ]
    },
    {
     "name": "stdout",
     "output_type": "stream",
     "text": [
      "params: 0.1, 0.2, 0.75\n",
      "CCA score (train): nan\n",
      "CCA score (test): nan\n"
     ]
    },
    {
     "name": "stderr",
     "output_type": "stream",
     "text": [
      "/opt/anaconda3/lib/python3.9/site-packages/cca_zoo/models/iterative.py:106: UserWarning: Inner loop 0 not converged. Increase number of iterations.\n",
      "  warnings.warn(\n"
     ]
    },
    {
     "name": "stdout",
     "output_type": "stream",
     "text": [
      "params: 0.2, 0.01, 0.5\n",
      "CCA score (train): 0.16714544182825453\n",
      "CCA score (test): 0.019635112910363794\n"
     ]
    },
    {
     "name": "stderr",
     "output_type": "stream",
     "text": [
      "/opt/anaconda3/lib/python3.9/site-packages/cca_zoo/models/iterative.py:106: UserWarning: Inner loop 0 not converged. Increase number of iterations.\n",
      "  warnings.warn(\n"
     ]
    },
    {
     "name": "stdout",
     "output_type": "stream",
     "text": [
      "params: 0.2, 0.01, 0.67\n",
      "CCA score (train): 0.1436492153201132\n",
      "CCA score (test): -0.0026177470490162946\n"
     ]
    },
    {
     "name": "stderr",
     "output_type": "stream",
     "text": [
      "/opt/anaconda3/lib/python3.9/site-packages/cca_zoo/models/iterative.py:106: UserWarning: Inner loop 0 not converged. Increase number of iterations.\n",
      "  warnings.warn(\n"
     ]
    },
    {
     "name": "stdout",
     "output_type": "stream",
     "text": [
      "params: 0.2, 0.01, 0.75\n",
      "CCA score (train): 0.14039757888621174\n",
      "CCA score (test): -0.0024291900253907706\n"
     ]
    },
    {
     "name": "stderr",
     "output_type": "stream",
     "text": [
      "/opt/anaconda3/lib/python3.9/site-packages/cca_zoo/models/iterative.py:106: UserWarning: Inner loop 0 not converged. Increase number of iterations.\n",
      "  warnings.warn(\n"
     ]
    },
    {
     "name": "stdout",
     "output_type": "stream",
     "text": [
      "params: 0.2, 0.1, 0.5\n",
      "CCA score (train): 0.07624363610907725\n",
      "CCA score (test): -0.004645771965371748\n"
     ]
    },
    {
     "name": "stderr",
     "output_type": "stream",
     "text": [
      "/opt/anaconda3/lib/python3.9/site-packages/cca_zoo/models/iterative.py:106: UserWarning: Inner loop 0 not converged. Increase number of iterations.\n",
      "  warnings.warn(\n"
     ]
    },
    {
     "name": "stdout",
     "output_type": "stream",
     "text": [
      "params: 0.2, 0.1, 0.67\n",
      "CCA score (train): 0.06630042722265128\n",
      "CCA score (test): 0.010819882022790273\n"
     ]
    },
    {
     "name": "stderr",
     "output_type": "stream",
     "text": [
      "/opt/anaconda3/lib/python3.9/site-packages/cca_zoo/models/iterative.py:122: RuntimeWarning: invalid value encountered in true_divide\n",
      "  - np.outer(score, score) @ residual / np.dot(score, score).item()\n",
      "/opt/anaconda3/lib/python3.9/site-packages/numpy/lib/function_base.py:2642: RuntimeWarning: invalid value encountered in true_divide\n",
      "  c /= stddev[:, None]\n",
      "/opt/anaconda3/lib/python3.9/site-packages/numpy/lib/function_base.py:2643: RuntimeWarning: invalid value encountered in true_divide\n",
      "  c /= stddev[None, :]\n",
      "/opt/anaconda3/lib/python3.9/site-packages/numpy/lib/function_base.py:2642: RuntimeWarning: invalid value encountered in true_divide\n",
      "  c /= stddev[:, None]\n",
      "/opt/anaconda3/lib/python3.9/site-packages/numpy/lib/function_base.py:2643: RuntimeWarning: invalid value encountered in true_divide\n",
      "  c /= stddev[None, :]\n"
     ]
    },
    {
     "name": "stdout",
     "output_type": "stream",
     "text": [
      "params: 0.2, 0.1, 0.75\n",
      "CCA score (train): nan\n",
      "CCA score (test): nan\n"
     ]
    },
    {
     "name": "stderr",
     "output_type": "stream",
     "text": [
      "/opt/anaconda3/lib/python3.9/site-packages/cca_zoo/models/iterative.py:106: UserWarning: Inner loop 0 not converged. Increase number of iterations.\n",
      "  warnings.warn(\n"
     ]
    },
    {
     "name": "stdout",
     "output_type": "stream",
     "text": [
      "params: 0.2, 0.2, 0.5\n",
      "CCA score (train): 0.06607473125800523\n",
      "CCA score (test): -0.0019863674359431593\n"
     ]
    },
    {
     "name": "stderr",
     "output_type": "stream",
     "text": [
      "/opt/anaconda3/lib/python3.9/site-packages/cca_zoo/models/iterative.py:106: UserWarning: Inner loop 0 not converged. Increase number of iterations.\n",
      "  warnings.warn(\n"
     ]
    },
    {
     "name": "stdout",
     "output_type": "stream",
     "text": [
      "params: 0.2, 0.2, 0.67\n",
      "CCA score (train): 0.05449568885743972\n",
      "CCA score (test): 0.01314674844990904\n"
     ]
    },
    {
     "name": "stderr",
     "output_type": "stream",
     "text": [
      "/opt/anaconda3/lib/python3.9/site-packages/cca_zoo/models/iterative.py:122: RuntimeWarning: invalid value encountered in true_divide\n",
      "  - np.outer(score, score) @ residual / np.dot(score, score).item()\n",
      "/opt/anaconda3/lib/python3.9/site-packages/numpy/lib/function_base.py:2642: RuntimeWarning: invalid value encountered in true_divide\n",
      "  c /= stddev[:, None]\n",
      "/opt/anaconda3/lib/python3.9/site-packages/numpy/lib/function_base.py:2643: RuntimeWarning: invalid value encountered in true_divide\n",
      "  c /= stddev[None, :]\n",
      "/opt/anaconda3/lib/python3.9/site-packages/numpy/lib/function_base.py:2642: RuntimeWarning: invalid value encountered in true_divide\n",
      "  c /= stddev[:, None]\n",
      "/opt/anaconda3/lib/python3.9/site-packages/numpy/lib/function_base.py:2643: RuntimeWarning: invalid value encountered in true_divide\n",
      "  c /= stddev[None, :]\n"
     ]
    },
    {
     "name": "stdout",
     "output_type": "stream",
     "text": [
      "params: 0.2, 0.2, 0.75\n",
      "CCA score (train): nan\n",
      "CCA score (test): nan\n",
      "/Users/marshlab2/Desktop/OCS_bigdata_ML_local/data/networklevel/partitions2_rep01fold05.csv\n",
      "<class 'numpy.ndarray'>\n",
      "(4230, 1)\n",
      "(4230, 8)\n",
      "(4230, 91)\n",
      "(471, 8)\n",
      "(471, 91)\n"
     ]
    },
    {
     "name": "stderr",
     "output_type": "stream",
     "text": [
      "/opt/anaconda3/lib/python3.9/site-packages/cca_zoo/models/iterative.py:106: UserWarning: Inner loop 0 not converged. Increase number of iterations.\n",
      "  warnings.warn(\n"
     ]
    },
    {
     "name": "stdout",
     "output_type": "stream",
     "text": [
      "params: 0.01, 0.01, 0.5\n",
      "CCA score (train): 0.1941814834253146\n",
      "CCA score (test): 0.06366096311825298\n"
     ]
    },
    {
     "name": "stderr",
     "output_type": "stream",
     "text": [
      "/opt/anaconda3/lib/python3.9/site-packages/cca_zoo/models/iterative.py:106: UserWarning: Inner loop 0 not converged. Increase number of iterations.\n",
      "  warnings.warn(\n"
     ]
    },
    {
     "name": "stdout",
     "output_type": "stream",
     "text": [
      "params: 0.01, 0.01, 0.67\n",
      "CCA score (train): 0.1892356746520627\n",
      "CCA score (test): 0.0658564741415304\n"
     ]
    },
    {
     "name": "stderr",
     "output_type": "stream",
     "text": [
      "/opt/anaconda3/lib/python3.9/site-packages/cca_zoo/models/iterative.py:106: UserWarning: Inner loop 0 not converged. Increase number of iterations.\n",
      "  warnings.warn(\n"
     ]
    },
    {
     "name": "stdout",
     "output_type": "stream",
     "text": [
      "params: 0.01, 0.01, 0.75\n",
      "CCA score (train): 0.1855194500863273\n",
      "CCA score (test): 0.0662556074581635\n"
     ]
    },
    {
     "name": "stderr",
     "output_type": "stream",
     "text": [
      "/opt/anaconda3/lib/python3.9/site-packages/cca_zoo/models/iterative.py:106: UserWarning: Inner loop 0 not converged. Increase number of iterations.\n",
      "  warnings.warn(\n"
     ]
    },
    {
     "name": "stdout",
     "output_type": "stream",
     "text": [
      "params: 0.01, 0.1, 0.5\n",
      "CCA score (train): 0.10892453375078914\n",
      "CCA score (test): 0.08402362728791113\n"
     ]
    },
    {
     "name": "stderr",
     "output_type": "stream",
     "text": [
      "/opt/anaconda3/lib/python3.9/site-packages/cca_zoo/models/iterative.py:106: UserWarning: Inner loop 0 not converged. Increase number of iterations.\n",
      "  warnings.warn(\n"
     ]
    },
    {
     "name": "stdout",
     "output_type": "stream",
     "text": [
      "params: 0.01, 0.1, 0.67\n",
      "CCA score (train): 0.09021648090457712\n",
      "CCA score (test): 0.08782854326846956\n"
     ]
    },
    {
     "name": "stderr",
     "output_type": "stream",
     "text": [
      "/opt/anaconda3/lib/python3.9/site-packages/cca_zoo/models/iterative.py:106: UserWarning: Inner loop 0 not converged. Increase number of iterations.\n",
      "  warnings.warn(\n"
     ]
    },
    {
     "name": "stdout",
     "output_type": "stream",
     "text": [
      "params: 0.01, 0.1, 0.75\n",
      "CCA score (train): 0.08591146077095946\n",
      "CCA score (test): 0.08642183904940826\n"
     ]
    },
    {
     "name": "stderr",
     "output_type": "stream",
     "text": [
      "/opt/anaconda3/lib/python3.9/site-packages/cca_zoo/models/iterative.py:106: UserWarning: Inner loop 0 not converged. Increase number of iterations.\n",
      "  warnings.warn(\n"
     ]
    },
    {
     "name": "stdout",
     "output_type": "stream",
     "text": [
      "params: 0.01, 0.2, 0.5\n",
      "CCA score (train): 0.08286983627351674\n",
      "CCA score (test): 0.08018956317814574\n"
     ]
    },
    {
     "name": "stderr",
     "output_type": "stream",
     "text": [
      "/opt/anaconda3/lib/python3.9/site-packages/cca_zoo/models/iterative.py:122: RuntimeWarning: invalid value encountered in true_divide\n",
      "  - np.outer(score, score) @ residual / np.dot(score, score).item()\n",
      "/opt/anaconda3/lib/python3.9/site-packages/cca_zoo/models/iterative.py:106: UserWarning: Inner loop 0 not converged. Increase number of iterations.\n",
      "  warnings.warn(\n",
      "/opt/anaconda3/lib/python3.9/site-packages/numpy/lib/function_base.py:2642: RuntimeWarning: invalid value encountered in true_divide\n",
      "  c /= stddev[:, None]\n",
      "/opt/anaconda3/lib/python3.9/site-packages/numpy/lib/function_base.py:2643: RuntimeWarning: invalid value encountered in true_divide\n",
      "  c /= stddev[None, :]\n",
      "/opt/anaconda3/lib/python3.9/site-packages/numpy/lib/function_base.py:2642: RuntimeWarning: invalid value encountered in true_divide\n",
      "  c /= stddev[:, None]\n",
      "/opt/anaconda3/lib/python3.9/site-packages/numpy/lib/function_base.py:2643: RuntimeWarning: invalid value encountered in true_divide\n",
      "  c /= stddev[None, :]\n"
     ]
    },
    {
     "name": "stdout",
     "output_type": "stream",
     "text": [
      "params: 0.01, 0.2, 0.67\n",
      "CCA score (train): nan\n",
      "CCA score (test): nan\n"
     ]
    },
    {
     "name": "stderr",
     "output_type": "stream",
     "text": [
      "/opt/anaconda3/lib/python3.9/site-packages/cca_zoo/models/iterative.py:122: RuntimeWarning: invalid value encountered in true_divide\n",
      "  - np.outer(score, score) @ residual / np.dot(score, score).item()\n",
      "/opt/anaconda3/lib/python3.9/site-packages/cca_zoo/models/iterative.py:106: UserWarning: Inner loop 0 not converged. Increase number of iterations.\n",
      "  warnings.warn(\n",
      "/opt/anaconda3/lib/python3.9/site-packages/numpy/lib/function_base.py:2642: RuntimeWarning: invalid value encountered in true_divide\n",
      "  c /= stddev[:, None]\n",
      "/opt/anaconda3/lib/python3.9/site-packages/numpy/lib/function_base.py:2643: RuntimeWarning: invalid value encountered in true_divide\n",
      "  c /= stddev[None, :]\n",
      "/opt/anaconda3/lib/python3.9/site-packages/numpy/lib/function_base.py:2642: RuntimeWarning: invalid value encountered in true_divide\n",
      "  c /= stddev[:, None]\n",
      "/opt/anaconda3/lib/python3.9/site-packages/numpy/lib/function_base.py:2643: RuntimeWarning: invalid value encountered in true_divide\n",
      "  c /= stddev[None, :]\n"
     ]
    },
    {
     "name": "stdout",
     "output_type": "stream",
     "text": [
      "params: 0.01, 0.2, 0.75\n",
      "CCA score (train): nan\n",
      "CCA score (test): nan\n"
     ]
    },
    {
     "name": "stderr",
     "output_type": "stream",
     "text": [
      "/opt/anaconda3/lib/python3.9/site-packages/cca_zoo/models/iterative.py:106: UserWarning: Inner loop 0 not converged. Increase number of iterations.\n",
      "  warnings.warn(\n"
     ]
    },
    {
     "name": "stdout",
     "output_type": "stream",
     "text": [
      "params: 0.1, 0.01, 0.5\n",
      "CCA score (train): 0.17296590731377126\n",
      "CCA score (test): 0.043499517956008704\n"
     ]
    },
    {
     "name": "stderr",
     "output_type": "stream",
     "text": [
      "/opt/anaconda3/lib/python3.9/site-packages/cca_zoo/models/iterative.py:106: UserWarning: Inner loop 0 not converged. Increase number of iterations.\n",
      "  warnings.warn(\n"
     ]
    },
    {
     "name": "stdout",
     "output_type": "stream",
     "text": [
      "params: 0.1, 0.01, 0.67\n",
      "CCA score (train): 0.1666852190297594\n",
      "CCA score (test): 0.036995232498875374\n"
     ]
    },
    {
     "name": "stderr",
     "output_type": "stream",
     "text": [
      "/opt/anaconda3/lib/python3.9/site-packages/cca_zoo/models/iterative.py:106: UserWarning: Inner loop 0 not converged. Increase number of iterations.\n",
      "  warnings.warn(\n"
     ]
    },
    {
     "name": "stdout",
     "output_type": "stream",
     "text": [
      "params: 0.1, 0.01, 0.75\n",
      "CCA score (train): 0.1641937354949703\n",
      "CCA score (test): 0.03829886437864749\n"
     ]
    },
    {
     "name": "stderr",
     "output_type": "stream",
     "text": [
      "/opt/anaconda3/lib/python3.9/site-packages/cca_zoo/models/iterative.py:106: UserWarning: Inner loop 0 not converged. Increase number of iterations.\n",
      "  warnings.warn(\n"
     ]
    },
    {
     "name": "stdout",
     "output_type": "stream",
     "text": [
      "params: 0.1, 0.1, 0.5\n",
      "CCA score (train): 0.08992386998685875\n",
      "CCA score (test): 0.08646867367960409\n"
     ]
    },
    {
     "name": "stderr",
     "output_type": "stream",
     "text": [
      "/opt/anaconda3/lib/python3.9/site-packages/cca_zoo/models/iterative.py:106: UserWarning: Inner loop 0 not converged. Increase number of iterations.\n",
      "  warnings.warn(\n"
     ]
    },
    {
     "name": "stdout",
     "output_type": "stream",
     "text": [
      "params: 0.1, 0.1, 0.67\n",
      "CCA score (train): 0.06198136596318271\n",
      "CCA score (test): 0.09701464185905184\n"
     ]
    },
    {
     "name": "stderr",
     "output_type": "stream",
     "text": [
      "/opt/anaconda3/lib/python3.9/site-packages/cca_zoo/models/iterative.py:106: UserWarning: Inner loop 0 not converged. Increase number of iterations.\n",
      "  warnings.warn(\n"
     ]
    },
    {
     "name": "stdout",
     "output_type": "stream",
     "text": [
      "params: 0.1, 0.1, 0.75\n",
      "CCA score (train): 0.06149099984267181\n",
      "CCA score (test): 0.10312199116045662\n"
     ]
    },
    {
     "name": "stderr",
     "output_type": "stream",
     "text": [
      "/opt/anaconda3/lib/python3.9/site-packages/cca_zoo/models/iterative.py:106: UserWarning: Inner loop 0 not converged. Increase number of iterations.\n",
      "  warnings.warn(\n"
     ]
    },
    {
     "name": "stdout",
     "output_type": "stream",
     "text": [
      "params: 0.1, 0.2, 0.5\n",
      "CCA score (train): 0.06666523290304105\n",
      "CCA score (test): 0.10500563616003067\n"
     ]
    },
    {
     "name": "stderr",
     "output_type": "stream",
     "text": [
      "/opt/anaconda3/lib/python3.9/site-packages/cca_zoo/models/iterative.py:122: RuntimeWarning: invalid value encountered in true_divide\n",
      "  - np.outer(score, score) @ residual / np.dot(score, score).item()\n",
      "/opt/anaconda3/lib/python3.9/site-packages/numpy/lib/function_base.py:2642: RuntimeWarning: invalid value encountered in true_divide\n",
      "  c /= stddev[:, None]\n",
      "/opt/anaconda3/lib/python3.9/site-packages/numpy/lib/function_base.py:2643: RuntimeWarning: invalid value encountered in true_divide\n",
      "  c /= stddev[None, :]\n",
      "/opt/anaconda3/lib/python3.9/site-packages/numpy/lib/function_base.py:2642: RuntimeWarning: invalid value encountered in true_divide\n",
      "  c /= stddev[:, None]\n",
      "/opt/anaconda3/lib/python3.9/site-packages/numpy/lib/function_base.py:2643: RuntimeWarning: invalid value encountered in true_divide\n",
      "  c /= stddev[None, :]\n"
     ]
    },
    {
     "name": "stdout",
     "output_type": "stream",
     "text": [
      "params: 0.1, 0.2, 0.67\n",
      "CCA score (train): nan\n",
      "CCA score (test): nan\n"
     ]
    },
    {
     "name": "stderr",
     "output_type": "stream",
     "text": [
      "/opt/anaconda3/lib/python3.9/site-packages/cca_zoo/models/iterative.py:122: RuntimeWarning: invalid value encountered in true_divide\n",
      "  - np.outer(score, score) @ residual / np.dot(score, score).item()\n",
      "/opt/anaconda3/lib/python3.9/site-packages/cca_zoo/models/iterative.py:106: UserWarning: Inner loop 0 not converged. Increase number of iterations.\n",
      "  warnings.warn(\n",
      "/opt/anaconda3/lib/python3.9/site-packages/numpy/lib/function_base.py:2642: RuntimeWarning: invalid value encountered in true_divide\n",
      "  c /= stddev[:, None]\n",
      "/opt/anaconda3/lib/python3.9/site-packages/numpy/lib/function_base.py:2643: RuntimeWarning: invalid value encountered in true_divide\n",
      "  c /= stddev[None, :]\n",
      "/opt/anaconda3/lib/python3.9/site-packages/numpy/lib/function_base.py:2642: RuntimeWarning: invalid value encountered in true_divide\n",
      "  c /= stddev[:, None]\n",
      "/opt/anaconda3/lib/python3.9/site-packages/numpy/lib/function_base.py:2643: RuntimeWarning: invalid value encountered in true_divide\n",
      "  c /= stddev[None, :]\n"
     ]
    },
    {
     "name": "stdout",
     "output_type": "stream",
     "text": [
      "params: 0.1, 0.2, 0.75\n",
      "CCA score (train): nan\n",
      "CCA score (test): nan\n"
     ]
    },
    {
     "name": "stderr",
     "output_type": "stream",
     "text": [
      "/opt/anaconda3/lib/python3.9/site-packages/cca_zoo/models/iterative.py:106: UserWarning: Inner loop 0 not converged. Increase number of iterations.\n",
      "  warnings.warn(\n"
     ]
    },
    {
     "name": "stdout",
     "output_type": "stream",
     "text": [
      "params: 0.2, 0.01, 0.5\n",
      "CCA score (train): 0.16744226013505448\n",
      "CCA score (test): 0.03818998128071449\n"
     ]
    },
    {
     "name": "stderr",
     "output_type": "stream",
     "text": [
      "/opt/anaconda3/lib/python3.9/site-packages/cca_zoo/models/iterative.py:106: UserWarning: Inner loop 0 not converged. Increase number of iterations.\n",
      "  warnings.warn(\n"
     ]
    },
    {
     "name": "stdout",
     "output_type": "stream",
     "text": [
      "params: 0.2, 0.01, 0.67\n",
      "CCA score (train): 0.15198450704991973\n",
      "CCA score (test): 0.02449732683711714\n"
     ]
    },
    {
     "name": "stderr",
     "output_type": "stream",
     "text": [
      "/opt/anaconda3/lib/python3.9/site-packages/cca_zoo/models/iterative.py:106: UserWarning: Inner loop 0 not converged. Increase number of iterations.\n",
      "  warnings.warn(\n"
     ]
    },
    {
     "name": "stdout",
     "output_type": "stream",
     "text": [
      "params: 0.2, 0.01, 0.75\n",
      "CCA score (train): 0.14733188800337382\n",
      "CCA score (test): 0.025804218003615542\n"
     ]
    },
    {
     "name": "stderr",
     "output_type": "stream",
     "text": [
      "/opt/anaconda3/lib/python3.9/site-packages/cca_zoo/models/iterative.py:106: UserWarning: Inner loop 0 not converged. Increase number of iterations.\n",
      "  warnings.warn(\n"
     ]
    },
    {
     "name": "stdout",
     "output_type": "stream",
     "text": [
      "params: 0.2, 0.1, 0.5\n",
      "CCA score (train): 0.06194892223468207\n",
      "CCA score (test): 0.09193007580480317\n"
     ]
    },
    {
     "name": "stderr",
     "output_type": "stream",
     "text": [
      "/opt/anaconda3/lib/python3.9/site-packages/cca_zoo/models/iterative.py:122: RuntimeWarning: invalid value encountered in true_divide\n",
      "  - np.outer(score, score) @ residual / np.dot(score, score).item()\n",
      "/opt/anaconda3/lib/python3.9/site-packages/cca_zoo/models/iterative.py:106: UserWarning: Inner loop 0 not converged. Increase number of iterations.\n",
      "  warnings.warn(\n",
      "/opt/anaconda3/lib/python3.9/site-packages/numpy/lib/function_base.py:2642: RuntimeWarning: invalid value encountered in true_divide\n",
      "  c /= stddev[:, None]\n",
      "/opt/anaconda3/lib/python3.9/site-packages/numpy/lib/function_base.py:2643: RuntimeWarning: invalid value encountered in true_divide\n",
      "  c /= stddev[None, :]\n",
      "/opt/anaconda3/lib/python3.9/site-packages/numpy/lib/function_base.py:2642: RuntimeWarning: invalid value encountered in true_divide\n",
      "  c /= stddev[:, None]\n",
      "/opt/anaconda3/lib/python3.9/site-packages/numpy/lib/function_base.py:2643: RuntimeWarning: invalid value encountered in true_divide\n",
      "  c /= stddev[None, :]\n"
     ]
    },
    {
     "name": "stdout",
     "output_type": "stream",
     "text": [
      "params: 0.2, 0.1, 0.67\n",
      "CCA score (train): nan\n",
      "CCA score (test): nan\n"
     ]
    },
    {
     "name": "stderr",
     "output_type": "stream",
     "text": [
      "/opt/anaconda3/lib/python3.9/site-packages/cca_zoo/models/iterative.py:122: RuntimeWarning: invalid value encountered in true_divide\n",
      "  - np.outer(score, score) @ residual / np.dot(score, score).item()\n",
      "/opt/anaconda3/lib/python3.9/site-packages/numpy/lib/function_base.py:2642: RuntimeWarning: invalid value encountered in true_divide\n",
      "  c /= stddev[:, None]\n",
      "/opt/anaconda3/lib/python3.9/site-packages/numpy/lib/function_base.py:2643: RuntimeWarning: invalid value encountered in true_divide\n",
      "  c /= stddev[None, :]\n",
      "/opt/anaconda3/lib/python3.9/site-packages/numpy/lib/function_base.py:2642: RuntimeWarning: invalid value encountered in true_divide\n",
      "  c /= stddev[:, None]\n",
      "/opt/anaconda3/lib/python3.9/site-packages/numpy/lib/function_base.py:2643: RuntimeWarning: invalid value encountered in true_divide\n",
      "  c /= stddev[None, :]\n"
     ]
    },
    {
     "name": "stdout",
     "output_type": "stream",
     "text": [
      "params: 0.2, 0.1, 0.75\n",
      "CCA score (train): nan\n",
      "CCA score (test): nan\n"
     ]
    },
    {
     "name": "stderr",
     "output_type": "stream",
     "text": [
      "/opt/anaconda3/lib/python3.9/site-packages/cca_zoo/models/iterative.py:106: UserWarning: Inner loop 0 not converged. Increase number of iterations.\n",
      "  warnings.warn(\n"
     ]
    },
    {
     "name": "stdout",
     "output_type": "stream",
     "text": [
      "params: 0.2, 0.2, 0.5\n",
      "CCA score (train): 0.06199774045951334\n",
      "CCA score (test): 0.09672271211395711\n"
     ]
    },
    {
     "name": "stderr",
     "output_type": "stream",
     "text": [
      "/opt/anaconda3/lib/python3.9/site-packages/cca_zoo/models/iterative.py:106: UserWarning: Inner loop 0 not converged. Increase number of iterations.\n",
      "  warnings.warn(\n"
     ]
    },
    {
     "name": "stdout",
     "output_type": "stream",
     "text": [
      "params: 0.2, 0.2, 0.67\n",
      "CCA score (train): 0.060865562174346355\n",
      "CCA score (test): 0.10667854542420607\n"
     ]
    },
    {
     "name": "stderr",
     "output_type": "stream",
     "text": [
      "/opt/anaconda3/lib/python3.9/site-packages/cca_zoo/models/iterative.py:122: RuntimeWarning: invalid value encountered in true_divide\n",
      "  - np.outer(score, score) @ residual / np.dot(score, score).item()\n",
      "/opt/anaconda3/lib/python3.9/site-packages/numpy/lib/function_base.py:2642: RuntimeWarning: invalid value encountered in true_divide\n",
      "  c /= stddev[:, None]\n",
      "/opt/anaconda3/lib/python3.9/site-packages/numpy/lib/function_base.py:2643: RuntimeWarning: invalid value encountered in true_divide\n",
      "  c /= stddev[None, :]\n",
      "/opt/anaconda3/lib/python3.9/site-packages/numpy/lib/function_base.py:2642: RuntimeWarning: invalid value encountered in true_divide\n",
      "  c /= stddev[:, None]\n",
      "/opt/anaconda3/lib/python3.9/site-packages/numpy/lib/function_base.py:2643: RuntimeWarning: invalid value encountered in true_divide\n",
      "  c /= stddev[None, :]\n"
     ]
    },
    {
     "name": "stdout",
     "output_type": "stream",
     "text": [
      "params: 0.2, 0.2, 0.75\n",
      "CCA score (train): nan\n",
      "CCA score (test): nan\n",
      "/Users/marshlab2/Desktop/OCS_bigdata_ML_local/data/networklevel/partitions2_rep01fold06.csv\n",
      "<class 'numpy.ndarray'>\n",
      "(4230, 1)\n",
      "(4230, 8)\n",
      "(4230, 91)\n",
      "(471, 8)\n",
      "(471, 91)\n"
     ]
    },
    {
     "name": "stderr",
     "output_type": "stream",
     "text": [
      "/opt/anaconda3/lib/python3.9/site-packages/cca_zoo/models/iterative.py:106: UserWarning: Inner loop 0 not converged. Increase number of iterations.\n",
      "  warnings.warn(\n"
     ]
    },
    {
     "name": "stdout",
     "output_type": "stream",
     "text": [
      "params: 0.01, 0.01, 0.5\n",
      "CCA score (train): 0.19221540124653025\n",
      "CCA score (test): 0.040507598099007724\n"
     ]
    },
    {
     "name": "stderr",
     "output_type": "stream",
     "text": [
      "/opt/anaconda3/lib/python3.9/site-packages/cca_zoo/models/iterative.py:106: UserWarning: Inner loop 0 not converged. Increase number of iterations.\n",
      "  warnings.warn(\n"
     ]
    },
    {
     "name": "stdout",
     "output_type": "stream",
     "text": [
      "params: 0.01, 0.01, 0.67\n",
      "CCA score (train): 0.18470968943101918\n",
      "CCA score (test): 0.034834228489025953\n"
     ]
    },
    {
     "name": "stderr",
     "output_type": "stream",
     "text": [
      "/opt/anaconda3/lib/python3.9/site-packages/cca_zoo/models/iterative.py:106: UserWarning: Inner loop 0 not converged. Increase number of iterations.\n",
      "  warnings.warn(\n"
     ]
    },
    {
     "name": "stdout",
     "output_type": "stream",
     "text": [
      "params: 0.01, 0.01, 0.75\n",
      "CCA score (train): 0.18140617536782666\n",
      "CCA score (test): 0.03198798396907554\n"
     ]
    },
    {
     "name": "stderr",
     "output_type": "stream",
     "text": [
      "/opt/anaconda3/lib/python3.9/site-packages/cca_zoo/models/iterative.py:106: UserWarning: Inner loop 0 not converged. Increase number of iterations.\n",
      "  warnings.warn(\n"
     ]
    },
    {
     "name": "stdout",
     "output_type": "stream",
     "text": [
      "params: 0.01, 0.1, 0.5\n",
      "CCA score (train): 0.13066781947030015\n",
      "CCA score (test): -0.03518835119975283\n"
     ]
    },
    {
     "name": "stderr",
     "output_type": "stream",
     "text": [
      "/opt/anaconda3/lib/python3.9/site-packages/cca_zoo/models/iterative.py:106: UserWarning: Inner loop 0 not converged. Increase number of iterations.\n",
      "  warnings.warn(\n"
     ]
    },
    {
     "name": "stdout",
     "output_type": "stream",
     "text": [
      "params: 0.01, 0.1, 0.67\n",
      "CCA score (train): 0.10443140224297576\n",
      "CCA score (test): 0.009915861099629275\n"
     ]
    },
    {
     "name": "stderr",
     "output_type": "stream",
     "text": [
      "/opt/anaconda3/lib/python3.9/site-packages/cca_zoo/models/iterative.py:106: UserWarning: Inner loop 0 not converged. Increase number of iterations.\n",
      "  warnings.warn(\n"
     ]
    },
    {
     "name": "stdout",
     "output_type": "stream",
     "text": [
      "params: 0.01, 0.1, 0.75\n",
      "CCA score (train): 0.09881065441178638\n",
      "CCA score (test): 0.03366994764502751\n"
     ]
    },
    {
     "name": "stderr",
     "output_type": "stream",
     "text": [
      "/opt/anaconda3/lib/python3.9/site-packages/cca_zoo/models/iterative.py:106: UserWarning: Inner loop 0 not converged. Increase number of iterations.\n",
      "  warnings.warn(\n"
     ]
    },
    {
     "name": "stdout",
     "output_type": "stream",
     "text": [
      "params: 0.01, 0.2, 0.5\n",
      "CCA score (train): 0.09144823079434872\n",
      "CCA score (test): 0.04265638327492205\n"
     ]
    },
    {
     "name": "stderr",
     "output_type": "stream",
     "text": [
      "/opt/anaconda3/lib/python3.9/site-packages/cca_zoo/models/iterative.py:122: RuntimeWarning: invalid value encountered in true_divide\n",
      "  - np.outer(score, score) @ residual / np.dot(score, score).item()\n",
      "/opt/anaconda3/lib/python3.9/site-packages/cca_zoo/models/iterative.py:106: UserWarning: Inner loop 0 not converged. Increase number of iterations.\n",
      "  warnings.warn(\n",
      "/opt/anaconda3/lib/python3.9/site-packages/numpy/lib/function_base.py:2642: RuntimeWarning: invalid value encountered in true_divide\n",
      "  c /= stddev[:, None]\n",
      "/opt/anaconda3/lib/python3.9/site-packages/numpy/lib/function_base.py:2643: RuntimeWarning: invalid value encountered in true_divide\n",
      "  c /= stddev[None, :]\n",
      "/opt/anaconda3/lib/python3.9/site-packages/numpy/lib/function_base.py:2642: RuntimeWarning: invalid value encountered in true_divide\n",
      "  c /= stddev[:, None]\n",
      "/opt/anaconda3/lib/python3.9/site-packages/numpy/lib/function_base.py:2643: RuntimeWarning: invalid value encountered in true_divide\n",
      "  c /= stddev[None, :]\n"
     ]
    },
    {
     "name": "stdout",
     "output_type": "stream",
     "text": [
      "params: 0.01, 0.2, 0.67\n",
      "CCA score (train): nan\n",
      "CCA score (test): nan\n"
     ]
    },
    {
     "name": "stderr",
     "output_type": "stream",
     "text": [
      "/opt/anaconda3/lib/python3.9/site-packages/cca_zoo/models/iterative.py:122: RuntimeWarning: invalid value encountered in true_divide\n",
      "  - np.outer(score, score) @ residual / np.dot(score, score).item()\n",
      "/opt/anaconda3/lib/python3.9/site-packages/cca_zoo/models/iterative.py:106: UserWarning: Inner loop 0 not converged. Increase number of iterations.\n",
      "  warnings.warn(\n",
      "/opt/anaconda3/lib/python3.9/site-packages/numpy/lib/function_base.py:2642: RuntimeWarning: invalid value encountered in true_divide\n",
      "  c /= stddev[:, None]\n",
      "/opt/anaconda3/lib/python3.9/site-packages/numpy/lib/function_base.py:2643: RuntimeWarning: invalid value encountered in true_divide\n",
      "  c /= stddev[None, :]\n",
      "/opt/anaconda3/lib/python3.9/site-packages/numpy/lib/function_base.py:2642: RuntimeWarning: invalid value encountered in true_divide\n",
      "  c /= stddev[:, None]\n",
      "/opt/anaconda3/lib/python3.9/site-packages/numpy/lib/function_base.py:2643: RuntimeWarning: invalid value encountered in true_divide\n",
      "  c /= stddev[None, :]\n"
     ]
    },
    {
     "name": "stdout",
     "output_type": "stream",
     "text": [
      "params: 0.01, 0.2, 0.75\n",
      "CCA score (train): nan\n",
      "CCA score (test): nan\n"
     ]
    },
    {
     "name": "stderr",
     "output_type": "stream",
     "text": [
      "/opt/anaconda3/lib/python3.9/site-packages/cca_zoo/models/iterative.py:106: UserWarning: Inner loop 0 not converged. Increase number of iterations.\n",
      "  warnings.warn(\n"
     ]
    },
    {
     "name": "stdout",
     "output_type": "stream",
     "text": [
      "params: 0.1, 0.01, 0.5\n",
      "CCA score (train): 0.1737747618914054\n",
      "CCA score (test): 0.023800849007683977\n"
     ]
    },
    {
     "name": "stderr",
     "output_type": "stream",
     "text": [
      "/opt/anaconda3/lib/python3.9/site-packages/cca_zoo/models/iterative.py:106: UserWarning: Inner loop 0 not converged. Increase number of iterations.\n",
      "  warnings.warn(\n"
     ]
    },
    {
     "name": "stdout",
     "output_type": "stream",
     "text": [
      "params: 0.1, 0.01, 0.67\n",
      "CCA score (train): 0.16530757615368552\n",
      "CCA score (test): 0.028134700200930007\n"
     ]
    },
    {
     "name": "stderr",
     "output_type": "stream",
     "text": [
      "/opt/anaconda3/lib/python3.9/site-packages/cca_zoo/models/iterative.py:106: UserWarning: Inner loop 0 not converged. Increase number of iterations.\n",
      "  warnings.warn(\n"
     ]
    },
    {
     "name": "stdout",
     "output_type": "stream",
     "text": [
      "params: 0.1, 0.01, 0.75\n",
      "CCA score (train): 0.1596639453975126\n",
      "CCA score (test): 0.033892637163328576\n"
     ]
    },
    {
     "name": "stderr",
     "output_type": "stream",
     "text": [
      "/opt/anaconda3/lib/python3.9/site-packages/cca_zoo/models/iterative.py:106: UserWarning: Inner loop 0 not converged. Increase number of iterations.\n",
      "  warnings.warn(\n"
     ]
    },
    {
     "name": "stdout",
     "output_type": "stream",
     "text": [
      "params: 0.1, 0.1, 0.5\n",
      "CCA score (train): 0.10865376936581228\n",
      "CCA score (test): -0.024993482313797943\n"
     ]
    },
    {
     "name": "stderr",
     "output_type": "stream",
     "text": [
      "/opt/anaconda3/lib/python3.9/site-packages/cca_zoo/models/iterative.py:106: UserWarning: Inner loop 0 not converged. Increase number of iterations.\n",
      "  warnings.warn(\n"
     ]
    },
    {
     "name": "stdout",
     "output_type": "stream",
     "text": [
      "params: 0.1, 0.1, 0.67\n",
      "CCA score (train): 0.09429454446846663\n",
      "CCA score (test): -0.01066445099907909\n"
     ]
    },
    {
     "name": "stderr",
     "output_type": "stream",
     "text": [
      "/opt/anaconda3/lib/python3.9/site-packages/cca_zoo/models/iterative.py:106: UserWarning: Inner loop 0 not converged. Increase number of iterations.\n",
      "  warnings.warn(\n"
     ]
    },
    {
     "name": "stdout",
     "output_type": "stream",
     "text": [
      "params: 0.1, 0.1, 0.75\n",
      "CCA score (train): 0.07573369015306541\n",
      "CCA score (test): 0.017943571953440873\n"
     ]
    },
    {
     "name": "stderr",
     "output_type": "stream",
     "text": [
      "/opt/anaconda3/lib/python3.9/site-packages/cca_zoo/models/iterative.py:106: UserWarning: Inner loop 0 not converged. Increase number of iterations.\n",
      "  warnings.warn(\n"
     ]
    },
    {
     "name": "stdout",
     "output_type": "stream",
     "text": [
      "params: 0.1, 0.2, 0.5\n",
      "CCA score (train): 0.08193633082219942\n",
      "CCA score (test): 0.032427150605476296\n"
     ]
    },
    {
     "name": "stderr",
     "output_type": "stream",
     "text": [
      "/opt/anaconda3/lib/python3.9/site-packages/cca_zoo/models/iterative.py:122: RuntimeWarning: invalid value encountered in true_divide\n",
      "  - np.outer(score, score) @ residual / np.dot(score, score).item()\n",
      "/opt/anaconda3/lib/python3.9/site-packages/numpy/lib/function_base.py:2642: RuntimeWarning: invalid value encountered in true_divide\n",
      "  c /= stddev[:, None]\n",
      "/opt/anaconda3/lib/python3.9/site-packages/numpy/lib/function_base.py:2643: RuntimeWarning: invalid value encountered in true_divide\n",
      "  c /= stddev[None, :]\n",
      "/opt/anaconda3/lib/python3.9/site-packages/numpy/lib/function_base.py:2642: RuntimeWarning: invalid value encountered in true_divide\n",
      "  c /= stddev[:, None]\n",
      "/opt/anaconda3/lib/python3.9/site-packages/numpy/lib/function_base.py:2643: RuntimeWarning: invalid value encountered in true_divide\n",
      "  c /= stddev[None, :]\n"
     ]
    },
    {
     "name": "stdout",
     "output_type": "stream",
     "text": [
      "params: 0.1, 0.2, 0.67\n",
      "CCA score (train): nan\n",
      "CCA score (test): nan\n"
     ]
    },
    {
     "name": "stderr",
     "output_type": "stream",
     "text": [
      "/opt/anaconda3/lib/python3.9/site-packages/cca_zoo/models/iterative.py:122: RuntimeWarning: invalid value encountered in true_divide\n",
      "  - np.outer(score, score) @ residual / np.dot(score, score).item()\n",
      "/opt/anaconda3/lib/python3.9/site-packages/numpy/lib/function_base.py:2642: RuntimeWarning: invalid value encountered in true_divide\n",
      "  c /= stddev[:, None]\n",
      "/opt/anaconda3/lib/python3.9/site-packages/numpy/lib/function_base.py:2643: RuntimeWarning: invalid value encountered in true_divide\n",
      "  c /= stddev[None, :]\n",
      "/opt/anaconda3/lib/python3.9/site-packages/numpy/lib/function_base.py:2642: RuntimeWarning: invalid value encountered in true_divide\n",
      "  c /= stddev[:, None]\n",
      "/opt/anaconda3/lib/python3.9/site-packages/numpy/lib/function_base.py:2643: RuntimeWarning: invalid value encountered in true_divide\n",
      "  c /= stddev[None, :]\n"
     ]
    },
    {
     "name": "stdout",
     "output_type": "stream",
     "text": [
      "params: 0.1, 0.2, 0.75\n",
      "CCA score (train): nan\n",
      "CCA score (test): nan\n"
     ]
    },
    {
     "name": "stderr",
     "output_type": "stream",
     "text": [
      "/opt/anaconda3/lib/python3.9/site-packages/cca_zoo/models/iterative.py:106: UserWarning: Inner loop 0 not converged. Increase number of iterations.\n",
      "  warnings.warn(\n"
     ]
    },
    {
     "name": "stdout",
     "output_type": "stream",
     "text": [
      "params: 0.2, 0.01, 0.5\n",
      "CCA score (train): 0.16453515977090882\n",
      "CCA score (test): 0.03603850786107721\n"
     ]
    },
    {
     "name": "stderr",
     "output_type": "stream",
     "text": [
      "/opt/anaconda3/lib/python3.9/site-packages/cca_zoo/models/iterative.py:106: UserWarning: Inner loop 0 not converged. Increase number of iterations.\n",
      "  warnings.warn(\n"
     ]
    },
    {
     "name": "stdout",
     "output_type": "stream",
     "text": [
      "params: 0.2, 0.01, 0.67\n",
      "CCA score (train): 0.15306657225573783\n",
      "CCA score (test): 0.030019271126402236\n"
     ]
    },
    {
     "name": "stderr",
     "output_type": "stream",
     "text": [
      "/opt/anaconda3/lib/python3.9/site-packages/cca_zoo/models/iterative.py:106: UserWarning: Inner loop 0 not converged. Increase number of iterations.\n",
      "  warnings.warn(\n"
     ]
    },
    {
     "name": "stdout",
     "output_type": "stream",
     "text": [
      "params: 0.2, 0.01, 0.75\n",
      "CCA score (train): 0.12887189755549544\n",
      "CCA score (test): 0.03508886498666475\n"
     ]
    },
    {
     "name": "stderr",
     "output_type": "stream",
     "text": [
      "/opt/anaconda3/lib/python3.9/site-packages/cca_zoo/models/iterative.py:106: UserWarning: Inner loop 0 not converged. Increase number of iterations.\n",
      "  warnings.warn(\n"
     ]
    },
    {
     "name": "stdout",
     "output_type": "stream",
     "text": [
      "params: 0.2, 0.1, 0.5\n",
      "CCA score (train): 0.09379285134162485\n",
      "CCA score (test): -0.01626679338864301\n"
     ]
    },
    {
     "name": "stderr",
     "output_type": "stream",
     "text": [
      "/opt/anaconda3/lib/python3.9/site-packages/cca_zoo/models/iterative.py:122: RuntimeWarning: invalid value encountered in true_divide\n",
      "  - np.outer(score, score) @ residual / np.dot(score, score).item()\n",
      "/opt/anaconda3/lib/python3.9/site-packages/numpy/lib/function_base.py:2642: RuntimeWarning: invalid value encountered in true_divide\n",
      "  c /= stddev[:, None]\n",
      "/opt/anaconda3/lib/python3.9/site-packages/numpy/lib/function_base.py:2643: RuntimeWarning: invalid value encountered in true_divide\n",
      "  c /= stddev[None, :]\n",
      "/opt/anaconda3/lib/python3.9/site-packages/numpy/lib/function_base.py:2642: RuntimeWarning: invalid value encountered in true_divide\n",
      "  c /= stddev[:, None]\n",
      "/opt/anaconda3/lib/python3.9/site-packages/numpy/lib/function_base.py:2643: RuntimeWarning: invalid value encountered in true_divide\n",
      "  c /= stddev[None, :]\n"
     ]
    },
    {
     "name": "stdout",
     "output_type": "stream",
     "text": [
      "params: 0.2, 0.1, 0.67\n",
      "CCA score (train): nan\n",
      "CCA score (test): nan\n"
     ]
    },
    {
     "name": "stderr",
     "output_type": "stream",
     "text": [
      "/opt/anaconda3/lib/python3.9/site-packages/cca_zoo/models/iterative.py:122: RuntimeWarning: invalid value encountered in true_divide\n",
      "  - np.outer(score, score) @ residual / np.dot(score, score).item()\n",
      "/opt/anaconda3/lib/python3.9/site-packages/numpy/lib/function_base.py:2642: RuntimeWarning: invalid value encountered in true_divide\n",
      "  c /= stddev[:, None]\n",
      "/opt/anaconda3/lib/python3.9/site-packages/numpy/lib/function_base.py:2643: RuntimeWarning: invalid value encountered in true_divide\n",
      "  c /= stddev[None, :]\n",
      "/opt/anaconda3/lib/python3.9/site-packages/numpy/lib/function_base.py:2642: RuntimeWarning: invalid value encountered in true_divide\n",
      "  c /= stddev[:, None]\n",
      "/opt/anaconda3/lib/python3.9/site-packages/numpy/lib/function_base.py:2643: RuntimeWarning: invalid value encountered in true_divide\n",
      "  c /= stddev[None, :]\n"
     ]
    },
    {
     "name": "stdout",
     "output_type": "stream",
     "text": [
      "params: 0.2, 0.1, 0.75\n",
      "CCA score (train): nan\n",
      "CCA score (test): nan\n"
     ]
    },
    {
     "name": "stderr",
     "output_type": "stream",
     "text": [
      "/opt/anaconda3/lib/python3.9/site-packages/cca_zoo/models/iterative.py:106: UserWarning: Inner loop 0 not converged. Increase number of iterations.\n",
      "  warnings.warn(\n"
     ]
    },
    {
     "name": "stdout",
     "output_type": "stream",
     "text": [
      "params: 0.2, 0.2, 0.5\n",
      "CCA score (train): 0.07182505398794303\n",
      "CCA score (test): 0.014131145129163691\n"
     ]
    },
    {
     "name": "stderr",
     "output_type": "stream",
     "text": [
      "/opt/anaconda3/lib/python3.9/site-packages/cca_zoo/models/iterative.py:106: UserWarning: Inner loop 0 not converged. Increase number of iterations.\n",
      "  warnings.warn(\n"
     ]
    },
    {
     "name": "stdout",
     "output_type": "stream",
     "text": [
      "params: 0.2, 0.2, 0.67\n",
      "CCA score (train): 0.047769985356926226\n",
      "CCA score (test): 0.028722671531689503\n"
     ]
    },
    {
     "name": "stderr",
     "output_type": "stream",
     "text": [
      "/opt/anaconda3/lib/python3.9/site-packages/cca_zoo/models/iterative.py:106: UserWarning: Inner loop 0 not converged. Increase number of iterations.\n",
      "  warnings.warn(\n"
     ]
    },
    {
     "name": "stdout",
     "output_type": "stream",
     "text": [
      "params: 0.2, 0.2, 0.75\n",
      "CCA score (train): 0.047769985356926226\n",
      "CCA score (test): 0.028722671531689725\n",
      "/Users/marshlab2/Desktop/OCS_bigdata_ML_local/data/networklevel/partitions2_rep01fold07.csv\n",
      "<class 'numpy.ndarray'>\n",
      "(4229, 1)\n",
      "(4229, 8)\n",
      "(4229, 91)\n",
      "(472, 8)\n",
      "(472, 91)\n"
     ]
    },
    {
     "name": "stderr",
     "output_type": "stream",
     "text": [
      "/opt/anaconda3/lib/python3.9/site-packages/cca_zoo/models/iterative.py:106: UserWarning: Inner loop 0 not converged. Increase number of iterations.\n",
      "  warnings.warn(\n"
     ]
    },
    {
     "name": "stdout",
     "output_type": "stream",
     "text": [
      "params: 0.01, 0.01, 0.5\n",
      "CCA score (train): 0.1919746622686873\n",
      "CCA score (test): 0.07875986093156007\n"
     ]
    },
    {
     "name": "stderr",
     "output_type": "stream",
     "text": [
      "/opt/anaconda3/lib/python3.9/site-packages/cca_zoo/models/iterative.py:106: UserWarning: Inner loop 0 not converged. Increase number of iterations.\n",
      "  warnings.warn(\n"
     ]
    },
    {
     "name": "stdout",
     "output_type": "stream",
     "text": [
      "params: 0.01, 0.01, 0.67\n",
      "CCA score (train): 0.18736678163904363\n",
      "CCA score (test): 0.07685365463481064\n"
     ]
    },
    {
     "name": "stderr",
     "output_type": "stream",
     "text": [
      "/opt/anaconda3/lib/python3.9/site-packages/cca_zoo/models/iterative.py:106: UserWarning: Inner loop 0 not converged. Increase number of iterations.\n",
      "  warnings.warn(\n"
     ]
    },
    {
     "name": "stdout",
     "output_type": "stream",
     "text": [
      "params: 0.01, 0.01, 0.75\n",
      "CCA score (train): 0.18468772692480373\n",
      "CCA score (test): 0.07618272699853068\n"
     ]
    },
    {
     "name": "stderr",
     "output_type": "stream",
     "text": [
      "/opt/anaconda3/lib/python3.9/site-packages/cca_zoo/models/iterative.py:106: UserWarning: Inner loop 0 not converged. Increase number of iterations.\n",
      "  warnings.warn(\n"
     ]
    },
    {
     "name": "stdout",
     "output_type": "stream",
     "text": [
      "params: 0.01, 0.1, 0.5\n",
      "CCA score (train): 0.11627818503551168\n",
      "CCA score (test): 0.06572781311115494\n"
     ]
    },
    {
     "name": "stderr",
     "output_type": "stream",
     "text": [
      "/opt/anaconda3/lib/python3.9/site-packages/cca_zoo/models/iterative.py:106: UserWarning: Inner loop 0 not converged. Increase number of iterations.\n",
      "  warnings.warn(\n"
     ]
    },
    {
     "name": "stdout",
     "output_type": "stream",
     "text": [
      "params: 0.01, 0.1, 0.67\n",
      "CCA score (train): 0.10674617386258967\n",
      "CCA score (test): 0.07147015661941025\n"
     ]
    },
    {
     "name": "stderr",
     "output_type": "stream",
     "text": [
      "/opt/anaconda3/lib/python3.9/site-packages/cca_zoo/models/iterative.py:106: UserWarning: Inner loop 0 not converged. Increase number of iterations.\n",
      "  warnings.warn(\n"
     ]
    },
    {
     "name": "stdout",
     "output_type": "stream",
     "text": [
      "params: 0.01, 0.1, 0.75\n",
      "CCA score (train): 0.0958589177078315\n",
      "CCA score (test): 0.09600947932019444\n"
     ]
    },
    {
     "name": "stderr",
     "output_type": "stream",
     "text": [
      "/opt/anaconda3/lib/python3.9/site-packages/cca_zoo/models/iterative.py:106: UserWarning: Inner loop 0 not converged. Increase number of iterations.\n",
      "  warnings.warn(\n"
     ]
    },
    {
     "name": "stdout",
     "output_type": "stream",
     "text": [
      "params: 0.01, 0.2, 0.5\n",
      "CCA score (train): 0.08294110006429256\n",
      "CCA score (test): 0.12135040946971842\n"
     ]
    },
    {
     "name": "stderr",
     "output_type": "stream",
     "text": [
      "/opt/anaconda3/lib/python3.9/site-packages/cca_zoo/models/iterative.py:122: RuntimeWarning: invalid value encountered in true_divide\n",
      "  - np.outer(score, score) @ residual / np.dot(score, score).item()\n",
      "/opt/anaconda3/lib/python3.9/site-packages/cca_zoo/models/iterative.py:106: UserWarning: Inner loop 0 not converged. Increase number of iterations.\n",
      "  warnings.warn(\n",
      "/opt/anaconda3/lib/python3.9/site-packages/numpy/lib/function_base.py:2642: RuntimeWarning: invalid value encountered in true_divide\n",
      "  c /= stddev[:, None]\n",
      "/opt/anaconda3/lib/python3.9/site-packages/numpy/lib/function_base.py:2643: RuntimeWarning: invalid value encountered in true_divide\n",
      "  c /= stddev[None, :]\n",
      "/opt/anaconda3/lib/python3.9/site-packages/numpy/lib/function_base.py:2642: RuntimeWarning: invalid value encountered in true_divide\n",
      "  c /= stddev[:, None]\n",
      "/opt/anaconda3/lib/python3.9/site-packages/numpy/lib/function_base.py:2643: RuntimeWarning: invalid value encountered in true_divide\n",
      "  c /= stddev[None, :]\n"
     ]
    },
    {
     "name": "stdout",
     "output_type": "stream",
     "text": [
      "params: 0.01, 0.2, 0.67\n",
      "CCA score (train): nan\n",
      "CCA score (test): nan\n"
     ]
    },
    {
     "name": "stderr",
     "output_type": "stream",
     "text": [
      "/opt/anaconda3/lib/python3.9/site-packages/cca_zoo/models/iterative.py:122: RuntimeWarning: invalid value encountered in true_divide\n",
      "  - np.outer(score, score) @ residual / np.dot(score, score).item()\n",
      "/opt/anaconda3/lib/python3.9/site-packages/cca_zoo/models/iterative.py:106: UserWarning: Inner loop 0 not converged. Increase number of iterations.\n",
      "  warnings.warn(\n",
      "/opt/anaconda3/lib/python3.9/site-packages/numpy/lib/function_base.py:2642: RuntimeWarning: invalid value encountered in true_divide\n",
      "  c /= stddev[:, None]\n",
      "/opt/anaconda3/lib/python3.9/site-packages/numpy/lib/function_base.py:2643: RuntimeWarning: invalid value encountered in true_divide\n",
      "  c /= stddev[None, :]\n",
      "/opt/anaconda3/lib/python3.9/site-packages/numpy/lib/function_base.py:2642: RuntimeWarning: invalid value encountered in true_divide\n",
      "  c /= stddev[:, None]\n",
      "/opt/anaconda3/lib/python3.9/site-packages/numpy/lib/function_base.py:2643: RuntimeWarning: invalid value encountered in true_divide\n",
      "  c /= stddev[None, :]\n"
     ]
    },
    {
     "name": "stdout",
     "output_type": "stream",
     "text": [
      "params: 0.01, 0.2, 0.75\n",
      "CCA score (train): nan\n",
      "CCA score (test): nan\n"
     ]
    },
    {
     "name": "stderr",
     "output_type": "stream",
     "text": [
      "/opt/anaconda3/lib/python3.9/site-packages/cca_zoo/models/iterative.py:106: UserWarning: Inner loop 0 not converged. Increase number of iterations.\n",
      "  warnings.warn(\n"
     ]
    },
    {
     "name": "stdout",
     "output_type": "stream",
     "text": [
      "params: 0.1, 0.01, 0.5\n",
      "CCA score (train): 0.17086085654193162\n",
      "CCA score (test): 0.07181057161073134\n"
     ]
    },
    {
     "name": "stderr",
     "output_type": "stream",
     "text": [
      "/opt/anaconda3/lib/python3.9/site-packages/cca_zoo/models/iterative.py:106: UserWarning: Inner loop 0 not converged. Increase number of iterations.\n",
      "  warnings.warn(\n"
     ]
    },
    {
     "name": "stdout",
     "output_type": "stream",
     "text": [
      "params: 0.1, 0.01, 0.67\n",
      "CCA score (train): 0.1604498386054387\n",
      "CCA score (test): 0.061990802558187674\n"
     ]
    },
    {
     "name": "stderr",
     "output_type": "stream",
     "text": [
      "/opt/anaconda3/lib/python3.9/site-packages/cca_zoo/models/iterative.py:106: UserWarning: Inner loop 0 not converged. Increase number of iterations.\n",
      "  warnings.warn(\n"
     ]
    },
    {
     "name": "stdout",
     "output_type": "stream",
     "text": [
      "params: 0.1, 0.01, 0.75\n",
      "CCA score (train): 0.15556533812595608\n",
      "CCA score (test): 0.05466902486467262\n"
     ]
    },
    {
     "name": "stderr",
     "output_type": "stream",
     "text": [
      "/opt/anaconda3/lib/python3.9/site-packages/cca_zoo/models/iterative.py:106: UserWarning: Inner loop 0 not converged. Increase number of iterations.\n",
      "  warnings.warn(\n"
     ]
    },
    {
     "name": "stdout",
     "output_type": "stream",
     "text": [
      "params: 0.1, 0.1, 0.5\n",
      "CCA score (train): 0.08705839429356277\n",
      "CCA score (test): 0.045182997033429206\n"
     ]
    },
    {
     "name": "stderr",
     "output_type": "stream",
     "text": [
      "/opt/anaconda3/lib/python3.9/site-packages/cca_zoo/models/iterative.py:106: UserWarning: Inner loop 0 not converged. Increase number of iterations.\n",
      "  warnings.warn(\n"
     ]
    },
    {
     "name": "stdout",
     "output_type": "stream",
     "text": [
      "params: 0.1, 0.1, 0.67\n",
      "CCA score (train): 0.07478962127317113\n",
      "CCA score (test): -0.026037989976981923\n"
     ]
    },
    {
     "name": "stderr",
     "output_type": "stream",
     "text": [
      "/opt/anaconda3/lib/python3.9/site-packages/cca_zoo/models/iterative.py:106: UserWarning: Inner loop 0 not converged. Increase number of iterations.\n",
      "  warnings.warn(\n"
     ]
    },
    {
     "name": "stdout",
     "output_type": "stream",
     "text": [
      "params: 0.1, 0.1, 0.75\n",
      "CCA score (train): 0.0700039755926194\n",
      "CCA score (test): -0.03759051091505894\n"
     ]
    },
    {
     "name": "stderr",
     "output_type": "stream",
     "text": [
      "/opt/anaconda3/lib/python3.9/site-packages/cca_zoo/models/iterative.py:106: UserWarning: Inner loop 0 not converged. Increase number of iterations.\n",
      "  warnings.warn(\n"
     ]
    },
    {
     "name": "stdout",
     "output_type": "stream",
     "text": [
      "params: 0.1, 0.2, 0.5\n",
      "CCA score (train): 0.06384850669827147\n",
      "CCA score (test): -0.041479747369421505\n"
     ]
    },
    {
     "name": "stderr",
     "output_type": "stream",
     "text": [
      "/opt/anaconda3/lib/python3.9/site-packages/cca_zoo/models/iterative.py:122: RuntimeWarning: invalid value encountered in true_divide\n",
      "  - np.outer(score, score) @ residual / np.dot(score, score).item()\n",
      "/opt/anaconda3/lib/python3.9/site-packages/numpy/lib/function_base.py:2642: RuntimeWarning: invalid value encountered in true_divide\n",
      "  c /= stddev[:, None]\n",
      "/opt/anaconda3/lib/python3.9/site-packages/numpy/lib/function_base.py:2643: RuntimeWarning: invalid value encountered in true_divide\n",
      "  c /= stddev[None, :]\n",
      "/opt/anaconda3/lib/python3.9/site-packages/numpy/lib/function_base.py:2642: RuntimeWarning: invalid value encountered in true_divide\n",
      "  c /= stddev[:, None]\n",
      "/opt/anaconda3/lib/python3.9/site-packages/numpy/lib/function_base.py:2643: RuntimeWarning: invalid value encountered in true_divide\n",
      "  c /= stddev[None, :]\n"
     ]
    },
    {
     "name": "stdout",
     "output_type": "stream",
     "text": [
      "params: 0.1, 0.2, 0.67\n",
      "CCA score (train): nan\n",
      "CCA score (test): nan\n"
     ]
    },
    {
     "name": "stderr",
     "output_type": "stream",
     "text": [
      "/opt/anaconda3/lib/python3.9/site-packages/cca_zoo/models/iterative.py:122: RuntimeWarning: invalid value encountered in true_divide\n",
      "  - np.outer(score, score) @ residual / np.dot(score, score).item()\n",
      "/opt/anaconda3/lib/python3.9/site-packages/numpy/lib/function_base.py:2642: RuntimeWarning: invalid value encountered in true_divide\n",
      "  c /= stddev[:, None]\n",
      "/opt/anaconda3/lib/python3.9/site-packages/numpy/lib/function_base.py:2643: RuntimeWarning: invalid value encountered in true_divide\n",
      "  c /= stddev[None, :]\n",
      "/opt/anaconda3/lib/python3.9/site-packages/numpy/lib/function_base.py:2642: RuntimeWarning: invalid value encountered in true_divide\n",
      "  c /= stddev[:, None]\n",
      "/opt/anaconda3/lib/python3.9/site-packages/numpy/lib/function_base.py:2643: RuntimeWarning: invalid value encountered in true_divide\n",
      "  c /= stddev[None, :]\n"
     ]
    },
    {
     "name": "stdout",
     "output_type": "stream",
     "text": [
      "params: 0.1, 0.2, 0.75\n",
      "CCA score (train): nan\n",
      "CCA score (test): nan\n"
     ]
    },
    {
     "name": "stderr",
     "output_type": "stream",
     "text": [
      "/opt/anaconda3/lib/python3.9/site-packages/cca_zoo/models/iterative.py:106: UserWarning: Inner loop 0 not converged. Increase number of iterations.\n",
      "  warnings.warn(\n"
     ]
    },
    {
     "name": "stdout",
     "output_type": "stream",
     "text": [
      "params: 0.2, 0.01, 0.5\n",
      "CCA score (train): 0.15638870049074827\n",
      "CCA score (test): 0.04247613288232133\n"
     ]
    },
    {
     "name": "stderr",
     "output_type": "stream",
     "text": [
      "/opt/anaconda3/lib/python3.9/site-packages/cca_zoo/models/iterative.py:106: UserWarning: Inner loop 0 not converged. Increase number of iterations.\n",
      "  warnings.warn(\n"
     ]
    },
    {
     "name": "stdout",
     "output_type": "stream",
     "text": [
      "params: 0.2, 0.01, 0.67\n",
      "CCA score (train): 0.14258435051231522\n",
      "CCA score (test): 0.027179762177241384\n"
     ]
    },
    {
     "name": "stderr",
     "output_type": "stream",
     "text": [
      "/opt/anaconda3/lib/python3.9/site-packages/cca_zoo/models/iterative.py:106: UserWarning: Inner loop 0 not converged. Increase number of iterations.\n",
      "  warnings.warn(\n"
     ]
    },
    {
     "name": "stdout",
     "output_type": "stream",
     "text": [
      "params: 0.2, 0.01, 0.75\n",
      "CCA score (train): 0.1379068307535214\n",
      "CCA score (test): 0.02538602720471994\n"
     ]
    },
    {
     "name": "stderr",
     "output_type": "stream",
     "text": [
      "/opt/anaconda3/lib/python3.9/site-packages/cca_zoo/models/iterative.py:106: UserWarning: Inner loop 0 not converged. Increase number of iterations.\n",
      "  warnings.warn(\n"
     ]
    },
    {
     "name": "stdout",
     "output_type": "stream",
     "text": [
      "params: 0.2, 0.1, 0.5\n",
      "CCA score (train): 0.0742566025214062\n",
      "CCA score (test): -0.009545743920115868\n"
     ]
    },
    {
     "name": "stderr",
     "output_type": "stream",
     "text": [
      "/opt/anaconda3/lib/python3.9/site-packages/cca_zoo/models/iterative.py:106: UserWarning: Inner loop 0 not converged. Increase number of iterations.\n",
      "  warnings.warn(\n"
     ]
    },
    {
     "name": "stdout",
     "output_type": "stream",
     "text": [
      "params: 0.2, 0.1, 0.67\n",
      "CCA score (train): 0.06821347755411744\n",
      "CCA score (test): -0.005376878437071797\n"
     ]
    },
    {
     "name": "stderr",
     "output_type": "stream",
     "text": [
      "/opt/anaconda3/lib/python3.9/site-packages/cca_zoo/models/iterative.py:122: RuntimeWarning: invalid value encountered in true_divide\n",
      "  - np.outer(score, score) @ residual / np.dot(score, score).item()\n",
      "/opt/anaconda3/lib/python3.9/site-packages/numpy/lib/function_base.py:2642: RuntimeWarning: invalid value encountered in true_divide\n",
      "  c /= stddev[:, None]\n",
      "/opt/anaconda3/lib/python3.9/site-packages/numpy/lib/function_base.py:2643: RuntimeWarning: invalid value encountered in true_divide\n",
      "  c /= stddev[None, :]\n",
      "/opt/anaconda3/lib/python3.9/site-packages/numpy/lib/function_base.py:2642: RuntimeWarning: invalid value encountered in true_divide\n",
      "  c /= stddev[:, None]\n",
      "/opt/anaconda3/lib/python3.9/site-packages/numpy/lib/function_base.py:2643: RuntimeWarning: invalid value encountered in true_divide\n",
      "  c /= stddev[None, :]\n"
     ]
    },
    {
     "name": "stdout",
     "output_type": "stream",
     "text": [
      "params: 0.2, 0.1, 0.75\n",
      "CCA score (train): nan\n",
      "CCA score (test): nan\n"
     ]
    },
    {
     "name": "stderr",
     "output_type": "stream",
     "text": [
      "/opt/anaconda3/lib/python3.9/site-packages/cca_zoo/models/iterative.py:106: UserWarning: Inner loop 0 not converged. Increase number of iterations.\n",
      "  warnings.warn(\n"
     ]
    },
    {
     "name": "stdout",
     "output_type": "stream",
     "text": [
      "params: 0.2, 0.2, 0.5\n",
      "CCA score (train): 0.0669594140376466\n",
      "CCA score (test): -0.026661886712719518\n"
     ]
    },
    {
     "name": "stderr",
     "output_type": "stream",
     "text": [
      "/opt/anaconda3/lib/python3.9/site-packages/cca_zoo/models/iterative.py:106: UserWarning: Inner loop 0 not converged. Increase number of iterations.\n",
      "  warnings.warn(\n"
     ]
    },
    {
     "name": "stdout",
     "output_type": "stream",
     "text": [
      "params: 0.2, 0.2, 0.67\n",
      "CCA score (train): 0.05947999026907236\n",
      "CCA score (test): -0.04592341357219987\n"
     ]
    },
    {
     "name": "stderr",
     "output_type": "stream",
     "text": [
      "/opt/anaconda3/lib/python3.9/site-packages/cca_zoo/models/iterative.py:122: RuntimeWarning: invalid value encountered in true_divide\n",
      "  - np.outer(score, score) @ residual / np.dot(score, score).item()\n",
      "/opt/anaconda3/lib/python3.9/site-packages/numpy/lib/function_base.py:2642: RuntimeWarning: invalid value encountered in true_divide\n",
      "  c /= stddev[:, None]\n",
      "/opt/anaconda3/lib/python3.9/site-packages/numpy/lib/function_base.py:2643: RuntimeWarning: invalid value encountered in true_divide\n",
      "  c /= stddev[None, :]\n",
      "/opt/anaconda3/lib/python3.9/site-packages/numpy/lib/function_base.py:2642: RuntimeWarning: invalid value encountered in true_divide\n",
      "  c /= stddev[:, None]\n",
      "/opt/anaconda3/lib/python3.9/site-packages/numpy/lib/function_base.py:2643: RuntimeWarning: invalid value encountered in true_divide\n",
      "  c /= stddev[None, :]\n"
     ]
    },
    {
     "name": "stdout",
     "output_type": "stream",
     "text": [
      "params: 0.2, 0.2, 0.75\n",
      "CCA score (train): nan\n",
      "CCA score (test): nan\n",
      "/Users/marshlab2/Desktop/OCS_bigdata_ML_local/data/networklevel/partitions2_rep01fold08.csv\n",
      "<class 'numpy.ndarray'>\n",
      "(4232, 1)\n",
      "(4232, 8)\n",
      "(4232, 91)\n",
      "(469, 8)\n",
      "(469, 91)\n"
     ]
    },
    {
     "name": "stderr",
     "output_type": "stream",
     "text": [
      "/opt/anaconda3/lib/python3.9/site-packages/cca_zoo/models/iterative.py:106: UserWarning: Inner loop 0 not converged. Increase number of iterations.\n",
      "  warnings.warn(\n"
     ]
    },
    {
     "name": "stdout",
     "output_type": "stream",
     "text": [
      "params: 0.01, 0.01, 0.5\n",
      "CCA score (train): 0.1875795741489379\n",
      "CCA score (test): 0.07406623957083558\n"
     ]
    },
    {
     "name": "stderr",
     "output_type": "stream",
     "text": [
      "/opt/anaconda3/lib/python3.9/site-packages/cca_zoo/models/iterative.py:106: UserWarning: Inner loop 0 not converged. Increase number of iterations.\n",
      "  warnings.warn(\n"
     ]
    },
    {
     "name": "stdout",
     "output_type": "stream",
     "text": [
      "params: 0.01, 0.01, 0.67\n",
      "CCA score (train): 0.18325828817500311\n",
      "CCA score (test): 0.06963207024075779\n"
     ]
    },
    {
     "name": "stderr",
     "output_type": "stream",
     "text": [
      "/opt/anaconda3/lib/python3.9/site-packages/cca_zoo/models/iterative.py:106: UserWarning: Inner loop 0 not converged. Increase number of iterations.\n",
      "  warnings.warn(\n"
     ]
    },
    {
     "name": "stdout",
     "output_type": "stream",
     "text": [
      "params: 0.01, 0.01, 0.75\n",
      "CCA score (train): 0.18021451573170566\n",
      "CCA score (test): 0.065886366202903\n"
     ]
    },
    {
     "name": "stderr",
     "output_type": "stream",
     "text": [
      "/opt/anaconda3/lib/python3.9/site-packages/cca_zoo/models/iterative.py:106: UserWarning: Inner loop 0 not converged. Increase number of iterations.\n",
      "  warnings.warn(\n"
     ]
    },
    {
     "name": "stdout",
     "output_type": "stream",
     "text": [
      "params: 0.01, 0.1, 0.5\n",
      "CCA score (train): 0.11375020456737883\n",
      "CCA score (test): 0.03981519793859456\n"
     ]
    },
    {
     "name": "stderr",
     "output_type": "stream",
     "text": [
      "/opt/anaconda3/lib/python3.9/site-packages/cca_zoo/models/iterative.py:106: UserWarning: Inner loop 0 not converged. Increase number of iterations.\n",
      "  warnings.warn(\n"
     ]
    },
    {
     "name": "stdout",
     "output_type": "stream",
     "text": [
      "params: 0.01, 0.1, 0.67\n",
      "CCA score (train): 0.10150922325209244\n",
      "CCA score (test): 0.02815583308999381\n"
     ]
    },
    {
     "name": "stderr",
     "output_type": "stream",
     "text": [
      "/opt/anaconda3/lib/python3.9/site-packages/cca_zoo/models/iterative.py:106: UserWarning: Inner loop 0 not converged. Increase number of iterations.\n",
      "  warnings.warn(\n"
     ]
    },
    {
     "name": "stdout",
     "output_type": "stream",
     "text": [
      "params: 0.01, 0.1, 0.75\n",
      "CCA score (train): 0.09437149579246307\n",
      "CCA score (test): 0.009968761152097994\n"
     ]
    },
    {
     "name": "stderr",
     "output_type": "stream",
     "text": [
      "/opt/anaconda3/lib/python3.9/site-packages/cca_zoo/models/iterative.py:106: UserWarning: Inner loop 0 not converged. Increase number of iterations.\n",
      "  warnings.warn(\n"
     ]
    },
    {
     "name": "stdout",
     "output_type": "stream",
     "text": [
      "params: 0.01, 0.2, 0.5\n",
      "CCA score (train): 0.08728952876867102\n",
      "CCA score (test): -0.009880048149975895\n"
     ]
    },
    {
     "name": "stderr",
     "output_type": "stream",
     "text": [
      "/opt/anaconda3/lib/python3.9/site-packages/cca_zoo/models/iterative.py:122: RuntimeWarning: invalid value encountered in true_divide\n",
      "  - np.outer(score, score) @ residual / np.dot(score, score).item()\n",
      "/opt/anaconda3/lib/python3.9/site-packages/cca_zoo/models/iterative.py:106: UserWarning: Inner loop 0 not converged. Increase number of iterations.\n",
      "  warnings.warn(\n",
      "/opt/anaconda3/lib/python3.9/site-packages/numpy/lib/function_base.py:2642: RuntimeWarning: invalid value encountered in true_divide\n",
      "  c /= stddev[:, None]\n",
      "/opt/anaconda3/lib/python3.9/site-packages/numpy/lib/function_base.py:2643: RuntimeWarning: invalid value encountered in true_divide\n",
      "  c /= stddev[None, :]\n",
      "/opt/anaconda3/lib/python3.9/site-packages/numpy/lib/function_base.py:2642: RuntimeWarning: invalid value encountered in true_divide\n",
      "  c /= stddev[:, None]\n",
      "/opt/anaconda3/lib/python3.9/site-packages/numpy/lib/function_base.py:2643: RuntimeWarning: invalid value encountered in true_divide\n",
      "  c /= stddev[None, :]\n"
     ]
    },
    {
     "name": "stdout",
     "output_type": "stream",
     "text": [
      "params: 0.01, 0.2, 0.67\n",
      "CCA score (train): nan\n",
      "CCA score (test): nan\n"
     ]
    },
    {
     "name": "stderr",
     "output_type": "stream",
     "text": [
      "/opt/anaconda3/lib/python3.9/site-packages/cca_zoo/models/iterative.py:122: RuntimeWarning: invalid value encountered in true_divide\n",
      "  - np.outer(score, score) @ residual / np.dot(score, score).item()\n",
      "/opt/anaconda3/lib/python3.9/site-packages/cca_zoo/models/iterative.py:106: UserWarning: Inner loop 0 not converged. Increase number of iterations.\n",
      "  warnings.warn(\n",
      "/opt/anaconda3/lib/python3.9/site-packages/numpy/lib/function_base.py:2642: RuntimeWarning: invalid value encountered in true_divide\n",
      "  c /= stddev[:, None]\n",
      "/opt/anaconda3/lib/python3.9/site-packages/numpy/lib/function_base.py:2643: RuntimeWarning: invalid value encountered in true_divide\n",
      "  c /= stddev[None, :]\n",
      "/opt/anaconda3/lib/python3.9/site-packages/numpy/lib/function_base.py:2642: RuntimeWarning: invalid value encountered in true_divide\n",
      "  c /= stddev[:, None]\n",
      "/opt/anaconda3/lib/python3.9/site-packages/numpy/lib/function_base.py:2643: RuntimeWarning: invalid value encountered in true_divide\n",
      "  c /= stddev[None, :]\n"
     ]
    },
    {
     "name": "stdout",
     "output_type": "stream",
     "text": [
      "params: 0.01, 0.2, 0.75\n",
      "CCA score (train): nan\n",
      "CCA score (test): nan\n"
     ]
    },
    {
     "name": "stderr",
     "output_type": "stream",
     "text": [
      "/opt/anaconda3/lib/python3.9/site-packages/cca_zoo/models/iterative.py:106: UserWarning: Inner loop 0 not converged. Increase number of iterations.\n",
      "  warnings.warn(\n"
     ]
    },
    {
     "name": "stdout",
     "output_type": "stream",
     "text": [
      "params: 0.1, 0.01, 0.5\n",
      "CCA score (train): 0.171704442686321\n",
      "CCA score (test): 0.0388425062417459\n"
     ]
    },
    {
     "name": "stderr",
     "output_type": "stream",
     "text": [
      "/opt/anaconda3/lib/python3.9/site-packages/cca_zoo/models/iterative.py:106: UserWarning: Inner loop 0 not converged. Increase number of iterations.\n",
      "  warnings.warn(\n"
     ]
    },
    {
     "name": "stdout",
     "output_type": "stream",
     "text": [
      "params: 0.1, 0.01, 0.67\n",
      "CCA score (train): 0.16460042912057893\n",
      "CCA score (test): 0.05155842304863656\n"
     ]
    },
    {
     "name": "stderr",
     "output_type": "stream",
     "text": [
      "/opt/anaconda3/lib/python3.9/site-packages/cca_zoo/models/iterative.py:106: UserWarning: Inner loop 0 not converged. Increase number of iterations.\n",
      "  warnings.warn(\n"
     ]
    },
    {
     "name": "stdout",
     "output_type": "stream",
     "text": [
      "params: 0.1, 0.01, 0.75\n",
      "CCA score (train): 0.16006014225972898\n",
      "CCA score (test): 0.05348528968925326\n"
     ]
    },
    {
     "name": "stderr",
     "output_type": "stream",
     "text": [
      "/opt/anaconda3/lib/python3.9/site-packages/cca_zoo/models/iterative.py:106: UserWarning: Inner loop 0 not converged. Increase number of iterations.\n",
      "  warnings.warn(\n"
     ]
    },
    {
     "name": "stdout",
     "output_type": "stream",
     "text": [
      "params: 0.1, 0.1, 0.5\n",
      "CCA score (train): 0.08775645569388657\n",
      "CCA score (test): 0.012151740212956286\n"
     ]
    },
    {
     "name": "stderr",
     "output_type": "stream",
     "text": [
      "/opt/anaconda3/lib/python3.9/site-packages/cca_zoo/models/iterative.py:106: UserWarning: Inner loop 0 not converged. Increase number of iterations.\n",
      "  warnings.warn(\n"
     ]
    },
    {
     "name": "stdout",
     "output_type": "stream",
     "text": [
      "params: 0.1, 0.1, 0.67\n",
      "CCA score (train): 0.08002612654607355\n",
      "CCA score (test): 0.003299906651346385\n"
     ]
    },
    {
     "name": "stderr",
     "output_type": "stream",
     "text": [
      "/opt/anaconda3/lib/python3.9/site-packages/cca_zoo/models/iterative.py:106: UserWarning: Inner loop 0 not converged. Increase number of iterations.\n",
      "  warnings.warn(\n"
     ]
    },
    {
     "name": "stdout",
     "output_type": "stream",
     "text": [
      "params: 0.1, 0.1, 0.75\n",
      "CCA score (train): 0.07083329466243393\n",
      "CCA score (test): -0.006852999100595003\n"
     ]
    },
    {
     "name": "stderr",
     "output_type": "stream",
     "text": [
      "/opt/anaconda3/lib/python3.9/site-packages/cca_zoo/models/iterative.py:106: UserWarning: Inner loop 0 not converged. Increase number of iterations.\n",
      "  warnings.warn(\n"
     ]
    },
    {
     "name": "stdout",
     "output_type": "stream",
     "text": [
      "params: 0.1, 0.2, 0.5\n",
      "CCA score (train): 0.0667593268115112\n",
      "CCA score (test): -0.015036194832220406\n"
     ]
    },
    {
     "name": "stderr",
     "output_type": "stream",
     "text": [
      "/opt/anaconda3/lib/python3.9/site-packages/cca_zoo/models/iterative.py:122: RuntimeWarning: invalid value encountered in true_divide\n",
      "  - np.outer(score, score) @ residual / np.dot(score, score).item()\n",
      "/opt/anaconda3/lib/python3.9/site-packages/numpy/lib/function_base.py:2642: RuntimeWarning: invalid value encountered in true_divide\n",
      "  c /= stddev[:, None]\n",
      "/opt/anaconda3/lib/python3.9/site-packages/numpy/lib/function_base.py:2643: RuntimeWarning: invalid value encountered in true_divide\n",
      "  c /= stddev[None, :]\n",
      "/opt/anaconda3/lib/python3.9/site-packages/numpy/lib/function_base.py:2642: RuntimeWarning: invalid value encountered in true_divide\n",
      "  c /= stddev[:, None]\n",
      "/opt/anaconda3/lib/python3.9/site-packages/numpy/lib/function_base.py:2643: RuntimeWarning: invalid value encountered in true_divide\n",
      "  c /= stddev[None, :]\n"
     ]
    },
    {
     "name": "stdout",
     "output_type": "stream",
     "text": [
      "params: 0.1, 0.2, 0.67\n",
      "CCA score (train): nan\n",
      "CCA score (test): nan\n"
     ]
    },
    {
     "name": "stderr",
     "output_type": "stream",
     "text": [
      "/opt/anaconda3/lib/python3.9/site-packages/cca_zoo/models/iterative.py:122: RuntimeWarning: invalid value encountered in true_divide\n",
      "  - np.outer(score, score) @ residual / np.dot(score, score).item()\n",
      "/opt/anaconda3/lib/python3.9/site-packages/numpy/lib/function_base.py:2642: RuntimeWarning: invalid value encountered in true_divide\n",
      "  c /= stddev[:, None]\n",
      "/opt/anaconda3/lib/python3.9/site-packages/numpy/lib/function_base.py:2643: RuntimeWarning: invalid value encountered in true_divide\n",
      "  c /= stddev[None, :]\n",
      "/opt/anaconda3/lib/python3.9/site-packages/numpy/lib/function_base.py:2642: RuntimeWarning: invalid value encountered in true_divide\n",
      "  c /= stddev[:, None]\n",
      "/opt/anaconda3/lib/python3.9/site-packages/numpy/lib/function_base.py:2643: RuntimeWarning: invalid value encountered in true_divide\n",
      "  c /= stddev[None, :]\n"
     ]
    },
    {
     "name": "stdout",
     "output_type": "stream",
     "text": [
      "params: 0.1, 0.2, 0.75\n",
      "CCA score (train): nan\n",
      "CCA score (test): nan\n"
     ]
    },
    {
     "name": "stderr",
     "output_type": "stream",
     "text": [
      "/opt/anaconda3/lib/python3.9/site-packages/cca_zoo/models/iterative.py:106: UserWarning: Inner loop 0 not converged. Increase number of iterations.\n",
      "  warnings.warn(\n"
     ]
    },
    {
     "name": "stdout",
     "output_type": "stream",
     "text": [
      "params: 0.2, 0.01, 0.5\n",
      "CCA score (train): 0.16599108350014413\n",
      "CCA score (test): 0.05361342379021905\n"
     ]
    },
    {
     "name": "stderr",
     "output_type": "stream",
     "text": [
      "/opt/anaconda3/lib/python3.9/site-packages/cca_zoo/models/iterative.py:106: UserWarning: Inner loop 0 not converged. Increase number of iterations.\n",
      "  warnings.warn(\n"
     ]
    },
    {
     "name": "stdout",
     "output_type": "stream",
     "text": [
      "params: 0.2, 0.01, 0.67\n",
      "CCA score (train): 0.15635977782085253\n",
      "CCA score (test): 0.059350550095767174\n"
     ]
    },
    {
     "name": "stderr",
     "output_type": "stream",
     "text": [
      "/opt/anaconda3/lib/python3.9/site-packages/cca_zoo/models/iterative.py:106: UserWarning: Inner loop 0 not converged. Increase number of iterations.\n",
      "  warnings.warn(\n"
     ]
    },
    {
     "name": "stdout",
     "output_type": "stream",
     "text": [
      "params: 0.2, 0.01, 0.75\n",
      "CCA score (train): 0.1393327567684186\n",
      "CCA score (test): 0.034085003407517966\n"
     ]
    },
    {
     "name": "stderr",
     "output_type": "stream",
     "text": [
      "/opt/anaconda3/lib/python3.9/site-packages/cca_zoo/models/iterative.py:106: UserWarning: Inner loop 0 not converged. Increase number of iterations.\n",
      "  warnings.warn(\n"
     ]
    },
    {
     "name": "stdout",
     "output_type": "stream",
     "text": [
      "params: 0.2, 0.1, 0.5\n",
      "CCA score (train): 0.07633578630569193\n",
      "CCA score (test): 0.004337057873451622\n"
     ]
    },
    {
     "name": "stderr",
     "output_type": "stream",
     "text": [
      "/opt/anaconda3/lib/python3.9/site-packages/cca_zoo/models/iterative.py:122: RuntimeWarning: invalid value encountered in true_divide\n",
      "  - np.outer(score, score) @ residual / np.dot(score, score).item()\n",
      "/opt/anaconda3/lib/python3.9/site-packages/numpy/lib/function_base.py:2642: RuntimeWarning: invalid value encountered in true_divide\n",
      "  c /= stddev[:, None]\n",
      "/opt/anaconda3/lib/python3.9/site-packages/numpy/lib/function_base.py:2643: RuntimeWarning: invalid value encountered in true_divide\n",
      "  c /= stddev[None, :]\n",
      "/opt/anaconda3/lib/python3.9/site-packages/numpy/lib/function_base.py:2642: RuntimeWarning: invalid value encountered in true_divide\n",
      "  c /= stddev[:, None]\n",
      "/opt/anaconda3/lib/python3.9/site-packages/numpy/lib/function_base.py:2643: RuntimeWarning: invalid value encountered in true_divide\n",
      "  c /= stddev[None, :]\n"
     ]
    },
    {
     "name": "stdout",
     "output_type": "stream",
     "text": [
      "params: 0.2, 0.1, 0.67\n",
      "CCA score (train): nan\n",
      "CCA score (test): nan\n"
     ]
    },
    {
     "name": "stderr",
     "output_type": "stream",
     "text": [
      "/opt/anaconda3/lib/python3.9/site-packages/cca_zoo/models/iterative.py:122: RuntimeWarning: invalid value encountered in true_divide\n",
      "  - np.outer(score, score) @ residual / np.dot(score, score).item()\n",
      "/opt/anaconda3/lib/python3.9/site-packages/numpy/lib/function_base.py:2642: RuntimeWarning: invalid value encountered in true_divide\n",
      "  c /= stddev[:, None]\n",
      "/opt/anaconda3/lib/python3.9/site-packages/numpy/lib/function_base.py:2643: RuntimeWarning: invalid value encountered in true_divide\n",
      "  c /= stddev[None, :]\n",
      "/opt/anaconda3/lib/python3.9/site-packages/numpy/lib/function_base.py:2642: RuntimeWarning: invalid value encountered in true_divide\n",
      "  c /= stddev[:, None]\n",
      "/opt/anaconda3/lib/python3.9/site-packages/numpy/lib/function_base.py:2643: RuntimeWarning: invalid value encountered in true_divide\n",
      "  c /= stddev[None, :]\n"
     ]
    },
    {
     "name": "stdout",
     "output_type": "stream",
     "text": [
      "params: 0.2, 0.1, 0.75\n",
      "CCA score (train): nan\n",
      "CCA score (test): nan\n"
     ]
    },
    {
     "name": "stderr",
     "output_type": "stream",
     "text": [
      "/opt/anaconda3/lib/python3.9/site-packages/cca_zoo/models/iterative.py:106: UserWarning: Inner loop 0 not converged. Increase number of iterations.\n",
      "  warnings.warn(\n"
     ]
    },
    {
     "name": "stdout",
     "output_type": "stream",
     "text": [
      "params: 0.2, 0.2, 0.5\n",
      "CCA score (train): 0.06346407129694942\n",
      "CCA score (test): -0.014140516816292914\n"
     ]
    },
    {
     "name": "stderr",
     "output_type": "stream",
     "text": [
      "/opt/anaconda3/lib/python3.9/site-packages/cca_zoo/models/iterative.py:106: UserWarning: Inner loop 0 not converged. Increase number of iterations.\n",
      "  warnings.warn(\n"
     ]
    },
    {
     "name": "stdout",
     "output_type": "stream",
     "text": [
      "params: 0.2, 0.2, 0.67\n",
      "CCA score (train): 0.052749168179804906\n",
      "CCA score (test): -0.014272735825780813\n"
     ]
    },
    {
     "name": "stderr",
     "output_type": "stream",
     "text": [
      "/opt/anaconda3/lib/python3.9/site-packages/cca_zoo/models/iterative.py:106: UserWarning: Inner loop 0 not converged. Increase number of iterations.\n",
      "  warnings.warn(\n"
     ]
    },
    {
     "name": "stdout",
     "output_type": "stream",
     "text": [
      "params: 0.2, 0.2, 0.75\n",
      "CCA score (train): 0.052749168179804906\n",
      "CCA score (test): -0.014272735825780813\n",
      "/Users/marshlab2/Desktop/OCS_bigdata_ML_local/data/networklevel/partitions2_rep01fold09.csv\n",
      "<class 'numpy.ndarray'>\n",
      "(4231, 1)\n",
      "(4231, 8)\n",
      "(4231, 91)\n",
      "(470, 8)\n",
      "(470, 91)\n"
     ]
    },
    {
     "name": "stderr",
     "output_type": "stream",
     "text": [
      "/opt/anaconda3/lib/python3.9/site-packages/cca_zoo/models/iterative.py:106: UserWarning: Inner loop 0 not converged. Increase number of iterations.\n",
      "  warnings.warn(\n"
     ]
    },
    {
     "name": "stdout",
     "output_type": "stream",
     "text": [
      "params: 0.01, 0.01, 0.5\n",
      "CCA score (train): 0.1876469809627166\n",
      "CCA score (test): 0.0328273743407721\n"
     ]
    },
    {
     "name": "stderr",
     "output_type": "stream",
     "text": [
      "/opt/anaconda3/lib/python3.9/site-packages/cca_zoo/models/iterative.py:106: UserWarning: Inner loop 0 not converged. Increase number of iterations.\n",
      "  warnings.warn(\n"
     ]
    },
    {
     "name": "stdout",
     "output_type": "stream",
     "text": [
      "params: 0.01, 0.01, 0.67\n",
      "CCA score (train): 0.18267215352009392\n",
      "CCA score (test): 0.02759687755196616\n"
     ]
    },
    {
     "name": "stderr",
     "output_type": "stream",
     "text": [
      "/opt/anaconda3/lib/python3.9/site-packages/cca_zoo/models/iterative.py:106: UserWarning: Inner loop 0 not converged. Increase number of iterations.\n",
      "  warnings.warn(\n"
     ]
    },
    {
     "name": "stdout",
     "output_type": "stream",
     "text": [
      "params: 0.01, 0.01, 0.75\n",
      "CCA score (train): 0.17961733228125776\n",
      "CCA score (test): 0.025878808125663122\n"
     ]
    },
    {
     "name": "stderr",
     "output_type": "stream",
     "text": [
      "/opt/anaconda3/lib/python3.9/site-packages/cca_zoo/models/iterative.py:106: UserWarning: Inner loop 0 not converged. Increase number of iterations.\n",
      "  warnings.warn(\n"
     ]
    },
    {
     "name": "stdout",
     "output_type": "stream",
     "text": [
      "params: 0.01, 0.1, 0.5\n",
      "CCA score (train): 0.10549273688693406\n",
      "CCA score (test): -0.011561866604450244\n"
     ]
    },
    {
     "name": "stderr",
     "output_type": "stream",
     "text": [
      "/opt/anaconda3/lib/python3.9/site-packages/cca_zoo/models/iterative.py:106: UserWarning: Inner loop 0 not converged. Increase number of iterations.\n",
      "  warnings.warn(\n"
     ]
    },
    {
     "name": "stdout",
     "output_type": "stream",
     "text": [
      "params: 0.01, 0.1, 0.67\n",
      "CCA score (train): 0.09586119267503102\n",
      "CCA score (test): -0.016732132471510064\n"
     ]
    },
    {
     "name": "stderr",
     "output_type": "stream",
     "text": [
      "/opt/anaconda3/lib/python3.9/site-packages/cca_zoo/models/iterative.py:106: UserWarning: Inner loop 0 not converged. Increase number of iterations.\n",
      "  warnings.warn(\n"
     ]
    },
    {
     "name": "stdout",
     "output_type": "stream",
     "text": [
      "params: 0.01, 0.1, 0.75\n",
      "CCA score (train): 0.09295687201497982\n",
      "CCA score (test): -0.017392826209699175\n"
     ]
    },
    {
     "name": "stderr",
     "output_type": "stream",
     "text": [
      "/opt/anaconda3/lib/python3.9/site-packages/cca_zoo/models/iterative.py:106: UserWarning: Inner loop 0 not converged. Increase number of iterations.\n",
      "  warnings.warn(\n"
     ]
    },
    {
     "name": "stdout",
     "output_type": "stream",
     "text": [
      "params: 0.01, 0.2, 0.5\n",
      "CCA score (train): 0.09374282200105366\n",
      "CCA score (test): -0.021527675948383562\n"
     ]
    },
    {
     "name": "stderr",
     "output_type": "stream",
     "text": [
      "/opt/anaconda3/lib/python3.9/site-packages/cca_zoo/models/iterative.py:106: UserWarning: Inner loop 0 not converged. Increase number of iterations.\n",
      "  warnings.warn(\n"
     ]
    },
    {
     "name": "stdout",
     "output_type": "stream",
     "text": [
      "params: 0.01, 0.2, 0.67\n",
      "CCA score (train): 0.08830475357904288\n",
      "CCA score (test): -0.012659133996405503\n"
     ]
    },
    {
     "name": "stderr",
     "output_type": "stream",
     "text": [
      "/opt/anaconda3/lib/python3.9/site-packages/cca_zoo/models/iterative.py:106: UserWarning: Inner loop 0 not converged. Increase number of iterations.\n",
      "  warnings.warn(\n"
     ]
    },
    {
     "name": "stdout",
     "output_type": "stream",
     "text": [
      "params: 0.01, 0.2, 0.75\n",
      "CCA score (train): 0.0802286291668417\n",
      "CCA score (test): -0.011649929557434824\n"
     ]
    },
    {
     "name": "stderr",
     "output_type": "stream",
     "text": [
      "/opt/anaconda3/lib/python3.9/site-packages/cca_zoo/models/iterative.py:106: UserWarning: Inner loop 0 not converged. Increase number of iterations.\n",
      "  warnings.warn(\n"
     ]
    },
    {
     "name": "stdout",
     "output_type": "stream",
     "text": [
      "params: 0.1, 0.01, 0.5\n",
      "CCA score (train): 0.17217046575024897\n",
      "CCA score (test): -0.010152963215443567\n"
     ]
    },
    {
     "name": "stderr",
     "output_type": "stream",
     "text": [
      "/opt/anaconda3/lib/python3.9/site-packages/cca_zoo/models/iterative.py:106: UserWarning: Inner loop 0 not converged. Increase number of iterations.\n",
      "  warnings.warn(\n"
     ]
    },
    {
     "name": "stdout",
     "output_type": "stream",
     "text": [
      "params: 0.1, 0.01, 0.67\n",
      "CCA score (train): 0.16226918346457397\n",
      "CCA score (test): -0.015015859192849534\n"
     ]
    },
    {
     "name": "stderr",
     "output_type": "stream",
     "text": [
      "/opt/anaconda3/lib/python3.9/site-packages/cca_zoo/models/iterative.py:106: UserWarning: Inner loop 0 not converged. Increase number of iterations.\n",
      "  warnings.warn(\n"
     ]
    },
    {
     "name": "stdout",
     "output_type": "stream",
     "text": [
      "params: 0.1, 0.01, 0.75\n",
      "CCA score (train): 0.15700394450636646\n",
      "CCA score (test): -0.010132289061610122\n"
     ]
    },
    {
     "name": "stderr",
     "output_type": "stream",
     "text": [
      "/opt/anaconda3/lib/python3.9/site-packages/cca_zoo/models/iterative.py:106: UserWarning: Inner loop 0 not converged. Increase number of iterations.\n",
      "  warnings.warn(\n"
     ]
    },
    {
     "name": "stdout",
     "output_type": "stream",
     "text": [
      "params: 0.1, 0.1, 0.5\n",
      "CCA score (train): 0.08688766649755575\n",
      "CCA score (test): -0.02881805102974877\n"
     ]
    },
    {
     "name": "stderr",
     "output_type": "stream",
     "text": [
      "/opt/anaconda3/lib/python3.9/site-packages/cca_zoo/models/iterative.py:106: UserWarning: Inner loop 0 not converged. Increase number of iterations.\n",
      "  warnings.warn(\n"
     ]
    },
    {
     "name": "stdout",
     "output_type": "stream",
     "text": [
      "params: 0.1, 0.1, 0.67\n",
      "CCA score (train): 0.07872673791705598\n",
      "CCA score (test): -0.012545725242268602\n"
     ]
    },
    {
     "name": "stderr",
     "output_type": "stream",
     "text": [
      "/opt/anaconda3/lib/python3.9/site-packages/cca_zoo/models/iterative.py:106: UserWarning: Inner loop 0 not converged. Increase number of iterations.\n",
      "  warnings.warn(\n"
     ]
    },
    {
     "name": "stdout",
     "output_type": "stream",
     "text": [
      "params: 0.1, 0.1, 0.75\n",
      "CCA score (train): 0.07413154811041367\n",
      "CCA score (test): 0.0009398836955125667\n"
     ]
    },
    {
     "name": "stderr",
     "output_type": "stream",
     "text": [
      "/opt/anaconda3/lib/python3.9/site-packages/cca_zoo/models/iterative.py:106: UserWarning: Inner loop 0 not converged. Increase number of iterations.\n",
      "  warnings.warn(\n"
     ]
    },
    {
     "name": "stdout",
     "output_type": "stream",
     "text": [
      "params: 0.1, 0.2, 0.5\n",
      "CCA score (train): 0.0809975440798365\n",
      "CCA score (test): -0.020971048209198706\n"
     ]
    },
    {
     "name": "stderr",
     "output_type": "stream",
     "text": [
      "/opt/anaconda3/lib/python3.9/site-packages/cca_zoo/models/iterative.py:106: UserWarning: Inner loop 0 not converged. Increase number of iterations.\n",
      "  warnings.warn(\n"
     ]
    },
    {
     "name": "stdout",
     "output_type": "stream",
     "text": [
      "params: 0.1, 0.2, 0.67\n",
      "CCA score (train): 0.07112927613519027\n",
      "CCA score (test): 0.009938717409079256\n"
     ]
    },
    {
     "name": "stderr",
     "output_type": "stream",
     "text": [
      "/opt/anaconda3/lib/python3.9/site-packages/cca_zoo/models/iterative.py:106: UserWarning: Inner loop 0 not converged. Increase number of iterations.\n",
      "  warnings.warn(\n"
     ]
    },
    {
     "name": "stdout",
     "output_type": "stream",
     "text": [
      "params: 0.1, 0.2, 0.75\n",
      "CCA score (train): 0.06700813302975117\n",
      "CCA score (test): 0.013406189840950988\n"
     ]
    },
    {
     "name": "stderr",
     "output_type": "stream",
     "text": [
      "/opt/anaconda3/lib/python3.9/site-packages/cca_zoo/models/iterative.py:106: UserWarning: Inner loop 0 not converged. Increase number of iterations.\n",
      "  warnings.warn(\n"
     ]
    },
    {
     "name": "stdout",
     "output_type": "stream",
     "text": [
      "params: 0.2, 0.01, 0.5\n",
      "CCA score (train): 0.16024901443292983\n",
      "CCA score (test): -0.012345728538112\n"
     ]
    },
    {
     "name": "stderr",
     "output_type": "stream",
     "text": [
      "/opt/anaconda3/lib/python3.9/site-packages/cca_zoo/models/iterative.py:106: UserWarning: Inner loop 0 not converged. Increase number of iterations.\n",
      "  warnings.warn(\n"
     ]
    },
    {
     "name": "stdout",
     "output_type": "stream",
     "text": [
      "params: 0.2, 0.01, 0.67\n",
      "CCA score (train): 0.14955205164350627\n",
      "CCA score (test): -0.0165423981977757\n"
     ]
    },
    {
     "name": "stderr",
     "output_type": "stream",
     "text": [
      "/opt/anaconda3/lib/python3.9/site-packages/cca_zoo/models/iterative.py:106: UserWarning: Inner loop 0 not converged. Increase number of iterations.\n",
      "  warnings.warn(\n"
     ]
    },
    {
     "name": "stdout",
     "output_type": "stream",
     "text": [
      "params: 0.2, 0.01, 0.75\n",
      "CCA score (train): 0.14625391441621272\n",
      "CCA score (test): -0.018156355898618082\n"
     ]
    },
    {
     "name": "stderr",
     "output_type": "stream",
     "text": [
      "/opt/anaconda3/lib/python3.9/site-packages/cca_zoo/models/iterative.py:106: UserWarning: Inner loop 0 not converged. Increase number of iterations.\n",
      "  warnings.warn(\n"
     ]
    },
    {
     "name": "stdout",
     "output_type": "stream",
     "text": [
      "params: 0.2, 0.1, 0.5\n",
      "CCA score (train): 0.07415878633572026\n",
      "CCA score (test): -0.005770433493912708\n"
     ]
    },
    {
     "name": "stderr",
     "output_type": "stream",
     "text": [
      "/opt/anaconda3/lib/python3.9/site-packages/cca_zoo/models/iterative.py:106: UserWarning: Inner loop 0 not converged. Increase number of iterations.\n",
      "  warnings.warn(\n"
     ]
    },
    {
     "name": "stdout",
     "output_type": "stream",
     "text": [
      "params: 0.2, 0.1, 0.67\n",
      "CCA score (train): 0.06986008152635126\n",
      "CCA score (test): -0.005606989115467531\n"
     ]
    },
    {
     "name": "stderr",
     "output_type": "stream",
     "text": [
      "/opt/anaconda3/lib/python3.9/site-packages/cca_zoo/models/iterative.py:122: RuntimeWarning: invalid value encountered in true_divide\n",
      "  - np.outer(score, score) @ residual / np.dot(score, score).item()\n",
      "/opt/anaconda3/lib/python3.9/site-packages/numpy/lib/function_base.py:2642: RuntimeWarning: invalid value encountered in true_divide\n",
      "  c /= stddev[:, None]\n",
      "/opt/anaconda3/lib/python3.9/site-packages/numpy/lib/function_base.py:2643: RuntimeWarning: invalid value encountered in true_divide\n",
      "  c /= stddev[None, :]\n",
      "/opt/anaconda3/lib/python3.9/site-packages/numpy/lib/function_base.py:2642: RuntimeWarning: invalid value encountered in true_divide\n",
      "  c /= stddev[:, None]\n",
      "/opt/anaconda3/lib/python3.9/site-packages/numpy/lib/function_base.py:2643: RuntimeWarning: invalid value encountered in true_divide\n",
      "  c /= stddev[None, :]\n"
     ]
    },
    {
     "name": "stdout",
     "output_type": "stream",
     "text": [
      "params: 0.2, 0.1, 0.75\n",
      "CCA score (train): nan\n",
      "CCA score (test): nan\n"
     ]
    },
    {
     "name": "stderr",
     "output_type": "stream",
     "text": [
      "/opt/anaconda3/lib/python3.9/site-packages/cca_zoo/models/iterative.py:106: UserWarning: Inner loop 0 not converged. Increase number of iterations.\n",
      "  warnings.warn(\n"
     ]
    },
    {
     "name": "stdout",
     "output_type": "stream",
     "text": [
      "params: 0.2, 0.2, 0.5\n",
      "CCA score (train): 0.07458199904868779\n",
      "CCA score (test): -0.00019211062421620184\n"
     ]
    },
    {
     "name": "stderr",
     "output_type": "stream",
     "text": [
      "/opt/anaconda3/lib/python3.9/site-packages/cca_zoo/models/iterative.py:106: UserWarning: Inner loop 0 not converged. Increase number of iterations.\n",
      "  warnings.warn(\n"
     ]
    },
    {
     "name": "stdout",
     "output_type": "stream",
     "text": [
      "params: 0.2, 0.2, 0.67\n",
      "CCA score (train): 0.06980003994430928\n",
      "CCA score (test): 0.015864213653804526\n"
     ]
    },
    {
     "name": "stderr",
     "output_type": "stream",
     "text": [
      "/opt/anaconda3/lib/python3.9/site-packages/cca_zoo/models/iterative.py:122: RuntimeWarning: invalid value encountered in true_divide\n",
      "  - np.outer(score, score) @ residual / np.dot(score, score).item()\n",
      "/opt/anaconda3/lib/python3.9/site-packages/numpy/lib/function_base.py:2642: RuntimeWarning: invalid value encountered in true_divide\n",
      "  c /= stddev[:, None]\n",
      "/opt/anaconda3/lib/python3.9/site-packages/numpy/lib/function_base.py:2643: RuntimeWarning: invalid value encountered in true_divide\n",
      "  c /= stddev[None, :]\n",
      "/opt/anaconda3/lib/python3.9/site-packages/numpy/lib/function_base.py:2642: RuntimeWarning: invalid value encountered in true_divide\n",
      "  c /= stddev[:, None]\n",
      "/opt/anaconda3/lib/python3.9/site-packages/numpy/lib/function_base.py:2643: RuntimeWarning: invalid value encountered in true_divide\n",
      "  c /= stddev[None, :]\n"
     ]
    },
    {
     "name": "stdout",
     "output_type": "stream",
     "text": [
      "params: 0.2, 0.2, 0.75\n",
      "CCA score (train): nan\n",
      "CCA score (test): nan\n",
      "/Users/marshlab2/Desktop/OCS_bigdata_ML_local/data/networklevel/partitions2_rep01fold010.csv\n",
      "<class 'numpy.ndarray'>\n",
      "(4232, 1)\n",
      "(4232, 8)\n",
      "(4232, 91)\n",
      "(469, 8)\n",
      "(469, 91)\n"
     ]
    },
    {
     "name": "stderr",
     "output_type": "stream",
     "text": [
      "/opt/anaconda3/lib/python3.9/site-packages/cca_zoo/models/iterative.py:106: UserWarning: Inner loop 0 not converged. Increase number of iterations.\n",
      "  warnings.warn(\n"
     ]
    },
    {
     "name": "stdout",
     "output_type": "stream",
     "text": [
      "params: 0.01, 0.01, 0.5\n",
      "CCA score (train): 0.1878960420584488\n",
      "CCA score (test): 0.09937926424505994\n"
     ]
    },
    {
     "name": "stderr",
     "output_type": "stream",
     "text": [
      "/opt/anaconda3/lib/python3.9/site-packages/cca_zoo/models/iterative.py:106: UserWarning: Inner loop 0 not converged. Increase number of iterations.\n",
      "  warnings.warn(\n"
     ]
    },
    {
     "name": "stdout",
     "output_type": "stream",
     "text": [
      "params: 0.01, 0.01, 0.67\n",
      "CCA score (train): 0.18372389899170494\n",
      "CCA score (test): 0.09817873700453195\n"
     ]
    },
    {
     "name": "stderr",
     "output_type": "stream",
     "text": [
      "/opt/anaconda3/lib/python3.9/site-packages/cca_zoo/models/iterative.py:106: UserWarning: Inner loop 0 not converged. Increase number of iterations.\n",
      "  warnings.warn(\n"
     ]
    },
    {
     "name": "stdout",
     "output_type": "stream",
     "text": [
      "params: 0.01, 0.01, 0.75\n",
      "CCA score (train): 0.18155164661155787\n",
      "CCA score (test): 0.09888426337710299\n"
     ]
    },
    {
     "name": "stderr",
     "output_type": "stream",
     "text": [
      "/opt/anaconda3/lib/python3.9/site-packages/cca_zoo/models/iterative.py:106: UserWarning: Inner loop 0 not converged. Increase number of iterations.\n",
      "  warnings.warn(\n"
     ]
    },
    {
     "name": "stdout",
     "output_type": "stream",
     "text": [
      "params: 0.01, 0.1, 0.5\n",
      "CCA score (train): 0.1131109425110235\n",
      "CCA score (test): 0.09803924298960398\n"
     ]
    },
    {
     "name": "stderr",
     "output_type": "stream",
     "text": [
      "/opt/anaconda3/lib/python3.9/site-packages/cca_zoo/models/iterative.py:106: UserWarning: Inner loop 0 not converged. Increase number of iterations.\n",
      "  warnings.warn(\n"
     ]
    },
    {
     "name": "stdout",
     "output_type": "stream",
     "text": [
      "params: 0.01, 0.1, 0.67\n",
      "CCA score (train): 0.09690184147771053\n",
      "CCA score (test): 0.09485596416981901\n"
     ]
    },
    {
     "name": "stderr",
     "output_type": "stream",
     "text": [
      "/opt/anaconda3/lib/python3.9/site-packages/cca_zoo/models/iterative.py:106: UserWarning: Inner loop 0 not converged. Increase number of iterations.\n",
      "  warnings.warn(\n"
     ]
    },
    {
     "name": "stdout",
     "output_type": "stream",
     "text": [
      "params: 0.01, 0.1, 0.75\n",
      "CCA score (train): 0.08932178260453338\n",
      "CCA score (test): 0.08685613610557219\n"
     ]
    },
    {
     "name": "stderr",
     "output_type": "stream",
     "text": [
      "/opt/anaconda3/lib/python3.9/site-packages/cca_zoo/models/iterative.py:106: UserWarning: Inner loop 0 not converged. Increase number of iterations.\n",
      "  warnings.warn(\n"
     ]
    },
    {
     "name": "stdout",
     "output_type": "stream",
     "text": [
      "params: 0.01, 0.2, 0.5\n",
      "CCA score (train): 0.06480148700604027\n",
      "CCA score (test): 0.04958244556804936\n"
     ]
    },
    {
     "name": "stderr",
     "output_type": "stream",
     "text": [
      "/opt/anaconda3/lib/python3.9/site-packages/cca_zoo/models/iterative.py:122: RuntimeWarning: invalid value encountered in true_divide\n",
      "  - np.outer(score, score) @ residual / np.dot(score, score).item()\n",
      "/opt/anaconda3/lib/python3.9/site-packages/cca_zoo/models/iterative.py:106: UserWarning: Inner loop 0 not converged. Increase number of iterations.\n",
      "  warnings.warn(\n",
      "/opt/anaconda3/lib/python3.9/site-packages/numpy/lib/function_base.py:2642: RuntimeWarning: invalid value encountered in true_divide\n",
      "  c /= stddev[:, None]\n",
      "/opt/anaconda3/lib/python3.9/site-packages/numpy/lib/function_base.py:2643: RuntimeWarning: invalid value encountered in true_divide\n",
      "  c /= stddev[None, :]\n",
      "/opt/anaconda3/lib/python3.9/site-packages/numpy/lib/function_base.py:2642: RuntimeWarning: invalid value encountered in true_divide\n",
      "  c /= stddev[:, None]\n",
      "/opt/anaconda3/lib/python3.9/site-packages/numpy/lib/function_base.py:2643: RuntimeWarning: invalid value encountered in true_divide\n",
      "  c /= stddev[None, :]\n"
     ]
    },
    {
     "name": "stdout",
     "output_type": "stream",
     "text": [
      "params: 0.01, 0.2, 0.67\n",
      "CCA score (train): nan\n",
      "CCA score (test): nan\n"
     ]
    },
    {
     "name": "stderr",
     "output_type": "stream",
     "text": [
      "/opt/anaconda3/lib/python3.9/site-packages/cca_zoo/models/iterative.py:122: RuntimeWarning: invalid value encountered in true_divide\n",
      "  - np.outer(score, score) @ residual / np.dot(score, score).item()\n",
      "/opt/anaconda3/lib/python3.9/site-packages/cca_zoo/models/iterative.py:106: UserWarning: Inner loop 0 not converged. Increase number of iterations.\n",
      "  warnings.warn(\n",
      "/opt/anaconda3/lib/python3.9/site-packages/numpy/lib/function_base.py:2642: RuntimeWarning: invalid value encountered in true_divide\n",
      "  c /= stddev[:, None]\n",
      "/opt/anaconda3/lib/python3.9/site-packages/numpy/lib/function_base.py:2643: RuntimeWarning: invalid value encountered in true_divide\n",
      "  c /= stddev[None, :]\n",
      "/opt/anaconda3/lib/python3.9/site-packages/numpy/lib/function_base.py:2642: RuntimeWarning: invalid value encountered in true_divide\n",
      "  c /= stddev[:, None]\n",
      "/opt/anaconda3/lib/python3.9/site-packages/numpy/lib/function_base.py:2643: RuntimeWarning: invalid value encountered in true_divide\n",
      "  c /= stddev[None, :]\n"
     ]
    },
    {
     "name": "stdout",
     "output_type": "stream",
     "text": [
      "params: 0.01, 0.2, 0.75\n",
      "CCA score (train): nan\n",
      "CCA score (test): nan\n"
     ]
    },
    {
     "name": "stderr",
     "output_type": "stream",
     "text": [
      "/opt/anaconda3/lib/python3.9/site-packages/cca_zoo/models/iterative.py:106: UserWarning: Inner loop 0 not converged. Increase number of iterations.\n",
      "  warnings.warn(\n"
     ]
    },
    {
     "name": "stdout",
     "output_type": "stream",
     "text": [
      "params: 0.1, 0.01, 0.5\n",
      "CCA score (train): 0.16691781226773528\n",
      "CCA score (test): 0.08196667156397752\n"
     ]
    },
    {
     "name": "stderr",
     "output_type": "stream",
     "text": [
      "/opt/anaconda3/lib/python3.9/site-packages/cca_zoo/models/iterative.py:106: UserWarning: Inner loop 0 not converged. Increase number of iterations.\n",
      "  warnings.warn(\n"
     ]
    },
    {
     "name": "stdout",
     "output_type": "stream",
     "text": [
      "params: 0.1, 0.01, 0.67\n",
      "CCA score (train): 0.16090329238530354\n",
      "CCA score (test): 0.08927237121331721\n"
     ]
    },
    {
     "name": "stderr",
     "output_type": "stream",
     "text": [
      "/opt/anaconda3/lib/python3.9/site-packages/cca_zoo/models/iterative.py:106: UserWarning: Inner loop 0 not converged. Increase number of iterations.\n",
      "  warnings.warn(\n"
     ]
    },
    {
     "name": "stdout",
     "output_type": "stream",
     "text": [
      "params: 0.1, 0.01, 0.75\n",
      "CCA score (train): 0.15743352973639957\n",
      "CCA score (test): 0.09404185608739213\n"
     ]
    },
    {
     "name": "stderr",
     "output_type": "stream",
     "text": [
      "/opt/anaconda3/lib/python3.9/site-packages/cca_zoo/models/iterative.py:106: UserWarning: Inner loop 0 not converged. Increase number of iterations.\n",
      "  warnings.warn(\n"
     ]
    },
    {
     "name": "stdout",
     "output_type": "stream",
     "text": [
      "params: 0.1, 0.1, 0.5\n",
      "CCA score (train): 0.09003288583234736\n",
      "CCA score (test): 0.03993289443905779\n"
     ]
    },
    {
     "name": "stderr",
     "output_type": "stream",
     "text": [
      "/opt/anaconda3/lib/python3.9/site-packages/cca_zoo/models/iterative.py:106: UserWarning: Inner loop 0 not converged. Increase number of iterations.\n",
      "  warnings.warn(\n"
     ]
    },
    {
     "name": "stdout",
     "output_type": "stream",
     "text": [
      "params: 0.1, 0.1, 0.67\n",
      "CCA score (train): 0.07729757421064187\n",
      "CCA score (test): 0.01383604910198688\n"
     ]
    },
    {
     "name": "stderr",
     "output_type": "stream",
     "text": [
      "/opt/anaconda3/lib/python3.9/site-packages/cca_zoo/models/iterative.py:106: UserWarning: Inner loop 0 not converged. Increase number of iterations.\n",
      "  warnings.warn(\n"
     ]
    },
    {
     "name": "stdout",
     "output_type": "stream",
     "text": [
      "params: 0.1, 0.1, 0.75\n",
      "CCA score (train): 0.07094627676412624\n",
      "CCA score (test): -0.013288985757966332\n"
     ]
    },
    {
     "name": "stderr",
     "output_type": "stream",
     "text": [
      "/opt/anaconda3/lib/python3.9/site-packages/cca_zoo/models/iterative.py:106: UserWarning: Inner loop 0 not converged. Increase number of iterations.\n",
      "  warnings.warn(\n"
     ]
    },
    {
     "name": "stdout",
     "output_type": "stream",
     "text": [
      "params: 0.1, 0.2, 0.5\n",
      "CCA score (train): 0.07537015221541887\n",
      "CCA score (test): 0.014789692644949337\n"
     ]
    },
    {
     "name": "stderr",
     "output_type": "stream",
     "text": [
      "/opt/anaconda3/lib/python3.9/site-packages/cca_zoo/models/iterative.py:122: RuntimeWarning: invalid value encountered in true_divide\n",
      "  - np.outer(score, score) @ residual / np.dot(score, score).item()\n",
      "/opt/anaconda3/lib/python3.9/site-packages/numpy/lib/function_base.py:2642: RuntimeWarning: invalid value encountered in true_divide\n",
      "  c /= stddev[:, None]\n",
      "/opt/anaconda3/lib/python3.9/site-packages/numpy/lib/function_base.py:2643: RuntimeWarning: invalid value encountered in true_divide\n",
      "  c /= stddev[None, :]\n",
      "/opt/anaconda3/lib/python3.9/site-packages/numpy/lib/function_base.py:2642: RuntimeWarning: invalid value encountered in true_divide\n",
      "  c /= stddev[:, None]\n",
      "/opt/anaconda3/lib/python3.9/site-packages/numpy/lib/function_base.py:2643: RuntimeWarning: invalid value encountered in true_divide\n",
      "  c /= stddev[None, :]\n"
     ]
    },
    {
     "name": "stdout",
     "output_type": "stream",
     "text": [
      "params: 0.1, 0.2, 0.67\n",
      "CCA score (train): nan\n",
      "CCA score (test): nan\n"
     ]
    },
    {
     "name": "stderr",
     "output_type": "stream",
     "text": [
      "/opt/anaconda3/lib/python3.9/site-packages/cca_zoo/models/iterative.py:122: RuntimeWarning: invalid value encountered in true_divide\n",
      "  - np.outer(score, score) @ residual / np.dot(score, score).item()\n",
      "/opt/anaconda3/lib/python3.9/site-packages/numpy/lib/function_base.py:2642: RuntimeWarning: invalid value encountered in true_divide\n",
      "  c /= stddev[:, None]\n",
      "/opt/anaconda3/lib/python3.9/site-packages/numpy/lib/function_base.py:2643: RuntimeWarning: invalid value encountered in true_divide\n",
      "  c /= stddev[None, :]\n",
      "/opt/anaconda3/lib/python3.9/site-packages/numpy/lib/function_base.py:2642: RuntimeWarning: invalid value encountered in true_divide\n",
      "  c /= stddev[:, None]\n",
      "/opt/anaconda3/lib/python3.9/site-packages/numpy/lib/function_base.py:2643: RuntimeWarning: invalid value encountered in true_divide\n",
      "  c /= stddev[None, :]\n"
     ]
    },
    {
     "name": "stdout",
     "output_type": "stream",
     "text": [
      "params: 0.1, 0.2, 0.75\n",
      "CCA score (train): nan\n",
      "CCA score (test): nan\n"
     ]
    },
    {
     "name": "stderr",
     "output_type": "stream",
     "text": [
      "/opt/anaconda3/lib/python3.9/site-packages/cca_zoo/models/iterative.py:106: UserWarning: Inner loop 0 not converged. Increase number of iterations.\n",
      "  warnings.warn(\n"
     ]
    },
    {
     "name": "stdout",
     "output_type": "stream",
     "text": [
      "params: 0.2, 0.01, 0.5\n",
      "CCA score (train): 0.16201704962891528\n",
      "CCA score (test): 0.08945065851107015\n"
     ]
    },
    {
     "name": "stderr",
     "output_type": "stream",
     "text": [
      "/opt/anaconda3/lib/python3.9/site-packages/cca_zoo/models/iterative.py:106: UserWarning: Inner loop 0 not converged. Increase number of iterations.\n",
      "  warnings.warn(\n"
     ]
    },
    {
     "name": "stdout",
     "output_type": "stream",
     "text": [
      "params: 0.2, 0.01, 0.67\n",
      "CCA score (train): 0.14953061945198387\n",
      "CCA score (test): 0.09217080815970635\n"
     ]
    },
    {
     "name": "stderr",
     "output_type": "stream",
     "text": [
      "/opt/anaconda3/lib/python3.9/site-packages/cca_zoo/models/iterative.py:106: UserWarning: Inner loop 0 not converged. Increase number of iterations.\n",
      "  warnings.warn(\n"
     ]
    },
    {
     "name": "stdout",
     "output_type": "stream",
     "text": [
      "params: 0.2, 0.01, 0.75\n",
      "CCA score (train): 0.13245730660375177\n",
      "CCA score (test): 0.07882349869345173\n"
     ]
    },
    {
     "name": "stderr",
     "output_type": "stream",
     "text": [
      "/opt/anaconda3/lib/python3.9/site-packages/cca_zoo/models/iterative.py:106: UserWarning: Inner loop 0 not converged. Increase number of iterations.\n",
      "  warnings.warn(\n"
     ]
    },
    {
     "name": "stdout",
     "output_type": "stream",
     "text": [
      "params: 0.2, 0.1, 0.5\n",
      "CCA score (train): 0.06766110486507548\n",
      "CCA score (test): 0.04594557052164694\n"
     ]
    },
    {
     "name": "stderr",
     "output_type": "stream",
     "text": [
      "/opt/anaconda3/lib/python3.9/site-packages/cca_zoo/models/iterative.py:122: RuntimeWarning: invalid value encountered in true_divide\n",
      "  - np.outer(score, score) @ residual / np.dot(score, score).item()\n",
      "/opt/anaconda3/lib/python3.9/site-packages/numpy/lib/function_base.py:2642: RuntimeWarning: invalid value encountered in true_divide\n",
      "  c /= stddev[:, None]\n",
      "/opt/anaconda3/lib/python3.9/site-packages/numpy/lib/function_base.py:2643: RuntimeWarning: invalid value encountered in true_divide\n",
      "  c /= stddev[None, :]\n",
      "/opt/anaconda3/lib/python3.9/site-packages/numpy/lib/function_base.py:2642: RuntimeWarning: invalid value encountered in true_divide\n",
      "  c /= stddev[:, None]\n",
      "/opt/anaconda3/lib/python3.9/site-packages/numpy/lib/function_base.py:2643: RuntimeWarning: invalid value encountered in true_divide\n",
      "  c /= stddev[None, :]\n"
     ]
    },
    {
     "name": "stdout",
     "output_type": "stream",
     "text": [
      "params: 0.2, 0.1, 0.67\n",
      "CCA score (train): nan\n",
      "CCA score (test): nan\n"
     ]
    },
    {
     "name": "stderr",
     "output_type": "stream",
     "text": [
      "/opt/anaconda3/lib/python3.9/site-packages/cca_zoo/models/iterative.py:122: RuntimeWarning: invalid value encountered in true_divide\n",
      "  - np.outer(score, score) @ residual / np.dot(score, score).item()\n",
      "/opt/anaconda3/lib/python3.9/site-packages/numpy/lib/function_base.py:2642: RuntimeWarning: invalid value encountered in true_divide\n",
      "  c /= stddev[:, None]\n",
      "/opt/anaconda3/lib/python3.9/site-packages/numpy/lib/function_base.py:2643: RuntimeWarning: invalid value encountered in true_divide\n",
      "  c /= stddev[None, :]\n",
      "/opt/anaconda3/lib/python3.9/site-packages/numpy/lib/function_base.py:2642: RuntimeWarning: invalid value encountered in true_divide\n",
      "  c /= stddev[:, None]\n",
      "/opt/anaconda3/lib/python3.9/site-packages/numpy/lib/function_base.py:2643: RuntimeWarning: invalid value encountered in true_divide\n",
      "  c /= stddev[None, :]\n"
     ]
    },
    {
     "name": "stdout",
     "output_type": "stream",
     "text": [
      "params: 0.2, 0.1, 0.75\n",
      "CCA score (train): nan\n",
      "CCA score (test): nan\n"
     ]
    },
    {
     "name": "stderr",
     "output_type": "stream",
     "text": [
      "/opt/anaconda3/lib/python3.9/site-packages/cca_zoo/models/iterative.py:106: UserWarning: Inner loop 0 not converged. Increase number of iterations.\n",
      "  warnings.warn(\n"
     ]
    },
    {
     "name": "stdout",
     "output_type": "stream",
     "text": [
      "params: 0.2, 0.2, 0.5\n",
      "CCA score (train): 0.05609905382227076\n",
      "CCA score (test): 0.06646486388627948\n"
     ]
    },
    {
     "name": "stderr",
     "output_type": "stream",
     "text": [
      "/opt/anaconda3/lib/python3.9/site-packages/cca_zoo/models/iterative.py:106: UserWarning: Inner loop 0 not converged. Increase number of iterations.\n",
      "  warnings.warn(\n"
     ]
    },
    {
     "name": "stdout",
     "output_type": "stream",
     "text": [
      "params: 0.2, 0.2, 0.67\n",
      "CCA score (train): 0.04708770090079328\n",
      "CCA score (test): 0.044312044083924196\n",
      "params: 0.2, 0.2, 0.75\n",
      "CCA score (train): 0.047087700900793505\n",
      "CCA score (test): 0.044312044083924196\n"
     ]
    },
    {
     "name": "stderr",
     "output_type": "stream",
     "text": [
      "/opt/anaconda3/lib/python3.9/site-packages/cca_zoo/models/iterative.py:106: UserWarning: Inner loop 0 not converged. Increase number of iterations.\n",
      "  warnings.warn(\n"
     ]
    }
   ],
   "source": [
    "#hyperparam optimization\n",
    "from cca_zoo.models import ElasticCCA\n",
    "\n",
    "eCCA_model = ElasticCCA(max_iter=100000)\n",
    "eCCA_param_grid = {\"c\" : [[1e-2,1e-1,2e-1], [1e-2,1e-1,2e-1]], \"l1_ratio\" : [0.5,0.67,0.75]}\n",
    "# c is lasso alpha for each view\n",
    "# l1_ratio is l1 ratio in lasso subproblems\n",
    "# higher l1_ratio = more sparse\n",
    "\n",
    "for foldind in range(0,10):\n",
    "    #foldind = 0 #remember python starts indexing at 0, while R and Matlab start at 1\n",
    "\n",
    "    # load 10-fold cross validation (CV) splits\n",
    "    #thisfold_file = userhome + r'/Desktop/OCS_bigdata_ML_local/data/networklevel-stricterexclusion/partitions2_rep01fold' + str(foldind + 1) + r'.csv'\n",
    "    thisfold_file = userhome + r'/Desktop/OCS_bigdata_ML_local/data/networklevel/partitions2_rep01fold0' + str(foldind + 1) + r'.csv'\n",
    "    print(thisfold_file)\n",
    "    thisfold_file = pd.read_csv(thisfold_file)\n",
    "    thisfold_file = thisfold_file.to_numpy()\n",
    "    print(type(thisfold_file))\n",
    "    print(thisfold_file.shape)\n",
    "\n",
    "    # for each CV fold, extract only the selected participants and features\n",
    "    # NB: put this in loop later once troubleshooting complete\n",
    "    # NB: row and col indices were generated in R/Matlab, which index from 1. python indexes from 0\n",
    "    thisfold_clin_features = clin_features[(thisfold_file - 1), :]\n",
    "    #print(thisfold_clin_features.shape)\n",
    "    thisfold_clin_features = np.squeeze(thisfold_clin_features)\n",
    "    print(thisfold_clin_features.shape)\n",
    "    #print(thisfold_clin_features)\n",
    "\n",
    "    thisfold_rsFC_features = rsFC_features[(thisfold_file - 1), :]\n",
    "    thisfold_rsFC_features = np.squeeze(thisfold_rsFC_features)\n",
    "    print(thisfold_rsFC_features.shape)\n",
    "\n",
    "    #thisfoldfeats = CVfold_features[foldind, :][~np.isnan(CVfold_features[foldind, :])]\n",
    "    #thisfold_rsFC_features = rsFC_features[(thisfold_file - 1), thisfoldfeats.astype(int)-1]\n",
    "    #print(thisfold_rsFC_features.shape)\n",
    "    #print(thisfold_rsFC_features)\n",
    "\n",
    "\n",
    "    #test set for this CV fold\n",
    "    thisfold_clin_features_TEST = np.delete(clin_features,thisfold_file-1, axis=0)\n",
    "    print(thisfold_clin_features_TEST.shape)\n",
    "    thisfold_rsFC_features_TEST = np.delete(rsFC_features,thisfold_file-1, axis=0)\n",
    "    thisfold_rsFC_features_TEST = np.squeeze(thisfold_rsFC_features_TEST)\n",
    "    #thisfold_rsFC_features_TEST = thisfold_rsFC_features_TEST[:, thisfoldfeats.astype(int) - 1]\n",
    "    print(thisfold_rsFC_features_TEST.shape)\n",
    "    \n",
    "    paramind = 0\n",
    "    for thisc1 in eCCA_param_grid[\"c\"][0]:\n",
    "        for thisc2 in eCCA_param_grid[\"c\"][1]:\n",
    "            for thisl1_ratio in eCCA_param_grid[\"l1_ratio\"]:\n",
    "                eCCA_fit = ElasticCCA(c = (thisc1, thisc2), l1_ratio = thisl1_ratio, latent_dims=1).fit([thisfold_clin_features, thisfold_rsFC_features])\n",
    "                eCCA_eachfold_c1[foldind,paramind] = thisc1\n",
    "                eCCA_eachfold_c2[foldind,paramind] = thisc2\n",
    "                eCCA_eachfold_l1_ratio[foldind,paramind] = thisl1_ratio\n",
    "                print('params: ' + str(thisc1) + ', ' + str(thisc2) + ', ' + str(thisl1_ratio))\n",
    "                eCCA_eachfold_score_TRAIN[foldind,paramind] = eCCA_fit.score((thisfold_clin_features, thisfold_rsFC_features))[0]\n",
    "                print('CCA score (train): ' + str(eCCA_eachfold_score_TRAIN[foldind,paramind]))\n",
    "                eCCA_eachfold_score_TEST[foldind,paramind] = eCCA_fit.score((thisfold_clin_features_TEST, thisfold_rsFC_features_TEST))[0]\n",
    "                print('CCA score (test): ' + str(eCCA_eachfold_score_TEST[foldind,paramind]))\n",
    "\n",
    "                paramind = paramind + 1"
   ]
  },
  {
   "cell_type": "code",
   "execution_count": 43,
   "id": "89661bc7",
   "metadata": {},
   "outputs": [
    {
     "data": {
      "text/plain": [
       "array([[0.19212314340498193, 0.18759639258544314, 0.18559664080371618,\n",
       "        0.12072997747625824, 0.10771199533559361, 0.09687910646673026,\n",
       "        0.08432601382596538, nan, nan, 0.18021126668789322,\n",
       "        0.17462113237319965, 0.17084610705322079, 0.10296380644509462,\n",
       "        0.07562445996384204, 0.0710795813519034, 0.07628268978482478,\n",
       "        nan, nan, 0.17490222476848682, 0.15506943890017721,\n",
       "        0.15033878452007698, 0.06190666217740226, nan, nan,\n",
       "        0.07238720691384692, 0.0497777082299975, nan],\n",
       "       [0.19098669428167225, 0.18640740660051658, 0.1839020372338085,\n",
       "        0.1087310305421878, 0.09650152921766786, 0.09305958554645755,\n",
       "        0.08768777608238443, 0.0787504408687465, 0.0751405639324183,\n",
       "        0.1764596531622873, 0.16931515884810233, 0.16152617215550436,\n",
       "        0.08964486442095354, 0.07702106998524205, 0.07700487366287079,\n",
       "        0.07959695389323196, 0.07699868737768334, 0.06985442387698804,\n",
       "        0.17099162608619878, 0.14666142214977262, 0.14325676727096992,\n",
       "        0.07751244153731651, 0.0771165991511209, nan, 0.0774199337423862,\n",
       "        0.0769942800583514, 0.07400545477652143],\n",
       "       [0.19083557211169588, 0.1860349583946408, 0.18369785881630363,\n",
       "        0.12070619923879855, 0.10244197650118614, 0.0987773248906123,\n",
       "        0.09683803543115843, nan, nan, 0.16977642308201757,\n",
       "        0.1623786269083718, 0.1581242142604833, 0.10588049132725574,\n",
       "        0.09122547547846915, 0.07367352417205852, 0.077616787023987, nan,\n",
       "        nan, 0.1626270931909084, 0.15053247978223316, 0.1473873199511755,\n",
       "        0.09589728992965885, nan, nan, 0.07407477162184795, nan, nan],\n",
       "       [0.19075044005143305, 0.18418707597592077, 0.18040589786420647,\n",
       "        0.11528720919642876, 0.10389353744685925, 0.10179898258847597,\n",
       "        0.09123901699792158, nan, nan, 0.1709105845434511,\n",
       "        0.1654077335860158, 0.16178168169284635, 0.09783265111004003,\n",
       "        0.0774482823872189, 0.07574326595915704, 0.0747217449709392, nan,\n",
       "        nan, 0.16714544182825453, 0.1436492153201132,\n",
       "        0.14039757888621174, 0.07624363610907725, 0.06630042722265128,\n",
       "        nan, 0.06607473125800523, 0.05449568885743972, nan],\n",
       "       [0.1941814834253146, 0.1892356746520627, 0.1855194500863273,\n",
       "        0.10892453375078914, 0.09021648090457712, 0.08591146077095946,\n",
       "        0.08286983627351674, nan, nan, 0.17296590731377126,\n",
       "        0.1666852190297594, 0.1641937354949703, 0.08992386998685875,\n",
       "        0.06198136596318271, 0.06149099984267181, 0.06666523290304105,\n",
       "        nan, nan, 0.16744226013505448, 0.15198450704991973,\n",
       "        0.14733188800337382, 0.06194892223468207, nan, nan,\n",
       "        0.06199774045951334, 0.060865562174346355, nan],\n",
       "       [0.19221540124653025, 0.18470968943101918, 0.18140617536782666,\n",
       "        0.13066781947030015, 0.10443140224297576, 0.09881065441178638,\n",
       "        0.09144823079434872, nan, nan, 0.1737747618914054,\n",
       "        0.16530757615368552, 0.1596639453975126, 0.10865376936581228,\n",
       "        0.09429454446846663, 0.07573369015306541, 0.08193633082219942,\n",
       "        nan, nan, 0.16453515977090882, 0.15306657225573783,\n",
       "        0.12887189755549544, 0.09379285134162485, nan, nan,\n",
       "        0.07182505398794303, 0.047769985356926226, 0.047769985356926226],\n",
       "       [0.1919746622686873, 0.18736678163904363, 0.18468772692480373,\n",
       "        0.11627818503551168, 0.10674617386258967, 0.0958589177078315,\n",
       "        0.08294110006429256, nan, nan, 0.17086085654193162,\n",
       "        0.1604498386054387, 0.15556533812595608, 0.08705839429356277,\n",
       "        0.07478962127317113, 0.0700039755926194, 0.06384850669827147,\n",
       "        nan, nan, 0.15638870049074827, 0.14258435051231522,\n",
       "        0.1379068307535214, 0.0742566025214062, 0.06821347755411744, nan,\n",
       "        0.0669594140376466, 0.05947999026907236, nan],\n",
       "       [0.1875795741489379, 0.18325828817500311, 0.18021451573170566,\n",
       "        0.11375020456737883, 0.10150922325209244, 0.09437149579246307,\n",
       "        0.08728952876867102, nan, nan, 0.171704442686321,\n",
       "        0.16460042912057893, 0.16006014225972898, 0.08775645569388657,\n",
       "        0.08002612654607355, 0.07083329466243393, 0.0667593268115112,\n",
       "        nan, nan, 0.16599108350014413, 0.15635977782085253,\n",
       "        0.1393327567684186, 0.07633578630569193, nan, nan,\n",
       "        0.06346407129694942, 0.052749168179804906, 0.052749168179804906],\n",
       "       [0.1876469809627166, 0.18267215352009392, 0.17961733228125776,\n",
       "        0.10549273688693406, 0.09586119267503102, 0.09295687201497982,\n",
       "        0.09374282200105366, 0.08830475357904288, 0.0802286291668417,\n",
       "        0.17217046575024897, 0.16226918346457397, 0.15700394450636646,\n",
       "        0.08688766649755575, 0.07872673791705598, 0.07413154811041367,\n",
       "        0.0809975440798365, 0.07112927613519027, 0.06700813302975117,\n",
       "        0.16024901443292983, 0.14955205164350627, 0.14625391441621272,\n",
       "        0.07415878633572026, 0.06986008152635126, nan,\n",
       "        0.07458199904868779, 0.06980003994430928, nan],\n",
       "       [0.1878960420584488, 0.18372389899170494, 0.18155164661155787,\n",
       "        0.1131109425110235, 0.09690184147771053, 0.08932178260453338,\n",
       "        0.06480148700604027, nan, nan, 0.16691781226773528,\n",
       "        0.16090329238530354, 0.15743352973639957, 0.09003288583234736,\n",
       "        0.07729757421064187, 0.07094627676412624, 0.07537015221541887,\n",
       "        nan, nan, 0.16201704962891528, 0.14953061945198387,\n",
       "        0.13245730660375177, 0.06766110486507548, nan, nan,\n",
       "        0.05609905382227076, 0.04708770090079328, 0.047087700900793505]],\n",
       "      dtype=object)"
      ]
     },
     "execution_count": 43,
     "metadata": {},
     "output_type": "execute_result"
    }
   ],
   "source": [
    "#scratch - check that output is working\n",
    "eCCA_eachfold_score_TRAIN"
   ]
  },
  {
   "cell_type": "code",
   "execution_count": 46,
   "id": "2dbda3e5",
   "metadata": {},
   "outputs": [],
   "source": [
    "#average TRAIN and TEST correlations over CV folds\n",
    "\n",
    "#print(eCCA_eachfold_score_TRAIN[0:4,:])\n",
    "#eCCA_average_score_TRAIN = np.nanmean(eCCA_eachfold_score_TRAIN[:,:], axis=0)\n",
    "#print(eCCA_average_score_TRAIN)\n",
    "\n",
    "#print('\\n')\n",
    "\n",
    "#eCCA_average_score_TEST = np.nanmean(eCCA_eachfold_score_TEST[:,:], axis=0)\n",
    "#print(eCCA_average_score_TEST)\n",
    "#print(max(eCCA_average_score_TEST))\n",
    "\n",
    "#print('\\n')\n",
    "#print(eCCA_eachfold_c1)\n",
    "#print('\\n')\n",
    "#print(eCCA_eachfold_c2)\n",
    "#print('\\n')\n",
    "#print(eCCA_eachfold_l1_ratio)\n",
    "\n",
    "# save files\n",
    "#np.savetxt(userhome + r'/Desktop/OCS_bigdata_ML_local/FINAL/network-level/results/stricterexclusion/eCCA_eachfold_c1.csv', eCCA_eachfold_c1, delimiter=',')\n",
    "#np.savetxt(userhome + r'/Desktop/OCS_bigdata_ML_local/FINAL/network-level/results/stricterexclusion/eCCA_eachfold_c2.csv', eCCA_eachfold_c2, delimiter=',')\n",
    "#np.savetxt(userhome + r'/Desktop/OCS_bigdata_ML_local/FINAL/network-level/results/stricterexclusion/eCCA_eachfold_l1_ratio.csv', eCCA_eachfold_l1_ratio, delimiter=',')\n",
    "#np.savetxt(userhome + r'/Desktop/OCS_bigdata_ML_local/FINAL/network-level/results/stricterexclusion/eCCA_eachfold_score_TRAIN.csv', eCCA_eachfold_score_TRAIN, delimiter=',')\n",
    "#np.savetxt(userhome + r'/Desktop/OCS_bigdata_ML_local/FINAL/network-level/results/stricterexclusion/eCCA_eachfold_score_TEST.csv', eCCA_eachfold_score_TEST, delimiter=',')\n",
    "\n",
    "np.savetxt(userhome + r'/Desktop/OCS_bigdata_ML_local/FINAL/network-level/results/relaxedexclusion/eCCA_eachfold_c1.csv', eCCA_eachfold_c1, delimiter=',')\n",
    "np.savetxt(userhome + r'/Desktop/OCS_bigdata_ML_local/FINAL/network-level/results/relaxedexclusion/eCCA_eachfold_c2.csv', eCCA_eachfold_c2, delimiter=',')\n",
    "np.savetxt(userhome + r'/Desktop/OCS_bigdata_ML_local/FINAL/network-level/results/relaxedexclusion/eCCA_eachfold_l1_ratio.csv', eCCA_eachfold_l1_ratio, delimiter=',')\n",
    "np.savetxt(userhome + r'/Desktop/OCS_bigdata_ML_local/FINAL/network-level/results/relaxedexclusion/eCCA_eachfold_score_TRAIN.csv', eCCA_eachfold_score_TRAIN, delimiter=',')\n",
    "np.savetxt(userhome + r'/Desktop/OCS_bigdata_ML_local/FINAL/network-level/results/relaxedexclusion/eCCA_eachfold_score_TEST.csv', eCCA_eachfold_score_TEST, delimiter=',')\n",
    "\n",
    "# END OF HYPERPARAMETER OPTIMIZATION CODE\n"
   ]
  },
  {
   "cell_type": "code",
   "execution_count": 47,
   "id": "cc2c9c6b",
   "metadata": {},
   "outputs": [
    {
     "name": "stdout",
     "output_type": "stream",
     "text": [
      "dims: 8\n"
     ]
    },
    {
     "name": "stderr",
     "output_type": "stream",
     "text": [
      "/opt/anaconda3/lib/python3.9/site-packages/cca_zoo/models/iterative.py:106: UserWarning: Inner loop 0 not converged. Increase number of iterations.\n",
      "  warnings.warn(\n",
      "/opt/anaconda3/lib/python3.9/site-packages/cca_zoo/models/iterative.py:106: UserWarning: Inner loop 1 not converged. Increase number of iterations.\n",
      "  warnings.warn(\n",
      "/opt/anaconda3/lib/python3.9/site-packages/cca_zoo/models/iterative.py:106: UserWarning: Inner loop 2 not converged. Increase number of iterations.\n",
      "  warnings.warn(\n",
      "/opt/anaconda3/lib/python3.9/site-packages/cca_zoo/models/iterative.py:106: UserWarning: Inner loop 3 not converged. Increase number of iterations.\n",
      "  warnings.warn(\n",
      "/opt/anaconda3/lib/python3.9/site-packages/cca_zoo/models/iterative.py:106: UserWarning: Inner loop 4 not converged. Increase number of iterations.\n",
      "  warnings.warn(\n",
      "/opt/anaconda3/lib/python3.9/site-packages/cca_zoo/models/iterative.py:106: UserWarning: Inner loop 5 not converged. Increase number of iterations.\n",
      "  warnings.warn(\n",
      "/opt/anaconda3/lib/python3.9/site-packages/cca_zoo/models/iterative.py:106: UserWarning: Inner loop 6 not converged. Increase number of iterations.\n",
      "  warnings.warn(\n"
     ]
    },
    {
     "name": "stdout",
     "output_type": "stream",
     "text": [
      "params: 0.01, 0.01, 0.5\n",
      "All discovery CCA scores: [0.18398392 0.12487057 0.13751847 0.1298092  0.11734085 0.10230966\n",
      " 0.10803429 0.0913065 ]\n"
     ]
    },
    {
     "name": "stderr",
     "output_type": "stream",
     "text": [
      "/opt/anaconda3/lib/python3.9/site-packages/cca_zoo/models/iterative.py:106: UserWarning: Inner loop 7 not converged. Increase number of iterations.\n",
      "  warnings.warn(\n"
     ]
    }
   ],
   "source": [
    "#Run elastic net CCA using full discovery sample and optimized hyperparameters\n",
    "from cca_zoo.models import ElasticCCA\n",
    "eCCA_model = ElasticCCA(max_iter=100000000000)\n",
    "\n",
    "#optimized for network level with stricter exclusions\n",
    "#optim_c1 = 0.01\n",
    "#optim_c2 = 0.01\n",
    "#optim_l1_ratio = 0.5\n",
    "\n",
    "#optimized for network level with larger sample (less strict exclusions)\n",
    "optim_c1 = 0.01\n",
    "optim_c2 = 0.01\n",
    "optim_l1_ratio = 0.5\n",
    "\n",
    "dims = min(np.linalg.matrix_rank(rsFC_features),np.linalg.matrix_rank(clin_features))\n",
    "print('dims: ' + str(dims))\n",
    "\n",
    "eCCA_fit = ElasticCCA(c = (optim_c1, optim_c2), l1_ratio = optim_l1_ratio, latent_dims=dims).fit([clin_features, rsFC_features])\n",
    "print('params: ' + str(optim_c1) + ', ' + str(optim_c2) + ', ' + str(optim_l1_ratio))\n",
    "allsubsample_scores = eCCA_fit.score((clin_features, rsFC_features))\n",
    "print('All discovery CCA scores: ' + str(allsubsample_scores))\n",
    "\n",
    "#calculate transformed canonical variate values\n",
    "U,V = eCCA_fit.transform([clin_features, rsFC_features])\n",
    "\n"
   ]
  },
  {
   "cell_type": "code",
   "execution_count": 48,
   "id": "2d005297",
   "metadata": {},
   "outputs": [
    {
     "name": "stdout",
     "output_type": "stream",
     "text": [
      "<class 'numpy.ndarray'>\n",
      "(237, 8)\n",
      "<class 'numpy.ndarray'>\n",
      "(237, 91)\n",
      "(237,)\n",
      "(237, 8)\n",
      "All test CCA scores: [ 0.05296232  0.04505123 -0.01652437  0.00999201 -0.00853706 -0.10864947\n",
      "  0.08786295  0.00512762]\n",
      "(0.05296231715406499, 0.4170191842133072)\n",
      "(0.045051227291949617, 0.4900442242931696)\n",
      "(-0.0165243700391611, 0.8002205040017882)\n"
     ]
    }
   ],
   "source": [
    "# Apply fitted enCCA model to test subset data\n",
    "# load residualized and scaled clinical features (from R script)\n",
    "#clin_file_test = userhome + r'/Desktop/OCS_bigdata_ML_local/data/networklevel-stricterexclusion/clin_features_scaled_test.csv'\n",
    "clin_file_test = userhome + r'/Desktop/OCS_bigdata_ML_local/data/networklevel/clin_features_scaled_test.csv'\n",
    "clin_features_test = pd.read_csv(clin_file_test)\n",
    "clin_features_test = clin_features_test.to_numpy()\n",
    "print(type(clin_features_test))\n",
    "print(clin_features_test.shape)\n",
    "\n",
    "# load residualized and scaled imaging features (from R script)\n",
    "#rsFC_file_test = userhome + r'/Desktop/OCS_bigdata_ML_local/data/networklevel-stricterexclusion/rsFC_features_scaled_test.csv'\n",
    "rsFC_file_test = userhome + r'/Desktop/OCS_bigdata_ML_local/data/networklevel/rsFC_features_scaled_test.csv'\n",
    "rsFC_feat_chunks = pd.read_csv(rsFC_file_test, chunksize=1000)\n",
    "rsFC_features_test = pd.concat(rsFC_feat_chunks)\n",
    "#rsFC_features.sample(10)\n",
    "rsFC_features_test = rsFC_features_test.to_numpy()\n",
    "print(type(rsFC_features_test))\n",
    "print(rsFC_features_test.shape)\n",
    "\n",
    "# extract discovery-selected features\n",
    "#allsubsample_rsFC_features_test = rsFC_features_test[:, allsubsample_selected_features[:,0] - 1]\n",
    "#print(allsubsample_rsFC_features_test.shape)\n",
    "\n",
    "#calculate transformed canonical variate values\n",
    "U_test,V_test = eCCA_fit.transform([clin_features_test, rsFC_features_test])\n",
    "\n",
    "print(U_test[:,0].shape)\n",
    "print(V_test.shape)\n",
    "\n",
    "allsubsample_scores_test = eCCA_fit.score((clin_features_test, rsFC_features_test))\n",
    "print('All test CCA scores: ' + str(allsubsample_scores_test))\n",
    "\n",
    "from scipy.stats.stats import pearsonr\n",
    "#calculate correlation coefficient and p-value between x and y\n",
    "print(pearsonr(U_test[:,0], V_test[:,0]))\n",
    "print(pearsonr(U_test[:,1], V_test[:,1]))\n",
    "print(pearsonr(U_test[:,2], V_test[:,2]))"
   ]
  },
  {
   "cell_type": "code",
   "execution_count": 49,
   "id": "6705934c",
   "metadata": {},
   "outputs": [
    {
     "name": "stdout",
     "output_type": "stream",
     "text": [
      "<class 'numpy.ndarray'>\n",
      "(4657, 8)\n",
      "<class 'numpy.ndarray'>\n",
      "(4657, 91)\n",
      "All replication CCA scores: [ 0.03247516  0.01257676 -0.01559842  0.05258385 -0.00184925 -0.00390338\n",
      "  0.01819992 -0.02154381]\n",
      "(0.032475157672906374, 0.026680115496863)\n",
      "(0.012576763437265983, 0.39085395632178266)\n",
      "(-0.015598423247342475, 0.2872154837564367)\n"
     ]
    }
   ],
   "source": [
    "# Apply fitted enCCA model to replication subset data\n",
    "# load residualized and scaled clinical features (from R script)\n",
    "#clin_file_replication = userhome + r'/Desktop/OCS_bigdata_ML_local/data/networklevel-stricterexclusion/clin_features_scaled_replication.csv'\n",
    "clin_file_replication = userhome + r'/Desktop/OCS_bigdata_ML_local/data/networklevel/clin_features_scaled_replication.csv'\n",
    "clin_features_replication = pd.read_csv(clin_file_replication)\n",
    "clin_features_replication = clin_features_replication.to_numpy()\n",
    "print(type(clin_features_replication))\n",
    "print(clin_features_replication.shape)\n",
    "\n",
    "# load residualized and scaled imaging features (from R script)\n",
    "#rsFC_file_replication = userhome + r'/Desktop/OCS_bigdata_ML_local/data/networklevel-stricterexclusion/rsFC_features_scaled_replication.csv'\n",
    "rsFC_file_replication = userhome + r'/Desktop/OCS_bigdata_ML_local/data/networklevel/rsFC_features_scaled_replication.csv'\n",
    "rsFC_feat_chunks = pd.read_csv(rsFC_file_replication, chunksize=1000)\n",
    "rsFC_features_replication = pd.concat(rsFC_feat_chunks)\n",
    "rsFC_features_replication = rsFC_features_replication.to_numpy()\n",
    "print(type(rsFC_features_replication))\n",
    "print(rsFC_features_replication.shape)\n",
    "\n",
    "# extract discovery-selected features\n",
    "#allsubsample_rsFC_features_replication = rsFC_features_replication[:, allsubsample_selected_features[:,0] - 1]\n",
    "#print(allsubsample_rsFC_features_replication.shape)\n",
    "\n",
    "#calculate transformed canonical variate values\n",
    "U_replication,V_replication = eCCA_fit.transform([clin_features_replication, rsFC_features_replication])\n",
    "#print(U_test[:,0].shape)\n",
    "#print(V_test.shape)\n",
    "\n",
    "allsubsample_scores_replication = eCCA_fit.score((clin_features_replication, rsFC_features_replication))\n",
    "print('All replication CCA scores: ' + str(allsubsample_scores_replication))\n",
    "\n",
    "#calculate correlation coefficient and p-value between x and y\n",
    "print(pearsonr(U_replication[:,0], V_replication[:,0]))\n",
    "print(pearsonr(U_replication[:,1], V_replication[:,1]))\n",
    "print(pearsonr(U_replication[:,2], V_replication[:,2]))"
   ]
  },
  {
   "cell_type": "code",
   "execution_count": 50,
   "id": "5d9f649d",
   "metadata": {},
   "outputs": [
    {
     "name": "stdout",
     "output_type": "stream",
     "text": [
      "(8, 8)\n",
      "(91, 8)\n",
      "All subsample - clinical loadings CV1: \n",
      "[-34.63470187 -32.00574605   6.03433404 -18.30215467 -10.7360363\n",
      " -29.46915878 -28.59449344 -17.22629356]\n",
      "All subsample - clinical loadings CV2: \n",
      "[-14.49249544   1.85421846  22.279922     5.2418144  -42.00233535\n",
      " -36.17214514 -35.26076719  -1.22295597]\n",
      "All subsample - clinical loadings CV3: \n",
      "[ -5.25402076   1.66106917   1.00250293   2.27415736   1.42933895\n",
      " -55.09337468 -19.11640748   3.58222274]\n",
      "All subsample - clinical loadings CV4: \n",
      "[  0.65124947  -5.47067924  -2.59761416  -6.60150965   1.8355035\n",
      "   8.38205067  30.27357486 -39.54430053]\n",
      "All subsample - clinical loadings CV5: \n",
      "[-33.34232605 -25.4187601  -49.52519299 -45.05326706 -14.71778005\n",
      " -13.0646994  -14.40086214 -29.27564986]\n",
      "All subsample - clinical loadings CV6: \n",
      "[ -9.12977212  10.88810218  -4.49362245  -3.64598743   5.44093545\n",
      " -17.68232253 -54.13733554 -15.64375093]\n",
      "All subsample - clinical loadings CV7: \n",
      "[  1.13320196 -16.22197785 -17.4152203   37.69996624   0.95492119\n",
      "   0.28307892   0.650503     0.89256015]\n",
      "All subsample - clinical loadings CV8: \n",
      "[-52.87869623  15.65049549  -3.98626477  -4.68335225 -15.96298499\n",
      " -11.3469243  -12.27376716 -11.32817361]\n"
     ]
    }
   ],
   "source": [
    "# View clinical loadings\n",
    "#alldiscovery_loadings = eCCA_fit.get_loadings((clin_features, alldiscovery_rsFC_features))\n",
    "allsubsample_loadings = eCCA_fit.get_loadings((clin_features, rsFC_features), normalize=True)\n",
    "allsubsample_loadings_u = allsubsample_loadings[0]\n",
    "allsubsample_loadings_v = allsubsample_loadings[1]\n",
    "\n",
    "print(allsubsample_loadings_u.shape)\n",
    "print(allsubsample_loadings_v.shape)\n",
    "\n",
    "print('All subsample - clinical loadings CV1: \\n' + str(allsubsample_loadings_u[:,0]))\n",
    "print('All subsample - clinical loadings CV2: \\n' + str(allsubsample_loadings_u[:,1]))\n",
    "print('All subsample - clinical loadings CV3: \\n' + str(allsubsample_loadings_u[:,2]))\n",
    "print('All subsample - clinical loadings CV4: \\n' + str(allsubsample_loadings_u[:,3]))\n",
    "print('All subsample - clinical loadings CV5: \\n' + str(allsubsample_loadings_u[:,4]))\n",
    "print('All subsample - clinical loadings CV6: \\n' + str(allsubsample_loadings_u[:,5]))\n",
    "print('All subsample - clinical loadings CV7: \\n' + str(allsubsample_loadings_u[:,6]))\n",
    "print('All subsample - clinical loadings CV8: \\n' + str(allsubsample_loadings_u[:,7]))\n",
    "\n"
   ]
  },
  {
   "cell_type": "code",
   "execution_count": 51,
   "id": "9e3c7d46",
   "metadata": {},
   "outputs": [],
   "source": [
    "# Save clin loadings\n",
    "#discovery\n",
    "np.savetxt(userhome + r'/Desktop/OCS_bigdata_ML_local/FINAL/network-level/results/relaxedexclusion/alldiscovery_clinloadings_u_CV1norm.csv', allsubsample_loadings_u[:,0], delimiter=',')\n",
    "np.savetxt(userhome + r'/Desktop/OCS_bigdata_ML_local/FINAL/network-level/results/relaxedexclusion/alldiscovery_clinloadings_u_CV2norm.csv', allsubsample_loadings_u[:,1], delimiter=',')\n",
    "np.savetxt(userhome + r'/Desktop/OCS_bigdata_ML_local/FINAL/network-level/results/relaxedexclusion/alldiscovery_clinloadings_u_CV3norm.csv', allsubsample_loadings_u[:,2], delimiter=',')\n",
    "np.savetxt(userhome + r'/Desktop/OCS_bigdata_ML_local/FINAL/network-level/results/relaxedexclusion/alldiscovery_clinloadings_u_CV4norm.csv', allsubsample_loadings_u[:,3], delimiter=',')\n",
    "np.savetxt(userhome + r'/Desktop/OCS_bigdata_ML_local/FINAL/network-level/results/relaxedexclusion/alldiscovery_clinloadings_u_CV5norm.csv', allsubsample_loadings_u[:,4], delimiter=',')\n",
    "np.savetxt(userhome + r'/Desktop/OCS_bigdata_ML_local/FINAL/network-level/results/relaxedexclusion/alldiscovery_clinloadings_u_CV6norm.csv', allsubsample_loadings_u[:,5], delimiter=',')\n",
    "np.savetxt(userhome + r'/Desktop/OCS_bigdata_ML_local/FINAL/network-level/results/relaxedexclusion/alldiscovery_clinloadings_u_CV7norm.csv', allsubsample_loadings_u[:,6], delimiter=',')\n",
    "np.savetxt(userhome + r'/Desktop/OCS_bigdata_ML_local/FINAL/network-level/results/relaxedexclusion/alldiscovery_clinloadings_u_CV8norm.csv', allsubsample_loadings_u[:,7], delimiter=',')\n",
    "np.savetxt(userhome + r'/Desktop/OCS_bigdata_ML_local/FINAL/network-level/results/relaxedexclusion/alldiscovery_clinloadings_allnorm.csv', allsubsample_loadings_u, delimiter=',')\n",
    "\n",
    "#replication\n",
    "#np.savetxt(userhome + r'/Desktop/OCS_bigdata_ML_local/results/replication/allreplication_clinloadings_u_CV1norm.csv', allsubsample_loadings_u[:,0], delimiter=',')\n",
    "#np.savetxt(userhome + r'/Desktop/OCS_bigdata_ML_local/results/replication/allreplication_clinloadings_u_CV2norm.csv', allsubsample_loadings_u[:,1], delimiter=',')\n",
    "#np.savetxt(userhome + r'/Desktop/OCS_bigdata_ML_local/results/replication/allreplication_clinloadings_u_CV3norm.csv', allsubsample_loadings_u[:,2], delimiter=',')\n",
    "#np.savetxt(userhome + r'/Desktop/OCS_bigdata_ML_local/results/replication/allreplication_clinloadings_u_CV4norm.csv', allsubsample_loadings_u[:,3], delimiter=',')\n",
    "#np.savetxt(userhome + r'/Desktop/OCS_bigdata_ML_local/results/replication/allreplication_clinloadings_u_CV5norm.csv', allsubsample_loadings_u[:,4], delimiter=',')\n",
    "#np.savetxt(userhome + r'/Desktop/OCS_bigdata_ML_local/results/replication/allreplication_clinloadings_u_CV6norm.csv', allsubsample_loadings_u[:,5], delimiter=',')\n",
    "#np.savetxt(userhome + r'/Desktop/OCS_bigdata_ML_local/results/replication/allreplication_clinloadings_u_CV7norm.csv', allsubsample_loadings_u[:,6], delimiter=',')\n",
    "#np.savetxt(userhome + r'/Desktop/OCS_bigdata_ML_local/results/replication/allreplication_clinloadings_u_CV8norm.csv', allsubsample_loadings_u[:,7], delimiter=',')\n",
    "#np.savetxt(userhome + r'/Desktop/OCS_bigdata_ML_local/results/replication/allreplication_clinloadings_allnorm.csv', allsubsample_loadings_u, delimiter=',')\n"
   ]
  },
  {
   "cell_type": "code",
   "execution_count": 52,
   "id": "1778d7c5",
   "metadata": {},
   "outputs": [
    {
     "name": "stdout",
     "output_type": "stream",
     "text": [
      "CV1\n",
      "[89 45 54 61 52 17 49 88 47 25 39 24 19 63 58 37 18 62 16 38]\n",
      "[ -7.37856194   7.61300117  -8.51610414  -8.95747791  -8.95768572\n",
      "   9.17853975  -9.59029479   9.60170481  11.53026753  12.1432499\n",
      " -12.25267612 -12.77633177 -13.68890766  14.95454849  15.0655032\n",
      "  15.5099868  -17.61867787 -18.29073372 -20.32654534 -22.66317896]\n",
      "CV2\n",
      "[40 45 89 75 22 61 78 14 13 91 11  6 59 74 90 23 63 83 58 77]\n",
      "[ 12.02641269  12.3915588   12.78328319 -12.96695738  12.99743015\n",
      "  13.66067346 -13.75446398  14.06720274 -14.15387891  14.44749154\n",
      "  14.63213658  14.74131201  15.03380643 -15.31957132 -15.5376584\n",
      "  15.83883164 -16.2285018   16.24790635 -16.9343013  -20.71555081]\n",
      "CV3\n",
      "[ 8 84 10 74 79 61 18 22 58 73 71  1 66 14 56 43 19 20  7 67]\n",
      "[  9.1066386   -9.75198843  -9.87077634  10.00458209  10.09239593\n",
      " -10.35739368 -10.53798897 -11.24173151  11.24905889  11.37268581\n",
      " -11.64415031 -11.65981607  12.524155   -12.62754448 -12.63927694\n",
      "  12.86339439  13.13769581  13.42876072  13.877894    18.89520778]\n",
      "CV4\n",
      "[51  1 15 65 23 22 84 14 39  2 73 12  8 44 41 75 45 20 71 24]\n",
      "[  9.95901376 -10.40155068  10.60171059 -10.93947386 -11.2007566\n",
      " -12.13895981 -12.21750092 -12.41082602  12.4564087  -12.67404685\n",
      "  12.77727872 -13.79466693  14.33036356  14.44614203 -15.29831259\n",
      "  16.12495664  16.89088731  17.57112788 -18.44134881 -21.17120757]\n"
     ]
    }
   ],
   "source": [
    "# View rs-FC loadings\n",
    "allsubsample_loadings_v_CV1 = np.argsort(abs(allsubsample_loadings_v[:,0]))\n",
    "#print(alldiscovery_loadings_v_CV1.shape)\n",
    "print('CV1')\n",
    "print(allsubsample_loadings_v_CV1[-20:] + 1)\n",
    "print(allsubsample_loadings_v[allsubsample_loadings_v_CV1[-20:],0])\n",
    "\n",
    "allsubsample_loadings_v_CV2 = np.argsort(abs(allsubsample_loadings_v[:,1]))\n",
    "print('CV2')\n",
    "print(allsubsample_loadings_v_CV2[-20:] + 1)\n",
    "print(allsubsample_loadings_v[allsubsample_loadings_v_CV2[-20:],1])\n",
    "\n",
    "allsubsample_loadings_v_CV3 = np.argsort(abs(allsubsample_loadings_v[:,2]))\n",
    "print('CV3')\n",
    "print(allsubsample_loadings_v_CV3[-20:] + 1)\n",
    "print(allsubsample_loadings_v[allsubsample_loadings_v_CV3[-20:],2])\n",
    "\n",
    "allsubsample_loadings_v_CV4 = np.argsort(abs(allsubsample_loadings_v[:,3]))\n",
    "print('CV4')\n",
    "print(allsubsample_loadings_v_CV4[-20:] + 1)\n",
    "print(allsubsample_loadings_v[allsubsample_loadings_v_CV4[-20:],3])\n",
    "\n",
    "allsubsample_loadings_v_CV5 = np.argsort(abs(allsubsample_loadings_v[:,4]))\n",
    "allsubsample_loadings_v_CV6 = np.argsort(abs(allsubsample_loadings_v[:,5]))\n",
    "allsubsample_loadings_v_CV7 = np.argsort(abs(allsubsample_loadings_v[:,6]))\n",
    "allsubsample_loadings_v_CV8 = np.argsort(abs(allsubsample_loadings_v[:,7]))"
   ]
  },
  {
   "cell_type": "code",
   "execution_count": 53,
   "id": "69355616",
   "metadata": {},
   "outputs": [],
   "source": [
    "# Save rsFC loadings\n",
    "#discovery\n",
    "np.savetxt(userhome + r'/Desktop/OCS_bigdata_ML_local/FINAL/network-level/results/relaxedexclusion/alldiscovery_rsFCinds_v_CV1.csv', allsubsample_loadings_v_CV1 + 1, delimiter=',')\n",
    "np.savetxt(userhome + r'/Desktop/OCS_bigdata_ML_local/FINAL/network-level/results/relaxedexclusion/alldiscovery_rsFCloadings_v_CV1.csv', allsubsample_loadings_v[allsubsample_loadings_v_CV1,0], delimiter=',')\n",
    "\n",
    "np.savetxt(userhome + r'/Desktop/OCS_bigdata_ML_local/FINAL/network-level/results/relaxedexclusion/alldiscovery_rsFCinds_v_CV2.csv', allsubsample_loadings_v_CV2 + 1, delimiter=',')\n",
    "np.savetxt(userhome + r'/Desktop/OCS_bigdata_ML_local/FINAL/network-level/results/relaxedexclusion/alldiscovery_rsFCloadings_v_CV2.csv', allsubsample_loadings_v[allsubsample_loadings_v_CV2,1], delimiter=',')\n",
    "\n",
    "np.savetxt(userhome + r'/Desktop/OCS_bigdata_ML_local/FINAL/network-level/results/relaxedexclusion/alldiscovery_rsFCinds_v_CV3.csv', allsubsample_loadings_v_CV3 + 1, delimiter=',')\n",
    "np.savetxt(userhome + r'/Desktop/OCS_bigdata_ML_local/FINAL/network-level/results/relaxedexclusion/alldiscovery_rsFCloadings_v_CV3.csv', allsubsample_loadings_v[allsubsample_loadings_v_CV3,2], delimiter=',')\n",
    "\n",
    "np.savetxt(userhome + r'/Desktop/OCS_bigdata_ML_local/FINAL/network-level/results/relaxedexclusion/alldiscovery_rsFCinds_v_CV4.csv', allsubsample_loadings_v_CV4 + 1, delimiter=',')\n",
    "np.savetxt(userhome + r'/Desktop/OCS_bigdata_ML_local/FINAL/network-level/results/relaxedexclusion/alldiscovery_rsFCloadings_v_CV4.csv', allsubsample_loadings_v[allsubsample_loadings_v_CV4,3], delimiter=',')\n",
    "\n",
    "np.savetxt(userhome + r'/Desktop/OCS_bigdata_ML_local/FINAL/network-level/results/relaxedexclusion/alldiscovery_rsFCinds_v_CV5.csv', allsubsample_loadings_v_CV5 + 1, delimiter=',')\n",
    "np.savetxt(userhome + r'/Desktop/OCS_bigdata_ML_local/FINAL/network-level/results/relaxedexclusion/alldiscovery_rsFCloadings_v_CV5.csv', allsubsample_loadings_v[allsubsample_loadings_v_CV5,4], delimiter=',')\n",
    "\n",
    "np.savetxt(userhome + r'/Desktop/OCS_bigdata_ML_local/FINAL/network-level/results/relaxedexclusion/alldiscovery_rsFCinds_v_CV6.csv', allsubsample_loadings_v_CV6 + 1, delimiter=',')\n",
    "np.savetxt(userhome + r'/Desktop/OCS_bigdata_ML_local/FINAL/network-level/results/relaxedexclusion/alldiscovery_rsFCloadings_v_CV6.csv', allsubsample_loadings_v[allsubsample_loadings_v_CV6,5], delimiter=',')\n",
    "\n",
    "np.savetxt(userhome + r'/Desktop/OCS_bigdata_ML_local/FINAL/network-level/results/relaxedexclusion/alldiscovery_rsFCinds_v_CV7.csv', allsubsample_loadings_v_CV7 + 1, delimiter=',')\n",
    "np.savetxt(userhome + r'/Desktop/OCS_bigdata_ML_local/FINAL/network-level/results/relaxedexclusion/alldiscovery_rsFCloadings_v_CV7.csv', allsubsample_loadings_v[allsubsample_loadings_v_CV7,6], delimiter=',')\n",
    "\n",
    "np.savetxt(userhome + r'/Desktop/OCS_bigdata_ML_local/FINAL/network-level/results/relaxedexclusion/alldiscovery_rsFCinds_v_CV8.csv', allsubsample_loadings_v_CV8 + 1, delimiter=',')\n",
    "np.savetxt(userhome + r'/Desktop/OCS_bigdata_ML_local/FINAL/network-level/results/relaxedexclusion/alldiscovery_rsFCloadings_v_CV8.csv', allsubsample_loadings_v[allsubsample_loadings_v_CV8,7], delimiter=',')\n",
    "\n",
    "#replication\n",
    "#np.savetxt(userhome + r'/Desktop/OCS_bigdata_ML_local/results/replication/allreplication_rsFCinds_v_CV1.csv', allsubsample_loadings_v_CV1 + 1, delimiter=',')\n",
    "#np.savetxt(userhome + r'/Desktop/OCS_bigdata_ML_local/results/replication/allreplication_rsFCloadings_v_CV1.csv', allsubsample_loadings_v[allsubsample_loadings_v_CV1,0], delimiter=',')\n",
    "\n",
    "#np.savetxt(userhome + r'/Desktop/OCS_bigdata_ML_local/results/replication/allreplication_rsFCinds_v_CV2.csv', allsubsample_loadings_v_CV2 + 1, delimiter=',')\n",
    "#np.savetxt(userhome + r'/Desktop/OCS_bigdata_ML_local/results/replication/allreplication_rsFCloadings_v_CV2.csv', allsubsample_loadings_v[allsubsample_loadings_v_CV2,1], delimiter=',')\n",
    "\n",
    "#np.savetxt(userhome + r'/Desktop/OCS_bigdata_ML_local/results/replication/allreplication_rsFCinds_v_CV3.csv', allsubsample_loadings_v_CV3 + 1, delimiter=',')\n",
    "#np.savetxt(userhome + r'/Desktop/OCS_bigdata_ML_local/results/replication/allreplication_rsFCloadings_v_CV3.csv', allsubsample_loadings_v[allsubsample_loadings_v_CV3,2], delimiter=',')\n",
    "\n",
    "#np.savetxt(userhome + r'/Desktop/OCS_bigdata_ML_local/results/replication/allreplication_rsFCinds_v_CV4.csv', allsubsample_loadings_v_CV4 + 1, delimiter=',')\n",
    "#np.savetxt(userhome + r'/Desktop/OCS_bigdata_ML_local/results/replication/allreplication_rsFCloadings_v_CV4.csv', allsubsample_loadings_v[allsubsample_loadings_v_CV4,3], delimiter=',')\n",
    "\n",
    "#np.savetxt(userhome + r'/Desktop/OCS_bigdata_ML_local/results/replication/allreplication_rsFCinds_v_CV5.csv', allsubsample_loadings_v_CV5 + 1, delimiter=',')\n",
    "#np.savetxt(userhome + r'/Desktop/OCS_bigdata_ML_local/results/replication/allreplication_rsFCloadings_v_CV5.csv', allsubsample_loadings_v[allsubsample_loadings_v_CV5,4], delimiter=',')\n",
    "\n",
    "#np.savetxt(userhome + r'/Desktop/OCS_bigdata_ML_local/results/replication/allreplication_rsFCinds_v_CV6.csv', allsubsample_loadings_v_CV6 + 1, delimiter=',')\n",
    "#np.savetxt(userhome + r'/Desktop/OCS_bigdata_ML_local/results/replication/allreplication_rsFCloadings_v_CV6.csv', allsubsample_loadings_v[allsubsample_loadings_v_CV6,5], delimiter=',')\n",
    "\n",
    "#np.savetxt(userhome + r'/Desktop/OCS_bigdata_ML_local/results/replication/allreplication_rsFCinds_v_CV7.csv', allsubsample_loadings_v_CV7 + 1, delimiter=',')\n",
    "#np.savetxt(userhome + r'/Desktop/OCS_bigdata_ML_local/results/replication/allreplication_rsFCloadings_v_CV7.csv', allsubsample_loadings_v[allsubsample_loadings_v_CV7,6], delimiter=',')\n",
    "\n",
    "#np.savetxt(userhome + r'/Desktop/OCS_bigdata_ML_local/results/replication/allreplication_rsFCinds_v_CV8.csv', allsubsample_loadings_v_CV8 + 1, delimiter=',')\n",
    "#np.savetxt(userhome + r'/Desktop/OCS_bigdata_ML_local/results/replication/allreplication_rsFCloadings_v_CV8.csv', allsubsample_loadings_v[allsubsample_loadings_v_CV8,7], delimiter=',')"
   ]
  },
  {
   "cell_type": "code",
   "execution_count": 55,
   "id": "a74357e2",
   "metadata": {},
   "outputs": [],
   "source": [
    "# Save canonical variates for all subsets\n",
    "np.savetxt(userhome + r'/Desktop/OCS_bigdata_ML_local/FINAL/network-level/results/relaxedexclusion/discovery_CV1_clin_u.csv', U[:,0], delimiter=',')\n",
    "np.savetxt(userhome + r'/Desktop/OCS_bigdata_ML_local/FINAL/network-level/results/relaxedexclusion/discovery_CV1_rsFC_v.csv', V[:,0], delimiter=',')\n",
    "np.savetxt(userhome + r'/Desktop/OCS_bigdata_ML_local/FINAL/network-level/results/relaxedexclusion/testapplied_CV1_clin_u.csv', U_test[:,0], delimiter=',')\n",
    "np.savetxt(userhome + r'/Desktop/OCS_bigdata_ML_local/FINAL/network-level/results/relaxedexclusion/testapplied_CV1_rsFC_v.csv', V_test[:,0], delimiter=',')\n",
    "np.savetxt(userhome + r'/Desktop/OCS_bigdata_ML_local/FINAL/network-level/results/relaxedexclusion/replicationapplied_CV1_clin_u.csv', U_replication[:,0], delimiter=',')\n",
    "np.savetxt(userhome + r'/Desktop/OCS_bigdata_ML_local/FINAL/network-level/results/relaxedexclusion/replicationapplied_CV1_rsFC_v.csv', V_replication[:,0], delimiter=',')\n",
    "\n",
    "np.savetxt(userhome + r'/Desktop/OCS_bigdata_ML_local/FINAL/network-level/results/relaxedexclusion/discovery_CV2_clin_u.csv', U[:,1], delimiter=',')\n",
    "np.savetxt(userhome + r'/Desktop/OCS_bigdata_ML_local/FINAL/network-level/results/relaxedexclusion/discovery_CV2_rsFC_v.csv', V[:,1], delimiter=',')\n",
    "np.savetxt(userhome + r'/Desktop/OCS_bigdata_ML_local/FINAL/network-level/results/relaxedexclusion/testapplied_CV2_clin_u.csv', U_test[:,1], delimiter=',')\n",
    "np.savetxt(userhome + r'/Desktop/OCS_bigdata_ML_local/FINAL/network-level/results/relaxedexclusion/testapplied_CV2_rsFC_v.csv', V_test[:,1], delimiter=',')\n",
    "np.savetxt(userhome + r'/Desktop/OCS_bigdata_ML_local/FINAL/network-level/results/relaxedexclusion/replicationapplied_CV2_clin_u.csv', U_replication[:,1], delimiter=',')\n",
    "np.savetxt(userhome + r'/Desktop/OCS_bigdata_ML_local/FINAL/network-level/results/relaxedexclusion/replicationapplied_CV2_rsFC_v.csv', V_replication[:,1], delimiter=',')\n",
    "\n",
    "np.savetxt(userhome + r'/Desktop/OCS_bigdata_ML_local/FINAL/network-level/results/relaxedexclusion/discovery_CV3_clin_u.csv', U[:,2], delimiter=',')\n",
    "np.savetxt(userhome + r'/Desktop/OCS_bigdata_ML_local/FINAL/network-level/results/relaxedexclusion/discovery_CV3_rsFC_v.csv', V[:,2], delimiter=',')\n",
    "np.savetxt(userhome + r'/Desktop/OCS_bigdata_ML_local/FINAL/network-level/results/relaxedexclusion/testapplied_CV3_clin_u.csv', U_test[:,2], delimiter=',')\n",
    "np.savetxt(userhome + r'/Desktop/OCS_bigdata_ML_local/FINAL/network-level/results/relaxedexclusion/testapplied_CV3_rsFC_v.csv', V_test[:,2], delimiter=',')\n",
    "np.savetxt(userhome + r'/Desktop/OCS_bigdata_ML_local/FINAL/network-level/results/relaxedexclusion/replicationapplied_CV3_clin_u.csv', U_replication[:,2], delimiter=',')\n",
    "np.savetxt(userhome + r'/Desktop/OCS_bigdata_ML_local/FINAL/network-level/results/relaxedexclusion/replicationapplied_CV3_rsFC_v.csv', V_replication[:,2], delimiter=',')\n"
   ]
  },
  {
   "cell_type": "code",
   "execution_count": 56,
   "id": "9c5e9687",
   "metadata": {},
   "outputs": [],
   "source": [
    "# function to calculate CI for Pearson correlation from:\n",
    "# https://gist.github.com/zhiyzuo/d38159a7c48b575af3e3de7501462e04\n",
    "import numpy as np\n",
    "from scipy import stats\n",
    "\n",
    "def pearsonr_ci(x,y,alpha=0.05):\n",
    "    ''' calculate Pearson correlation along with the confidence interval using scipy and numpy\n",
    "    Parameters\n",
    "    ----------\n",
    "    x, y : iterable object such as a list or np.array\n",
    "      Input for correlation calculation\n",
    "    alpha : float\n",
    "      Significance level. 0.05 by default\n",
    "    Returns\n",
    "    -------\n",
    "    r : float\n",
    "      Pearson's correlation coefficient\n",
    "    pval : float\n",
    "      The corresponding p value\n",
    "    lo, hi : float\n",
    "      The lower and upper bound of confidence intervals\n",
    "    '''\n",
    "\n",
    "    r, p = stats.pearsonr(x,y)\n",
    "    r_z = np.arctanh(r)\n",
    "    se = 1/np.sqrt(x.size-3)\n",
    "    z = stats.norm.ppf(1-alpha/2)\n",
    "    lo_z, hi_z = r_z-z*se, r_z+z*se\n",
    "    lo, hi = np.tanh((lo_z, hi_z))\n",
    "    return r, p, lo, hi"
   ]
  },
  {
   "cell_type": "code",
   "execution_count": 60,
   "id": "b7464b69",
   "metadata": {},
   "outputs": [
    {
     "name": "stdout",
     "output_type": "stream",
     "text": [
      "[[0.18398392413313613 4.5775895185515535e-37 0.15621826408897313\n",
      "  0.211459039529216]\n",
      " [0.05296231715406499 0.4170191842133072 -0.07497397895197153\n",
      "  0.1791833047926546]\n",
      " [0.032475157672906374 0.026680115496863 0.003756611644267189\n",
      "  0.0611401790010276]]\n",
      "[[0.12487057011652791 8.4742362791309e-18 0.09662819870030058\n",
      "  0.1529120244146015]\n",
      " [0.045051227291949617 0.4900442242931696 -0.08285472913652812\n",
      "  0.17149697822950338]\n",
      " [0.012576763437265983 0.39085395632178266 -0.016151120858850586\n",
      "  0.041283900456020206]]\n",
      "[[0.137518468362067 2.7634050618163e-21 0.10936109133919948\n",
      "  0.16545532310831787]\n",
      " [-0.0165243700391611 0.8002205040017882 -0.14365217731666532\n",
      "  0.11113995439898254]\n",
      " [-0.015598423247342475 0.2872154837564367 -0.044300625758709924\n",
      "  0.013129509037940473]]\n"
     ]
    }
   ],
   "source": [
    "# calculate canonical correlations and CI for each subsample\n",
    "#CV1\n",
    "eCCA_canon_corrs1 = np.empty((3,4), dtype=object)\n",
    "r_d, p_d, lo_d, hi_d = pearsonr_ci(U[:,0],V[:,0],alpha=0.05)\n",
    "eCCA_canon_corrs1[0,:] = [r_d, p_d, lo_d, hi_d]\n",
    "r_t, p_t, lo_t, hi_t = pearsonr_ci(U_test[:,0],V_test[:,0],alpha=0.05)\n",
    "eCCA_canon_corrs1[1,:] = [r_t, p_t, lo_t, hi_t]\n",
    "r_r, p_r, lo_r, hi_r = pearsonr_ci(U_replication[:,0],V_replication[:,0],alpha=0.05)\n",
    "eCCA_canon_corrs1[2,:] = [r_r, p_r, lo_r, hi_r]\n",
    "\n",
    "print(eCCA_canon_corrs1)\n",
    "np.savetxt(userhome + r'/Desktop/OCS_bigdata_ML_local/FINAL/network-level/results/relaxedexclusion/allsubsets_canoncorrs1.csv', eCCA_canon_corrs1, delimiter=',')\n",
    "\n",
    "#CV2\n",
    "eCCA_canon_corrs2 = np.empty((3,4), dtype=object)\n",
    "r_d, p_d, lo_d, hi_d = pearsonr_ci(U[:,1],V[:,1],alpha=0.05)\n",
    "eCCA_canon_corrs2[0,:] = [r_d, p_d, lo_d, hi_d]\n",
    "r_t, p_t, lo_t, hi_t = pearsonr_ci(U_test[:,1],V_test[:,1],alpha=0.05)\n",
    "eCCA_canon_corrs2[1,:] = [r_t, p_t, lo_t, hi_t]\n",
    "r_r, p_r, lo_r, hi_r = pearsonr_ci(U_replication[:,1],V_replication[:,1],alpha=0.05)\n",
    "eCCA_canon_corrs2[2,:] = [r_r, p_r, lo_r, hi_r]\n",
    "\n",
    "print(eCCA_canon_corrs2)\n",
    "np.savetxt(userhome + r'/Desktop/OCS_bigdata_ML_local/FINAL/network-level/results/relaxedexclusion/allsubsets_canoncorrs2.csv', eCCA_canon_corrs2, delimiter=',')\n",
    "\n",
    "#CV3\n",
    "eCCA_canon_corrs3 = np.empty((3,4), dtype=object)\n",
    "r_d, p_d, lo_d, hi_d = pearsonr_ci(U[:,2],V[:,2],alpha=0.05)\n",
    "eCCA_canon_corrs3[0,:] = [r_d, p_d, lo_d, hi_d]\n",
    "r_t, p_t, lo_t, hi_t = pearsonr_ci(U_test[:,2],V_test[:,2],alpha=0.05)\n",
    "eCCA_canon_corrs3[1,:] = [r_t, p_t, lo_t, hi_t]\n",
    "r_r, p_r, lo_r, hi_r = pearsonr_ci(U_replication[:,2],V_replication[:,2],alpha=0.05)\n",
    "eCCA_canon_corrs3[2,:] = [r_r, p_r, lo_r, hi_r]\n",
    "\n",
    "print(eCCA_canon_corrs3)\n",
    "np.savetxt(userhome + r'/Desktop/OCS_bigdata_ML_local/FINAL/network-level/results/relaxedexclusion/allsubsets_canoncorrs3.csv', eCCA_canon_corrs3, delimiter=',')\n"
   ]
  },
  {
   "cell_type": "code",
   "execution_count": 58,
   "id": "b41394f4",
   "metadata": {},
   "outputs": [
    {
     "name": "stderr",
     "output_type": "stream",
     "text": [
      "/opt/anaconda3/lib/python3.9/site-packages/cca_zoo/models/iterative.py:106: UserWarning: Inner loop 0 not converged. Increase number of iterations.\n",
      "  warnings.warn(\n",
      "/opt/anaconda3/lib/python3.9/site-packages/cca_zoo/models/iterative.py:106: UserWarning: Inner loop 1 not converged. Increase number of iterations.\n",
      "  warnings.warn(\n",
      "/opt/anaconda3/lib/python3.9/site-packages/cca_zoo/models/iterative.py:106: UserWarning: Inner loop 2 not converged. Increase number of iterations.\n",
      "  warnings.warn(\n",
      "/opt/anaconda3/lib/python3.9/site-packages/cca_zoo/models/iterative.py:106: UserWarning: Inner loop 3 not converged. Increase number of iterations.\n",
      "  warnings.warn(\n",
      "/opt/anaconda3/lib/python3.9/site-packages/cca_zoo/models/iterative.py:106: UserWarning: Inner loop 4 not converged. Increase number of iterations.\n",
      "  warnings.warn(\n",
      "/opt/anaconda3/lib/python3.9/site-packages/cca_zoo/models/iterative.py:106: UserWarning: Inner loop 5 not converged. Increase number of iterations.\n",
      "  warnings.warn(\n",
      "/opt/anaconda3/lib/python3.9/site-packages/cca_zoo/models/iterative.py:106: UserWarning: Inner loop 6 not converged. Increase number of iterations.\n",
      "  warnings.warn(\n"
     ]
    },
    {
     "name": "stdout",
     "output_type": "stream",
     "text": [
      "params: 0.01, 0.01, 0.5\n",
      "All replication (refitted) CCA scores: [0.1863045  0.16828864 0.14454764 0.10900275 0.11018055 0.11849582\n",
      " 0.11601035 0.05762238]\n"
     ]
    },
    {
     "name": "stderr",
     "output_type": "stream",
     "text": [
      "/opt/anaconda3/lib/python3.9/site-packages/cca_zoo/models/iterative.py:106: UserWarning: Inner loop 7 not converged. Increase number of iterations.\n",
      "  warnings.warn(\n"
     ]
    }
   ],
   "source": [
    "#Refit elastic net CCA in full replication sample\n",
    "\n",
    "#load selected feature indices file\n",
    "#allsubsample_selected_features = np.transpose(stable_features[:,:])\n",
    "#print(allsubsample_selected_features.shape)\n",
    "\n",
    "#load selected feature indices file - alternative code block\n",
    "#alldiscovery_selected_features_file = userhome + r'/Desktop/OCS_bigdata_ML_local/data/allDiscovery_selectedFeatsPearson.csv'\n",
    "#alldiscovery_selected_features_file = userhome + r'/Desktop/OCS_bigdata_ML_local/data/allDiscovery_selectedFeatsSpearman.csv'\n",
    "#alldiscovery_selected_features = pd.read_csv(alldiscovery_selected_features_file, header = None)\n",
    "#alldiscovery_selected_features = alldiscovery_selected_features.to_numpy()\n",
    "#print(alldiscovery_selected_features.shape)\n",
    "\n",
    "#allsubsample_rsFC_features = rsFC_features[:, allsubsample_selected_features[:,0] - 1]\n",
    "#print(alldiscovery_rsFC_features)\n",
    "#print(allsubsample_rsFC_features.shape)\n",
    "\n",
    "eCCA_fit_replication = ElasticCCA(c = (optim_c1, optim_c2), l1_ratio = optim_l1_ratio, latent_dims=dims).fit([clin_features_replication, rsFC_features_replication])\n",
    "print('params: ' + str(optim_c1) + ', ' + str(optim_c2) + ', ' + str(optim_l1_ratio))\n",
    "allsubsample_scores_replication_refitted = eCCA_fit_replication.score((clin_features_replication, rsFC_features_replication))\n",
    "print('All replication (refitted) CCA scores: ' + str(allsubsample_scores_replication_refitted))\n",
    "\n",
    "#calculate transformed canonical variate values\n",
    "U_replication_refitted,V_replication_refitted = eCCA_fit_replication.transform([clin_features_replication, rsFC_features_replication])\n",
    "\n"
   ]
  },
  {
   "cell_type": "code",
   "execution_count": 61,
   "id": "e7d134fe",
   "metadata": {},
   "outputs": [
    {
     "name": "stdout",
     "output_type": "stream",
     "text": [
      "(-0.3270340359359623, 0.4291292597412211)\n",
      "(-0.47979762759323974, 1.4924798810048743e-06)\n"
     ]
    }
   ],
   "source": [
    "#alldiscovery_loadings = eCCA_fit.get_loadings((clin_features, alldiscovery_rsFC_features))\n",
    "allsubsample_loadings_replication = eCCA_fit_replication.get_loadings((clin_features_replication, rsFC_features_replication), normalize=True)\n",
    "allsubsample_loadings_u_replication = allsubsample_loadings_replication[0]\n",
    "allsubsample_loadings_v_replication = allsubsample_loadings_replication[1]\n",
    "\n",
    "#correlate discovery and replication clinical loadings\n",
    "print(pearsonr(allsubsample_loadings_u[:,0], allsubsample_loadings_u_replication[:,0]))\n",
    "\n",
    "#correlate discovery and replication rsFC loadings\n",
    "print(pearsonr(allsubsample_loadings_v[:,0], allsubsample_loadings_v_replication[:,0]))\n"
   ]
  },
  {
   "cell_type": "code",
   "execution_count": 62,
   "id": "ad787f31",
   "metadata": {},
   "outputs": [
    {
     "name": "stdout",
     "output_type": "stream",
     "text": [
      "(8, 8)\n",
      "(91, 8)\n",
      "All subsample - clinical loadings CV1: \n",
      "[42.93993215 19.80742764 19.25366694 17.70371119 26.41263349 23.2412553\n",
      " 27.4474346  40.5266268 ]\n"
     ]
    }
   ],
   "source": [
    "# View clinical loadings\n",
    "#alldiscovery_loadings = eCCA_fit.get_loadings((clin_features, alldiscovery_rsFC_features))\n",
    "allsubsample_loadings_replication = eCCA_fit_replication.get_loadings((clin_features_replication, rsFC_features_replication), normalize=True)\n",
    "allsubsample_loadings_u_replication = allsubsample_loadings_replication[0]\n",
    "allsubsample_loadings_v_replication = allsubsample_loadings_replication[1]\n",
    "\n",
    "print(allsubsample_loadings_u_replication.shape)\n",
    "print(allsubsample_loadings_v_replication.shape)\n",
    "\n",
    "print('All subsample - clinical loadings CV1: \\n' + str(allsubsample_loadings_u_replication[:,0]))\n",
    "\n"
   ]
  },
  {
   "cell_type": "code",
   "execution_count": 63,
   "id": "2e387928",
   "metadata": {},
   "outputs": [
    {
     "name": "stdout",
     "output_type": "stream",
     "text": [
      "CV1\n",
      "[37 21 23  3 71 30 45 60 83 16 39  2 47 85 11 24 79 62 38 54]\n",
      "[ -8.45753934   8.54810523   8.6395108    8.67107987  -8.93030854\n",
      "  -9.11902448  -9.20248001   9.44513469   9.79749204  10.23721711\n",
      "  11.10116212  11.63204194 -13.04993577 -13.09691965  13.68166563\n",
      "  15.23824092  16.34756895  18.15448053  19.01283444  19.92733419]\n",
      "CV2\n",
      "[12  6 30 80 55 35 81 91 14 76 42 13 85 75 66  7  4 67 84 43]\n",
      "[  5.36664225   8.04582768  -9.11902448   5.49581311  -0.69438637\n",
      "  -6.59388372  -2.57532197  -1.11300247   2.72884979  -6.43647051\n",
      "   5.79649311  -5.19765741 -13.09691965   2.1544493    0.0614315\n",
      "  -7.32640297   0.33154328  -3.02178221  -2.02757044   3.2237319 ]\n",
      "CV3\n",
      "[81 17 38 22  3 33 73 79 13 60 87 80 25 85 35 16 82 59 29 71]\n",
      "[ -2.57532197  -4.89495522  19.01283444   5.91397994   8.67107987\n",
      "   4.63949533  -8.12739386  16.34756895  -5.19765741   9.44513469\n",
      "   4.46798626   5.49581311  -6.38002373 -13.09691965  -6.59388372\n",
      "  10.23721711  -2.63284596   2.73373196  -5.95285463  -8.93030854]\n"
     ]
    }
   ],
   "source": [
    "# View rs-FC loadings\n",
    "allsubsample_loadings_v_CV1_replication = np.argsort(abs(allsubsample_loadings_v_replication[:,0]))\n",
    "#print(alldiscovery_loadings_v_CV1.shape)\n",
    "print('CV1')\n",
    "print(allsubsample_loadings_v_CV1_replication[-20:] + 1)\n",
    "print(allsubsample_loadings_v_replication[allsubsample_loadings_v_CV1_replication[-20:],0])\n",
    "\n",
    "allsubsample_loadings_v_CV2_replication = np.argsort(abs(allsubsample_loadings_v_replication[:,1]))\n",
    "#print(alldiscovery_loadings_v_CV2.shape)\n",
    "print('CV2')\n",
    "print(allsubsample_loadings_v_CV2_replication[-20:] + 1)\n",
    "print(allsubsample_loadings_v_replication[allsubsample_loadings_v_CV2_replication[-20:],0])\n",
    "\n",
    "allsubsample_loadings_v_CV3_replication = np.argsort(abs(allsubsample_loadings_v_replication[:,2]))\n",
    "#print(alldiscovery_loadings_v_CV3.shape)\n",
    "print('CV3')\n",
    "print(allsubsample_loadings_v_CV3_replication[-20:] + 1)\n",
    "print(allsubsample_loadings_v_replication[allsubsample_loadings_v_CV3_replication[-20:],0])\n",
    "\n",
    "#allsubsample_loadings_v_CV4 = np.argsort(abs(allsubsample_loadings_v[:,3]))\n",
    "#print('CV4')\n",
    "#print(allsubsample_loadings_v_CV4[-20:] + 1)\n",
    "#print(allsubsample_loadings_v[allsubsample_loadings_v_CV4[-20:],3])\n",
    "\n",
    "#allsubsample_loadings_v_CV5 = np.argsort(abs(allsubsample_loadings_v[:,4]))\n",
    "#allsubsample_loadings_v_CV6 = np.argsort(abs(allsubsample_loadings_v[:,5]))\n",
    "#allsubsample_loadings_v_CV7 = np.argsort(abs(allsubsample_loadings_v[:,6]))\n",
    "#allsubsample_loadings_v_CV8 = np.argsort(abs(allsubsample_loadings_v[:,7]))"
   ]
  },
  {
   "cell_type": "code",
   "execution_count": 64,
   "id": "0f9e7d86",
   "metadata": {},
   "outputs": [],
   "source": [
    "# Save files\n",
    "#replication refitted model\n",
    "np.savetxt(userhome + r'/Desktop/OCS_bigdata_ML_local/FINAL/network-level/results/relaxedexclusion/replicationrefit_transformed_clin_U.csv', U, delimiter=',')\n",
    "np.savetxt(userhome + r'/Desktop/OCS_bigdata_ML_local/FINAL/network-level/results/relaxedexclusion/replicationrefit_transformed_rsFC_V.csv', V, delimiter=',')\n"
   ]
  },
  {
   "cell_type": "code",
   "execution_count": 65,
   "id": "a34e03e2",
   "metadata": {},
   "outputs": [],
   "source": [
    "# Save canonical variates for all subsets\n",
    "np.savetxt(userhome + r'/Desktop/OCS_bigdata_ML_local/FINAL/network-level/results/relaxedexclusion/replicationrefit_CV1_clin_u.csv', U_replication_refitted[:,0], delimiter=',')\n",
    "np.savetxt(userhome + r'/Desktop/OCS_bigdata_ML_local/FINAL/network-level/results/relaxedexclusion/replicationrefit_CV1_rsFC_v.csv', V_replication_refitted[:,0], delimiter=',')\n",
    "\n",
    "np.savetxt(userhome + r'/Desktop/OCS_bigdata_ML_local/FINAL/network-level/results/relaxedexclusion/replicationrefit_CV2_clin_u.csv', U_replication_refitted[:,1], delimiter=',')\n",
    "np.savetxt(userhome + r'/Desktop/OCS_bigdata_ML_local/FINAL/network-level/results/relaxedexclusion/replicationrefit_CV2_rsFC_v.csv', V_replication_refitted[:,1], delimiter=',')\n",
    "\n",
    "np.savetxt(userhome + r'/Desktop/OCS_bigdata_ML_local/FINAL/network-level/results/relaxedexclusion/replicationrefit_CV3_clin_u.csv', U_replication_refitted[:,2], delimiter=',')\n",
    "np.savetxt(userhome + r'/Desktop/OCS_bigdata_ML_local/FINAL/network-level/results/relaxedexclusion/replicationrefit_CV3_rsFC_v.csv', V_replication_refitted[:,2], delimiter=',')\n"
   ]
  },
  {
   "cell_type": "code",
   "execution_count": 66,
   "id": "35497423",
   "metadata": {},
   "outputs": [],
   "source": [
    "# Save clinical loadings for replication refitted model\n",
    "np.savetxt(userhome + r'/Desktop/OCS_bigdata_ML_local/FINAL/network-level/results/relaxedexclusion/allreplication_clinloadings_u_CV1norm.csv', allsubsample_loadings_u_replication[:,0], delimiter=',')\n",
    "np.savetxt(userhome + r'/Desktop/OCS_bigdata_ML_local/FINAL/network-level/results/relaxedexclusion/allreplication_clinloadings_u_CV2norm.csv', allsubsample_loadings_u_replication[:,1], delimiter=',')\n",
    "np.savetxt(userhome + r'/Desktop/OCS_bigdata_ML_local/FINAL/network-level/results/relaxedexclusion/allreplication_clinloadings_u_CV3norm.csv', allsubsample_loadings_u_replication[:,2], delimiter=',')\n"
   ]
  },
  {
   "cell_type": "code",
   "execution_count": null,
   "id": "f07bb13a",
   "metadata": {},
   "outputs": [],
   "source": []
  }
 ],
 "metadata": {
  "kernelspec": {
   "display_name": "Python 3 (ipykernel)",
   "language": "python",
   "name": "python3"
  },
  "language_info": {
   "codemirror_mode": {
    "name": "ipython",
    "version": 3
   },
   "file_extension": ".py",
   "mimetype": "text/x-python",
   "name": "python",
   "nbconvert_exporter": "python",
   "pygments_lexer": "ipython3",
   "version": "3.9.7"
  }
 },
 "nbformat": 4,
 "nbformat_minor": 5
}
