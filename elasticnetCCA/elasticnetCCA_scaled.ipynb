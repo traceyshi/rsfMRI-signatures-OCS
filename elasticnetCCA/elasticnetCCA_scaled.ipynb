{
 "cells": [
  {
   "cell_type": "code",
   "execution_count": null,
   "id": "70c79ae2",
   "metadata": {},
   "outputs": [],
   "source": [
    "#setup - one-time tasks (run from terminal, not jupyter)\n",
    "pip install cca-zoo"
   ]
  },
  {
   "cell_type": "code",
   "execution_count": 1,
   "id": "cbcbcc46",
   "metadata": {},
   "outputs": [],
   "source": [
    "#import libraries\n",
    "import pandas as pd\n",
    "import numpy as np\n",
    "import scipy\n",
    "import os\n",
    "\n",
    "userhome = os.path.expanduser('~')"
   ]
  },
  {
   "cell_type": "code",
   "execution_count": 2,
   "id": "612c7843",
   "metadata": {},
   "outputs": [
    {
     "name": "stdout",
     "output_type": "stream",
     "text": [
      "<class 'numpy.ndarray'>\n",
      "(2846, 8)\n"
     ]
    }
   ],
   "source": [
    "# load residualized and scaled clinical features (from R script)\n",
    "#discovery\n",
    "clin_file = userhome + r'/Desktop/OCS_bigdata_ML_local/FINAL/discovery/data/clin_features_scaled.csv'\n",
    "#replication\n",
    "#clin_file = userhome + r'/Desktop/OCS_bigdata_ML_local/data/replication/clin_features_scaled.csv'\n",
    "\n",
    "clin_features = pd.read_csv(clin_file)\n",
    "clin_features = clin_features.to_numpy()\n",
    "print(type(clin_features))\n",
    "print(clin_features.shape)"
   ]
  },
  {
   "cell_type": "code",
   "execution_count": 3,
   "id": "dece4f06",
   "metadata": {},
   "outputs": [
    {
     "name": "stdout",
     "output_type": "stream",
     "text": [
      "<class 'numpy.ndarray'>\n",
      "(2846, 61776)\n"
     ]
    }
   ],
   "source": [
    "# load residualized and scaled imaging features (from R script)\n",
    "#discovery\n",
    "rsFC_file = userhome + r'/Desktop/OCS_bigdata_ML_local/FINAL/discovery/data/rsFC_features_scaled.csv'\n",
    "#replication\n",
    "#rsFC_file = userhome + r'/Desktop/OCS_bigdata_ML_local/data/replication/rsFC_features_scaled.csv'\n",
    "\n",
    "rsFC_feat_chunks = pd.read_csv(rsFC_file, chunksize=1000)\n",
    "rsFC_features = pd.concat(rsFC_feat_chunks)\n",
    "#rsFC_features.sample(10)\n",
    "rsFC_features = rsFC_features.to_numpy()\n",
    "print(type(rsFC_features))\n",
    "print(rsFC_features.shape)"
   ]
  },
  {
   "cell_type": "code",
   "execution_count": 4,
   "id": "fb96da11",
   "metadata": {},
   "outputs": [
    {
     "name": "stdout",
     "output_type": "stream",
     "text": [
      "<class 'numpy.ndarray'>\n",
      "(1, 7095)\n"
     ]
    }
   ],
   "source": [
    "# load selected rsFC features\n",
    "#discovery\n",
    "stable_features_file = userhome + r'/Desktop/OCS_bigdata_ML_local/FINAL/discovery/results/discovery_stable_feats_95_Pearson05.csv'\n",
    "#replication\n",
    "#stable_features_file = userhome + r'/Desktop/OCS_bigdata_ML_local/data/replication/replication_stable_feats_95_Pearson05.csv'\n",
    "\n",
    "stable_features = pd.read_csv(stable_features_file, header=None)\n",
    "stable_features = stable_features.to_numpy()\n",
    "stable_features = np.transpose(stable_features)\n",
    "print(type(stable_features))\n",
    "print(stable_features.shape)\n",
    "\n",
    "# if using different features for each CV fold\n",
    "#CVfold_features_file = userhome + r'/Desktop/OCS_bigdata_ML_local/data/crossValidFeatsPearsonNum.csv'\n",
    "#CVfold_features = pd.read_csv(CVfold_features_file, header=None)\n",
    "#CVfold_features = CVfold_features.to_numpy()\n",
    "#print(type(CVfold_features))\n",
    "#print(CVfold_features)\n",
    "#print(CVfold_features.shape)"
   ]
  },
  {
   "cell_type": "code",
   "execution_count": 7,
   "id": "7859314f",
   "metadata": {},
   "outputs": [
    {
     "name": "stdout",
     "output_type": "stream",
     "text": [
      "[[None None None None None None None None None None None None None None\n",
      "  None None None None None None None None None None None None None]\n",
      " [None None None None None None None None None None None None None None\n",
      "  None None None None None None None None None None None None None]\n",
      " [None None None None None None None None None None None None None None\n",
      "  None None None None None None None None None None None None None]\n",
      " [None None None None None None None None None None None None None None\n",
      "  None None None None None None None None None None None None None]\n",
      " [None None None None None None None None None None None None None None\n",
      "  None None None None None None None None None None None None None]\n",
      " [None None None None None None None None None None None None None None\n",
      "  None None None None None None None None None None None None None]\n",
      " [None None None None None None None None None None None None None None\n",
      "  None None None None None None None None None None None None None]\n",
      " [None None None None None None None None None None None None None None\n",
      "  None None None None None None None None None None None None None]\n",
      " [None None None None None None None None None None None None None None\n",
      "  None None None None None None None None None None None None None]\n",
      " [None None None None None None None None None None None None None None\n",
      "  None None None None None None None None None None None None None]]\n"
     ]
    }
   ],
   "source": [
    "# initialize arrays to store optimal hyperparams and scores from each CV loop\n",
    "eCCA_eachfold_c1 = np.empty((10,27), dtype=object) \n",
    "eCCA_eachfold_c2 = np.empty((10,27), dtype=object) \n",
    "eCCA_eachfold_l1_ratio = np.empty((10,27), dtype=object)\n",
    "eCCA_eachfold_score_TRAIN = np.empty((10,27), dtype=object) \n",
    "eCCA_eachfold_score_TEST = np.empty((10,27), dtype=object) \n",
    "\n",
    "print(eCCA_eachfold_c1)"
   ]
  },
  {
   "cell_type": "code",
   "execution_count": 20,
   "id": "4d1dc812",
   "metadata": {},
   "outputs": [
    {
     "name": "stdout",
     "output_type": "stream",
     "text": [
      "/Users/marshlab2/Desktop/OCS_bigdata_ML_local/data/replication/partitions2_rep01fold10.csv\n",
      "<class 'numpy.ndarray'>\n",
      "(2634, 1)\n",
      "(2634, 8)\n",
      "(2634, 7853)\n",
      "(292, 8)\n",
      "(292, 7853)\n"
     ]
    },
    {
     "name": "stderr",
     "output_type": "stream",
     "text": [
      "/opt/anaconda3/lib/python3.9/site-packages/cca_zoo/models/iterative.py:106: UserWarning: Inner loop 0 not converged. Increase number of iterations.\n",
      "  warnings.warn(\n"
     ]
    },
    {
     "name": "stdout",
     "output_type": "stream",
     "text": [
      "params: 0.001, 0.01, 0.25\n",
      "CCA score (train): 0.9818665531670472\n",
      "CCA score (test): 0.24524451036301165\n"
     ]
    },
    {
     "name": "stderr",
     "output_type": "stream",
     "text": [
      "/opt/anaconda3/lib/python3.9/site-packages/cca_zoo/models/iterative.py:106: UserWarning: Inner loop 0 not converged. Increase number of iterations.\n",
      "  warnings.warn(\n"
     ]
    },
    {
     "name": "stdout",
     "output_type": "stream",
     "text": [
      "params: 0.001, 0.01, 0.5\n",
      "CCA score (train): 0.9558678155816083\n",
      "CCA score (test): 0.27172839048152775\n"
     ]
    },
    {
     "name": "stderr",
     "output_type": "stream",
     "text": [
      "/opt/anaconda3/lib/python3.9/site-packages/cca_zoo/models/iterative.py:106: UserWarning: Inner loop 0 not converged. Increase number of iterations.\n",
      "  warnings.warn(\n"
     ]
    },
    {
     "name": "stdout",
     "output_type": "stream",
     "text": [
      "params: 0.001, 0.01, 0.75\n",
      "CCA score (train): 0.9292773234373344\n",
      "CCA score (test): 0.29478251795411436\n"
     ]
    },
    {
     "name": "stderr",
     "output_type": "stream",
     "text": [
      "/opt/anaconda3/lib/python3.9/site-packages/cca_zoo/models/iterative.py:106: UserWarning: Inner loop 0 not converged. Increase number of iterations.\n",
      "  warnings.warn(\n"
     ]
    },
    {
     "name": "stdout",
     "output_type": "stream",
     "text": [
      "params: 0.001, 0.1, 0.25\n",
      "CCA score (train): 0.7753955071439962\n",
      "CCA score (test): 0.26964243666928955\n"
     ]
    },
    {
     "name": "stderr",
     "output_type": "stream",
     "text": [
      "/opt/anaconda3/lib/python3.9/site-packages/cca_zoo/models/iterative.py:106: UserWarning: Inner loop 0 not converged. Increase number of iterations.\n",
      "  warnings.warn(\n"
     ]
    },
    {
     "name": "stdout",
     "output_type": "stream",
     "text": [
      "params: 0.001, 0.1, 0.5\n",
      "CCA score (train): 0.6340885155719884\n",
      "CCA score (test): 0.1271415691419011\n"
     ]
    },
    {
     "name": "stderr",
     "output_type": "stream",
     "text": [
      "/opt/anaconda3/lib/python3.9/site-packages/cca_zoo/models/iterative.py:106: UserWarning: Inner loop 0 not converged. Increase number of iterations.\n",
      "  warnings.warn(\n"
     ]
    },
    {
     "name": "stdout",
     "output_type": "stream",
     "text": [
      "params: 0.001, 0.1, 0.75\n",
      "CCA score (train): 0.5027421679509019\n",
      "CCA score (test): 0.06879497796313272\n"
     ]
    },
    {
     "name": "stderr",
     "output_type": "stream",
     "text": [
      "/opt/anaconda3/lib/python3.9/site-packages/cca_zoo/models/iterative.py:106: UserWarning: Inner loop 0 not converged. Increase number of iterations.\n",
      "  warnings.warn(\n"
     ]
    },
    {
     "name": "stdout",
     "output_type": "stream",
     "text": [
      "params: 0.001, 0.3, 0.25\n",
      "CCA score (train): 0.5129145502769972\n",
      "CCA score (test): 0.08521070410940101\n"
     ]
    },
    {
     "name": "stderr",
     "output_type": "stream",
     "text": [
      "/opt/anaconda3/lib/python3.9/site-packages/cca_zoo/models/iterative.py:106: UserWarning: Inner loop 0 not converged. Increase number of iterations.\n",
      "  warnings.warn(\n"
     ]
    },
    {
     "name": "stdout",
     "output_type": "stream",
     "text": [
      "params: 0.001, 0.3, 0.5\n",
      "CCA score (train): 0.18115645877155906\n",
      "CCA score (test): 0.0891738504910875\n"
     ]
    },
    {
     "name": "stderr",
     "output_type": "stream",
     "text": [
      "/opt/anaconda3/lib/python3.9/site-packages/cca_zoo/models/iterative.py:122: RuntimeWarning: invalid value encountered in true_divide\n",
      "  - np.outer(score, score) @ residual / np.dot(score, score).item()\n",
      "/opt/anaconda3/lib/python3.9/site-packages/cca_zoo/models/iterative.py:106: UserWarning: Inner loop 0 not converged. Increase number of iterations.\n",
      "  warnings.warn(\n"
     ]
    },
    {
     "name": "stdout",
     "output_type": "stream",
     "text": [
      "params: 0.001, 0.3, 0.75\n"
     ]
    },
    {
     "name": "stderr",
     "output_type": "stream",
     "text": [
      "/opt/anaconda3/lib/python3.9/site-packages/numpy/lib/function_base.py:2642: RuntimeWarning: invalid value encountered in true_divide\n",
      "  c /= stddev[:, None]\n",
      "/opt/anaconda3/lib/python3.9/site-packages/numpy/lib/function_base.py:2643: RuntimeWarning: invalid value encountered in true_divide\n",
      "  c /= stddev[None, :]\n",
      "/opt/anaconda3/lib/python3.9/site-packages/numpy/lib/function_base.py:2642: RuntimeWarning: invalid value encountered in true_divide\n",
      "  c /= stddev[:, None]\n",
      "/opt/anaconda3/lib/python3.9/site-packages/numpy/lib/function_base.py:2643: RuntimeWarning: invalid value encountered in true_divide\n",
      "  c /= stddev[None, :]\n"
     ]
    },
    {
     "name": "stdout",
     "output_type": "stream",
     "text": [
      "CCA score (train): nan\n",
      "CCA score (test): nan\n"
     ]
    },
    {
     "name": "stderr",
     "output_type": "stream",
     "text": [
      "/opt/anaconda3/lib/python3.9/site-packages/cca_zoo/models/iterative.py:106: UserWarning: Inner loop 0 not converged. Increase number of iterations.\n",
      "  warnings.warn(\n"
     ]
    },
    {
     "name": "stdout",
     "output_type": "stream",
     "text": [
      "params: 0.01, 0.01, 0.25\n",
      "CCA score (train): 0.9817680052069209\n",
      "CCA score (test): 0.2481673366396413\n"
     ]
    },
    {
     "name": "stderr",
     "output_type": "stream",
     "text": [
      "/opt/anaconda3/lib/python3.9/site-packages/cca_zoo/models/iterative.py:106: UserWarning: Inner loop 0 not converged. Increase number of iterations.\n",
      "  warnings.warn(\n"
     ]
    },
    {
     "name": "stdout",
     "output_type": "stream",
     "text": [
      "params: 0.01, 0.01, 0.5\n",
      "CCA score (train): 0.9557749700783513\n",
      "CCA score (test): 0.2723258682663743\n"
     ]
    },
    {
     "name": "stderr",
     "output_type": "stream",
     "text": [
      "/opt/anaconda3/lib/python3.9/site-packages/cca_zoo/models/iterative.py:106: UserWarning: Inner loop 0 not converged. Increase number of iterations.\n",
      "  warnings.warn(\n"
     ]
    },
    {
     "name": "stdout",
     "output_type": "stream",
     "text": [
      "params: 0.01, 0.01, 0.75\n",
      "CCA score (train): 0.9290365857536185\n",
      "CCA score (test): 0.29382722445488874\n"
     ]
    },
    {
     "name": "stderr",
     "output_type": "stream",
     "text": [
      "/opt/anaconda3/lib/python3.9/site-packages/cca_zoo/models/iterative.py:106: UserWarning: Inner loop 0 not converged. Increase number of iterations.\n",
      "  warnings.warn(\n"
     ]
    },
    {
     "name": "stdout",
     "output_type": "stream",
     "text": [
      "params: 0.01, 0.1, 0.25\n",
      "CCA score (train): 0.7748780868312104\n",
      "CCA score (test): 0.26998577955477865\n"
     ]
    },
    {
     "name": "stderr",
     "output_type": "stream",
     "text": [
      "/opt/anaconda3/lib/python3.9/site-packages/cca_zoo/models/iterative.py:106: UserWarning: Inner loop 0 not converged. Increase number of iterations.\n",
      "  warnings.warn(\n"
     ]
    },
    {
     "name": "stdout",
     "output_type": "stream",
     "text": [
      "params: 0.01, 0.1, 0.5\n",
      "CCA score (train): 0.6322929483462785\n",
      "CCA score (test): 0.12655749990456178\n"
     ]
    },
    {
     "name": "stderr",
     "output_type": "stream",
     "text": [
      "/opt/anaconda3/lib/python3.9/site-packages/cca_zoo/models/iterative.py:106: UserWarning: Inner loop 0 not converged. Increase number of iterations.\n",
      "  warnings.warn(\n"
     ]
    },
    {
     "name": "stdout",
     "output_type": "stream",
     "text": [
      "params: 0.01, 0.1, 0.75\n",
      "CCA score (train): 0.5018448847290089\n",
      "CCA score (test): 0.06178845808820421\n"
     ]
    },
    {
     "name": "stderr",
     "output_type": "stream",
     "text": [
      "/opt/anaconda3/lib/python3.9/site-packages/cca_zoo/models/iterative.py:106: UserWarning: Inner loop 0 not converged. Increase number of iterations.\n",
      "  warnings.warn(\n"
     ]
    },
    {
     "name": "stdout",
     "output_type": "stream",
     "text": [
      "params: 0.01, 0.3, 0.25\n",
      "CCA score (train): 0.5129898263243906\n",
      "CCA score (test): 0.08354837132307269\n"
     ]
    },
    {
     "name": "stderr",
     "output_type": "stream",
     "text": [
      "/opt/anaconda3/lib/python3.9/site-packages/cca_zoo/models/iterative.py:106: UserWarning: Inner loop 0 not converged. Increase number of iterations.\n",
      "  warnings.warn(\n"
     ]
    },
    {
     "name": "stdout",
     "output_type": "stream",
     "text": [
      "params: 0.01, 0.3, 0.5\n",
      "CCA score (train): 0.17346458943454257\n",
      "CCA score (test): 0.07945891948756612\n"
     ]
    },
    {
     "name": "stderr",
     "output_type": "stream",
     "text": [
      "/opt/anaconda3/lib/python3.9/site-packages/cca_zoo/models/iterative.py:122: RuntimeWarning: invalid value encountered in true_divide\n",
      "  - np.outer(score, score) @ residual / np.dot(score, score).item()\n",
      "/opt/anaconda3/lib/python3.9/site-packages/cca_zoo/models/iterative.py:106: UserWarning: Inner loop 0 not converged. Increase number of iterations.\n",
      "  warnings.warn(\n"
     ]
    },
    {
     "name": "stdout",
     "output_type": "stream",
     "text": [
      "params: 0.01, 0.3, 0.75\n"
     ]
    },
    {
     "name": "stderr",
     "output_type": "stream",
     "text": [
      "/opt/anaconda3/lib/python3.9/site-packages/numpy/lib/function_base.py:2642: RuntimeWarning: invalid value encountered in true_divide\n",
      "  c /= stddev[:, None]\n",
      "/opt/anaconda3/lib/python3.9/site-packages/numpy/lib/function_base.py:2643: RuntimeWarning: invalid value encountered in true_divide\n",
      "  c /= stddev[None, :]\n",
      "/opt/anaconda3/lib/python3.9/site-packages/numpy/lib/function_base.py:2642: RuntimeWarning: invalid value encountered in true_divide\n",
      "  c /= stddev[:, None]\n",
      "/opt/anaconda3/lib/python3.9/site-packages/numpy/lib/function_base.py:2643: RuntimeWarning: invalid value encountered in true_divide\n",
      "  c /= stddev[None, :]\n"
     ]
    },
    {
     "name": "stdout",
     "output_type": "stream",
     "text": [
      "CCA score (train): nan\n",
      "CCA score (test): nan\n"
     ]
    },
    {
     "name": "stderr",
     "output_type": "stream",
     "text": [
      "/opt/anaconda3/lib/python3.9/site-packages/cca_zoo/models/iterative.py:106: UserWarning: Inner loop 0 not converged. Increase number of iterations.\n",
      "  warnings.warn(\n"
     ]
    },
    {
     "name": "stdout",
     "output_type": "stream",
     "text": [
      "params: 0.1, 0.01, 0.25\n",
      "CCA score (train): 0.981156214281647\n",
      "CCA score (test): 0.2625293484627913\n"
     ]
    },
    {
     "name": "stderr",
     "output_type": "stream",
     "text": [
      "/opt/anaconda3/lib/python3.9/site-packages/cca_zoo/models/iterative.py:106: UserWarning: Inner loop 0 not converged. Increase number of iterations.\n",
      "  warnings.warn(\n"
     ]
    },
    {
     "name": "stdout",
     "output_type": "stream",
     "text": [
      "params: 0.1, 0.01, 0.5\n",
      "CCA score (train): 0.9550791922406772\n",
      "CCA score (test): 0.27170643105267134\n"
     ]
    },
    {
     "name": "stderr",
     "output_type": "stream",
     "text": [
      "/opt/anaconda3/lib/python3.9/site-packages/cca_zoo/models/iterative.py:106: UserWarning: Inner loop 0 not converged. Increase number of iterations.\n",
      "  warnings.warn(\n"
     ]
    },
    {
     "name": "stdout",
     "output_type": "stream",
     "text": [
      "params: 0.1, 0.01, 0.75\n",
      "CCA score (train): 0.9238173882511678\n",
      "CCA score (test): 0.2894052155173652\n"
     ]
    },
    {
     "name": "stderr",
     "output_type": "stream",
     "text": [
      "/opt/anaconda3/lib/python3.9/site-packages/cca_zoo/models/iterative.py:106: UserWarning: Inner loop 0 not converged. Increase number of iterations.\n",
      "  warnings.warn(\n"
     ]
    },
    {
     "name": "stdout",
     "output_type": "stream",
     "text": [
      "params: 0.1, 0.1, 0.25\n",
      "CCA score (train): 0.7700640505676766\n",
      "CCA score (test): 0.2668365650220246\n"
     ]
    },
    {
     "name": "stderr",
     "output_type": "stream",
     "text": [
      "/opt/anaconda3/lib/python3.9/site-packages/cca_zoo/models/iterative.py:106: UserWarning: Inner loop 0 not converged. Increase number of iterations.\n",
      "  warnings.warn(\n"
     ]
    },
    {
     "name": "stdout",
     "output_type": "stream",
     "text": [
      "params: 0.1, 0.1, 0.5\n",
      "CCA score (train): 0.6164008557963172\n",
      "CCA score (test): 0.12770647411941094\n"
     ]
    },
    {
     "name": "stderr",
     "output_type": "stream",
     "text": [
      "/opt/anaconda3/lib/python3.9/site-packages/cca_zoo/models/iterative.py:106: UserWarning: Inner loop 0 not converged. Increase number of iterations.\n",
      "  warnings.warn(\n"
     ]
    },
    {
     "name": "stdout",
     "output_type": "stream",
     "text": [
      "params: 0.1, 0.1, 0.75\n",
      "CCA score (train): 0.4809772475610634\n",
      "CCA score (test): 0.07453911948425684\n"
     ]
    },
    {
     "name": "stderr",
     "output_type": "stream",
     "text": [
      "/opt/anaconda3/lib/python3.9/site-packages/cca_zoo/models/iterative.py:106: UserWarning: Inner loop 0 not converged. Increase number of iterations.\n",
      "  warnings.warn(\n"
     ]
    },
    {
     "name": "stdout",
     "output_type": "stream",
     "text": [
      "params: 0.1, 0.3, 0.25\n",
      "CCA score (train): 0.5038428435953324\n",
      "CCA score (test): 0.08975066761465489\n"
     ]
    },
    {
     "name": "stderr",
     "output_type": "stream",
     "text": [
      "/opt/anaconda3/lib/python3.9/site-packages/cca_zoo/models/iterative.py:106: UserWarning: Inner loop 0 not converged. Increase number of iterations.\n",
      "  warnings.warn(\n"
     ]
    },
    {
     "name": "stdout",
     "output_type": "stream",
     "text": [
      "params: 0.1, 0.3, 0.5\n",
      "CCA score (train): 0.12197268506653458\n",
      "CCA score (test): -0.01439294291276183\n"
     ]
    },
    {
     "name": "stderr",
     "output_type": "stream",
     "text": [
      "/opt/anaconda3/lib/python3.9/site-packages/cca_zoo/models/iterative.py:122: RuntimeWarning: invalid value encountered in true_divide\n",
      "  - np.outer(score, score) @ residual / np.dot(score, score).item()\n"
     ]
    },
    {
     "name": "stdout",
     "output_type": "stream",
     "text": [
      "params: 0.1, 0.3, 0.75\n",
      "CCA score (train): nan\n",
      "CCA score (test): nan\n"
     ]
    },
    {
     "name": "stderr",
     "output_type": "stream",
     "text": [
      "/opt/anaconda3/lib/python3.9/site-packages/numpy/lib/function_base.py:2642: RuntimeWarning: invalid value encountered in true_divide\n",
      "  c /= stddev[:, None]\n",
      "/opt/anaconda3/lib/python3.9/site-packages/numpy/lib/function_base.py:2643: RuntimeWarning: invalid value encountered in true_divide\n",
      "  c /= stddev[None, :]\n",
      "/opt/anaconda3/lib/python3.9/site-packages/numpy/lib/function_base.py:2642: RuntimeWarning: invalid value encountered in true_divide\n",
      "  c /= stddev[:, None]\n",
      "/opt/anaconda3/lib/python3.9/site-packages/numpy/lib/function_base.py:2643: RuntimeWarning: invalid value encountered in true_divide\n",
      "  c /= stddev[None, :]\n"
     ]
    }
   ],
   "source": [
    "#hyperparam optimization\n",
    "from cca_zoo.models import ElasticCCA\n",
    "\n",
    "eCCA_model = ElasticCCA(max_iter=100000)\n",
    "eCCA_param_grid = {\"c\" : [[1e-3,1e-2,1e-1], [1e-2,1e-1,3e-1]], \"l1_ratio\" : [0.25,0.5,0.75]}\n",
    "# c is lasso alpha for each view\n",
    "# l1_ratio is l1 ratio in lasso subproblems\n",
    "\n",
    "for foldind in range(0,10):\n",
    "    #foldind = 0 #remember python starts indexing at 0, while R and Matlab start at 1\n",
    "\n",
    "    # load 10-fold cross validation (CV) splits\n",
    "    #discovery\n",
    "    #thisfold_file = userhome + r'/Desktop/OCS_bigdata_ML_local/data/partitions2_rep01fold0' + str(foldind + 1) + r'.csv'\n",
    "    #replication\n",
    "    thisfold_file = userhome + r'/Desktop/OCS_bigdata_ML_local/data/replication/partitions2_rep01fold0' + str(foldind + 1) + r'.csv'\n",
    "    print(thisfold_file)\n",
    "    thisfold_file = pd.read_csv(thisfold_file)\n",
    "    thisfold_file = thisfold_file.to_numpy()\n",
    "    print(type(thisfold_file))\n",
    "    print(thisfold_file.shape)\n",
    "\n",
    "    # for each CV fold, extract only the selected participants and features\n",
    "    # NB: put this in loop later once troubleshooting complete\n",
    "    # NB: row and col indices were generated in R/Matlab, which index from 1. python indexes from 0\n",
    "    thisfold_clin_features = clin_features[(thisfold_file - 1), :]\n",
    "    #print(thisfold_clin_features.shape)\n",
    "    thisfold_clin_features = np.squeeze(thisfold_clin_features)\n",
    "    print(thisfold_clin_features.shape)\n",
    "    #print(thisfold_clin_features)\n",
    "\n",
    "    thisfold_rsFC_features = rsFC_features[(thisfold_file - 1), stable_features.astype(int)-1]\n",
    "    print(thisfold_rsFC_features.shape)\n",
    "\n",
    "    #thisfoldfeats = CVfold_features[foldind, :][~np.isnan(CVfold_features[foldind, :])]\n",
    "    #thisfold_rsFC_features = rsFC_features[(thisfold_file - 1), thisfoldfeats.astype(int)-1]\n",
    "    #print(thisfold_rsFC_features.shape)\n",
    "    #print(thisfold_rsFC_features)\n",
    "\n",
    "\n",
    "    #test set for this CV fold\n",
    "    thisfold_clin_features_TEST = np.delete(clin_features,thisfold_file-1, axis=0)\n",
    "    print(thisfold_clin_features_TEST.shape)\n",
    "    thisfold_rsFC_features_TEST = np.delete(rsFC_features,thisfold_file-1, axis=0)\n",
    "    thisfold_rsFC_features_TEST = thisfold_rsFC_features_TEST[:, stable_features.astype(int) - 1]\n",
    "    thisfold_rsFC_features_TEST = np.squeeze(thisfold_rsFC_features_TEST)\n",
    "    #thisfold_rsFC_features_TEST = thisfold_rsFC_features_TEST[:, thisfoldfeats.astype(int) - 1]\n",
    "    print(thisfold_rsFC_features_TEST.shape)\n",
    "    \n",
    "    paramind = 0\n",
    "    for thisc1 in eCCA_param_grid[\"c\"][0]:\n",
    "        for thisc2 in eCCA_param_grid[\"c\"][1]:\n",
    "            for thisl1_ratio in eCCA_param_grid[\"l1_ratio\"]:\n",
    "                eCCA_fit = ElasticCCA(c = (thisc1, thisc2), l1_ratio = thisl1_ratio, latent_dims=1).fit([thisfold_clin_features, thisfold_rsFC_features])\n",
    "                eCCA_eachfold_c1[foldind,paramind] = thisc1\n",
    "                eCCA_eachfold_c2[foldind,paramind] = thisc2\n",
    "                eCCA_eachfold_l1_ratio[foldind,paramind] = thisl1_ratio\n",
    "                print('params: ' + str(thisc1) + ', ' + str(thisc2) + ', ' + str(thisl1_ratio))\n",
    "                eCCA_eachfold_score_TRAIN[foldind,paramind] = eCCA_fit.score((thisfold_clin_features, thisfold_rsFC_features))[0]\n",
    "                print('CCA score (train): ' + str(eCCA_eachfold_score_TRAIN[foldind,paramind]))\n",
    "                eCCA_eachfold_score_TEST[foldind,paramind] = eCCA_fit.score((thisfold_clin_features_TEST, thisfold_rsFC_features_TEST))[0]\n",
    "                print('CCA score (test): ' + str(eCCA_eachfold_score_TEST[foldind,paramind]))\n",
    "\n",
    "                paramind = paramind + 1"
   ]
  },
  {
   "cell_type": "code",
   "execution_count": 21,
   "id": "df39678c",
   "metadata": {},
   "outputs": [
    {
     "data": {
      "text/plain": [
       "array([[0.30222446088483745, 0.32420034684307675, 0.33429326504795753,\n",
       "        0.2875740026810609, 0.15480230636800374, 0.10791159923769089,\n",
       "        0.11292152097447494, 0.01742833588393289, nan,\n",
       "        0.3013560609582586, 0.32342823189159375, 0.3240042418352318,\n",
       "        0.2870933835012517, 0.15130460464974593, 0.08876832646959554,\n",
       "        0.10862727415279005, 0.03470273023402126, nan,\n",
       "        0.2823496515268751, 0.27662005111159926, 0.25379533174224456,\n",
       "        0.2830147760703039, 0.17786646561276576, 0.0984419094949418,\n",
       "        0.09610001901114629, 0.03136961707369146, nan],\n",
       "       [0.21963502497958798, 0.2734917927859495, 0.312199542353387,\n",
       "        0.2402829741264676, 0.14088763240907687, 0.12147914819185579,\n",
       "        0.11262054901760199, 0.017811970674206368, nan,\n",
       "        0.2241768573621683, 0.27586954023676635, 0.3140603840120937,\n",
       "        0.24018517992204025, 0.15800529295420906, 0.10976897588709944,\n",
       "        0.1130936328584089, 0.023489152454849282, nan, 0.258815138954827,\n",
       "        0.2958656926275145, 0.3206325777189354, 0.23933088551699466,\n",
       "        0.167257544825425, 0.0796675801569362, 0.09926427425243922,\n",
       "        0.01256213315061916, nan],\n",
       "       [0.24347708624335196, 0.2761383232333987, 0.29103441156139986,\n",
       "        0.23761594633009064, 0.10007050024083686, 0.017660821377253777,\n",
       "        0.041567569900929247, 0.037399475050430064, nan,\n",
       "        0.24325073895413674, 0.2755732400013473, 0.28830566627352505,\n",
       "        0.23864295033765903, 0.10323597937421836, 0.027721616161716645,\n",
       "        0.041419048047653284, 0.03450598364282209, nan,\n",
       "        0.23096040503616289, 0.2535243047686171, 0.3223072112943157,\n",
       "        0.24828494244143018, 0.1483263600700755, 0.1150067415052971,\n",
       "        0.042680025608091476, 0.01315808786655559, nan],\n",
       "       [0.3233984566715631, 0.35953383930518235, 0.36096708006922196,\n",
       "        0.2825707685284735, 0.209861998201337, 0.1673739070363276,\n",
       "        0.20024640639154412, 0.0671917307580987, nan, 0.3215927919501951,\n",
       "        0.357233658282506, 0.35245730142039244, 0.28395786953927393,\n",
       "        0.20894689448574644, 0.17892127472380803, 0.20403282029169012,\n",
       "        0.0700728590546682, nan, 0.2974507642701787, 0.2905002902992282,\n",
       "        0.2672573172022623, 0.26713252738797366, 0.21741152705926536,\n",
       "        0.2001122304073677, 0.2001133083424691, 0.09610891239617025, nan],\n",
       "       [0.1518599512089236, 0.20262133328391663, 0.23461235296412064,\n",
       "        0.2660102959113819, 0.14417367230285238, 0.06713522547574602,\n",
       "        0.07450556343531667, -0.010209160264038508, nan,\n",
       "        0.1501927678342645, 0.2008400949181297, 0.2349065029916233,\n",
       "        0.26665287941970073, 0.14776804806594068, 0.06328113912836564,\n",
       "        0.07499593328059984, 0.006524129114681365, nan,\n",
       "        0.1432323160005673, 0.22454247271751626, 0.25020113960996193,\n",
       "        0.27327269775574403, 0.15338146619781678, 0.03789630876361305,\n",
       "        0.07601545755640071, -0.0008069884090045054, nan],\n",
       "       [0.0014919660727188422, 0.06765751228521677, 0.09839891240512033,\n",
       "        0.13967115314102907, 0.11054811206974424, 0.05482772145527237,\n",
       "        0.08767299928281735, 0.06347873916036662, nan,\n",
       "        0.0005219074779467814, 0.06767532394596598, 0.09791190890438806,\n",
       "        0.14082989597990236, 0.11793422150641564, 0.06601544062514297,\n",
       "        0.08543132019355038, 0.06513012479943825, nan,\n",
       "        -0.0016612230140372608, 0.09408581634141178, 0.17153888085586733,\n",
       "        0.1525251249085029, 0.15775850548461356, 0.11908895722936497,\n",
       "        0.06404248301168436, 0.0488881558486538, nan],\n",
       "       [0.12799510096293276, 0.17424686902580455, 0.1801346989187722,\n",
       "        0.126906048190232, 0.04886114931476748, 0.020925188357160396,\n",
       "        0.03418353371028626, 0.032218524866849396, nan,\n",
       "        0.12895070198874037, 0.17110103325750825, 0.17514039157590355,\n",
       "        0.12701239603333336, 0.05030561763120445, 0.030781403329667167,\n",
       "        0.03561682443770664, 0.032046795813590156, nan,\n",
       "        0.13649248181288898, 0.1605568186572106, 0.20176347121254157,\n",
       "        0.12595944639916867, 0.07733434581642973, 0.001138982892017193,\n",
       "        0.021542110958977068, 0.06285059084668054, nan],\n",
       "       [0.23091008512266464, 0.26923741413866265, 0.2840243575952375,\n",
       "        0.3015285838753914, 0.20236334757435026, 0.11427843437111607,\n",
       "        0.10450784462808516, -0.023186529387207444, nan,\n",
       "        0.2320480545006085, 0.2715327180618323, 0.2871489020020612,\n",
       "        0.3042454135298278, 0.20357285659373447, 0.13605303547876835,\n",
       "        0.13074872513757074, 0.005442762937500678, nan,\n",
       "        0.22347335201931418, 0.2511523186171214, 0.26231804387276947,\n",
       "        0.30631494889006805, 0.18762999224429722, 0.11462089568726785,\n",
       "        0.14244289749830852, 0.061360856418573695, nan],\n",
       "       [0.16882731884174218, 0.23260797967112112, 0.26492519920833657,\n",
       "        0.25206687106209635, 0.11326976816547574, 0.030950010136896466,\n",
       "        0.05508820636602474, -0.00027413965536482454, nan,\n",
       "        0.17226067293863423, 0.23627260673849126, 0.2691537715800525,\n",
       "        0.25292343603731426, 0.11633369059194054, 0.020929032953231008,\n",
       "        0.050760784258031544, -0.00867496117939126,\n",
       "        -0.057879743997874544, 0.20391216997974904, 0.2074283906879204,\n",
       "        0.18190959165560927, 0.26040301261092713, 0.07301615266409733,\n",
       "        -0.006889510794888087, 0.04432337073312942, -0.06690220982309425,\n",
       "        nan],\n",
       "       [0.24524451036301165, 0.27172839048152775, 0.29478251795411436,\n",
       "        0.26964243666928955, 0.1271415691419011, 0.06879497796313272,\n",
       "        0.08521070410940101, 0.0891738504910875, nan, 0.2481673366396413,\n",
       "        0.2723258682663743, 0.29382722445488874, 0.26998577955477865,\n",
       "        0.12655749990456178, 0.06178845808820421, 0.08354837132307269,\n",
       "        0.07945891948756612, nan, 0.2625293484627913,\n",
       "        0.27170643105267134, 0.2894052155173652, 0.2668365650220246,\n",
       "        0.12770647411941094, 0.07453911948425684, 0.08975066761465489,\n",
       "        -0.01439294291276183, nan]], dtype=object)"
      ]
     },
     "execution_count": 21,
     "metadata": {},
     "output_type": "execute_result"
    }
   ],
   "source": [
    "#scratch - check that output is working\n",
    "eCCA_eachfold_score_TEST"
   ]
  },
  {
   "cell_type": "code",
   "execution_count": 22,
   "id": "0af208ec",
   "metadata": {},
   "outputs": [
    {
     "ename": "ZeroDivisionError",
     "evalue": "division by zero",
     "output_type": "error",
     "traceback": [
      "\u001b[0;31m---------------------------------------------------------------------------\u001b[0m",
      "\u001b[0;31mZeroDivisionError\u001b[0m                         Traceback (most recent call last)",
      "\u001b[0;32m/var/folders/ky/n6xry0f10zx60fhjgm3yybxh0000gn/T/ipykernel_87665/3913514579.py\u001b[0m in \u001b[0;36m<module>\u001b[0;34m\u001b[0m\n\u001b[1;32m      2\u001b[0m \u001b[0;34m\u001b[0m\u001b[0m\n\u001b[1;32m      3\u001b[0m \u001b[0;31m#print(eCCA_eachfold_score_TRAIN[0:4,:])\u001b[0m\u001b[0;34m\u001b[0m\u001b[0;34m\u001b[0m\u001b[0m\n\u001b[0;32m----> 4\u001b[0;31m \u001b[0meCCA_average_score_TRAIN\u001b[0m \u001b[0;34m=\u001b[0m \u001b[0mnp\u001b[0m\u001b[0;34m.\u001b[0m\u001b[0mnanmean\u001b[0m\u001b[0;34m(\u001b[0m\u001b[0meCCA_eachfold_score_TRAIN\u001b[0m\u001b[0;34m[\u001b[0m\u001b[0;34m:\u001b[0m\u001b[0;34m,\u001b[0m\u001b[0;34m:\u001b[0m\u001b[0;34m]\u001b[0m\u001b[0;34m,\u001b[0m \u001b[0maxis\u001b[0m\u001b[0;34m=\u001b[0m\u001b[0;36m0\u001b[0m\u001b[0;34m)\u001b[0m\u001b[0;34m\u001b[0m\u001b[0;34m\u001b[0m\u001b[0m\n\u001b[0m\u001b[1;32m      5\u001b[0m \u001b[0mprint\u001b[0m\u001b[0;34m(\u001b[0m\u001b[0meCCA_average_score_TRAIN\u001b[0m\u001b[0;34m)\u001b[0m\u001b[0;34m\u001b[0m\u001b[0;34m\u001b[0m\u001b[0m\n\u001b[1;32m      6\u001b[0m \u001b[0;34m\u001b[0m\u001b[0m\n",
      "\u001b[0;32m<__array_function__ internals>\u001b[0m in \u001b[0;36mnanmean\u001b[0;34m(*args, **kwargs)\u001b[0m\n",
      "\u001b[0;32m/opt/anaconda3/lib/python3.9/site-packages/numpy/lib/nanfunctions.py\u001b[0m in \u001b[0;36mnanmean\u001b[0;34m(a, axis, dtype, out, keepdims)\u001b[0m\n\u001b[1;32m    948\u001b[0m     \u001b[0mcnt\u001b[0m \u001b[0;34m=\u001b[0m \u001b[0mnp\u001b[0m\u001b[0;34m.\u001b[0m\u001b[0msum\u001b[0m\u001b[0;34m(\u001b[0m\u001b[0;34m~\u001b[0m\u001b[0mmask\u001b[0m\u001b[0;34m,\u001b[0m \u001b[0maxis\u001b[0m\u001b[0;34m=\u001b[0m\u001b[0maxis\u001b[0m\u001b[0;34m,\u001b[0m \u001b[0mdtype\u001b[0m\u001b[0;34m=\u001b[0m\u001b[0mnp\u001b[0m\u001b[0;34m.\u001b[0m\u001b[0mintp\u001b[0m\u001b[0;34m,\u001b[0m \u001b[0mkeepdims\u001b[0m\u001b[0;34m=\u001b[0m\u001b[0mkeepdims\u001b[0m\u001b[0;34m)\u001b[0m\u001b[0;34m\u001b[0m\u001b[0;34m\u001b[0m\u001b[0m\n\u001b[1;32m    949\u001b[0m     \u001b[0mtot\u001b[0m \u001b[0;34m=\u001b[0m \u001b[0mnp\u001b[0m\u001b[0;34m.\u001b[0m\u001b[0msum\u001b[0m\u001b[0;34m(\u001b[0m\u001b[0marr\u001b[0m\u001b[0;34m,\u001b[0m \u001b[0maxis\u001b[0m\u001b[0;34m=\u001b[0m\u001b[0maxis\u001b[0m\u001b[0;34m,\u001b[0m \u001b[0mdtype\u001b[0m\u001b[0;34m=\u001b[0m\u001b[0mdtype\u001b[0m\u001b[0;34m,\u001b[0m \u001b[0mout\u001b[0m\u001b[0;34m=\u001b[0m\u001b[0mout\u001b[0m\u001b[0;34m,\u001b[0m \u001b[0mkeepdims\u001b[0m\u001b[0;34m=\u001b[0m\u001b[0mkeepdims\u001b[0m\u001b[0;34m)\u001b[0m\u001b[0;34m\u001b[0m\u001b[0;34m\u001b[0m\u001b[0m\n\u001b[0;32m--> 950\u001b[0;31m     \u001b[0mavg\u001b[0m \u001b[0;34m=\u001b[0m \u001b[0m_divide_by_count\u001b[0m\u001b[0;34m(\u001b[0m\u001b[0mtot\u001b[0m\u001b[0;34m,\u001b[0m \u001b[0mcnt\u001b[0m\u001b[0;34m,\u001b[0m \u001b[0mout\u001b[0m\u001b[0;34m=\u001b[0m\u001b[0mout\u001b[0m\u001b[0;34m)\u001b[0m\u001b[0;34m\u001b[0m\u001b[0;34m\u001b[0m\u001b[0m\n\u001b[0m\u001b[1;32m    951\u001b[0m \u001b[0;34m\u001b[0m\u001b[0m\n\u001b[1;32m    952\u001b[0m     \u001b[0misbad\u001b[0m \u001b[0;34m=\u001b[0m \u001b[0;34m(\u001b[0m\u001b[0mcnt\u001b[0m \u001b[0;34m==\u001b[0m \u001b[0;36m0\u001b[0m\u001b[0;34m)\u001b[0m\u001b[0;34m\u001b[0m\u001b[0;34m\u001b[0m\u001b[0m\n",
      "\u001b[0;32m/opt/anaconda3/lib/python3.9/site-packages/numpy/lib/nanfunctions.py\u001b[0m in \u001b[0;36m_divide_by_count\u001b[0;34m(a, b, out)\u001b[0m\n\u001b[1;32m    210\u001b[0m         \u001b[0;32mif\u001b[0m \u001b[0misinstance\u001b[0m\u001b[0;34m(\u001b[0m\u001b[0ma\u001b[0m\u001b[0;34m,\u001b[0m \u001b[0mnp\u001b[0m\u001b[0;34m.\u001b[0m\u001b[0mndarray\u001b[0m\u001b[0;34m)\u001b[0m\u001b[0;34m:\u001b[0m\u001b[0;34m\u001b[0m\u001b[0;34m\u001b[0m\u001b[0m\n\u001b[1;32m    211\u001b[0m             \u001b[0;32mif\u001b[0m \u001b[0mout\u001b[0m \u001b[0;32mis\u001b[0m \u001b[0;32mNone\u001b[0m\u001b[0;34m:\u001b[0m\u001b[0;34m\u001b[0m\u001b[0;34m\u001b[0m\u001b[0m\n\u001b[0;32m--> 212\u001b[0;31m                 \u001b[0;32mreturn\u001b[0m \u001b[0mnp\u001b[0m\u001b[0;34m.\u001b[0m\u001b[0mdivide\u001b[0m\u001b[0;34m(\u001b[0m\u001b[0ma\u001b[0m\u001b[0;34m,\u001b[0m \u001b[0mb\u001b[0m\u001b[0;34m,\u001b[0m \u001b[0mout\u001b[0m\u001b[0;34m=\u001b[0m\u001b[0ma\u001b[0m\u001b[0;34m,\u001b[0m \u001b[0mcasting\u001b[0m\u001b[0;34m=\u001b[0m\u001b[0;34m'unsafe'\u001b[0m\u001b[0;34m)\u001b[0m\u001b[0;34m\u001b[0m\u001b[0;34m\u001b[0m\u001b[0m\n\u001b[0m\u001b[1;32m    213\u001b[0m             \u001b[0;32melse\u001b[0m\u001b[0;34m:\u001b[0m\u001b[0;34m\u001b[0m\u001b[0;34m\u001b[0m\u001b[0m\n\u001b[1;32m    214\u001b[0m                 \u001b[0;32mreturn\u001b[0m \u001b[0mnp\u001b[0m\u001b[0;34m.\u001b[0m\u001b[0mdivide\u001b[0m\u001b[0;34m(\u001b[0m\u001b[0ma\u001b[0m\u001b[0;34m,\u001b[0m \u001b[0mb\u001b[0m\u001b[0;34m,\u001b[0m \u001b[0mout\u001b[0m\u001b[0;34m=\u001b[0m\u001b[0mout\u001b[0m\u001b[0;34m,\u001b[0m \u001b[0mcasting\u001b[0m\u001b[0;34m=\u001b[0m\u001b[0;34m'unsafe'\u001b[0m\u001b[0;34m)\u001b[0m\u001b[0;34m\u001b[0m\u001b[0;34m\u001b[0m\u001b[0m\n",
      "\u001b[0;31mZeroDivisionError\u001b[0m: division by zero"
     ]
    }
   ],
   "source": [
    "#average TRAIN and TEST correlations over CV folds\n",
    "\n",
    "#print(eCCA_eachfold_score_TRAIN[0:4,:])\n",
    "eCCA_average_score_TRAIN = np.nanmean(eCCA_eachfold_score_TRAIN[:,:], axis=0)\n",
    "print(eCCA_average_score_TRAIN)\n",
    "\n",
    "print('\\n')\n",
    "\n",
    "eCCA_average_score_TEST = np.nanmean(eCCA_eachfold_score_TEST[:,:], axis=0)\n",
    "print(eCCA_average_score_TEST)\n",
    "print(max(eCCA_average_score_TEST))\n",
    "\n",
    "print('\\n')\n",
    "print(eCCA_eachfold_c1)\n",
    "print('\\n')\n",
    "print(eCCA_eachfold_c2)\n",
    "print('\\n')\n",
    "print(eCCA_eachfold_l1_ratio)\n",
    "\n",
    "#generate visualization/heatmap of correlation by params"
   ]
  },
  {
   "cell_type": "code",
   "execution_count": 24,
   "id": "01af0081",
   "metadata": {},
   "outputs": [],
   "source": [
    "# save files\n",
    "np.savetxt(userhome + r'/Desktop/OCS_bigdata_ML_local/results/replication/eCCA_eachfold_c1.csv', eCCA_eachfold_c1, delimiter=',')\n",
    "np.savetxt(userhome + r'/Desktop/OCS_bigdata_ML_local/results/replication/eCCA_eachfold_c2.csv', eCCA_eachfold_c2, delimiter=',')\n",
    "np.savetxt(userhome + r'/Desktop/OCS_bigdata_ML_local/results/replication/eCCA_eachfold_l1_ratio.csv', eCCA_eachfold_l1_ratio, delimiter=',')\n",
    "np.savetxt(userhome + r'/Desktop/OCS_bigdata_ML_local/results/replication/eCCA_eachfold_score_TRAIN.csv', eCCA_eachfold_score_TRAIN, delimiter=',')\n",
    "np.savetxt(userhome + r'/Desktop/OCS_bigdata_ML_local/results/replication/eCCA_eachfold_score_TEST.csv', eCCA_eachfold_score_TEST, delimiter=',')\n",
    "\n",
    "# END OF HYPERPARAMETER OPTIMIZATION CODE\n"
   ]
  },
  {
   "cell_type": "code",
   "execution_count": 6,
   "id": "cc2c9c6b",
   "metadata": {},
   "outputs": [
    {
     "name": "stdout",
     "output_type": "stream",
     "text": [
      "(7095, 1)\n",
      "(2846, 7095)\n",
      "dims: 8\n"
     ]
    },
    {
     "name": "stderr",
     "output_type": "stream",
     "text": [
      "/opt/anaconda3/lib/python3.9/site-packages/cca_zoo/models/iterative.py:106: UserWarning: Inner loop 0 not converged. Increase number of iterations.\n",
      "  warnings.warn(\n",
      "/opt/anaconda3/lib/python3.9/site-packages/cca_zoo/models/iterative.py:106: UserWarning: Inner loop 1 not converged. Increase number of iterations.\n",
      "  warnings.warn(\n",
      "/opt/anaconda3/lib/python3.9/site-packages/cca_zoo/models/iterative.py:106: UserWarning: Inner loop 2 not converged. Increase number of iterations.\n",
      "  warnings.warn(\n",
      "/opt/anaconda3/lib/python3.9/site-packages/cca_zoo/models/iterative.py:106: UserWarning: Inner loop 3 not converged. Increase number of iterations.\n",
      "  warnings.warn(\n",
      "/opt/anaconda3/lib/python3.9/site-packages/cca_zoo/models/iterative.py:106: UserWarning: Inner loop 4 not converged. Increase number of iterations.\n",
      "  warnings.warn(\n",
      "/opt/anaconda3/lib/python3.9/site-packages/cca_zoo/models/iterative.py:106: UserWarning: Inner loop 5 not converged. Increase number of iterations.\n",
      "  warnings.warn(\n",
      "/opt/anaconda3/lib/python3.9/site-packages/cca_zoo/models/iterative.py:106: UserWarning: Inner loop 6 not converged. Increase number of iterations.\n",
      "  warnings.warn(\n"
     ]
    },
    {
     "name": "stdout",
     "output_type": "stream",
     "text": [
      "params: 0.01, 0.01, 0.75\n",
      "All discovery CCA scores: [0.91598883 0.86340471 0.80823536 0.68006699 0.64355504 0.70307455\n",
      " 0.69152796 0.62821598]\n"
     ]
    }
   ],
   "source": [
    "#Rerun elastic net CCA using full discovery sample and optimized hyperparameters\n",
    "from cca_zoo.models import ElasticCCA\n",
    "eCCA_model = ElasticCCA(max_iter=1000000000)\n",
    "\n",
    "optim_c1 = 0.01\n",
    "optim_c2 = 0.01\n",
    "optim_l1_ratio = 0.75\n",
    "#optim_c1 = 0.001\n",
    "#optim_c2 = 0.01\n",
    "#optim_l1_ratio = 0.75\n",
    "\n",
    "#load selected feature indices file\n",
    "allsubsample_selected_features = np.transpose(stable_features[:,:])\n",
    "print(allsubsample_selected_features.shape)\n",
    "\n",
    "#load selected feature indices file - alternative code block\n",
    "#alldiscovery_selected_features_file = userhome + r'/Desktop/OCS_bigdata_ML_local/data/allDiscovery_selectedFeatsPearson.csv'\n",
    "#alldiscovery_selected_features_file = userhome + r'/Desktop/OCS_bigdata_ML_local/data/allDiscovery_selectedFeatsSpearman.csv'\n",
    "#alldiscovery_selected_features = pd.read_csv(alldiscovery_selected_features_file, header = None)\n",
    "#alldiscovery_selected_features = alldiscovery_selected_features.to_numpy()\n",
    "#print(alldiscovery_selected_features.shape)\n",
    "\n",
    "allsubsample_rsFC_features = rsFC_features[:, allsubsample_selected_features[:,0] - 1]\n",
    "#print(alldiscovery_rsFC_features)\n",
    "print(allsubsample_rsFC_features.shape)\n",
    "\n",
    "dims = min(np.linalg.matrix_rank(allsubsample_rsFC_features),np.linalg.matrix_rank(clin_features))\n",
    "print('dims: ' + str(dims))\n",
    "\n",
    "eCCA_fit = ElasticCCA(c = (optim_c1, optim_c2), l1_ratio = optim_l1_ratio, latent_dims=dims).fit([clin_features, allsubsample_rsFC_features])\n",
    "print('params: ' + str(optim_c1) + ', ' + str(optim_c2) + ', ' + str(optim_l1_ratio))\n",
    "allsubsample_scores = eCCA_fit.score((clin_features, allsubsample_rsFC_features))\n",
    "print('All discovery CCA scores: ' + str(allsubsample_scores))\n",
    "\n",
    "#calculate transformed canonical variate values\n",
    "U,V = eCCA_fit.transform([clin_features, allsubsample_rsFC_features])\n",
    "#U1,V1 = eCCA_fit.fit_transform([clin_features, alldiscovery_rsFC_features])\n",
    "\n"
   ]
  },
  {
   "cell_type": "code",
   "execution_count": 8,
   "id": "5d9f649d",
   "metadata": {},
   "outputs": [
    {
     "name": "stdout",
     "output_type": "stream",
     "text": [
      "(8, 8)\n",
      "(7095, 8)\n",
      "All subsample - clinical loadings CV1: \n",
      "[-29.87728398 -32.84983081 -17.7899728  -21.83395646 -33.11171109\n",
      " -32.24213927 -31.70820739 -30.56246484]\n",
      "All subsample - clinical loadings CV2: \n",
      "[-19.50721211 -20.39291668 -45.32096311 -38.27131303  -5.98648856\n",
      "   7.85647917  -0.66478871 -30.43564435]\n",
      "All subsample - clinical loadings CV3: \n",
      "[-29.0733797   -0.80026369  -8.08636641  -8.75547724 -53.27694366\n",
      " -14.3327187    0.5671636  -25.27907334]\n",
      "All subsample - clinical loadings CV4: \n",
      "[-0.90608016 66.27968297 16.16605231 20.17873163  6.16098722  5.11959725\n",
      "  4.68256584 14.69063035]\n",
      "All subsample - clinical loadings CV5: \n",
      "[-67.075833   -17.07174243   0.15018403 -16.27749895 -23.37626424\n",
      " -18.46033506 -18.69409442 -34.62252024]\n",
      "All subsample - clinical loadings CV6: \n",
      "[18.83955419 19.36591198 14.86992767 39.82479859 19.54860999 53.70089834\n",
      "  9.1889731  18.99078554]\n",
      "All subsample - clinical loadings CV7: \n",
      "[-10.63135178 -15.92450723   7.74643613 -60.27605197  -6.28378588\n",
      "  -5.45767673  -7.32093654 -13.75772901]\n",
      "All subsample - clinical loadings CV8: \n",
      "[26.07745136 22.75374089 26.98603854 26.26546686 16.08955251 13.53357069\n",
      " 15.24399962 74.74153622]\n",
      "[  70.66579017 -132.01255901 -123.79672298 ...   -7.62429149 -444.05939576\n",
      "   81.22167693]\n"
     ]
    }
   ],
   "source": [
    "# View clinical loadings\n",
    "#alldiscovery_loadings = eCCA_fit.get_loadings((clin_features, alldiscovery_rsFC_features))\n",
    "allsubsample_loadings = eCCA_fit.get_loadings((clin_features, allsubsample_rsFC_features), normalize=True)\n",
    "allsubsample_loadings_u = allsubsample_loadings[0]\n",
    "allsubsample_loadings_v = allsubsample_loadings[1]\n",
    "\n",
    "print(allsubsample_loadings_u.shape)\n",
    "print(allsubsample_loadings_v.shape)\n",
    "\n",
    "print('All subsample - clinical loadings CV1: \\n' + str(allsubsample_loadings_u[:,0]))\n",
    "print('All subsample - clinical loadings CV2: \\n' + str(allsubsample_loadings_u[:,1]))\n",
    "print('All subsample - clinical loadings CV3: \\n' + str(allsubsample_loadings_u[:,2]))\n",
    "print('All subsample - clinical loadings CV4: \\n' + str(allsubsample_loadings_u[:,3]))\n",
    "print('All subsample - clinical loadings CV5: \\n' + str(allsubsample_loadings_u[:,4]))\n",
    "print('All subsample - clinical loadings CV6: \\n' + str(allsubsample_loadings_u[:,5]))\n",
    "print('All subsample - clinical loadings CV7: \\n' + str(allsubsample_loadings_u[:,6]))\n",
    "print('All subsample - clinical loadings CV8: \\n' + str(allsubsample_loadings_u[:,7]))\n",
    "\n",
    "print(clin_features@allsubsample_loadings_u[:,0])\n"
   ]
  },
  {
   "cell_type": "code",
   "execution_count": 10,
   "id": "9e3c7d46",
   "metadata": {},
   "outputs": [],
   "source": [
    "# Save clin loadings\n",
    "#discovery\n",
    "np.savetxt(userhome + r'/Desktop/OCS_bigdata_ML_local/FINAL/discovery/results/elasticnetCCA_scaled/alldiscovery_clinloadings_u_CV1norm.csv', allsubsample_loadings_u[:,0], delimiter=',')\n",
    "np.savetxt(userhome + r'/Desktop/OCS_bigdata_ML_local/FINAL/discovery/results/elasticnetCCA_scaled/alldiscovery_clinloadings_u_CV2norm.csv', allsubsample_loadings_u[:,1], delimiter=',')\n",
    "np.savetxt(userhome + r'/Desktop/OCS_bigdata_ML_local/FINAL/discovery/results/elasticnetCCA_scaled/alldiscovery_clinloadings_u_CV3norm.csv', allsubsample_loadings_u[:,2], delimiter=',')\n",
    "np.savetxt(userhome + r'/Desktop/OCS_bigdata_ML_local/FINAL/discovery/results/elasticnetCCA_scaled/alldiscovery_clinloadings_u_CV4norm.csv', allsubsample_loadings_u[:,3], delimiter=',')\n",
    "np.savetxt(userhome + r'/Desktop/OCS_bigdata_ML_local/FINAL/discovery/results/elasticnetCCA_scaled/alldiscovery_clinloadings_u_CV5norm.csv', allsubsample_loadings_u[:,4], delimiter=',')\n",
    "np.savetxt(userhome + r'/Desktop/OCS_bigdata_ML_local/FINAL/discovery/results/elasticnetCCA_scaled/alldiscovery_clinloadings_u_CV6norm.csv', allsubsample_loadings_u[:,5], delimiter=',')\n",
    "np.savetxt(userhome + r'/Desktop/OCS_bigdata_ML_local/FINAL/discovery/results/elasticnetCCA_scaled/alldiscovery_clinloadings_u_CV7norm.csv', allsubsample_loadings_u[:,6], delimiter=',')\n",
    "np.savetxt(userhome + r'/Desktop/OCS_bigdata_ML_local/FINAL/discovery/results/elasticnetCCA_scaled/alldiscovery_clinloadings_u_CV8norm.csv', allsubsample_loadings_u[:,7], delimiter=',')\n",
    "np.savetxt(userhome + r'/Desktop/OCS_bigdata_ML_local/FINAL/discovery/results/elasticnetCCA_scaled/alldiscovery_clinloadings_allnorm.csv', allsubsample_loadings_u, delimiter=',')\n",
    "\n",
    "#replication\n",
    "#np.savetxt(userhome + r'/Desktop/OCS_bigdata_ML_local/results/replication/allreplication_clinloadings_u_CV1norm.csv', allsubsample_loadings_u[:,0], delimiter=',')\n",
    "#np.savetxt(userhome + r'/Desktop/OCS_bigdata_ML_local/results/replication/allreplication_clinloadings_u_CV2norm.csv', allsubsample_loadings_u[:,1], delimiter=',')\n",
    "#np.savetxt(userhome + r'/Desktop/OCS_bigdata_ML_local/results/replication/allreplication_clinloadings_u_CV3norm.csv', allsubsample_loadings_u[:,2], delimiter=',')\n",
    "#np.savetxt(userhome + r'/Desktop/OCS_bigdata_ML_local/results/replication/allreplication_clinloadings_u_CV4norm.csv', allsubsample_loadings_u[:,3], delimiter=',')\n",
    "#np.savetxt(userhome + r'/Desktop/OCS_bigdata_ML_local/results/replication/allreplication_clinloadings_u_CV5norm.csv', allsubsample_loadings_u[:,4], delimiter=',')\n",
    "#np.savetxt(userhome + r'/Desktop/OCS_bigdata_ML_local/results/replication/allreplication_clinloadings_u_CV6norm.csv', allsubsample_loadings_u[:,5], delimiter=',')\n",
    "#np.savetxt(userhome + r'/Desktop/OCS_bigdata_ML_local/results/replication/allreplication_clinloadings_u_CV7norm.csv', allsubsample_loadings_u[:,6], delimiter=',')\n",
    "#np.savetxt(userhome + r'/Desktop/OCS_bigdata_ML_local/results/replication/allreplication_clinloadings_u_CV8norm.csv', allsubsample_loadings_u[:,7], delimiter=',')\n",
    "#np.savetxt(userhome + r'/Desktop/OCS_bigdata_ML_local/results/replication/allreplication_clinloadings_allnorm.csv', allsubsample_loadings_u, delimiter=',')\n"
   ]
  },
  {
   "cell_type": "code",
   "execution_count": 12,
   "id": "1778d7c5",
   "metadata": {},
   "outputs": [
    {
     "name": "stdout",
     "output_type": "stream",
     "text": [
      "CV1\n",
      "[4166 1603 1977 4383 3952  548 5346  545  762  243  763 2112 1792 3693\n",
      " 1644 2314 6720 1628 6858 4419]\n",
      "[ 4.57232405  4.57554598 -4.57782768 -4.61338109  4.61433741 -4.61516687\n",
      " -4.62774579 -4.62936985  4.6442467   4.69393567  4.7235962  -4.73059787\n",
      "  4.75079366  4.83121524  4.8409002  -4.99066643  4.99685928 -5.02899547\n",
      "  5.08979611  5.26335618]\n",
      "CV2\n",
      "[2673 6872 2590 6747 2678 6333 7061 3430 6334 6874 6330 2278 2285 6853\n",
      " 6363 6339 6851 2310 6746 6446]\n",
      "[ 4.51107257 -4.52521575  4.55528421 -4.57023451  4.57416041 -4.58818153\n",
      " -4.64289745  4.66471644 -4.67947967 -4.71046835 -4.71195027  4.71728935\n",
      "  4.73602716 -4.7570617  -4.81742786 -4.85478599 -4.85732828  5.08943003\n",
      " -5.10504996 -5.23908342]\n",
      "CV3\n",
      "[2297 4932 4612 3461  595 1391 1388 4428 2533  856 3168 4764 6034 1854\n",
      " 2804 1890 3848 6627 1708  964]\n",
      "[-4.08465832 -4.0858767   4.09209689  4.09283472  4.1182668  -4.13030042\n",
      "  4.14215869 -4.14308641 -4.14443257  4.16352929 -4.18789475  4.35178338\n",
      " -4.3822232  -4.38667182  4.4262888  -4.46291829  4.55033333  4.77510482\n",
      "  4.92325433 -5.47266026]\n",
      "CV4\n",
      "[ 862  277 1664 5613 5265 3245 4772 3369 1891 7007 6771 1819 4135 7071\n",
      " 1866 5465 1640 2028 1733 1740]\n",
      "[ 4.03057962  4.04959069  4.05652066 -4.05701922  4.06503072  4.07909037\n",
      "  4.09121315  4.11887935  4.13188857 -4.19406608  4.19701054  4.20995879\n",
      " -4.22661009  4.26628247  4.32851485 -4.3445535  -4.44775943  4.50120366\n",
      "  4.52336264 -4.61951119]\n"
     ]
    }
   ],
   "source": [
    "# View rs-FC loadings\n",
    "allsubsample_loadings_v_CV1 = np.argsort(abs(allsubsample_loadings_v[:,0]))\n",
    "#print(alldiscovery_loadings_v_CV1.shape)\n",
    "print('CV1')\n",
    "print(allsubsample_loadings_v_CV1[-20:] + 1)\n",
    "print(allsubsample_loadings_v[allsubsample_loadings_v_CV1[-20:],0])\n",
    "\n",
    "allsubsample_loadings_v_CV2 = np.argsort(abs(allsubsample_loadings_v[:,1]))\n",
    "print('CV2')\n",
    "print(allsubsample_loadings_v_CV2[-20:] + 1)\n",
    "print(allsubsample_loadings_v[allsubsample_loadings_v_CV2[-20:],1])\n",
    "\n",
    "allsubsample_loadings_v_CV3 = np.argsort(abs(allsubsample_loadings_v[:,2]))\n",
    "print('CV3')\n",
    "print(allsubsample_loadings_v_CV3[-20:] + 1)\n",
    "print(allsubsample_loadings_v[allsubsample_loadings_v_CV3[-20:],2])\n",
    "\n",
    "allsubsample_loadings_v_CV4 = np.argsort(abs(allsubsample_loadings_v[:,3]))\n",
    "print('CV4')\n",
    "print(allsubsample_loadings_v_CV4[-20:] + 1)\n",
    "print(allsubsample_loadings_v[allsubsample_loadings_v_CV4[-20:],3])\n",
    "\n",
    "allsubsample_loadings_v_CV5 = np.argsort(abs(allsubsample_loadings_v[:,4]))\n",
    "allsubsample_loadings_v_CV6 = np.argsort(abs(allsubsample_loadings_v[:,5]))\n",
    "allsubsample_loadings_v_CV7 = np.argsort(abs(allsubsample_loadings_v[:,6]))\n",
    "allsubsample_loadings_v_CV8 = np.argsort(abs(allsubsample_loadings_v[:,7]))"
   ]
  },
  {
   "cell_type": "code",
   "execution_count": 14,
   "id": "69355616",
   "metadata": {},
   "outputs": [],
   "source": [
    "# Save rsFC loadings\n",
    "#discovery\n",
    "np.savetxt(userhome + r'/Desktop/OCS_bigdata_ML_local/FINAL/discovery/results/elasticnetCCA_scaled/alldiscovery_rsFCinds_v_CV1.csv', allsubsample_loadings_v_CV1 + 1, delimiter=',')\n",
    "np.savetxt(userhome + r'/Desktop/OCS_bigdata_ML_local/FINAL/discovery/results/elasticnetCCA_scaled/alldiscovery_rsFCloadings_v_CV1.csv', allsubsample_loadings_v[allsubsample_loadings_v_CV1,0], delimiter=',')\n",
    "\n",
    "np.savetxt(userhome + r'/Desktop/OCS_bigdata_ML_local/FINAL/discovery/results/elasticnetCCA_scaled/alldiscovery_rsFCinds_v_CV2.csv', allsubsample_loadings_v_CV2 + 1, delimiter=',')\n",
    "np.savetxt(userhome + r'/Desktop/OCS_bigdata_ML_local/FINAL/discovery/results/elasticnetCCA_scaled/alldiscovery_rsFCloadings_v_CV2.csv', allsubsample_loadings_v[allsubsample_loadings_v_CV2,1], delimiter=',')\n",
    "\n",
    "np.savetxt(userhome + r'/Desktop/OCS_bigdata_ML_local/FINAL/discovery/results/elasticnetCCA_scaled/alldiscovery_rsFCinds_v_CV3.csv', allsubsample_loadings_v_CV3 + 1, delimiter=',')\n",
    "np.savetxt(userhome + r'/Desktop/OCS_bigdata_ML_local/FINAL/discovery/results/elasticnetCCA_scaled/alldiscovery_rsFCloadings_v_CV3.csv', allsubsample_loadings_v[allsubsample_loadings_v_CV3,2], delimiter=',')\n",
    "\n",
    "np.savetxt(userhome + r'/Desktop/OCS_bigdata_ML_local/FINAL/discovery/results/elasticnetCCA_scaled/alldiscovery_rsFCinds_v_CV4.csv', allsubsample_loadings_v_CV4 + 1, delimiter=',')\n",
    "np.savetxt(userhome + r'/Desktop/OCS_bigdata_ML_local/FINAL/discovery/results/elasticnetCCA_scaled/alldiscovery_rsFCloadings_v_CV4.csv', allsubsample_loadings_v[allsubsample_loadings_v_CV4,3], delimiter=',')\n",
    "\n",
    "np.savetxt(userhome + r'/Desktop/OCS_bigdata_ML_local/FINAL/discovery/results/elasticnetCCA_scaled/alldiscovery_rsFCinds_v_CV5.csv', allsubsample_loadings_v_CV5 + 1, delimiter=',')\n",
    "np.savetxt(userhome + r'/Desktop/OCS_bigdata_ML_local/FINAL/discovery/results/elasticnetCCA_scaled/alldiscovery_rsFCloadings_v_CV5.csv', allsubsample_loadings_v[allsubsample_loadings_v_CV5,4], delimiter=',')\n",
    "\n",
    "np.savetxt(userhome + r'/Desktop/OCS_bigdata_ML_local/FINAL/discovery/results/elasticnetCCA_scaled/alldiscovery_rsFCinds_v_CV6.csv', allsubsample_loadings_v_CV6 + 1, delimiter=',')\n",
    "np.savetxt(userhome + r'/Desktop/OCS_bigdata_ML_local/FINAL/discovery/results/elasticnetCCA_scaled/alldiscovery_rsFCloadings_v_CV6.csv', allsubsample_loadings_v[allsubsample_loadings_v_CV6,5], delimiter=',')\n",
    "\n",
    "np.savetxt(userhome + r'/Desktop/OCS_bigdata_ML_local/FINAL/discovery/results/elasticnetCCA_scaled/alldiscovery_rsFCinds_v_CV7.csv', allsubsample_loadings_v_CV7 + 1, delimiter=',')\n",
    "np.savetxt(userhome + r'/Desktop/OCS_bigdata_ML_local/FINAL/discovery/results/elasticnetCCA_scaled/alldiscovery_rsFCloadings_v_CV7.csv', allsubsample_loadings_v[allsubsample_loadings_v_CV7,6], delimiter=',')\n",
    "\n",
    "np.savetxt(userhome + r'/Desktop/OCS_bigdata_ML_local/FINAL/discovery/results/elasticnetCCA_scaled/alldiscovery_rsFCinds_v_CV8.csv', allsubsample_loadings_v_CV8 + 1, delimiter=',')\n",
    "np.savetxt(userhome + r'/Desktop/OCS_bigdata_ML_local/FINAL/discovery/results/elasticnetCCA_scaled/alldiscovery_rsFCloadings_v_CV8.csv', allsubsample_loadings_v[allsubsample_loadings_v_CV8,7], delimiter=',')\n",
    "\n",
    "#replication\n",
    "#np.savetxt(userhome + r'/Desktop/OCS_bigdata_ML_local/results/replication/allreplication_rsFCinds_v_CV1.csv', allsubsample_loadings_v_CV1 + 1, delimiter=',')\n",
    "#np.savetxt(userhome + r'/Desktop/OCS_bigdata_ML_local/results/replication/allreplication_rsFCloadings_v_CV1.csv', allsubsample_loadings_v[allsubsample_loadings_v_CV1,0], delimiter=',')\n",
    "\n",
    "#np.savetxt(userhome + r'/Desktop/OCS_bigdata_ML_local/results/replication/allreplication_rsFCinds_v_CV2.csv', allsubsample_loadings_v_CV2 + 1, delimiter=',')\n",
    "#np.savetxt(userhome + r'/Desktop/OCS_bigdata_ML_local/results/replication/allreplication_rsFCloadings_v_CV2.csv', allsubsample_loadings_v[allsubsample_loadings_v_CV2,1], delimiter=',')\n",
    "\n",
    "#np.savetxt(userhome + r'/Desktop/OCS_bigdata_ML_local/results/replication/allreplication_rsFCinds_v_CV3.csv', allsubsample_loadings_v_CV3 + 1, delimiter=',')\n",
    "#np.savetxt(userhome + r'/Desktop/OCS_bigdata_ML_local/results/replication/allreplication_rsFCloadings_v_CV3.csv', allsubsample_loadings_v[allsubsample_loadings_v_CV3,2], delimiter=',')\n",
    "\n",
    "#np.savetxt(userhome + r'/Desktop/OCS_bigdata_ML_local/results/replication/allreplication_rsFCinds_v_CV4.csv', allsubsample_loadings_v_CV4 + 1, delimiter=',')\n",
    "#np.savetxt(userhome + r'/Desktop/OCS_bigdata_ML_local/results/replication/allreplication_rsFCloadings_v_CV4.csv', allsubsample_loadings_v[allsubsample_loadings_v_CV4,3], delimiter=',')\n",
    "\n",
    "#np.savetxt(userhome + r'/Desktop/OCS_bigdata_ML_local/results/replication/allreplication_rsFCinds_v_CV5.csv', allsubsample_loadings_v_CV5 + 1, delimiter=',')\n",
    "#np.savetxt(userhome + r'/Desktop/OCS_bigdata_ML_local/results/replication/allreplication_rsFCloadings_v_CV5.csv', allsubsample_loadings_v[allsubsample_loadings_v_CV5,4], delimiter=',')\n",
    "\n",
    "#np.savetxt(userhome + r'/Desktop/OCS_bigdata_ML_local/results/replication/allreplication_rsFCinds_v_CV6.csv', allsubsample_loadings_v_CV6 + 1, delimiter=',')\n",
    "#np.savetxt(userhome + r'/Desktop/OCS_bigdata_ML_local/results/replication/allreplication_rsFCloadings_v_CV6.csv', allsubsample_loadings_v[allsubsample_loadings_v_CV6,5], delimiter=',')\n",
    "\n",
    "#np.savetxt(userhome + r'/Desktop/OCS_bigdata_ML_local/results/replication/allreplication_rsFCinds_v_CV7.csv', allsubsample_loadings_v_CV7 + 1, delimiter=',')\n",
    "#np.savetxt(userhome + r'/Desktop/OCS_bigdata_ML_local/results/replication/allreplication_rsFCloadings_v_CV7.csv', allsubsample_loadings_v[allsubsample_loadings_v_CV7,6], delimiter=',')\n",
    "\n",
    "#np.savetxt(userhome + r'/Desktop/OCS_bigdata_ML_local/results/replication/allreplication_rsFCinds_v_CV8.csv', allsubsample_loadings_v_CV8 + 1, delimiter=',')\n",
    "#np.savetxt(userhome + r'/Desktop/OCS_bigdata_ML_local/results/replication/allreplication_rsFCloadings_v_CV8.csv', allsubsample_loadings_v[allsubsample_loadings_v_CV8,7], delimiter=',')"
   ]
  },
  {
   "cell_type": "code",
   "execution_count": 15,
   "id": "0f9e7d86",
   "metadata": {},
   "outputs": [],
   "source": [
    "# Save files\n",
    "#discovery\n",
    "np.savetxt(userhome + r'/Desktop/OCS_bigdata_ML_local/FINAL/discovery/results/elasticnetCCA_scaled/transformed_clin_U.csv', U, delimiter=',')\n",
    "np.savetxt(userhome + r'/Desktop/OCS_bigdata_ML_local/FINAL/discovery/results/elasticnetCCA_scaled/transformed_rsFC_V.csv', V, delimiter=',')\n",
    "\n",
    "#replication\n",
    "#np.savetxt(userhome + r'/Desktop/OCS_bigdata_ML_local/results/replication/transformed_clin_U.csv', U, delimiter=',')\n",
    "#np.savetxt(userhome + r'/Desktop/OCS_bigdata_ML_local/results/replication/transformed_rsFC_V.csv', V, delimiter=',')\n"
   ]
  },
  {
   "cell_type": "code",
   "execution_count": 32,
   "id": "e1e84aaf",
   "metadata": {},
   "outputs": [
    {
     "ename": "NameError",
     "evalue": "name 'alldiscovery_rsFC_features' is not defined",
     "output_type": "error",
     "traceback": [
      "\u001b[0;31m---------------------------------------------------------------------------\u001b[0m",
      "\u001b[0;31mNameError\u001b[0m                                 Traceback (most recent call last)",
      "\u001b[0;32m/var/folders/ky/n6xry0f10zx60fhjgm3yybxh0000gn/T/ipykernel_87665/4268789143.py\u001b[0m in \u001b[0;36m<module>\u001b[0;34m\u001b[0m\n\u001b[0;32m----> 1\u001b[0;31m \u001b[0malldiscovery_scores\u001b[0m \u001b[0;34m=\u001b[0m \u001b[0meCCA_fit\u001b[0m\u001b[0;34m.\u001b[0m\u001b[0mscore\u001b[0m\u001b[0;34m(\u001b[0m\u001b[0;34m(\u001b[0m\u001b[0mclin_features\u001b[0m\u001b[0;34m,\u001b[0m \u001b[0malldiscovery_rsFC_features\u001b[0m\u001b[0;34m)\u001b[0m\u001b[0;34m)\u001b[0m\u001b[0;34m\u001b[0m\u001b[0;34m\u001b[0m\u001b[0m\n\u001b[0m\u001b[1;32m      2\u001b[0m \u001b[0mprint\u001b[0m\u001b[0;34m(\u001b[0m\u001b[0;34m'All discovery CCA scores: '\u001b[0m \u001b[0;34m+\u001b[0m \u001b[0mstr\u001b[0m\u001b[0;34m(\u001b[0m\u001b[0malldiscovery_scores\u001b[0m\u001b[0;34m)\u001b[0m\u001b[0;34m)\u001b[0m\u001b[0;34m\u001b[0m\u001b[0;34m\u001b[0m\u001b[0m\n\u001b[1;32m      3\u001b[0m \u001b[0;34m\u001b[0m\u001b[0m\n",
      "\u001b[0;31mNameError\u001b[0m: name 'alldiscovery_rsFC_features' is not defined"
     ]
    }
   ],
   "source": [
    "alldiscovery_scores = eCCA_fit.score((clin_features, alldiscovery_rsFC_features))\n",
    "print('All discovery CCA scores: ' + str(alldiscovery_scores))\n",
    "\n"
   ]
  },
  {
   "cell_type": "code",
   "execution_count": 41,
   "id": "88e512c7",
   "metadata": {},
   "outputs": [
    {
     "data": {
      "text/plain": [
       "array([[1.      , 0.792935],\n",
       "       [0.792935, 1.      ]])"
      ]
     },
     "execution_count": 41,
     "metadata": {},
     "output_type": "execute_result"
    }
   ],
   "source": [
    "np.corrcoef(U[:,1], V[:,1])"
   ]
  },
  {
   "cell_type": "code",
   "execution_count": null,
   "id": "a34e03e2",
   "metadata": {},
   "outputs": [],
   "source": []
  }
 ],
 "metadata": {
  "kernelspec": {
   "display_name": "Python 3 (ipykernel)",
   "language": "python",
   "name": "python3"
  },
  "language_info": {
   "codemirror_mode": {
    "name": "ipython",
    "version": 3
   },
   "file_extension": ".py",
   "mimetype": "text/x-python",
   "name": "python",
   "nbconvert_exporter": "python",
   "pygments_lexer": "ipython3",
   "version": "3.9.7"
  }
 },
 "nbformat": 4,
 "nbformat_minor": 5
}
