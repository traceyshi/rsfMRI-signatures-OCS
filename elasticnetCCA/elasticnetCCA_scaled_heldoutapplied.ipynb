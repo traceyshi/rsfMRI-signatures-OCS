{
 "cells": [
  {
   "cell_type": "code",
   "execution_count": null,
   "id": "70c79ae2",
   "metadata": {},
   "outputs": [],
   "source": [
    "#setup - one-time tasks (run from terminal, not jupyter)\n",
    "pip install cca-zoo"
   ]
  },
  {
   "cell_type": "code",
   "execution_count": 1,
   "id": "cbcbcc46",
   "metadata": {},
   "outputs": [],
   "source": [
    "#import libraries\n",
    "import pandas as pd\n",
    "import numpy as np\n",
    "import scipy\n",
    "import os\n",
    "\n",
    "userhome = os.path.expanduser('~')"
   ]
  },
  {
   "cell_type": "code",
   "execution_count": 2,
   "id": "612c7843",
   "metadata": {},
   "outputs": [
    {
     "name": "stdout",
     "output_type": "stream",
     "text": [
      "<class 'numpy.ndarray'>\n",
      "(2846, 8)\n"
     ]
    }
   ],
   "source": [
    "# load residualized and scaled clinical features (from R script)\n",
    "#discovery\n",
    "clin_file = userhome + r'/Desktop/OCS_bigdata_ML_local/FINAL/discovery/data/clin_features_scaled.csv'\n",
    "#replication\n",
    "#clin_file = userhome + r'/Desktop/OCS_bigdata_ML_local/data/replication/clin_features_scaled.csv'\n",
    "\n",
    "clin_features = pd.read_csv(clin_file)\n",
    "clin_features = clin_features.to_numpy()\n",
    "print(type(clin_features))\n",
    "print(clin_features.shape)"
   ]
  },
  {
   "cell_type": "code",
   "execution_count": 4,
   "id": "dece4f06",
   "metadata": {},
   "outputs": [
    {
     "name": "stdout",
     "output_type": "stream",
     "text": [
      "<class 'numpy.ndarray'>\n",
      "(2846, 61776)\n"
     ]
    }
   ],
   "source": [
    "# load residualized and scaled imaging features (from R script)\n",
    "#discovery\n",
    "rsFC_file = userhome + r'/Desktop/OCS_bigdata_ML_local/FINAL/discovery/data/rsFC_features_scaled.csv'\n",
    "#replication\n",
    "#rsFC_file = userhome + r'/Desktop/OCS_bigdata_ML_local/data/replication/rsFC_features_scaled.csv'\n",
    "\n",
    "rsFC_feat_chunks = pd.read_csv(rsFC_file, chunksize=1000)\n",
    "rsFC_features = pd.concat(rsFC_feat_chunks)\n",
    "#rsFC_features.sample(10)\n",
    "rsFC_features = rsFC_features.to_numpy()\n",
    "print(type(rsFC_features))\n",
    "print(rsFC_features.shape)"
   ]
  },
  {
   "cell_type": "code",
   "execution_count": 5,
   "id": "fb96da11",
   "metadata": {},
   "outputs": [
    {
     "name": "stdout",
     "output_type": "stream",
     "text": [
      "<class 'numpy.ndarray'>\n",
      "(1, 7095)\n"
     ]
    }
   ],
   "source": [
    "# load selected rsFC features\n",
    "#discovery\n",
    "stable_features_file = userhome + r'/Desktop/OCS_bigdata_ML_local/FINAL/discovery/results/discovery_stable_feats_95_Pearson05.csv'\n",
    "#replication\n",
    "#stable_features_file = userhome + r'/Desktop/OCS_bigdata_ML_local/data/replication/replication_stable_feats_95_Pearson05.csv'\n",
    "\n",
    "stable_features = pd.read_csv(stable_features_file, header=None)\n",
    "stable_features = stable_features.to_numpy()\n",
    "stable_features = np.transpose(stable_features)\n",
    "print(type(stable_features))\n",
    "print(stable_features.shape)\n"
   ]
  },
  {
   "cell_type": "code",
   "execution_count": 7,
   "id": "cc2c9c6b",
   "metadata": {},
   "outputs": [
    {
     "name": "stdout",
     "output_type": "stream",
     "text": [
      "(7095, 1)\n",
      "(2846, 7095)\n",
      "dims: 8\n"
     ]
    },
    {
     "name": "stderr",
     "output_type": "stream",
     "text": [
      "/opt/anaconda3/lib/python3.9/site-packages/cca_zoo/models/iterative.py:106: UserWarning: Inner loop 0 not converged. Increase number of iterations.\n",
      "  warnings.warn(\n",
      "/opt/anaconda3/lib/python3.9/site-packages/cca_zoo/models/iterative.py:106: UserWarning: Inner loop 1 not converged. Increase number of iterations.\n",
      "  warnings.warn(\n",
      "/opt/anaconda3/lib/python3.9/site-packages/cca_zoo/models/iterative.py:106: UserWarning: Inner loop 2 not converged. Increase number of iterations.\n",
      "  warnings.warn(\n",
      "/opt/anaconda3/lib/python3.9/site-packages/cca_zoo/models/iterative.py:106: UserWarning: Inner loop 3 not converged. Increase number of iterations.\n",
      "  warnings.warn(\n",
      "/opt/anaconda3/lib/python3.9/site-packages/cca_zoo/models/iterative.py:106: UserWarning: Inner loop 4 not converged. Increase number of iterations.\n",
      "  warnings.warn(\n",
      "/opt/anaconda3/lib/python3.9/site-packages/cca_zoo/models/iterative.py:106: UserWarning: Inner loop 5 not converged. Increase number of iterations.\n",
      "  warnings.warn(\n",
      "/opt/anaconda3/lib/python3.9/site-packages/cca_zoo/models/iterative.py:106: UserWarning: Inner loop 6 not converged. Increase number of iterations.\n",
      "  warnings.warn(\n"
     ]
    },
    {
     "name": "stdout",
     "output_type": "stream",
     "text": [
      "params: 0.01, 0.01, 0.75\n",
      "All discovery CCA scores: [0.91598883 0.86340471 0.80823536 0.68006699 0.64355504 0.70307455\n",
      " 0.69152796 0.62821598]\n"
     ]
    }
   ],
   "source": [
    "#Run elastic net CCA using full discovery sample and optimized hyperparameters\n",
    "from cca_zoo.models import ElasticCCA\n",
    "eCCA_model = ElasticCCA(max_iter=1000000000)\n",
    "\n",
    "optim_c1 = 0.01\n",
    "optim_c2 = 0.01\n",
    "optim_l1_ratio = 0.75\n",
    "\n",
    "#load selected feature indices file\n",
    "allsubsample_selected_features = np.transpose(stable_features[:,:])\n",
    "print(allsubsample_selected_features.shape)\n",
    "\n",
    "#load selected feature indices file - alternative code block\n",
    "#alldiscovery_selected_features_file = userhome + r'/Desktop/OCS_bigdata_ML_local/data/allDiscovery_selectedFeatsPearson.csv'\n",
    "#alldiscovery_selected_features_file = userhome + r'/Desktop/OCS_bigdata_ML_local/data/allDiscovery_selectedFeatsSpearman.csv'\n",
    "#alldiscovery_selected_features = pd.read_csv(alldiscovery_selected_features_file, header = None)\n",
    "#alldiscovery_selected_features = alldiscovery_selected_features.to_numpy()\n",
    "#print(alldiscovery_selected_features.shape)\n",
    "\n",
    "allsubsample_rsFC_features = rsFC_features[:, allsubsample_selected_features[:,0] - 1]\n",
    "#print(alldiscovery_rsFC_features)\n",
    "print(allsubsample_rsFC_features.shape)\n",
    "\n",
    "dims = min(np.linalg.matrix_rank(allsubsample_rsFC_features),np.linalg.matrix_rank(clin_features))\n",
    "print('dims: ' + str(dims))\n",
    "\n",
    "eCCA_fit = ElasticCCA(c = (optim_c1, optim_c2), l1_ratio = optim_l1_ratio, latent_dims=dims).fit([clin_features, allsubsample_rsFC_features])\n",
    "print('params: ' + str(optim_c1) + ', ' + str(optim_c2) + ', ' + str(optim_l1_ratio))\n",
    "allsubsample_scores = eCCA_fit.score((clin_features, allsubsample_rsFC_features))\n",
    "print('All discovery CCA scores: ' + str(allsubsample_scores))\n",
    "\n",
    "#calculate transformed canonical variate values\n",
    "U,V = eCCA_fit.transform([clin_features, allsubsample_rsFC_features])\n",
    "#U1,V1 = eCCA_fit.fit_transform([clin_features, alldiscovery_rsFC_features])\n",
    "\n"
   ]
  },
  {
   "cell_type": "code",
   "execution_count": 9,
   "id": "9983bd96",
   "metadata": {},
   "outputs": [
    {
     "name": "stdout",
     "output_type": "stream",
     "text": [
      "<class 'numpy.ndarray'>\n",
      "(145, 8)\n",
      "<class 'numpy.ndarray'>\n",
      "(145, 61776)\n",
      "(145, 7095)\n",
      "(145,)\n",
      "(145, 8)\n",
      "All test CCA scores: [ 0.12631146 -0.03670035 -0.04631702 -0.15386156  0.03673558  0.02580203\n",
      " -0.13806429  0.11877767]\n",
      "(0.1263114551348102, 0.130051899827091)\n",
      "(-0.03670034971251406, 0.6612025405800511)\n",
      "(-0.04631701615371021, 0.580126087677948)\n"
     ]
    }
   ],
   "source": [
    "# Apply fitted enCCA model to test subset data\n",
    "# load residualized and scaled clinical features (from R script)\n",
    "clin_file_test = userhome + r'/Desktop/OCS_bigdata_ML_local/FINAL/test/data/Data_prep/clin_features_scaled_testapplied.csv'\n",
    "clin_features_test = pd.read_csv(clin_file_test)\n",
    "clin_features_test = clin_features_test.to_numpy()\n",
    "print(type(clin_features_test))\n",
    "print(clin_features_test.shape)\n",
    "\n",
    "# load residualized and scaled imaging features (from R script)\n",
    "rsFC_file_test = userhome + r'/Desktop/OCS_bigdata_ML_local/FINAL/test/data/Data_prep/rsFC_features_scaled_testapplied.csv'\n",
    "rsFC_feat_chunks = pd.read_csv(rsFC_file_test, chunksize=1000)\n",
    "rsFC_features_test = pd.concat(rsFC_feat_chunks)\n",
    "#rsFC_features.sample(10)\n",
    "rsFC_features_test = rsFC_features_test.to_numpy()\n",
    "print(type(rsFC_features_test))\n",
    "print(rsFC_features_test.shape)\n",
    "\n",
    "# extract discovery-selected features\n",
    "allsubsample_rsFC_features_test = rsFC_features_test[:, allsubsample_selected_features[:,0] - 1]\n",
    "print(allsubsample_rsFC_features_test.shape)\n",
    "\n",
    "#calculate transformed canonical variate values\n",
    "U_test,V_test = eCCA_fit.transform([clin_features_test, allsubsample_rsFC_features_test])\n",
    "\n",
    "print(U_test[:,0].shape)\n",
    "print(V_test.shape)\n",
    "\n",
    "allsubsample_scores_test = eCCA_fit.score((clin_features_test, allsubsample_rsFC_features_test))\n",
    "print('All test CCA scores: ' + str(allsubsample_scores_test))\n",
    "\n",
    "from scipy.stats.stats import pearsonr\n",
    "\n",
    "#calculate correlation coefficient and p-value between x and y\n",
    "print(pearsonr(U_test[:,0], V_test[:,0]))\n",
    "print(pearsonr(U_test[:,1], V_test[:,1]))\n",
    "print(pearsonr(U_test[:,2], V_test[:,2]))"
   ]
  },
  {
   "cell_type": "code",
   "execution_count": 33,
   "id": "a9a9416a",
   "metadata": {},
   "outputs": [
    {
     "name": "stdout",
     "output_type": "stream",
     "text": [
      "<class 'numpy.ndarray'>\n",
      "(2926, 8)\n",
      "<class 'numpy.ndarray'>\n",
      "(2926, 61776)\n",
      "(2926, 7095)\n",
      "All replication CCA scores: [ 3.74270432e-02  1.90390596e-02  2.55735662e-02 -2.86165654e-02\n",
      "  4.28015142e-02 -5.33629071e-03  8.99221021e-05 -1.82293534e-02]\n",
      "(0.037427043206763204, 0.042932403096607556)\n",
      "(0.019039059613957778, 0.3032335811205344)\n",
      "(0.02557356617744202, 0.16667297511677226)\n"
     ]
    }
   ],
   "source": [
    "# Apply fitted enCCA model to replication subset data\n",
    "# load residualized and scaled clinical features (from R script)\n",
    "clin_file_replication = userhome + r'/Desktop/OCS_bigdata_ML_local/FINAL/replication/data/Data_prep/clin_features_scaled_replicationapplied.csv'\n",
    "clin_features_replication = pd.read_csv(clin_file_replication)\n",
    "clin_features_replication = clin_features_replication.to_numpy()\n",
    "print(type(clin_features_replication))\n",
    "print(clin_features_replication.shape)\n",
    "\n",
    "# load residualized and scaled imaging features (from R script)\n",
    "rsFC_file_replication = userhome + r'/Desktop/OCS_bigdata_ML_local/FINAL/replication/data/Data_prep/rsFC_features_scaled_replicationapplied.csv'\n",
    "rsFC_feat_chunks = pd.read_csv(rsFC_file_replication, chunksize=1000)\n",
    "rsFC_features_replication = pd.concat(rsFC_feat_chunks)\n",
    "rsFC_features_replication = rsFC_features_replication.to_numpy()\n",
    "print(type(rsFC_features_replication))\n",
    "print(rsFC_features_replication.shape)\n",
    "\n",
    "# extract discovery-selected features\n",
    "allsubsample_rsFC_features_replication = rsFC_features_replication[:, allsubsample_selected_features[:,0] - 1]\n",
    "print(allsubsample_rsFC_features_replication.shape)\n",
    "\n",
    "#calculate transformed canonical variate values\n",
    "#U_replication,V_replication = eCCA_fit.transform([clin_features_replication, allsubsample_rsFC_features_replication])\n",
    "#print(U_test[:,0].shape)\n",
    "#print(V_test.shape)\n",
    "\n",
    "allsubsample_scores_replication = eCCA_fit.score((clin_features_replication, allsubsample_rsFC_features_replication))\n",
    "print('All replication CCA scores: ' + str(allsubsample_scores_replication))\n",
    "\n",
    "#calculate transformed canonical variate values\n",
    "U_replication,V_replication = eCCA_fit.transform([clin_features_replication, allsubsample_rsFC_features_replication])\n",
    "print(pearsonr(U_replication[:,0], V_replication[:,0]))\n",
    "print(pearsonr(U_replication[:,1], V_replication[:,1]))\n",
    "print(pearsonr(U_replication[:,2], V_replication[:,2]))"
   ]
  },
  {
   "cell_type": "code",
   "execution_count": 22,
   "id": "abef8164",
   "metadata": {},
   "outputs": [],
   "source": [
    "# function to calculate CI for Pearson correlation from:\n",
    "# https://gist.github.com/zhiyzuo/d38159a7c48b575af3e3de7501462e04\n",
    "import numpy as np\n",
    "from scipy import stats\n",
    "\n",
    "def pearsonr_ci(x,y,alpha=0.05):\n",
    "    ''' calculate Pearson correlation along with the confidence interval using scipy and numpy\n",
    "    Parameters\n",
    "    ----------\n",
    "    x, y : iterable object such as a list or np.array\n",
    "      Input for correlation calculation\n",
    "    alpha : float\n",
    "      Significance level. 0.05 by default\n",
    "    Returns\n",
    "    -------\n",
    "    r : float\n",
    "      Pearson's correlation coefficient\n",
    "    pval : float\n",
    "      The corresponding p value\n",
    "    lo, hi : float\n",
    "      The lower and upper bound of confidence intervals\n",
    "    '''\n",
    "\n",
    "    r, p = stats.pearsonr(x,y)\n",
    "    r_z = np.arctanh(r)\n",
    "    se = 1/np.sqrt(x.size-3)\n",
    "    z = stats.norm.ppf(1-alpha/2)\n",
    "    lo_z, hi_z = r_z-z*se, r_z+z*se\n",
    "    lo, hi = np.tanh((lo_z, hi_z))\n",
    "    return r, p, lo, hi"
   ]
  },
  {
   "cell_type": "code",
   "execution_count": 36,
   "id": "d67019a2",
   "metadata": {},
   "outputs": [
    {
     "name": "stdout",
     "output_type": "stream",
     "text": [
      "[[0.9159888259498956 0.0 0.9098686754442833 0.9217104376380338]\n",
      " [0.1263114551348102 0.130051899827091 -0.03746926543270223\n",
      "  0.28348377407300857]\n",
      " [0.037427043206763204 0.042932403096607556 0.0011923901648641742\n",
      "  0.07356354529758613]]\n",
      "[[0.8634047068184905 0.0 0.8537462539762076 0.8724692056160552]\n",
      " [-0.03670034971251406 0.6612025405800511 -0.19852192403655802\n",
      "  0.12706907136763385]\n",
      " [0.019039059613957778 0.3032335811205344 -0.01720908319117229\n",
      "  0.05523722138695954]]\n",
      "[[0.8082353618915168 0.0 0.7951049031016499 0.8206084600610438]\n",
      " [-0.04631701615371021 0.580126087677948 -0.20775765572878863\n",
      "  0.11757995530252723]\n",
      " [0.02557356617744202 0.16667297511677226 -0.010672594196903943\n",
      "  0.06175261079124772]]\n"
     ]
    }
   ],
   "source": [
    "# calculate canonical correlations and CI for each subsample\n",
    "#CV1\n",
    "eCCA_canon_corrs1 = np.empty((3,4), dtype=object)\n",
    "r_d, p_d, lo_d, hi_d = pearsonr_ci(U[:,0],V[:,0],alpha=0.05)\n",
    "eCCA_canon_corrs1[0,:] = [r_d, p_d, lo_d, hi_d]\n",
    "r_t, p_t, lo_t, hi_t = pearsonr_ci(U_test[:,0],V_test[:,0],alpha=0.05)\n",
    "eCCA_canon_corrs1[1,:] = [r_t, p_t, lo_t, hi_t]\n",
    "r_r, p_r, lo_r, hi_r = pearsonr_ci(U_replication[:,0],V_replication[:,0],alpha=0.05)\n",
    "eCCA_canon_corrs1[2,:] = [r_r, p_r, lo_r, hi_r]\n",
    "\n",
    "print(eCCA_canon_corrs1)\n",
    "np.savetxt(userhome + r'/Desktop/OCS_bigdata_ML_local/FINAL/replication/results/elasticnetCCA_scaled/allsubsets_canoncorrs1.csv', eCCA_canon_corrs1, delimiter=',')\n",
    "\n",
    "#CV2\n",
    "eCCA_canon_corrs2 = np.empty((3,4), dtype=object)\n",
    "r_d, p_d, lo_d, hi_d = pearsonr_ci(U[:,1],V[:,1],alpha=0.05)\n",
    "eCCA_canon_corrs2[0,:] = [r_d, p_d, lo_d, hi_d]\n",
    "r_t, p_t, lo_t, hi_t = pearsonr_ci(U_test[:,1],V_test[:,1],alpha=0.05)\n",
    "eCCA_canon_corrs2[1,:] = [r_t, p_t, lo_t, hi_t]\n",
    "r_r, p_r, lo_r, hi_r = pearsonr_ci(U_replication[:,1],V_replication[:,1],alpha=0.05)\n",
    "eCCA_canon_corrs2[2,:] = [r_r, p_r, lo_r, hi_r]\n",
    "\n",
    "print(eCCA_canon_corrs2)\n",
    "np.savetxt(userhome + r'/Desktop/OCS_bigdata_ML_local/FINAL/replication/results/elasticnetCCA_scaled/allsubsets_canoncorrs2.csv', eCCA_canon_corrs2, delimiter=',')\n",
    "\n",
    "#CV3\n",
    "eCCA_canon_corrs3 = np.empty((3,4), dtype=object)\n",
    "r_d, p_d, lo_d, hi_d = pearsonr_ci(U[:,2],V[:,2],alpha=0.05)\n",
    "eCCA_canon_corrs3[0,:] = [r_d, p_d, lo_d, hi_d]\n",
    "r_t, p_t, lo_t, hi_t = pearsonr_ci(U_test[:,2],V_test[:,2],alpha=0.05)\n",
    "eCCA_canon_corrs3[1,:] = [r_t, p_t, lo_t, hi_t]\n",
    "r_r, p_r, lo_r, hi_r = pearsonr_ci(U_replication[:,2],V_replication[:,2],alpha=0.05)\n",
    "eCCA_canon_corrs3[2,:] = [r_r, p_r, lo_r, hi_r]\n",
    "\n",
    "print(eCCA_canon_corrs3)\n",
    "np.savetxt(userhome + r'/Desktop/OCS_bigdata_ML_local/FINAL/replication/results/elasticnetCCA_scaled/allsubsets_canoncorrs3.csv', eCCA_canon_corrs3, delimiter=',')\n",
    "\n"
   ]
  },
  {
   "cell_type": "code",
   "execution_count": 7,
   "id": "5d9f649d",
   "metadata": {},
   "outputs": [
    {
     "name": "stdout",
     "output_type": "stream",
     "text": [
      "(8, 8)\n",
      "(7095, 8)\n",
      "All subsample - clinical loadings CV1: \n",
      "[-29.87728398 -32.84983081 -17.7899728  -21.83395646 -33.11171109\n",
      " -32.24213927 -31.70820739 -30.56246484]\n",
      "All subsample - clinical loadings CV2: \n",
      "[-19.50721211 -20.39291668 -45.32096311 -38.27131303  -5.98648856\n",
      "   7.85647917  -0.66478871 -30.43564435]\n",
      "All subsample - clinical loadings CV3: \n",
      "[-29.0733797   -0.80026369  -8.08636641  -8.75547724 -53.27694366\n",
      " -14.3327187    0.5671636  -25.27907334]\n",
      "All subsample - clinical loadings CV4: \n",
      "[-0.90608016 66.27968297 16.16605231 20.17873163  6.16098722  5.11959725\n",
      "  4.68256584 14.69063035]\n",
      "All subsample - clinical loadings CV5: \n",
      "[-67.075833   -17.07174243   0.15018403 -16.27749895 -23.37626424\n",
      " -18.46033506 -18.69409442 -34.62252024]\n",
      "All subsample - clinical loadings CV6: \n",
      "[18.83955419 19.36591198 14.86992767 39.82479859 19.54860999 53.70089834\n",
      "  9.1889731  18.99078554]\n",
      "All subsample - clinical loadings CV7: \n",
      "[-10.63135178 -15.92450723   7.74643613 -60.27605197  -6.28378588\n",
      "  -5.45767673  -7.32093654 -13.75772901]\n",
      "All subsample - clinical loadings CV8: \n",
      "[26.07745136 22.75374089 26.98603854 26.26546686 16.08955251 13.53357069\n",
      " 15.24399962 74.74153622]\n"
     ]
    },
    {
     "ename": "NameError",
     "evalue": "name 'subsample_loadings_u' is not defined",
     "output_type": "error",
     "traceback": [
      "\u001b[0;31m---------------------------------------------------------------------------\u001b[0m",
      "\u001b[0;31mNameError\u001b[0m                                 Traceback (most recent call last)",
      "\u001b[0;32m/var/folders/ky/n6xry0f10zx60fhjgm3yybxh0000gn/T/ipykernel_48842/4068214032.py\u001b[0m in \u001b[0;36m<module>\u001b[0;34m\u001b[0m\n\u001b[1;32m     17\u001b[0m \u001b[0mprint\u001b[0m\u001b[0;34m(\u001b[0m\u001b[0;34m'All subsample - clinical loadings CV8: \\n'\u001b[0m \u001b[0;34m+\u001b[0m \u001b[0mstr\u001b[0m\u001b[0;34m(\u001b[0m\u001b[0mallsubsample_loadings_u\u001b[0m\u001b[0;34m[\u001b[0m\u001b[0;34m:\u001b[0m\u001b[0;34m,\u001b[0m\u001b[0;36m7\u001b[0m\u001b[0;34m]\u001b[0m\u001b[0;34m)\u001b[0m\u001b[0;34m)\u001b[0m\u001b[0;34m\u001b[0m\u001b[0;34m\u001b[0m\u001b[0m\n\u001b[1;32m     18\u001b[0m \u001b[0;34m\u001b[0m\u001b[0m\n\u001b[0;32m---> 19\u001b[0;31m \u001b[0mprint\u001b[0m\u001b[0;34m(\u001b[0m\u001b[0mclin_features\u001b[0m\u001b[0;34m@\u001b[0m\u001b[0msubsample_loadings_u\u001b[0m\u001b[0;34m[\u001b[0m\u001b[0;34m:\u001b[0m\u001b[0;34m,\u001b[0m\u001b[0;36m0\u001b[0m\u001b[0;34m]\u001b[0m\u001b[0;34m)\u001b[0m\u001b[0;34m\u001b[0m\u001b[0;34m\u001b[0m\u001b[0m\n\u001b[0m",
      "\u001b[0;31mNameError\u001b[0m: name 'subsample_loadings_u' is not defined"
     ]
    }
   ],
   "source": [
    "# View clinical loadings\n",
    "#alldiscovery_loadings = eCCA_fit.get_loadings((clin_features, alldiscovery_rsFC_features))\n",
    "allsubsample_loadings = eCCA_fit.get_loadings((clin_features, allsubsample_rsFC_features), normalize=True)\n",
    "allsubsample_loadings_u = allsubsample_loadings[0]\n",
    "allsubsample_loadings_v = allsubsample_loadings[1]\n",
    "\n",
    "print(allsubsample_loadings_u.shape)\n",
    "print(allsubsample_loadings_v.shape)\n",
    "\n",
    "print('All subsample - clinical loadings CV1: \\n' + str(allsubsample_loadings_u[:,0]))\n",
    "print('All subsample - clinical loadings CV2: \\n' + str(allsubsample_loadings_u[:,1]))\n",
    "print('All subsample - clinical loadings CV3: \\n' + str(allsubsample_loadings_u[:,2]))\n",
    "print('All subsample - clinical loadings CV4: \\n' + str(allsubsample_loadings_u[:,3]))\n",
    "print('All subsample - clinical loadings CV5: \\n' + str(allsubsample_loadings_u[:,4]))\n",
    "print('All subsample - clinical loadings CV6: \\n' + str(allsubsample_loadings_u[:,5]))\n",
    "print('All subsample - clinical loadings CV7: \\n' + str(allsubsample_loadings_u[:,6]))\n",
    "print('All subsample - clinical loadings CV8: \\n' + str(allsubsample_loadings_u[:,7]))\n",
    "\n"
   ]
  },
  {
   "cell_type": "code",
   "execution_count": 37,
   "id": "9e3c7d46",
   "metadata": {},
   "outputs": [],
   "source": [
    "# Save clin loadings\n",
    "#discovery\n",
    "#np.savetxt(userhome + r'/Desktop/OCS_bigdata_ML_local/results/Pearson05_Stable95/alldiscovery_clinloadings_u_CV1norm.csv', alldiscovery_loadings_u[:,0], delimiter=',')\n",
    "#np.savetxt(userhome + r'/Desktop/OCS_bigdata_ML_local/results/Pearson05_Stable95/alldiscovery_clinloadings_u_CV2norm.csv', alldiscovery_loadings_u[:,1], delimiter=',')\n",
    "#np.savetxt(userhome + r'/Desktop/OCS_bigdata_ML_local/results/Pearson05_Stable95/alldiscovery_clinloadings_u_CV3norm.csv', alldiscovery_loadings_u[:,2], delimiter=',')\n",
    "#np.savetxt(userhome + r'/Desktop/OCS_bigdata_ML_local/results/Pearson05_Stable95/alldiscovery_clinloadings_u_CV4norm.csv', alldiscovery_loadings_u[:,3], delimiter=',')\n",
    "#np.savetxt(userhome + r'/Desktop/OCS_bigdata_ML_local/results/Pearson05_Stable95/alldiscovery_clinloadings_u_CV5norm.csv', alldiscovery_loadings_u[:,4], delimiter=',')\n",
    "#np.savetxt(userhome + r'/Desktop/OCS_bigdata_ML_local/results/Pearson05_Stable95/alldiscovery_clinloadings_u_CV6norm.csv', alldiscovery_loadings_u[:,5], delimiter=',')\n",
    "#np.savetxt(userhome + r'/Desktop/OCS_bigdata_ML_local/results/Pearson05_Stable95/alldiscovery_clinloadings_u_CV7norm.csv', alldiscovery_loadings_u[:,6], delimiter=',')\n",
    "#np.savetxt(userhome + r'/Desktop/OCS_bigdata_ML_local/results/Pearson05_Stable95/alldiscovery_clinloadings_u_CV8norm.csv', alldiscovery_loadings_u[:,7], delimiter=',')\n",
    "#np.savetxt(userhome + r'/Desktop/OCS_bigdata_ML_local/results/Pearson05_Stable95/alldiscovery_clinloadings_allnorm.csv', alldiscovery_loadings_u, delimiter=',')\n",
    "\n",
    "#replication\n",
    "#np.savetxt(userhome + r'/Desktop/OCS_bigdata_ML_local/results/replication/allreplication_clinloadings_u_CV1norm.csv', allsubsample_loadings_u[:,0], delimiter=',')\n",
    "#np.savetxt(userhome + r'/Desktop/OCS_bigdata_ML_local/results/replication/allreplication_clinloadings_u_CV2norm.csv', allsubsample_loadings_u[:,1], delimiter=',')\n",
    "#np.savetxt(userhome + r'/Desktop/OCS_bigdata_ML_local/results/replication/allreplication_clinloadings_u_CV3norm.csv', allsubsample_loadings_u[:,2], delimiter=',')\n",
    "#np.savetxt(userhome + r'/Desktop/OCS_bigdata_ML_local/results/replication/allreplication_clinloadings_u_CV4norm.csv', allsubsample_loadings_u[:,3], delimiter=',')\n",
    "#np.savetxt(userhome + r'/Desktop/OCS_bigdata_ML_local/results/replication/allreplication_clinloadings_u_CV5norm.csv', allsubsample_loadings_u[:,4], delimiter=',')\n",
    "#np.savetxt(userhome + r'/Desktop/OCS_bigdata_ML_local/results/replication/allreplication_clinloadings_u_CV6norm.csv', allsubsample_loadings_u[:,5], delimiter=',')\n",
    "#np.savetxt(userhome + r'/Desktop/OCS_bigdata_ML_local/results/replication/allreplication_clinloadings_u_CV7norm.csv', allsubsample_loadings_u[:,6], delimiter=',')\n",
    "#np.savetxt(userhome + r'/Desktop/OCS_bigdata_ML_local/results/replication/allreplication_clinloadings_u_CV8norm.csv', allsubsample_loadings_u[:,7], delimiter=',')\n",
    "#np.savetxt(userhome + r'/Desktop/OCS_bigdata_ML_local/results/replication/allreplication_clinloadings_allnorm.csv', allsubsample_loadings_u, delimiter=',')\n"
   ]
  },
  {
   "cell_type": "code",
   "execution_count": 38,
   "id": "1778d7c5",
   "metadata": {},
   "outputs": [
    {
     "name": "stdout",
     "output_type": "stream",
     "text": [
      "CV1\n",
      "[4367  251 6159 6141 4726 2485 4327 1787 2592  838 1504 4775 3521 6711\n",
      " 3674 2051  537  998 2593 1922]\n",
      "[-4.09971767 -4.1593      4.20277735  4.24543649  4.28999037 -4.33883186\n",
      " -4.37614081 -4.38728231 -4.39512683 -4.40763811 -4.4174027  -4.46062148\n",
      " -4.47858484 -4.5664577  -4.69007376 -4.73655585 -4.75574114 -4.90351115\n",
      " -5.00129527 -5.25078755]\n",
      "CV2\n",
      "[4034 1421 2174 1174 1169 3774 3849 1404 6083 2227 2029 1167 1397 4295\n",
      " 3093 4869  696 1393 6375 6617]\n",
      "[ 3.55284146  3.59254275  3.59651959  3.60029606  3.61682154  3.64481171\n",
      " -3.65266786  3.66228956 -3.68816514  3.68996814  3.71382449  3.77947913\n",
      "  3.77990887  3.82464273  3.87262592 -3.94564508 -4.00811307  4.09158324\n",
      "  4.2842842   4.5273957 ]\n",
      "CV3\n",
      "[4888 5364 3653 1738  338 4947 1852 3641 4210 5865 4085 6388 1186 1847\n",
      " 3768  295 5361 4886 1814   16]\n",
      "[ 4.08360073  4.09179257 -4.10835447  4.12695245  4.17335466  4.18971925\n",
      "  4.23528416 -4.23760067 -4.24451196 -4.2787938   4.30865052  4.37131098\n",
      "  4.38472839  4.41652214  4.48455058 -4.65163642  4.67116877  4.70537492\n",
      "  5.09216475  5.18397593]\n",
      "CV4\n",
      "[5909  191 5542 5443 5439 4696 3090 5789 1011 4217 5408  553 2853 5410\n",
      " 4745 5894 5636 1248 5870 5895]\n",
      "[-3.61238906 -3.61272957 -3.6446325   3.64558481  3.67165531  3.69489279\n",
      " -3.69861473 -3.71972478 -3.75430593  3.8301284   3.87525749  3.97820999\n",
      " -4.00946046  4.01218462 -4.05093127  4.06505207  4.14551951 -4.1686086\n",
      " -4.88739087  4.93427523]\n"
     ]
    }
   ],
   "source": [
    "# View rs-FC loadings\n",
    "allsubsample_loadings_v_CV1 = np.argsort(abs(allsubsample_loadings_v[:,0]))\n",
    "#print(alldiscovery_loadings_v_CV1.shape)\n",
    "print('CV1')\n",
    "print(allsubsample_loadings_v_CV1[-20:] + 1)\n",
    "print(allsubsample_loadings_v[allsubsample_loadings_v_CV1[-20:],0])\n",
    "\n",
    "allsubsample_loadings_v_CV2 = np.argsort(abs(allsubsample_loadings_v[:,1]))\n",
    "print('CV2')\n",
    "print(allsubsample_loadings_v_CV2[-20:] + 1)\n",
    "print(allsubsample_loadings_v[allsubsample_loadings_v_CV2[-20:],1])\n",
    "\n",
    "allsubsample_loadings_v_CV3 = np.argsort(abs(allsubsample_loadings_v[:,2]))\n",
    "print('CV3')\n",
    "print(allsubsample_loadings_v_CV3[-20:] + 1)\n",
    "print(allsubsample_loadings_v[allsubsample_loadings_v_CV3[-20:],2])\n",
    "\n",
    "allsubsample_loadings_v_CV4 = np.argsort(abs(allsubsample_loadings_v[:,3]))\n",
    "print('CV4')\n",
    "print(allsubsample_loadings_v_CV4[-20:] + 1)\n",
    "print(allsubsample_loadings_v[allsubsample_loadings_v_CV4[-20:],3])\n",
    "\n",
    "allsubsample_loadings_v_CV5 = np.argsort(abs(allsubsample_loadings_v[:,4]))\n",
    "allsubsample_loadings_v_CV6 = np.argsort(abs(allsubsample_loadings_v[:,5]))\n",
    "allsubsample_loadings_v_CV7 = np.argsort(abs(allsubsample_loadings_v[:,6]))\n",
    "allsubsample_loadings_v_CV8 = np.argsort(abs(allsubsample_loadings_v[:,7]))"
   ]
  },
  {
   "cell_type": "code",
   "execution_count": 39,
   "id": "69355616",
   "metadata": {},
   "outputs": [],
   "source": [
    "# Save rsFC loadings\n",
    "#discovery\n",
    "#np.savetxt(userhome + r'/Desktop/OCS_bigdata_ML_local/results/Pearson05_Stable95/alldiscovery_rsFCinds_v_CV1.csv', alldiscovery_loadings_v_CV1 + 1, delimiter=',')\n",
    "#np.savetxt(userhome + r'/Desktop/OCS_bigdata_ML_local/results/Pearson05_Stable95/alldiscovery_rsFCloadings_v_CV1.csv', alldiscovery_loadings_v[alldiscovery_loadings_v_CV1,0], delimiter=',')\n",
    "\n",
    "#np.savetxt(userhome + r'/Desktop/OCS_bigdata_ML_local/results/Pearson05_Stable95/alldiscovery_rsFCinds_v_CV2.csv', alldiscovery_loadings_v_CV2 + 1, delimiter=',')\n",
    "#np.savetxt(userhome + r'/Desktop/OCS_bigdata_ML_local/results/Pearson05_Stable95/alldiscovery_rsFCloadings_v_CV2.csv', alldiscovery_loadings_v[alldiscovery_loadings_v_CV2,1], delimiter=',')\n",
    "\n",
    "#np.savetxt(userhome + r'/Desktop/OCS_bigdata_ML_local/results/Pearson05_Stable95/alldiscovery_rsFCinds_v_CV3.csv', alldiscovery_loadings_v_CV3 + 1, delimiter=',')\n",
    "#np.savetxt(userhome + r'/Desktop/OCS_bigdata_ML_local/results/Pearson05_Stable95/alldiscovery_rsFCloadings_v_CV3.csv', alldiscovery_loadings_v[alldiscovery_loadings_v_CV3,2], delimiter=',')\n",
    "\n",
    "#np.savetxt(userhome + r'/Desktop/OCS_bigdata_ML_local/results/Pearson05_Stable95/alldiscovery_rsFCinds_v_CV4.csv', alldiscovery_loadings_v_CV4 + 1, delimiter=',')\n",
    "#np.savetxt(userhome + r'/Desktop/OCS_bigdata_ML_local/results/Pearson05_Stable95/alldiscovery_rsFCloadings_v_CV4.csv', alldiscovery_loadings_v[alldiscovery_loadings_v_CV4,3], delimiter=',')\n",
    "\n",
    "#np.savetxt(userhome + r'/Desktop/OCS_bigdata_ML_local/results/Pearson05_Stable95/alldiscovery_rsFCinds_v_CV5.csv', alldiscovery_loadings_v_CV5 + 1, delimiter=',')\n",
    "#np.savetxt(userhome + r'/Desktop/OCS_bigdata_ML_local/results/Pearson05_Stable95/alldiscovery_rsFCloadings_v_CV5.csv', alldiscovery_loadings_v[alldiscovery_loadings_v_CV5,4], delimiter=',')\n",
    "\n",
    "#np.savetxt(userhome + r'/Desktop/OCS_bigdata_ML_local/results/Pearson05_Stable95/alldiscovery_rsFCinds_v_CV6.csv', alldiscovery_loadings_v_CV6 + 1, delimiter=',')\n",
    "#np.savetxt(userhome + r'/Desktop/OCS_bigdata_ML_local/results/Pearson05_Stable95/alldiscovery_rsFCloadings_v_CV6.csv', alldiscovery_loadings_v[alldiscovery_loadings_v_CV6,5], delimiter=',')\n",
    "\n",
    "#np.savetxt(userhome + r'/Desktop/OCS_bigdata_ML_local/results/Pearson05_Stable95/alldiscovery_rsFCinds_v_CV7.csv', alldiscovery_loadings_v_CV7 + 1, delimiter=',')\n",
    "#np.savetxt(userhome + r'/Desktop/OCS_bigdata_ML_local/results/Pearson05_Stable95/alldiscovery_rsFCloadings_v_CV7.csv', alldiscovery_loadings_v[alldiscovery_loadings_v_CV7,6], delimiter=',')\n",
    "\n",
    "#np.savetxt(userhome + r'/Desktop/OCS_bigdata_ML_local/results/Pearson05_Stable95/alldiscovery_rsFCinds_v_CV8.csv', alldiscovery_loadings_v_CV8 + 1, delimiter=',')\n",
    "#np.savetxt(userhome + r'/Desktop/OCS_bigdata_ML_local/results/Pearson05_Stable95/alldiscovery_rsFCloadings_v_CV8.csv', alldiscovery_loadings_v[alldiscovery_loadings_v_CV8,7], delimiter=',')\n",
    "\n",
    "#replication\n",
    "np.savetxt(userhome + r'/Desktop/OCS_bigdata_ML_local/results/replication/allreplication_rsFCinds_v_CV1.csv', allsubsample_loadings_v_CV1 + 1, delimiter=',')\n",
    "np.savetxt(userhome + r'/Desktop/OCS_bigdata_ML_local/results/replication/allreplication_rsFCloadings_v_CV1.csv', allsubsample_loadings_v[allsubsample_loadings_v_CV1,0], delimiter=',')\n",
    "\n",
    "np.savetxt(userhome + r'/Desktop/OCS_bigdata_ML_local/results/replication/allreplication_rsFCinds_v_CV2.csv', allsubsample_loadings_v_CV2 + 1, delimiter=',')\n",
    "np.savetxt(userhome + r'/Desktop/OCS_bigdata_ML_local/results/replication/allreplication_rsFCloadings_v_CV2.csv', allsubsample_loadings_v[allsubsample_loadings_v_CV2,1], delimiter=',')\n",
    "\n",
    "np.savetxt(userhome + r'/Desktop/OCS_bigdata_ML_local/results/replication/allreplication_rsFCinds_v_CV3.csv', allsubsample_loadings_v_CV3 + 1, delimiter=',')\n",
    "np.savetxt(userhome + r'/Desktop/OCS_bigdata_ML_local/results/replication/allreplication_rsFCloadings_v_CV3.csv', allsubsample_loadings_v[allsubsample_loadings_v_CV3,2], delimiter=',')\n",
    "\n",
    "np.savetxt(userhome + r'/Desktop/OCS_bigdata_ML_local/results/replication/allreplication_rsFCinds_v_CV4.csv', allsubsample_loadings_v_CV4 + 1, delimiter=',')\n",
    "np.savetxt(userhome + r'/Desktop/OCS_bigdata_ML_local/results/replication/allreplication_rsFCloadings_v_CV4.csv', allsubsample_loadings_v[allsubsample_loadings_v_CV4,3], delimiter=',')\n",
    "\n",
    "np.savetxt(userhome + r'/Desktop/OCS_bigdata_ML_local/results/replication/allreplication_rsFCinds_v_CV5.csv', allsubsample_loadings_v_CV5 + 1, delimiter=',')\n",
    "np.savetxt(userhome + r'/Desktop/OCS_bigdata_ML_local/results/replication/allreplication_rsFCloadings_v_CV5.csv', allsubsample_loadings_v[allsubsample_loadings_v_CV5,4], delimiter=',')\n",
    "\n",
    "np.savetxt(userhome + r'/Desktop/OCS_bigdata_ML_local/results/replication/allreplication_rsFCinds_v_CV6.csv', allsubsample_loadings_v_CV6 + 1, delimiter=',')\n",
    "np.savetxt(userhome + r'/Desktop/OCS_bigdata_ML_local/results/replication/allreplication_rsFCloadings_v_CV6.csv', allsubsample_loadings_v[allsubsample_loadings_v_CV6,5], delimiter=',')\n",
    "\n",
    "np.savetxt(userhome + r'/Desktop/OCS_bigdata_ML_local/results/replication/allreplication_rsFCinds_v_CV7.csv', allsubsample_loadings_v_CV7 + 1, delimiter=',')\n",
    "np.savetxt(userhome + r'/Desktop/OCS_bigdata_ML_local/results/replication/allreplication_rsFCloadings_v_CV7.csv', allsubsample_loadings_v[allsubsample_loadings_v_CV7,6], delimiter=',')\n",
    "\n",
    "np.savetxt(userhome + r'/Desktop/OCS_bigdata_ML_local/results/replication/allreplication_rsFCinds_v_CV8.csv', allsubsample_loadings_v_CV8 + 1, delimiter=',')\n",
    "np.savetxt(userhome + r'/Desktop/OCS_bigdata_ML_local/results/replication/allreplication_rsFCloadings_v_CV8.csv', allsubsample_loadings_v[allsubsample_loadings_v_CV8,7], delimiter=',')"
   ]
  },
  {
   "cell_type": "code",
   "execution_count": 40,
   "id": "0f9e7d86",
   "metadata": {},
   "outputs": [],
   "source": [
    "# Save files\n",
    "#discovery\n",
    "#np.savetxt(userhome + r'/Desktop/OCS_bigdata_ML_local/results/Pearson05_Stable95/transformed_clin_U.csv', U, delimiter=',')\n",
    "#np.savetxt(userhome + r'/Desktop/OCS_bigdata_ML_local/results/Pearson05_Stable95/transformed_rsFC_V.csv', V, delimiter=',')\n",
    "\n",
    "#test\n",
    "np.savetxt(userhome + r'/Desktop/OCS_bigdata_ML_local/FINAL/test/results/elasticnetCCA_scaled/applied_transformed_clin_U.csv', U_test, delimiter=',')\n",
    "np.savetxt(userhome + r'/Desktop/OCS_bigdata_ML_local/FINAL/test/results/elasticnetCCA_scaled/applied_transformed_rsFC_V.csv', V_test, delimiter=',')\n",
    "\n",
    "#replication\n",
    "np.savetxt(userhome + r'/Desktop/OCS_bigdata_ML_local/FINAL/replication/results/elasticnetCCA_scaled/applied_transformed_clin_U.csv', U_replication, delimiter=',')\n",
    "np.savetxt(userhome + r'/Desktop/OCS_bigdata_ML_local/FINAL/replication/results/elasticnetCCA_scaled/applied_transformed_rsFC_V.csv', V_replication, delimiter=',')\n"
   ]
  },
  {
   "cell_type": "code",
   "execution_count": 32,
   "id": "e1e84aaf",
   "metadata": {},
   "outputs": [
    {
     "ename": "NameError",
     "evalue": "name 'alldiscovery_rsFC_features' is not defined",
     "output_type": "error",
     "traceback": [
      "\u001b[0;31m---------------------------------------------------------------------------\u001b[0m",
      "\u001b[0;31mNameError\u001b[0m                                 Traceback (most recent call last)",
      "\u001b[0;32m/var/folders/ky/n6xry0f10zx60fhjgm3yybxh0000gn/T/ipykernel_87665/4268789143.py\u001b[0m in \u001b[0;36m<module>\u001b[0;34m\u001b[0m\n\u001b[0;32m----> 1\u001b[0;31m \u001b[0malldiscovery_scores\u001b[0m \u001b[0;34m=\u001b[0m \u001b[0meCCA_fit\u001b[0m\u001b[0;34m.\u001b[0m\u001b[0mscore\u001b[0m\u001b[0;34m(\u001b[0m\u001b[0;34m(\u001b[0m\u001b[0mclin_features\u001b[0m\u001b[0;34m,\u001b[0m \u001b[0malldiscovery_rsFC_features\u001b[0m\u001b[0;34m)\u001b[0m\u001b[0;34m)\u001b[0m\u001b[0;34m\u001b[0m\u001b[0;34m\u001b[0m\u001b[0m\n\u001b[0m\u001b[1;32m      2\u001b[0m \u001b[0mprint\u001b[0m\u001b[0;34m(\u001b[0m\u001b[0;34m'All discovery CCA scores: '\u001b[0m \u001b[0;34m+\u001b[0m \u001b[0mstr\u001b[0m\u001b[0;34m(\u001b[0m\u001b[0malldiscovery_scores\u001b[0m\u001b[0;34m)\u001b[0m\u001b[0;34m)\u001b[0m\u001b[0;34m\u001b[0m\u001b[0;34m\u001b[0m\u001b[0m\n\u001b[1;32m      3\u001b[0m \u001b[0;34m\u001b[0m\u001b[0m\n",
      "\u001b[0;31mNameError\u001b[0m: name 'alldiscovery_rsFC_features' is not defined"
     ]
    }
   ],
   "source": [
    "alldiscovery_scores = eCCA_fit.score((clin_features, alldiscovery_rsFC_features))\n",
    "print('All discovery CCA scores: ' + str(alldiscovery_scores))\n",
    "\n"
   ]
  },
  {
   "cell_type": "code",
   "execution_count": null,
   "id": "a34e03e2",
   "metadata": {},
   "outputs": [],
   "source": []
  }
 ],
 "metadata": {
  "kernelspec": {
   "display_name": "Python 3 (ipykernel)",
   "language": "python",
   "name": "python3"
  },
  "language_info": {
   "codemirror_mode": {
    "name": "ipython",
    "version": 3
   },
   "file_extension": ".py",
   "mimetype": "text/x-python",
   "name": "python",
   "nbconvert_exporter": "python",
   "pygments_lexer": "ipython3",
   "version": "3.9.7"
  }
 },
 "nbformat": 4,
 "nbformat_minor": 5
}
